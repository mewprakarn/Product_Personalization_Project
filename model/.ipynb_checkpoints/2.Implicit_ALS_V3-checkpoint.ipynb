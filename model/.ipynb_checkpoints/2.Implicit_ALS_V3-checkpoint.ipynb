{
 "cells": [
  {
   "cell_type": "code",
   "execution_count": 13,
   "id": "8aac4f4c",
   "metadata": {
    "ExecuteTime": {
     "end_time": "2022-05-05T17:05:52.017588Z",
     "start_time": "2022-05-05T17:05:52.001599Z"
    }
   },
   "outputs": [],
   "source": [
    "import os, pickle\n",
    "import numpy as np\n",
    "import pandas as pd\n",
    "from datetime import date, timedelta\n",
    "import matplotlib.pyplot as plt\n",
    "\n",
    "import implicit\n",
    "from scipy.sparse import coo_matrix\n",
    "from implicit.evaluation import mean_average_precision_at_k\n",
    "import map_at_k"
   ]
  },
  {
   "cell_type": "markdown",
   "id": "81a1e3f1",
   "metadata": {},
   "source": [
    "## Load Data"
   ]
  },
  {
   "cell_type": "code",
   "execution_count": 14,
   "id": "0b1b6dc5",
   "metadata": {
    "ExecuteTime": {
     "end_time": "2022-05-05T17:05:54.648560Z",
     "start_time": "2022-05-05T17:05:52.018554Z"
    }
   },
   "outputs": [
    {
     "name": "stdout",
     "output_type": "stream",
     "text": [
      "Max Date:  2020-09-22 00:00:00\n"
     ]
    }
   ],
   "source": [
    "path = '../data/processed'\n",
    "customers = pd.read_pickle(os.path.join(path,'customers.pkl'))\n",
    "articles = pd.read_pickle(os.path.join(path,'articles.pkl'))\n",
    "df = pd.read_pickle(os.path.join(path,'transactions.pkl'))\n",
    "\n",
    "# Date Filtering\n",
    "# df = df[df['t_dat'] > '2019-09-30']\n",
    "print('Max Date: ',df['t_dat'].max())"
   ]
  },
  {
   "cell_type": "code",
   "execution_count": 15,
   "id": "fc5b57fc",
   "metadata": {
    "ExecuteTime": {
     "end_time": "2022-05-05T17:05:54.926796Z",
     "start_time": "2022-05-05T17:05:54.650512Z"
    }
   },
   "outputs": [],
   "source": [
    "# mapping index\n",
    "path = '../data/processed'\n",
    "infile = open(os.path.join(path,'index_to_cusId.pkl'),'rb')\n",
    "index_to_id_dict = pickle.load(infile)\n",
    "infile.close()"
   ]
  },
  {
   "cell_type": "code",
   "execution_count": 16,
   "id": "1a426daf",
   "metadata": {
    "ExecuteTime": {
     "end_time": "2022-05-05T17:05:57.587236Z",
     "start_time": "2022-05-05T17:05:54.927770Z"
    }
   },
   "outputs": [
    {
     "data": {
      "text/html": [
       "<div>\n",
       "<style scoped>\n",
       "    .dataframe tbody tr th:only-of-type {\n",
       "        vertical-align: middle;\n",
       "    }\n",
       "\n",
       "    .dataframe tbody tr th {\n",
       "        vertical-align: top;\n",
       "    }\n",
       "\n",
       "    .dataframe thead th {\n",
       "        text-align: right;\n",
       "    }\n",
       "</style>\n",
       "<table border=\"1\" class=\"dataframe\">\n",
       "  <thead>\n",
       "    <tr style=\"text-align: right;\">\n",
       "      <th></th>\n",
       "      <th>customer_id</th>\n",
       "      <th>FN</th>\n",
       "      <th>Active</th>\n",
       "      <th>club_member_status</th>\n",
       "      <th>fashion_news_frequency</th>\n",
       "      <th>age</th>\n",
       "      <th>postal_code</th>\n",
       "    </tr>\n",
       "  </thead>\n",
       "  <tbody>\n",
       "    <tr>\n",
       "      <th>0</th>\n",
       "      <td>00000dbacae5abe5e23885899a1fa44253a17956c6d1c3...</td>\n",
       "      <td>0.0</td>\n",
       "      <td>0.0</td>\n",
       "      <td>ACTIVE</td>\n",
       "      <td>NONE</td>\n",
       "      <td>49.0</td>\n",
       "      <td>52043ee2162cf5aa7ee79974281641c6f11a68d276429a...</td>\n",
       "    </tr>\n",
       "    <tr>\n",
       "      <th>1</th>\n",
       "      <td>0000423b00ade91418cceaf3b26c6af3dd342b51fd051e...</td>\n",
       "      <td>0.0</td>\n",
       "      <td>0.0</td>\n",
       "      <td>ACTIVE</td>\n",
       "      <td>NONE</td>\n",
       "      <td>25.0</td>\n",
       "      <td>2973abc54daa8a5f8ccfe9362140c63247c5eee03f1d93...</td>\n",
       "    </tr>\n",
       "    <tr>\n",
       "      <th>2</th>\n",
       "      <td>000058a12d5b43e67d225668fa1f8d618c13dc232df0ca...</td>\n",
       "      <td>0.0</td>\n",
       "      <td>0.0</td>\n",
       "      <td>ACTIVE</td>\n",
       "      <td>NONE</td>\n",
       "      <td>24.0</td>\n",
       "      <td>64f17e6a330a85798e4998f62d0930d14db8db1c054af6...</td>\n",
       "    </tr>\n",
       "    <tr>\n",
       "      <th>3</th>\n",
       "      <td>00005ca1c9ed5f5146b52ac8639a40ca9d57aeff4d1bd2...</td>\n",
       "      <td>0.0</td>\n",
       "      <td>0.0</td>\n",
       "      <td>ACTIVE</td>\n",
       "      <td>NONE</td>\n",
       "      <td>54.0</td>\n",
       "      <td>5d36574f52495e81f019b680c843c443bd343d5ca5b1c2...</td>\n",
       "    </tr>\n",
       "    <tr>\n",
       "      <th>4</th>\n",
       "      <td>00006413d8573cd20ed7128e53b7b13819fe5cfc2d801f...</td>\n",
       "      <td>1.0</td>\n",
       "      <td>1.0</td>\n",
       "      <td>ACTIVE</td>\n",
       "      <td>Regularly</td>\n",
       "      <td>52.0</td>\n",
       "      <td>25fa5ddee9aac01b35208d01736e57942317d756b32ddd...</td>\n",
       "    </tr>\n",
       "    <tr>\n",
       "      <th>...</th>\n",
       "      <td>...</td>\n",
       "      <td>...</td>\n",
       "      <td>...</td>\n",
       "      <td>...</td>\n",
       "      <td>...</td>\n",
       "      <td>...</td>\n",
       "      <td>...</td>\n",
       "    </tr>\n",
       "    <tr>\n",
       "      <th>1371975</th>\n",
       "      <td>ffffbbf78b6eaac697a8a5dfbfd2bfa8113ee5b403e474...</td>\n",
       "      <td>0.0</td>\n",
       "      <td>0.0</td>\n",
       "      <td>ACTIVE</td>\n",
       "      <td>NONE</td>\n",
       "      <td>24.0</td>\n",
       "      <td>7aa399f7e669990daba2d92c577b52237380662f36480b...</td>\n",
       "    </tr>\n",
       "    <tr>\n",
       "      <th>1371976</th>\n",
       "      <td>ffffcd5046a6143d29a04fb8c424ce494a76e5cdf4fab5...</td>\n",
       "      <td>0.0</td>\n",
       "      <td>0.0</td>\n",
       "      <td>ACTIVE</td>\n",
       "      <td>NONE</td>\n",
       "      <td>21.0</td>\n",
       "      <td>3f47f1279beb72215f4de557d950e0bfa73789d24acb5e...</td>\n",
       "    </tr>\n",
       "    <tr>\n",
       "      <th>1371977</th>\n",
       "      <td>ffffcf35913a0bee60e8741cb2b4e78b8a98ee5ff2e6a1...</td>\n",
       "      <td>1.0</td>\n",
       "      <td>1.0</td>\n",
       "      <td>ACTIVE</td>\n",
       "      <td>Regularly</td>\n",
       "      <td>21.0</td>\n",
       "      <td>4563fc79215672cd6a863f2b4bf56b8f898f2d96ed590e...</td>\n",
       "    </tr>\n",
       "    <tr>\n",
       "      <th>1371978</th>\n",
       "      <td>ffffd7744cebcf3aca44ae7049d2a94b87074c3d4ffe38...</td>\n",
       "      <td>1.0</td>\n",
       "      <td>1.0</td>\n",
       "      <td>ACTIVE</td>\n",
       "      <td>Regularly</td>\n",
       "      <td>18.0</td>\n",
       "      <td>8892c18e9bc3dca6aa4000cb8094fc4b51ee8db2ed14d7...</td>\n",
       "    </tr>\n",
       "    <tr>\n",
       "      <th>1371979</th>\n",
       "      <td>ffffd9ac14e89946416d80e791d064701994755c3ab686...</td>\n",
       "      <td>0.0</td>\n",
       "      <td>0.0</td>\n",
       "      <td>PRE-CREATE</td>\n",
       "      <td>NONE</td>\n",
       "      <td>65.0</td>\n",
       "      <td>0a1a03306fb2f62164c2a439b38c0caa64b40deaae8687...</td>\n",
       "    </tr>\n",
       "  </tbody>\n",
       "</table>\n",
       "<p>1371980 rows × 7 columns</p>\n",
       "</div>"
      ],
      "text/plain": [
       "                                               customer_id   FN  Active  \\\n",
       "0        00000dbacae5abe5e23885899a1fa44253a17956c6d1c3...  0.0     0.0   \n",
       "1        0000423b00ade91418cceaf3b26c6af3dd342b51fd051e...  0.0     0.0   \n",
       "2        000058a12d5b43e67d225668fa1f8d618c13dc232df0ca...  0.0     0.0   \n",
       "3        00005ca1c9ed5f5146b52ac8639a40ca9d57aeff4d1bd2...  0.0     0.0   \n",
       "4        00006413d8573cd20ed7128e53b7b13819fe5cfc2d801f...  1.0     1.0   \n",
       "...                                                    ...  ...     ...   \n",
       "1371975  ffffbbf78b6eaac697a8a5dfbfd2bfa8113ee5b403e474...  0.0     0.0   \n",
       "1371976  ffffcd5046a6143d29a04fb8c424ce494a76e5cdf4fab5...  0.0     0.0   \n",
       "1371977  ffffcf35913a0bee60e8741cb2b4e78b8a98ee5ff2e6a1...  1.0     1.0   \n",
       "1371978  ffffd7744cebcf3aca44ae7049d2a94b87074c3d4ffe38...  1.0     1.0   \n",
       "1371979  ffffd9ac14e89946416d80e791d064701994755c3ab686...  0.0     0.0   \n",
       "\n",
       "        club_member_status fashion_news_frequency   age  \\\n",
       "0                   ACTIVE                   NONE  49.0   \n",
       "1                   ACTIVE                   NONE  25.0   \n",
       "2                   ACTIVE                   NONE  24.0   \n",
       "3                   ACTIVE                   NONE  54.0   \n",
       "4                   ACTIVE              Regularly  52.0   \n",
       "...                    ...                    ...   ...   \n",
       "1371975             ACTIVE                   NONE  24.0   \n",
       "1371976             ACTIVE                   NONE  21.0   \n",
       "1371977             ACTIVE              Regularly  21.0   \n",
       "1371978             ACTIVE              Regularly  18.0   \n",
       "1371979         PRE-CREATE                   NONE  65.0   \n",
       "\n",
       "                                               postal_code  \n",
       "0        52043ee2162cf5aa7ee79974281641c6f11a68d276429a...  \n",
       "1        2973abc54daa8a5f8ccfe9362140c63247c5eee03f1d93...  \n",
       "2        64f17e6a330a85798e4998f62d0930d14db8db1c054af6...  \n",
       "3        5d36574f52495e81f019b680c843c443bd343d5ca5b1c2...  \n",
       "4        25fa5ddee9aac01b35208d01736e57942317d756b32ddd...  \n",
       "...                                                    ...  \n",
       "1371975  7aa399f7e669990daba2d92c577b52237380662f36480b...  \n",
       "1371976  3f47f1279beb72215f4de557d950e0bfa73789d24acb5e...  \n",
       "1371977  4563fc79215672cd6a863f2b4bf56b8f898f2d96ed590e...  \n",
       "1371978  8892c18e9bc3dca6aa4000cb8094fc4b51ee8db2ed14d7...  \n",
       "1371979  0a1a03306fb2f62164c2a439b38c0caa64b40deaae8687...  \n",
       "\n",
       "[1371980 rows x 7 columns]"
      ]
     },
     "execution_count": 16,
     "metadata": {},
     "output_type": "execute_result"
    }
   ],
   "source": [
    "customers[\"customer_id\"] = customers[\"customer_id\"].map(index_to_id_dict)\n",
    "df[\"customer_id\"] = df[\"customer_id\"].map(index_to_id_dict)\n",
    "customers"
   ]
  },
  {
   "cell_type": "code",
   "execution_count": 17,
   "id": "76b1cad6",
   "metadata": {
    "ExecuteTime": {
     "end_time": "2022-05-05T17:06:05.413843Z",
     "start_time": "2022-05-05T17:05:57.588234Z"
    }
   },
   "outputs": [
    {
     "data": {
      "text/html": [
       "<div>\n",
       "<style scoped>\n",
       "    .dataframe tbody tr th:only-of-type {\n",
       "        vertical-align: middle;\n",
       "    }\n",
       "\n",
       "    .dataframe tbody tr th {\n",
       "        vertical-align: top;\n",
       "    }\n",
       "\n",
       "    .dataframe thead th {\n",
       "        text-align: right;\n",
       "    }\n",
       "</style>\n",
       "<table border=\"1\" class=\"dataframe\">\n",
       "  <thead>\n",
       "    <tr style=\"text-align: right;\">\n",
       "      <th></th>\n",
       "      <th>t_dat</th>\n",
       "      <th>customer_id</th>\n",
       "      <th>article_id</th>\n",
       "      <th>price</th>\n",
       "      <th>sales_channel_id</th>\n",
       "      <th>user_id</th>\n",
       "      <th>item_id</th>\n",
       "    </tr>\n",
       "  </thead>\n",
       "  <tbody>\n",
       "    <tr>\n",
       "      <th>0</th>\n",
       "      <td>2018-09-20</td>\n",
       "      <td>000058a12d5b43e67d225668fa1f8d618c13dc232df0ca...</td>\n",
       "      <td>0663713001</td>\n",
       "      <td>0.050831</td>\n",
       "      <td>2</td>\n",
       "      <td>2</td>\n",
       "      <td>40179</td>\n",
       "    </tr>\n",
       "    <tr>\n",
       "      <th>1</th>\n",
       "      <td>2018-09-20</td>\n",
       "      <td>000058a12d5b43e67d225668fa1f8d618c13dc232df0ca...</td>\n",
       "      <td>0541518023</td>\n",
       "      <td>0.030492</td>\n",
       "      <td>2</td>\n",
       "      <td>2</td>\n",
       "      <td>10520</td>\n",
       "    </tr>\n",
       "    <tr>\n",
       "      <th>2</th>\n",
       "      <td>2018-09-20</td>\n",
       "      <td>00007d2de826758b65a93dd24ce629ed66842531df6699...</td>\n",
       "      <td>0505221004</td>\n",
       "      <td>0.015237</td>\n",
       "      <td>2</td>\n",
       "      <td>7</td>\n",
       "      <td>6387</td>\n",
       "    </tr>\n",
       "    <tr>\n",
       "      <th>3</th>\n",
       "      <td>2018-09-20</td>\n",
       "      <td>00007d2de826758b65a93dd24ce629ed66842531df6699...</td>\n",
       "      <td>0685687003</td>\n",
       "      <td>0.016932</td>\n",
       "      <td>2</td>\n",
       "      <td>7</td>\n",
       "      <td>46304</td>\n",
       "    </tr>\n",
       "    <tr>\n",
       "      <th>4</th>\n",
       "      <td>2018-09-20</td>\n",
       "      <td>00007d2de826758b65a93dd24ce629ed66842531df6699...</td>\n",
       "      <td>0685687004</td>\n",
       "      <td>0.016932</td>\n",
       "      <td>2</td>\n",
       "      <td>7</td>\n",
       "      <td>46305</td>\n",
       "    </tr>\n",
       "  </tbody>\n",
       "</table>\n",
       "</div>"
      ],
      "text/plain": [
       "       t_dat                                        customer_id  article_id  \\\n",
       "0 2018-09-20  000058a12d5b43e67d225668fa1f8d618c13dc232df0ca...  0663713001   \n",
       "1 2018-09-20  000058a12d5b43e67d225668fa1f8d618c13dc232df0ca...  0541518023   \n",
       "2 2018-09-20  00007d2de826758b65a93dd24ce629ed66842531df6699...  0505221004   \n",
       "3 2018-09-20  00007d2de826758b65a93dd24ce629ed66842531df6699...  0685687003   \n",
       "4 2018-09-20  00007d2de826758b65a93dd24ce629ed66842531df6699...  0685687004   \n",
       "\n",
       "      price  sales_channel_id  user_id  item_id  \n",
       "0  0.050831                 2        2    40179  \n",
       "1  0.030492                 2        2    10520  \n",
       "2  0.015237                 2        7     6387  \n",
       "3  0.016932                 2        7    46304  \n",
       "4  0.016932                 2        7    46305  "
      ]
     },
     "execution_count": 17,
     "metadata": {},
     "output_type": "execute_result"
    }
   ],
   "source": [
    "ALL_USERS = customers['customer_id'].unique().tolist()\n",
    "ALL_ITEMS = articles['article_id'].unique().tolist()\n",
    "\n",
    "user_ids = dict(list(enumerate(ALL_USERS)))\n",
    "item_ids = dict(list(enumerate(ALL_ITEMS)))\n",
    "\n",
    "user_map = {u: uidx for uidx, u in user_ids.items()}\n",
    "item_map = {i: iidx for iidx, i in item_ids.items()}\n",
    "\n",
    "df['user_id'] = df['customer_id'].map(user_map)\n",
    "df['item_id'] = df['article_id'].map(item_map)\n",
    "\n",
    "del customers, articles\n",
    "df.head()"
   ]
  },
  {
   "cell_type": "markdown",
   "id": "a90ba4e7",
   "metadata": {
    "ExecuteTime": {
     "end_time": "2022-05-05T08:44:05.484914Z",
     "start_time": "2022-05-05T08:44:05.468937Z"
    }
   },
   "source": [
    "## Create coo_matrix (user x item) and csr matrix (user x item)"
   ]
  },
  {
   "cell_type": "code",
   "execution_count": 18,
   "id": "b262b9df",
   "metadata": {
    "ExecuteTime": {
     "end_time": "2022-05-05T17:06:05.603337Z",
     "start_time": "2022-05-05T17:06:05.414841Z"
    }
   },
   "outputs": [
    {
     "data": {
      "text/plain": [
       "<1371980x105542 sparse matrix of type '<class 'numpy.float64'>'\n",
       "\twith 31788324 stored elements in COOrdinate format>"
      ]
     },
     "execution_count": 18,
     "metadata": {},
     "output_type": "execute_result"
    }
   ],
   "source": [
    "row = df['user_id'].values\n",
    "col = df['item_id'].values\n",
    "data = np.ones(df.shape[0])\n",
    "coo_train = coo_matrix((data, (row, col)), shape=(len(ALL_USERS), len(ALL_ITEMS)))\n",
    "coo_train"
   ]
  },
  {
   "cell_type": "markdown",
   "id": "f02250ff",
   "metadata": {},
   "source": [
    "## Modelling"
   ]
  },
  {
   "cell_type": "code",
   "execution_count": 19,
   "id": "d5fb21ab",
   "metadata": {
    "ExecuteTime": {
     "end_time": "2022-05-05T17:06:05.618283Z",
     "start_time": "2022-05-05T17:06:05.604334Z"
    }
   },
   "outputs": [],
   "source": [
    "def to_user_item_coo(df):\n",
    "    \"\"\" Turn a dataframe with transactions into a COO sparse items x users matrix\"\"\"\n",
    "    row = df['user_id'].values\n",
    "    col = df['item_id'].values\n",
    "    data = np.ones(df.shape[0])\n",
    "    coo = coo_matrix((data, (row, col)), shape=(len(ALL_USERS), len(ALL_ITEMS)))\n",
    "    return coo\n",
    "\n",
    "\n",
    "def split_data(df, validation_days=7):\n",
    "    \"\"\" Split a pandas dataframe into training and validation data, using <<validation_days>>\n",
    "    \"\"\"\n",
    "    validation_cut = df['t_dat'].max() - pd.Timedelta(validation_days)\n",
    "\n",
    "    df_train = df[df['t_dat'] < validation_cut]\n",
    "    df_val = df[df['t_dat'] >= validation_cut]\n",
    "    return df_train, df_val\n",
    "\n",
    "def get_val_matrices(df, validation_days=7):\n",
    "    \"\"\" Split into training and validation and create various matrices\n",
    "        \n",
    "        Returns a dictionary with the following keys:\n",
    "            coo_train: training data in COO sparse format and as (users x items)\n",
    "            csr_train: training data in CSR sparse format and as (users x items)\n",
    "            csr_val:  validation data in CSR sparse format and as (users x items)\n",
    "    \n",
    "    \"\"\"\n",
    "    df_train, df_val = split_data(df, validation_days=validation_days)\n",
    "    coo_train = to_user_item_coo(df_train)\n",
    "    coo_val = to_user_item_coo(df_val)\n",
    "\n",
    "    csr_train = coo_train.tocsr()\n",
    "    csr_val = coo_val.tocsr()\n",
    "    \n",
    "    return {'coo_train': coo_train,\n",
    "            'csr_train': csr_train,\n",
    "            'csr_val': csr_val\n",
    "          }\n",
    "\n",
    "# def map_k(model,csr_train,csr_val)\n",
    "\n",
    "\n",
    "def validate(matrices, factors=200, iterations=20, regularization=0.01,use_cg = True, show_progress=True):\n",
    "    \"\"\" Train an ALS model with <<factors>> (embeddings dimension) \n",
    "    for <<iterations>> over matrices and validate with MAP@12\n",
    "    \"\"\"\n",
    "    coo_train, csr_train, csr_val = matrices['coo_train'], matrices['csr_train'], matrices['csr_val']\n",
    "    \n",
    "    model = implicit.als.AlternatingLeastSquares(factors=factors, \n",
    "                                                 iterations=iterations, \n",
    "                                                 regularization=regularization, \n",
    "                                                 use_cg=use_cg,\n",
    "                                                 random_state=42)\n",
    "    model.fit(coo_train, show_progress=show_progress)\n",
    "    \n",
    "    # The MAPK by implicit doesn't allow to calculate allowing repeated items, which is the case.\n",
    "    # TODO: change MAP@12 to a library that allows repeated items in prediction\n",
    "    map12 = mean_average_precision_at_k(model, csr_train, csr_val, K=12, show_progress=show_progress, num_threads=4)\n",
    "    print(f\"Factors: {factors:>3} - Iterations: {iterations:>2} - Regularization: {regularization:4.3f} ==> MAP@12: {map12:6.5f}\")\n",
    "    return map12"
   ]
  },
  {
   "cell_type": "markdown",
   "id": "784650c6",
   "metadata": {},
   "source": [
    "### Baseline Model"
   ]
  },
  {
   "cell_type": "code",
   "execution_count": 20,
   "id": "ae15e504",
   "metadata": {
    "ExecuteTime": {
     "end_time": "2022-05-05T17:06:40.961139Z",
     "start_time": "2022-05-05T17:06:05.620187Z"
    }
   },
   "outputs": [
    {
     "data": {
      "application/vnd.jupyter.widget-view+json": {
       "model_id": "4ce4ae1d217944f9b0ccc1fbd8ab5c6c",
       "version_major": 2,
       "version_minor": 0
      },
      "text/plain": [
       "  0%|          | 0/15 [00:00<?, ?it/s]"
      ]
     },
     "metadata": {},
     "output_type": "display_data"
    },
    {
     "data": {
      "application/vnd.jupyter.widget-view+json": {
       "model_id": "8e26724e1b3f40f2aac1306cbb3b0f05",
       "version_major": 2,
       "version_minor": 0
      },
      "text/plain": [
       "  0%|          | 0/10528 [00:00<?, ?it/s]"
      ]
     },
     "metadata": {},
     "output_type": "display_data"
    },
    {
     "name": "stdout",
     "output_type": "stream",
     "text": [
      "Baseline score:  0.00316\n"
     ]
    }
   ],
   "source": [
    "\n",
    "matrices = get_val_matrices(df)\n",
    "coo_train, csr_train, csr_val = matrices['coo_train'], matrices['csr_train'], matrices['csr_val']\n",
    "\n",
    "model = implicit.als.AlternatingLeastSquares(factors=10,regularization=0.0)\n",
    "model.fit(coo_train, show_progress=True)\n",
    "baseline_map12 = mean_average_precision_at_k(model, csr_train, csr_val, K=12, show_progress=True, num_threads=4)\n",
    "print('Baseline score: ',round(baseline_map12,5))"
   ]
  },
  {
   "cell_type": "markdown",
   "id": "ab056895",
   "metadata": {
    "ExecuteTime": {
     "end_time": "2022-05-05T08:46:00.400000Z",
     "start_time": "2022-05-05T08:46:00.388004Z"
    }
   },
   "source": [
    "### Grid Search Hyper-parameter Tuning"
   ]
  },
  {
   "cell_type": "code",
   "execution_count": 21,
   "id": "43ff60da",
   "metadata": {
    "ExecuteTime": {
     "end_time": "2022-05-05T20:31:00.112041Z",
     "start_time": "2022-05-05T17:06:40.963133Z"
    }
   },
   "outputs": [
    {
     "name": "stdout",
     "output_type": "stream",
     "text": [
      "Factors:  40 - Iterations:  3 - Regularization: 0.010 ==> MAP@12: 0.00315\n",
      "Best MAP@12 found. Updating: {'factors': 40, 'iterations': 3, 'regularization': 0.01}\n",
      "Factors:  40 - Iterations:  3 - Regularization: 0.050 ==> MAP@12: 0.00315\n",
      "Factors:  40 - Iterations: 12 - Regularization: 0.010 ==> MAP@12: 0.00362\n",
      "Best MAP@12 found. Updating: {'factors': 40, 'iterations': 12, 'regularization': 0.01}\n",
      "Factors:  40 - Iterations: 12 - Regularization: 0.050 ==> MAP@12: 0.00362\n",
      "Best MAP@12 found. Updating: {'factors': 40, 'iterations': 12, 'regularization': 0.05}\n",
      "Factors:  40 - Iterations: 14 - Regularization: 0.010 ==> MAP@12: 0.00367\n",
      "Best MAP@12 found. Updating: {'factors': 40, 'iterations': 14, 'regularization': 0.01}\n",
      "Factors:  40 - Iterations: 14 - Regularization: 0.050 ==> MAP@12: 0.00367\n",
      "Factors:  40 - Iterations: 15 - Regularization: 0.010 ==> MAP@12: 0.00369\n",
      "Best MAP@12 found. Updating: {'factors': 40, 'iterations': 15, 'regularization': 0.01}\n",
      "Factors:  40 - Iterations: 15 - Regularization: 0.050 ==> MAP@12: 0.00368\n",
      "Factors:  40 - Iterations: 20 - Regularization: 0.010 ==> MAP@12: 0.00368\n",
      "Factors:  40 - Iterations: 20 - Regularization: 0.050 ==> MAP@12: 0.00368\n",
      "Factors:  50 - Iterations:  3 - Regularization: 0.010 ==> MAP@12: 0.00354\n",
      "Factors:  50 - Iterations:  3 - Regularization: 0.050 ==> MAP@12: 0.00354\n",
      "Factors:  50 - Iterations: 12 - Regularization: 0.010 ==> MAP@12: 0.00390\n",
      "Best MAP@12 found. Updating: {'factors': 50, 'iterations': 12, 'regularization': 0.01}\n",
      "Factors:  50 - Iterations: 12 - Regularization: 0.050 ==> MAP@12: 0.00390\n",
      "Best MAP@12 found. Updating: {'factors': 50, 'iterations': 12, 'regularization': 0.05}\n",
      "Factors:  50 - Iterations: 14 - Regularization: 0.010 ==> MAP@12: 0.00396\n",
      "Best MAP@12 found. Updating: {'factors': 50, 'iterations': 14, 'regularization': 0.01}\n",
      "Factors:  50 - Iterations: 14 - Regularization: 0.050 ==> MAP@12: 0.00396\n",
      "Best MAP@12 found. Updating: {'factors': 50, 'iterations': 14, 'regularization': 0.05}\n",
      "Factors:  50 - Iterations: 15 - Regularization: 0.010 ==> MAP@12: 0.00397\n",
      "Best MAP@12 found. Updating: {'factors': 50, 'iterations': 15, 'regularization': 0.01}\n",
      "Factors:  50 - Iterations: 15 - Regularization: 0.050 ==> MAP@12: 0.00397\n",
      "Factors:  50 - Iterations: 20 - Regularization: 0.010 ==> MAP@12: 0.00390\n",
      "Factors:  50 - Iterations: 20 - Regularization: 0.050 ==> MAP@12: 0.00390\n",
      "Factors:  60 - Iterations:  3 - Regularization: 0.010 ==> MAP@12: 0.00353\n",
      "Factors:  60 - Iterations:  3 - Regularization: 0.050 ==> MAP@12: 0.00354\n",
      "Factors:  60 - Iterations: 12 - Regularization: 0.010 ==> MAP@12: 0.00355\n",
      "Factors:  60 - Iterations: 12 - Regularization: 0.050 ==> MAP@12: 0.00355\n",
      "Factors:  60 - Iterations: 14 - Regularization: 0.010 ==> MAP@12: 0.00360\n",
      "Factors:  60 - Iterations: 14 - Regularization: 0.050 ==> MAP@12: 0.00359\n",
      "Factors:  60 - Iterations: 15 - Regularization: 0.010 ==> MAP@12: 0.00360\n",
      "Factors:  60 - Iterations: 15 - Regularization: 0.050 ==> MAP@12: 0.00360\n",
      "Factors:  60 - Iterations: 20 - Regularization: 0.010 ==> MAP@12: 0.00363\n",
      "Factors:  60 - Iterations: 20 - Regularization: 0.050 ==> MAP@12: 0.00363\n",
      "Factors: 100 - Iterations:  3 - Regularization: 0.010 ==> MAP@12: 0.00316\n",
      "Factors: 100 - Iterations:  3 - Regularization: 0.050 ==> MAP@12: 0.00312\n",
      "Factors: 100 - Iterations: 12 - Regularization: 0.010 ==> MAP@12: 0.00348\n",
      "Factors: 100 - Iterations: 12 - Regularization: 0.050 ==> MAP@12: 0.00347\n",
      "Factors: 100 - Iterations: 14 - Regularization: 0.010 ==> MAP@12: 0.00345\n",
      "Factors: 100 - Iterations: 14 - Regularization: 0.050 ==> MAP@12: 0.00345\n",
      "Factors: 100 - Iterations: 15 - Regularization: 0.010 ==> MAP@12: 0.00343\n",
      "Factors: 100 - Iterations: 15 - Regularization: 0.050 ==> MAP@12: 0.00344\n",
      "Factors: 100 - Iterations: 20 - Regularization: 0.010 ==> MAP@12: 0.00343\n",
      "Factors: 100 - Iterations: 20 - Regularization: 0.050 ==> MAP@12: 0.00343\n",
      "Factors: 200 - Iterations:  3 - Regularization: 0.010 ==> MAP@12: 0.00292\n",
      "Factors: 200 - Iterations:  3 - Regularization: 0.050 ==> MAP@12: 0.00292\n",
      "Factors: 200 - Iterations: 12 - Regularization: 0.010 ==> MAP@12: 0.00304\n",
      "Factors: 200 - Iterations: 12 - Regularization: 0.050 ==> MAP@12: 0.00304\n",
      "Factors: 200 - Iterations: 14 - Regularization: 0.010 ==> MAP@12: 0.00299\n",
      "Factors: 200 - Iterations: 14 - Regularization: 0.050 ==> MAP@12: 0.00299\n",
      "Factors: 200 - Iterations: 15 - Regularization: 0.010 ==> MAP@12: 0.00298\n",
      "Factors: 200 - Iterations: 15 - Regularization: 0.050 ==> MAP@12: 0.00298\n",
      "Factors: 200 - Iterations: 20 - Regularization: 0.010 ==> MAP@12: 0.00299\n",
      "Factors: 200 - Iterations: 20 - Regularization: 0.050 ==> MAP@12: 0.00300\n",
      "Factors: 400 - Iterations:  3 - Regularization: 0.010 ==> MAP@12: 0.00246\n",
      "Factors: 400 - Iterations:  3 - Regularization: 0.050 ==> MAP@12: 0.00247\n",
      "Factors: 400 - Iterations: 12 - Regularization: 0.010 ==> MAP@12: 0.00224\n",
      "Factors: 400 - Iterations: 12 - Regularization: 0.050 ==> MAP@12: 0.00225\n",
      "Factors: 400 - Iterations: 14 - Regularization: 0.010 ==> MAP@12: 0.00231\n",
      "Factors: 400 - Iterations: 14 - Regularization: 0.050 ==> MAP@12: 0.00230\n",
      "Factors: 400 - Iterations: 15 - Regularization: 0.010 ==> MAP@12: 0.00231\n",
      "Factors: 400 - Iterations: 15 - Regularization: 0.050 ==> MAP@12: 0.00231\n",
      "Factors: 400 - Iterations: 20 - Regularization: 0.010 ==> MAP@12: 0.00225\n",
      "Factors: 400 - Iterations: 20 - Regularization: 0.050 ==> MAP@12: 0.00226\n"
     ]
    }
   ],
   "source": [
    "best_map12 = 0\n",
    "map12_list = []\n",
    "factors = [40, 50, 60, 100, 200, 400]\n",
    "iterations = [3, 12, 14, 15, 20]\n",
    "\n",
    "\n",
    "for factor in factors:\n",
    "    for iteration in iterations:\n",
    "#     for iteration in [15]:\n",
    "        for regularization in [0.01,0.05]:\n",
    "            map12 = validate(matrices, factor, iteration, regularization, show_progress=False)\n",
    "            map12_list.append(map12)\n",
    "            if map12 > best_map12:\n",
    "                best_map12 = map12\n",
    "                best_params = {'factors': factor, 'iterations': iteration, 'regularization': regularization}\n",
    "                print(f\"Best MAP@12 found. Updating: {best_params}\")\n",
    "                \n",
    "    "
   ]
  },
  {
   "cell_type": "markdown",
   "id": "c9fdff42",
   "metadata": {},
   "source": [
    "### Final Model"
   ]
  },
  {
   "cell_type": "code",
   "execution_count": 22,
   "id": "6e12e3e3",
   "metadata": {
    "ExecuteTime": {
     "end_time": "2022-05-05T20:31:00.127001Z",
     "start_time": "2022-05-05T20:31:00.115033Z"
    }
   },
   "outputs": [],
   "source": [
    "def train(coo_train, factors=200, iterations=15, regularization=0.01, show_progress=True):\n",
    "    model = implicit.als.AlternatingLeastSquares(factors=factors, \n",
    "                                                 iterations=iterations, \n",
    "                                                 regularization=regularization, \n",
    "                                                 random_state=42)\n",
    "    model.fit(coo_train, show_progress=show_progress)\n",
    "    return model"
   ]
  },
  {
   "cell_type": "code",
   "execution_count": 23,
   "id": "25d2aff0",
   "metadata": {
    "ExecuteTime": {
     "end_time": "2022-05-05T20:31:43.468773Z",
     "start_time": "2022-05-05T20:31:00.127998Z"
    }
   },
   "outputs": [
    {
     "name": "stdout",
     "output_type": "stream",
     "text": [
      "{'factors': 50, 'iterations': 15, 'regularization': 0.01}\n"
     ]
    },
    {
     "data": {
      "application/vnd.jupyter.widget-view+json": {
       "model_id": "c397f5ffc4c1431c8219e49c6889161a",
       "version_major": 2,
       "version_minor": 0
      },
      "text/plain": [
       "  0%|          | 0/15 [00:00<?, ?it/s]"
      ]
     },
     "metadata": {},
     "output_type": "display_data"
    },
    {
     "data": {
      "application/vnd.jupyter.widget-view+json": {
       "model_id": "7ab573b78cf44018af33cfd514a72b61",
       "version_major": 2,
       "version_minor": 0
      },
      "text/plain": [
       "  0%|          | 0/10528 [00:00<?, ?it/s]"
      ]
     },
     "metadata": {},
     "output_type": "display_data"
    },
    {
     "name": "stdout",
     "output_type": "stream",
     "text": [
      "Baseline score:  0.00397\n",
      "Improvement: 125.52%\n"
     ]
    }
   ],
   "source": [
    "# best_params = {'factors': 50, 'iterations': 14, 'regularization': 0.01}\n",
    "print(best_params)\n",
    "\n",
    "matrices = get_val_matrices(df)\n",
    "coo_train, csr_train, csr_val = matrices['coo_train'], matrices['csr_train'], matrices['csr_val']\n",
    "model = train(coo_train, **best_params)\n",
    "\n",
    "\n",
    "final_map12 = mean_average_precision_at_k(model, csr_train, csr_val, K=12, show_progress=True, num_threads=4)\n",
    "print('Baseline score: ',round(final_map12,5))\n",
    "print('Improvement: {:.2%}'.format(final_map12/baseline_map12))"
   ]
  },
  {
   "cell_type": "markdown",
   "id": "7ebad985",
   "metadata": {},
   "source": [
    "## Submission File"
   ]
  },
  {
   "cell_type": "code",
   "execution_count": 24,
   "id": "d7db86b0",
   "metadata": {
    "ExecuteTime": {
     "end_time": "2022-05-05T20:36:06.596685Z",
     "start_time": "2022-05-05T20:31:43.469771Z"
    }
   },
   "outputs": [
    {
     "data": {
      "text/html": [
       "<div>\n",
       "<style scoped>\n",
       "    .dataframe tbody tr th:only-of-type {\n",
       "        vertical-align: middle;\n",
       "    }\n",
       "\n",
       "    .dataframe tbody tr th {\n",
       "        vertical-align: top;\n",
       "    }\n",
       "\n",
       "    .dataframe thead th {\n",
       "        text-align: right;\n",
       "    }\n",
       "</style>\n",
       "<table border=\"1\" class=\"dataframe\">\n",
       "  <thead>\n",
       "    <tr style=\"text-align: right;\">\n",
       "      <th></th>\n",
       "      <th>customer_id</th>\n",
       "      <th>prediction</th>\n",
       "    </tr>\n",
       "  </thead>\n",
       "  <tbody>\n",
       "    <tr>\n",
       "      <th>0</th>\n",
       "      <td>00000dbacae5abe5e23885899a1fa44253a17956c6d1c3...</td>\n",
       "      <td>0568601006 0568597006 0568601007 0568597007 05...</td>\n",
       "    </tr>\n",
       "    <tr>\n",
       "      <th>1</th>\n",
       "      <td>0000423b00ade91418cceaf3b26c6af3dd342b51fd051e...</td>\n",
       "      <td>0351484002 0673677002 0759871002 0599580055 07...</td>\n",
       "    </tr>\n",
       "    <tr>\n",
       "      <th>2</th>\n",
       "      <td>000058a12d5b43e67d225668fa1f8d618c13dc232df0ca...</td>\n",
       "      <td>0351484002 0723529001 0699080001 0699081001 06...</td>\n",
       "    </tr>\n",
       "    <tr>\n",
       "      <th>3</th>\n",
       "      <td>00005ca1c9ed5f5146b52ac8639a40ca9d57aeff4d1bd2...</td>\n",
       "      <td>0484398001 0720125001 0564786001 0730683001 07...</td>\n",
       "    </tr>\n",
       "    <tr>\n",
       "      <th>4</th>\n",
       "      <td>00006413d8573cd20ed7128e53b7b13819fe5cfc2d801f...</td>\n",
       "      <td>0720125001 0562245046 0599580020 0579541001 05...</td>\n",
       "    </tr>\n",
       "  </tbody>\n",
       "</table>\n",
       "</div>"
      ],
      "text/plain": [
       "                                         customer_id  \\\n",
       "0  00000dbacae5abe5e23885899a1fa44253a17956c6d1c3...   \n",
       "1  0000423b00ade91418cceaf3b26c6af3dd342b51fd051e...   \n",
       "2  000058a12d5b43e67d225668fa1f8d618c13dc232df0ca...   \n",
       "3  00005ca1c9ed5f5146b52ac8639a40ca9d57aeff4d1bd2...   \n",
       "4  00006413d8573cd20ed7128e53b7b13819fe5cfc2d801f...   \n",
       "\n",
       "                                          prediction  \n",
       "0  0568601006 0568597006 0568601007 0568597007 05...  \n",
       "1  0351484002 0673677002 0759871002 0599580055 07...  \n",
       "2  0351484002 0723529001 0699080001 0699081001 06...  \n",
       "3  0484398001 0720125001 0564786001 0730683001 07...  \n",
       "4  0720125001 0562245046 0599580020 0579541001 05...  "
      ]
     },
     "metadata": {},
     "output_type": "display_data"
    },
    {
     "name": "stdout",
     "output_type": "stream",
     "text": [
      "(1371980, 2)\n"
     ]
    }
   ],
   "source": [
    "save_path = '../data/processed'\n",
    "def submit(model, csr_train):\n",
    "    preds = []\n",
    "    batch_size = 2000\n",
    "    to_generate = np.arange(len(ALL_USERS))\n",
    "    for startidx in range(0, len(to_generate), batch_size):\n",
    "        batch = to_generate[startidx : startidx + batch_size]\n",
    "        ids, scores = model.recommend(batch, csr_train[batch], N=12, filter_already_liked_items=False)\n",
    "        for i, userid in enumerate(batch):\n",
    "            customer_id = user_ids[userid]\n",
    "            user_items = ids[i]\n",
    "            article_ids = [item_ids[item_id] for item_id in user_items]\n",
    "            preds.append((customer_id, ' '.join(article_ids)))\n",
    "\n",
    "    df_preds = pd.DataFrame(preds, columns=['customer_id', 'prediction'])\n",
    "\n",
    "    \n",
    "    display(df_preds.head())\n",
    "    print(df_preds.shape)\n",
    "    \n",
    "    return df_preds\n",
    "\n",
    "df_preds = submit(model, csr_train);\n",
    "\n",
    "df_preds.to_csv(os.path.join(save_path,\"submissions_v6.csv\"), index=False)"
   ]
  },
  {
   "cell_type": "code",
   "execution_count": 25,
   "id": "2d1bc735",
   "metadata": {
    "ExecuteTime": {
     "end_time": "2022-05-05T20:36:09.504122Z",
     "start_time": "2022-05-05T20:36:06.600708Z"
    }
   },
   "outputs": [
    {
     "data": {
      "text/html": [
       "<div>\n",
       "<style scoped>\n",
       "    .dataframe tbody tr th:only-of-type {\n",
       "        vertical-align: middle;\n",
       "    }\n",
       "\n",
       "    .dataframe tbody tr th {\n",
       "        vertical-align: top;\n",
       "    }\n",
       "\n",
       "    .dataframe thead th {\n",
       "        text-align: right;\n",
       "    }\n",
       "</style>\n",
       "<table border=\"1\" class=\"dataframe\">\n",
       "  <thead>\n",
       "    <tr style=\"text-align: right;\">\n",
       "      <th></th>\n",
       "      <th>customer_id</th>\n",
       "    </tr>\n",
       "    <tr>\n",
       "      <th>prediction</th>\n",
       "      <th></th>\n",
       "    </tr>\n",
       "  </thead>\n",
       "  <tbody>\n",
       "    <tr>\n",
       "      <th>0112679048 0111609001 0111593001 0111586001 0111565003 0111565001 0110065011 0110065002 0110065001 0108775051 0108775044 0108775015</th>\n",
       "      <td>10597</td>\n",
       "    </tr>\n",
       "    <tr>\n",
       "      <th>0573937001 0294008002 0652924004 0368979001 0751551001 0779551002 0779554002 0750330002 0652924010 0624257001 0742274001 0640542002</th>\n",
       "      <td>9660</td>\n",
       "    </tr>\n",
       "    <tr>\n",
       "      <th>0573937001 0294008002 0652924004 0751551001 0368979001 0779551002 0779554002 0750330002 0652924010 0624257001 0742274001 0640542002</th>\n",
       "      <td>2298</td>\n",
       "    </tr>\n",
       "    <tr>\n",
       "      <th>0758064001 0758060001 0758050001 0758049001 0758088002 0758089002 0758040001 0758043001 0758084002 0758118001 0751471001 0758064002</th>\n",
       "      <td>1473</td>\n",
       "    </tr>\n",
       "    <tr>\n",
       "      <th>0759871002 0759871001 0759871003 0759871004 0759871025 0733749001 0759871013 0408875001 0759871011 0624486001 0377277001 0659832001</th>\n",
       "      <td>1380</td>\n",
       "    </tr>\n",
       "    <tr>\n",
       "      <th>...</th>\n",
       "      <td>...</td>\n",
       "    </tr>\n",
       "    <tr>\n",
       "      <th>0565379001 0565379002 0484398001 0179123001 0579541001 0711053003 0564786001 0768912001 0673396002 0568601006 0189616006 0355072002</th>\n",
       "      <td>1</td>\n",
       "    </tr>\n",
       "    <tr>\n",
       "      <th>0565379001 0565379002 0484398001 0179123001 0608776002 0610776001 0711053003 0685813001 0768912001 0610776002 0562245001 0685816002</th>\n",
       "      <td>1</td>\n",
       "    </tr>\n",
       "    <tr>\n",
       "      <th>0565379001 0565379002 0484398001 0179123001 0608776002 0673677002 0788261001 0579541001 0678942001 0108775015 0787946002 0720125001</th>\n",
       "      <td>1</td>\n",
       "    </tr>\n",
       "    <tr>\n",
       "      <th>0565379001 0565379002 0484398001 0179123001 0610776001 0355072002 0562245001 0355072001 0788261001 0564786001 0372860001 0610776002</th>\n",
       "      <td>1</td>\n",
       "    </tr>\n",
       "    <tr>\n",
       "      <th>0883033002 0799365002 0562245046 0758064001 0758084002 0228257001 0714790020 0758050001 0758049001 0399256005 0758060001 0714790008</th>\n",
       "      <td>1</td>\n",
       "    </tr>\n",
       "  </tbody>\n",
       "</table>\n",
       "<p>1091807 rows × 1 columns</p>\n",
       "</div>"
      ],
      "text/plain": [
       "                                                    customer_id\n",
       "prediction                                                     \n",
       "0112679048 0111609001 0111593001 0111586001 011...        10597\n",
       "0573937001 0294008002 0652924004 0368979001 075...         9660\n",
       "0573937001 0294008002 0652924004 0751551001 036...         2298\n",
       "0758064001 0758060001 0758050001 0758049001 075...         1473\n",
       "0759871002 0759871001 0759871003 0759871004 075...         1380\n",
       "...                                                         ...\n",
       "0565379001 0565379002 0484398001 0179123001 057...            1\n",
       "0565379001 0565379002 0484398001 0179123001 060...            1\n",
       "0565379001 0565379002 0484398001 0179123001 060...            1\n",
       "0565379001 0565379002 0484398001 0179123001 061...            1\n",
       "0883033002 0799365002 0562245046 0758064001 075...            1\n",
       "\n",
       "[1091807 rows x 1 columns]"
      ]
     },
     "execution_count": 25,
     "metadata": {},
     "output_type": "execute_result"
    }
   ],
   "source": [
    "df_preds.groupby(['prediction']).agg({'customer_id':'nunique'}).sort_values(by=['customer_id'],ascending=False)"
   ]
  },
  {
   "cell_type": "code",
   "execution_count": null,
   "id": "dc59d884",
   "metadata": {},
   "outputs": [],
   "source": []
  }
 ],
 "metadata": {
  "kernelspec": {
   "display_name": "Python 3",
   "language": "python",
   "name": "python3"
  },
  "language_info": {
   "codemirror_mode": {
    "name": "ipython",
    "version": 3
   },
   "file_extension": ".py",
   "mimetype": "text/x-python",
   "name": "python",
   "nbconvert_exporter": "python",
   "pygments_lexer": "ipython3",
   "version": "3.8.8"
  },
  "toc": {
   "base_numbering": 1,
   "nav_menu": {},
   "number_sections": true,
   "sideBar": true,
   "skip_h1_title": false,
   "title_cell": "Table of Contents",
   "title_sidebar": "Contents",
   "toc_cell": false,
   "toc_position": {},
   "toc_section_display": true,
   "toc_window_display": false
  },
  "varInspector": {
   "cols": {
    "lenName": 16,
    "lenType": 16,
    "lenVar": 40
   },
   "kernels_config": {
    "python": {
     "delete_cmd_postfix": "",
     "delete_cmd_prefix": "del ",
     "library": "var_list.py",
     "varRefreshCmd": "print(var_dic_list())"
    },
    "r": {
     "delete_cmd_postfix": ") ",
     "delete_cmd_prefix": "rm(",
     "library": "var_list.r",
     "varRefreshCmd": "cat(var_dic_list()) "
    }
   },
   "types_to_exclude": [
    "module",
    "function",
    "builtin_function_or_method",
    "instance",
    "_Feature"
   ],
   "window_display": false
  }
 },
 "nbformat": 4,
 "nbformat_minor": 5
}
