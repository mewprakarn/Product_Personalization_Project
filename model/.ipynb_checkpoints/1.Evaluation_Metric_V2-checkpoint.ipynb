{
 "cells": [
  {
   "cell_type": "code",
   "execution_count": 5,
   "id": "be918f02",
   "metadata": {
    "ExecuteTime": {
     "end_time": "2022-05-08T13:32:51.005672Z",
     "start_time": "2022-05-08T13:32:50.993705Z"
    }
   },
   "outputs": [],
   "source": [
    "import os,path\n",
    "import pickle\n",
    "import datetime\n",
    "import numpy as np\n",
    "import pandas as pd\n",
    "from datetime import date, timedelta\n",
    "\n",
    "\n",
    "import matplotlib.pyplot as plt\n",
    "pd.set_option('display.float_format', lambda x: '%.4f' % x)"
   ]
  },
  {
   "cell_type": "markdown",
   "id": "92fc0a93",
   "metadata": {},
   "source": [
    "## MAP@K Function"
   ]
  },
  {
   "cell_type": "code",
   "execution_count": 6,
   "id": "6f3b3a6f",
   "metadata": {
    "ExecuteTime": {
     "end_time": "2022-05-08T13:32:51.317890Z",
     "start_time": "2022-05-08T13:32:51.303901Z"
    }
   },
   "outputs": [],
   "source": [
    "# https://www.kaggle.com/c/h-and-m-personalized-fashion-recommendations/discussion/306007\n",
    "# https://github.com/benhamner/Metrics/blob/master/Python/ml_metrics/average_precision.py\n",
    "\n",
    "def apk(actual, predicted, k=10):\n",
    "    \"\"\"\n",
    "    Computes the average precision at k.\n",
    "    This function computes the average prescision at k between two lists of\n",
    "    items.\n",
    "    Parameters\n",
    "    ----------\n",
    "    actual : list\n",
    "             A list of elements that are to be predicted (order doesn't matter)\n",
    "    predicted : list\n",
    "                A list of predicted elements (order does matter)\n",
    "    k : int, optional\n",
    "        The maximum number of predicted elements\n",
    "    Returns\n",
    "    -------\n",
    "    score : double\n",
    "            The average precision at k over the input lists\n",
    "    \"\"\"\n",
    "    \n",
    "    if len(predicted)>k:\n",
    "        predicted = predicted[:k]\n",
    "\n",
    "    score = 0.0\n",
    "    num_hits = 0.0\n",
    "\n",
    "    for i,p in enumerate(predicted):\n",
    "#         print('items 1: ')\n",
    "        if p in actual and p not in predicted[:i]:\n",
    "            num_hits += 1.0\n",
    "            score += num_hits / (i+1.0)\n",
    "#             print('num_hits: ',num_hits)\n",
    "#             print('score: ',score)\n",
    "#             print('final score:', score / min(len(actual), k))\n",
    "#             print('='*50)\n",
    "    # remove this case in advance\n",
    "#     if not actual:\n",
    "#         return 0.0\n",
    "    try:\n",
    "        return score / min(len(actual), k)\n",
    "    except:\n",
    "        return 0\n",
    "\n",
    "\n",
    "def mapk(actual, predicted, k=10):\n",
    "    \"\"\"\n",
    "    Computes the mean average precision at k.\n",
    "    This function computes the mean average prescision at k between two lists\n",
    "    of lists of items.\n",
    "    Parameters\n",
    "    ----------\n",
    "    actual : list\n",
    "             A list of lists of elements that are to be predicted \n",
    "             (order doesn't matter in the lists)\n",
    "    predicted : list\n",
    "                A list of lists of predicted elements\n",
    "                (order matters in the lists)\n",
    "    k : int, optional\n",
    "        The maximum number of predicted elements\n",
    "    Returns\n",
    "    -------\n",
    "    score : double\n",
    "            The mean average precision at k over the input lists\n",
    "    \"\"\"\n",
    "#     print([apk(a,p,k) for a,p in zip(actual, predicted)]) \n",
    "    return np.mean([apk(a,p,k) for a,p in zip(actual, predicted)]) "
   ]
  },
  {
   "cell_type": "markdown",
   "id": "84cc180d",
   "metadata": {},
   "source": [
    "## Load Data"
   ]
  },
  {
   "cell_type": "code",
   "execution_count": null,
   "id": "e35b2439",
   "metadata": {
    "ExecuteTime": {
     "start_time": "2022-05-08T13:32:59.703Z"
    }
   },
   "outputs": [],
   "source": [
    "path = '../data/processed'\n",
    "bird = pd.read_csv(os.path.join(path,'submission_bird.csv'))\\\n",
    "        .rename(columns={'last_article':'recent_purchase','recomends':'prediction'})\\\n",
    "        .drop(columns=['last_date','recent_purchase'])\n",
    "bird['prediction'] = bird['prediction'].apply(lambda x: ' '.join(['0'+i for i in x.split()]))\n",
    "bird.head()"
   ]
  },
  {
   "cell_type": "markdown",
   "id": "8f845981",
   "metadata": {},
   "source": [
    "### Submission files"
   ]
  },
  {
   "cell_type": "code",
   "execution_count": 4,
   "id": "1178690b",
   "metadata": {
    "ExecuteTime": {
     "end_time": "2022-05-06T02:20:50.635341Z",
     "start_time": "2022-05-06T02:20:34.333421Z"
    }
   },
   "outputs": [],
   "source": [
    "path = '../data/processed'\n",
    "# submit = pd.read_csv('submissions.csv',dtype=str)\n",
    "mew = pd.read_csv(os.path.join(path,'submissions (2).csv'))\n",
    "mew_v3 = pd.read_csv(os.path.join(path,'submissions_v3.csv')) #  {'factors': 500, 'iterations': 3, 'regularization': 0.01}\n",
    "mew_v4 = pd.read_csv(os.path.join(path,'submissions_v4.csv')) #  {'factors': 500, 'iterations': 3, 'regularization': 0.01} & filter_already_liked_items\n",
    "# mew_v5 = pd.read_csv(os.path.join(path,'submissions_v5.csv')) #  past 1 year {'factors': 50, 'iterations': 15, 'regularization': 0.01}\n",
    "# mew_v6 = pd.read_csv(os.path.join(path,'submissions_v6.csv')) #  all-time data {'factors': 50, 'iterations': 15, 'regularization': 0.01}\n",
    "top_l1m = pd.read_csv(os.path.join(path,'top_l1m.csv'))  \n",
    "got = pd.read_csv(os.path.join(path,'recom_data_got2.csv'))\n",
    "non = pd.read_csv(os.path.join(path,'submission_full_v1_NON.csv'))\n",
    "bird = pd.read_csv(os.path.join(path,'submission_bird.csv'))\\\n",
    "        .rename(columns={'last_article':'recent_purchase','recomends':'prediction'})\\\n",
    "        .drop(columns=['last_date','recent_purchase'])\n",
    "\n"
   ]
  },
  {
   "cell_type": "code",
   "execution_count": 5,
   "id": "f7807f51",
   "metadata": {
    "ExecuteTime": {
     "end_time": "2022-05-06T02:20:53.059070Z",
     "start_time": "2022-05-06T02:20:50.698348Z"
    }
   },
   "outputs": [
    {
     "data": {
      "text/html": [
       "<div>\n",
       "<style scoped>\n",
       "    .dataframe tbody tr th:only-of-type {\n",
       "        vertical-align: middle;\n",
       "    }\n",
       "\n",
       "    .dataframe tbody tr th {\n",
       "        vertical-align: top;\n",
       "    }\n",
       "\n",
       "    .dataframe thead th {\n",
       "        text-align: right;\n",
       "    }\n",
       "</style>\n",
       "<table border=\"1\" class=\"dataframe\">\n",
       "  <thead>\n",
       "    <tr style=\"text-align: right;\">\n",
       "      <th></th>\n",
       "      <th>customer_id</th>\n",
       "      <th>prediction</th>\n",
       "    </tr>\n",
       "  </thead>\n",
       "  <tbody>\n",
       "    <tr>\n",
       "      <th>0</th>\n",
       "      <td>00000dbacae5abe5e23885899a1fa44253a17956c6d1c3...</td>\n",
       "      <td>0176209023 0307952006 0389236006 0410024001 04...</td>\n",
       "    </tr>\n",
       "    <tr>\n",
       "      <th>1</th>\n",
       "      <td>0000423b00ade91418cceaf3b26c6af3dd342b51fd051e...</td>\n",
       "      <td>0599580083 0607030002 0607031002 0684209025 06...</td>\n",
       "    </tr>\n",
       "    <tr>\n",
       "      <th>2</th>\n",
       "      <td>000058a12d5b43e67d225668fa1f8d618c13dc232df0ca...</td>\n",
       "      <td>0541491008 0557247004 0578630009 0593829007 05...</td>\n",
       "    </tr>\n",
       "    <tr>\n",
       "      <th>3</th>\n",
       "      <td>00005ca1c9ed5f5146b52ac8639a40ca9d57aeff4d1bd2...</td>\n",
       "      <td>0466381012 0508323001 0527358001 0529035001 05...</td>\n",
       "    </tr>\n",
       "    <tr>\n",
       "      <th>4</th>\n",
       "      <td>00006413d8573cd20ed7128e53b7b13819fe5cfc2d801f...</td>\n",
       "      <td>0110065001 0153115019 0253448001 0278811002 02...</td>\n",
       "    </tr>\n",
       "  </tbody>\n",
       "</table>\n",
       "</div>"
      ],
      "text/plain": [
       "                                         customer_id  \\\n",
       "0  00000dbacae5abe5e23885899a1fa44253a17956c6d1c3...   \n",
       "1  0000423b00ade91418cceaf3b26c6af3dd342b51fd051e...   \n",
       "2  000058a12d5b43e67d225668fa1f8d618c13dc232df0ca...   \n",
       "3  00005ca1c9ed5f5146b52ac8639a40ca9d57aeff4d1bd2...   \n",
       "4  00006413d8573cd20ed7128e53b7b13819fe5cfc2d801f...   \n",
       "\n",
       "                                          prediction  \n",
       "0  0176209023 0307952006 0389236006 0410024001 04...  \n",
       "1  0599580083 0607030002 0607031002 0684209025 06...  \n",
       "2  0541491008 0557247004 0578630009 0593829007 05...  \n",
       "3  0466381012 0508323001 0527358001 0529035001 05...  \n",
       "4  0110065001 0153115019 0253448001 0278811002 02...  "
      ]
     },
     "execution_count": 5,
     "metadata": {},
     "output_type": "execute_result"
    }
   ],
   "source": [
    "\n",
    "bird['prediction'] = bird['prediction'].apply(lambda x: ' '.join(['0'+i for i in x.split()]))\n",
    "bird.head()"
   ]
  },
  {
   "cell_type": "markdown",
   "id": "f9c02bce",
   "metadata": {},
   "source": [
    "### Index to Customer_id "
   ]
  },
  {
   "cell_type": "code",
   "execution_count": 6,
   "id": "204b14fb",
   "metadata": {
    "ExecuteTime": {
     "end_time": "2022-05-06T02:21:56.863867Z",
     "start_time": "2022-05-06T02:21:56.559529Z"
    }
   },
   "outputs": [],
   "source": [
    "# mapping index\n",
    "path = '../data/processed'\n",
    "infile = open(os.path.join(path,'index_to_cusId.pkl'),'rb')\n",
    "index_to_id_dict = pickle.load(infile)\n",
    "infile.close()"
   ]
  },
  {
   "cell_type": "markdown",
   "id": "1fea28f5",
   "metadata": {},
   "source": [
    "### Transaction file"
   ]
  },
  {
   "cell_type": "code",
   "execution_count": 7,
   "id": "5e7afcfd",
   "metadata": {
    "ExecuteTime": {
     "end_time": "2022-05-06T02:22:01.279128Z",
     "start_time": "2022-05-06T02:21:56.864779Z"
    }
   },
   "outputs": [
    {
     "data": {
      "text/html": [
       "<div>\n",
       "<style scoped>\n",
       "    .dataframe tbody tr th:only-of-type {\n",
       "        vertical-align: middle;\n",
       "    }\n",
       "\n",
       "    .dataframe tbody tr th {\n",
       "        vertical-align: top;\n",
       "    }\n",
       "\n",
       "    .dataframe thead th {\n",
       "        text-align: right;\n",
       "    }\n",
       "</style>\n",
       "<table border=\"1\" class=\"dataframe\">\n",
       "  <thead>\n",
       "    <tr style=\"text-align: right;\">\n",
       "      <th></th>\n",
       "      <th>t_dat</th>\n",
       "      <th>customer_id</th>\n",
       "      <th>article_id</th>\n",
       "      <th>price</th>\n",
       "      <th>sales_channel_id</th>\n",
       "    </tr>\n",
       "  </thead>\n",
       "  <tbody>\n",
       "    <tr>\n",
       "      <th>0</th>\n",
       "      <td>2018-09-20</td>\n",
       "      <td>000058a12d5b43e67d225668fa1f8d618c13dc232df0ca...</td>\n",
       "      <td>0663713001</td>\n",
       "      <td>0.0508</td>\n",
       "      <td>2</td>\n",
       "    </tr>\n",
       "    <tr>\n",
       "      <th>1</th>\n",
       "      <td>2018-09-20</td>\n",
       "      <td>000058a12d5b43e67d225668fa1f8d618c13dc232df0ca...</td>\n",
       "      <td>0541518023</td>\n",
       "      <td>0.0305</td>\n",
       "      <td>2</td>\n",
       "    </tr>\n",
       "    <tr>\n",
       "      <th>2</th>\n",
       "      <td>2018-09-20</td>\n",
       "      <td>00007d2de826758b65a93dd24ce629ed66842531df6699...</td>\n",
       "      <td>0505221004</td>\n",
       "      <td>0.0152</td>\n",
       "      <td>2</td>\n",
       "    </tr>\n",
       "    <tr>\n",
       "      <th>3</th>\n",
       "      <td>2018-09-20</td>\n",
       "      <td>00007d2de826758b65a93dd24ce629ed66842531df6699...</td>\n",
       "      <td>0685687003</td>\n",
       "      <td>0.0169</td>\n",
       "      <td>2</td>\n",
       "    </tr>\n",
       "    <tr>\n",
       "      <th>4</th>\n",
       "      <td>2018-09-20</td>\n",
       "      <td>00007d2de826758b65a93dd24ce629ed66842531df6699...</td>\n",
       "      <td>0685687004</td>\n",
       "      <td>0.0169</td>\n",
       "      <td>2</td>\n",
       "    </tr>\n",
       "  </tbody>\n",
       "</table>\n",
       "</div>"
      ],
      "text/plain": [
       "       t_dat                                        customer_id  article_id  \\\n",
       "0 2018-09-20  000058a12d5b43e67d225668fa1f8d618c13dc232df0ca...  0663713001   \n",
       "1 2018-09-20  000058a12d5b43e67d225668fa1f8d618c13dc232df0ca...  0541518023   \n",
       "2 2018-09-20  00007d2de826758b65a93dd24ce629ed66842531df6699...  0505221004   \n",
       "3 2018-09-20  00007d2de826758b65a93dd24ce629ed66842531df6699...  0685687003   \n",
       "4 2018-09-20  00007d2de826758b65a93dd24ce629ed66842531df6699...  0685687004   \n",
       "\n",
       "   price  sales_channel_id  \n",
       "0 0.0508                 2  \n",
       "1 0.0305                 2  \n",
       "2 0.0152                 2  \n",
       "3 0.0169                 2  \n",
       "4 0.0169                 2  "
      ]
     },
     "execution_count": 7,
     "metadata": {},
     "output_type": "execute_result"
    }
   ],
   "source": [
    "path = '../data/processed'\n",
    "trans = pd.read_pickle(os.path.join(path,'transactions.pkl'))\n",
    "trans[\"customer_id\"] = trans[\"customer_id\"].map(index_to_id_dict)\n",
    "trans.head()"
   ]
  },
  {
   "cell_type": "markdown",
   "id": "56b40816",
   "metadata": {},
   "source": [
    "## 7-day target"
   ]
  },
  {
   "cell_type": "code",
   "execution_count": 8,
   "id": "28e26b8a",
   "metadata": {
    "ExecuteTime": {
     "end_time": "2022-05-06T02:22:03.730826Z",
     "start_time": "2022-05-06T02:22:01.280125Z"
    }
   },
   "outputs": [
    {
     "name": "stdout",
     "output_type": "stream",
     "text": [
      "Min date:  2020-09-16 00:00:00\n",
      "Max date:  2020-09-22 00:00:00\n",
      "Total Customers: 68984\n"
     ]
    },
    {
     "data": {
      "text/html": [
       "<div>\n",
       "<style scoped>\n",
       "    .dataframe tbody tr th:only-of-type {\n",
       "        vertical-align: middle;\n",
       "    }\n",
       "\n",
       "    .dataframe tbody tr th {\n",
       "        vertical-align: top;\n",
       "    }\n",
       "\n",
       "    .dataframe thead th {\n",
       "        text-align: right;\n",
       "    }\n",
       "</style>\n",
       "<table border=\"1\" class=\"dataframe\">\n",
       "  <thead>\n",
       "    <tr style=\"text-align: right;\">\n",
       "      <th></th>\n",
       "      <th>customer_id</th>\n",
       "      <th>actual</th>\n",
       "    </tr>\n",
       "  </thead>\n",
       "  <tbody>\n",
       "    <tr>\n",
       "      <th>0</th>\n",
       "      <td>00039306476aaf41a07fed942884f16b30abfa83a2a8be...</td>\n",
       "      <td>0624486001</td>\n",
       "    </tr>\n",
       "    <tr>\n",
       "      <th>1</th>\n",
       "      <td>0003e867a930d0d6842f923d6ba7c9b77aba33fe2a0fbf...</td>\n",
       "      <td>0827487003</td>\n",
       "    </tr>\n",
       "    <tr>\n",
       "      <th>2</th>\n",
       "      <td>000493dd9fc463df1acc2081450c9e75ef8e87d5dd17ed...</td>\n",
       "      <td>0757926001 0640021019 0788575004</td>\n",
       "    </tr>\n",
       "    <tr>\n",
       "      <th>3</th>\n",
       "      <td>000525e3fe01600d717da8423643a8303390a055c578ed...</td>\n",
       "      <td>0874110016</td>\n",
       "    </tr>\n",
       "    <tr>\n",
       "      <th>4</th>\n",
       "      <td>00077dbd5c4a4991e092e63893ccf29294a9d5c46e8501...</td>\n",
       "      <td>0903762001 0158340001 0879189005 0907149001 09...</td>\n",
       "    </tr>\n",
       "  </tbody>\n",
       "</table>\n",
       "</div>"
      ],
      "text/plain": [
       "                                         customer_id  \\\n",
       "0  00039306476aaf41a07fed942884f16b30abfa83a2a8be...   \n",
       "1  0003e867a930d0d6842f923d6ba7c9b77aba33fe2a0fbf...   \n",
       "2  000493dd9fc463df1acc2081450c9e75ef8e87d5dd17ed...   \n",
       "3  000525e3fe01600d717da8423643a8303390a055c578ed...   \n",
       "4  00077dbd5c4a4991e092e63893ccf29294a9d5c46e8501...   \n",
       "\n",
       "                                              actual  \n",
       "0                                         0624486001  \n",
       "1                                         0827487003  \n",
       "2                   0757926001 0640021019 0788575004  \n",
       "3                                         0874110016  \n",
       "4  0903762001 0158340001 0879189005 0907149001 09...  "
      ]
     },
     "execution_count": 8,
     "metadata": {},
     "output_type": "execute_result"
    }
   ],
   "source": [
    "start_dt =  datetime.datetime(2020,9,15)\n",
    "end_dt = start_dt + timedelta(7)\n",
    "\n",
    "trans = trans[(trans.t_dat > start_dt) & (trans.t_dat <= end_dt)]\n",
    "print('Min date: ', trans.t_dat.min())\n",
    "print('Max date: ', trans.t_dat.max())\n",
    "print(f'Total Customers: {trans.customer_id.nunique()}')\n",
    "\n",
    "target = pd.DataFrame(trans.groupby(['customer_id'])['article_id'].apply(lambda x: list(set(x))))\\\n",
    "                        .reset_index()\\\n",
    "                        .rename(columns={'article_id':'actual'})\n",
    "target['actual'] = target['actual'].apply(lambda x: ' '.join(x))\n",
    "# weekly_purchased['weekly_purchased_products'] = weekly_purchased['weekly_purchased_products'].apply(lambda x: list(set(x)))\n",
    "target.head()"
   ]
  },
  {
   "cell_type": "markdown",
   "id": "b67a75f9",
   "metadata": {
    "ExecuteTime": {
     "end_time": "2022-04-16T09:47:12.077497Z",
     "start_time": "2022-04-16T09:47:12.066479Z"
    }
   },
   "source": [
    "## Evaluation"
   ]
  },
  {
   "cell_type": "markdown",
   "id": "3db688b9",
   "metadata": {},
   "source": [
    "### Map Target"
   ]
  },
  {
   "cell_type": "code",
   "execution_count": 9,
   "id": "af7dfa44",
   "metadata": {
    "ExecuteTime": {
     "end_time": "2022-05-06T02:22:31.609180Z",
     "start_time": "2022-05-06T02:22:03.731825Z"
    }
   },
   "outputs": [
    {
     "data": {
      "text/html": [
       "<div>\n",
       "<style scoped>\n",
       "    .dataframe tbody tr th:only-of-type {\n",
       "        vertical-align: middle;\n",
       "    }\n",
       "\n",
       "    .dataframe tbody tr th {\n",
       "        vertical-align: top;\n",
       "    }\n",
       "\n",
       "    .dataframe thead th {\n",
       "        text-align: right;\n",
       "    }\n",
       "</style>\n",
       "<table border=\"1\" class=\"dataframe\">\n",
       "  <thead>\n",
       "    <tr style=\"text-align: right;\">\n",
       "      <th></th>\n",
       "      <th>customer_id</th>\n",
       "      <th>prediction</th>\n",
       "      <th>actual</th>\n",
       "    </tr>\n",
       "  </thead>\n",
       "  <tbody>\n",
       "    <tr>\n",
       "      <th>0</th>\n",
       "      <td>00000dbacae5abe5e23885899a1fa44253a17956c6d1c3...</td>\n",
       "      <td>[0751471001, 0918292001, 0915526001, 070601600...</td>\n",
       "      <td>[]</td>\n",
       "    </tr>\n",
       "    <tr>\n",
       "      <th>1</th>\n",
       "      <td>0000423b00ade91418cceaf3b26c6af3dd342b51fd051e...</td>\n",
       "      <td>[0751471001, 0918292001, 0915526001, 070601600...</td>\n",
       "      <td>[]</td>\n",
       "    </tr>\n",
       "    <tr>\n",
       "      <th>2</th>\n",
       "      <td>000058a12d5b43e67d225668fa1f8d618c13dc232df0ca...</td>\n",
       "      <td>[0751471001, 0918292001, 0915526001, 070601600...</td>\n",
       "      <td>[]</td>\n",
       "    </tr>\n",
       "    <tr>\n",
       "      <th>3</th>\n",
       "      <td>00005ca1c9ed5f5146b52ac8639a40ca9d57aeff4d1bd2...</td>\n",
       "      <td>[0751471001, 0918292001, 0915526001, 070601600...</td>\n",
       "      <td>[]</td>\n",
       "    </tr>\n",
       "    <tr>\n",
       "      <th>4</th>\n",
       "      <td>00006413d8573cd20ed7128e53b7b13819fe5cfc2d801f...</td>\n",
       "      <td>[0751471001, 0918292001, 0915526001, 070601600...</td>\n",
       "      <td>[]</td>\n",
       "    </tr>\n",
       "  </tbody>\n",
       "</table>\n",
       "</div>"
      ],
      "text/plain": [
       "                                         customer_id  \\\n",
       "0  00000dbacae5abe5e23885899a1fa44253a17956c6d1c3...   \n",
       "1  0000423b00ade91418cceaf3b26c6af3dd342b51fd051e...   \n",
       "2  000058a12d5b43e67d225668fa1f8d618c13dc232df0ca...   \n",
       "3  00005ca1c9ed5f5146b52ac8639a40ca9d57aeff4d1bd2...   \n",
       "4  00006413d8573cd20ed7128e53b7b13819fe5cfc2d801f...   \n",
       "\n",
       "                                          prediction actual  \n",
       "0  [0751471001, 0918292001, 0915526001, 070601600...     []  \n",
       "1  [0751471001, 0918292001, 0915526001, 070601600...     []  \n",
       "2  [0751471001, 0918292001, 0915526001, 070601600...     []  \n",
       "3  [0751471001, 0918292001, 0915526001, 070601600...     []  \n",
       "4  [0751471001, 0918292001, 0915526001, 070601600...     []  "
      ]
     },
     "execution_count": 9,
     "metadata": {},
     "output_type": "execute_result"
    }
   ],
   "source": [
    "join_ = 'left'\n",
    "new_top_l1m = top_l1m.merge(target, on = 'customer_id',how=join_).fillna('')\n",
    "new_mew = mew.merge(target, on = 'customer_id',how=join_).fillna('')\n",
    "new_mew_v3 = mew_v3.merge(target, on = 'customer_id',how=join_).fillna('')\n",
    "new_mew_v4 = mew_v4.merge(target, on = 'customer_id',how=join_).fillna('')\n",
    "# new_mew_v5 = mew_v5.merge(target, on = 'customer_id',how=join_).fillna('')\n",
    "# new_mew_v6 = mew_v6.merge(target, on = 'customer_id',how=join_).fillna('')\n",
    "new_got = got.merge(target, on = 'customer_id',how=join_).fillna('')\n",
    "new_non = non.merge(target, on = 'customer_id',how=join_).fillna('')\n",
    "new_bird = bird.merge(target, on = 'customer_id',how=join_).fillna('')\n",
    "\n",
    "\n",
    "new_top_l1m['actual'] = new_top_l1m['actual'].apply(lambda x: x.split())\n",
    "new_mew['actual'] = new_mew['actual'].apply(lambda x: x.split())\n",
    "new_mew_v3['actual'] = new_mew_v3['actual'].apply(lambda x: x.split())\n",
    "new_mew_v4['actual'] = new_mew_v4['actual'].apply(lambda x: x.split())\n",
    "# new_mew_v5['actual'] = new_mew_v5['actual'].apply(lambda x: x.split())\n",
    "# new_mew_v6['actual'] = new_mew_v6['actual'].apply(lambda x: x.split())\n",
    "new_got['actual'] = new_got['actual'].apply(lambda x: x.split())\n",
    "new_non['actual'] = new_non['actual'].apply(lambda x: x.split())\n",
    "\n",
    "new_bird['actual'] = new_bird['actual'].apply(lambda x: x.split())\n",
    "\n",
    "new_top_l1m['prediction'] = new_top_l1m['prediction'].apply(lambda x: x.split())\n",
    "new_mew['prediction'] = new_mew['prediction'].apply(lambda x: x.split())\n",
    "new_mew_v3['prediction'] = new_mew_v3['prediction'].apply(lambda x: x.split())\n",
    "new_mew_v4['prediction'] = new_mew_v4['prediction'].apply(lambda x: x.split())\n",
    "# new_mew_v5['prediction'] = new_mew_v5['prediction'].apply(lambda x: x.split())\n",
    "# new_mew_v6['prediction'] = new_mew_v6['prediction'].apply(lambda x: x.split())\n",
    "new_got['prediction'] = new_got['prediction'].apply(lambda x: x.split())\n",
    "new_non['prediction'] = new_non['prediction'].apply(lambda x: x.split())\n",
    "new_bird['prediction'] = new_bird['prediction'].apply(lambda x: x.split())\n",
    "\n",
    "new_top_l1m.head()"
   ]
  },
  {
   "cell_type": "markdown",
   "id": "962f74f4",
   "metadata": {
    "ExecuteTime": {
     "end_time": "2022-05-03T04:12:14.304261Z",
     "start_time": "2022-05-03T04:12:14.292292Z"
    }
   },
   "source": [
    "### MAP@12"
   ]
  },
  {
   "cell_type": "code",
   "execution_count": 12,
   "id": "270cfe27",
   "metadata": {
    "ExecuteTime": {
     "end_time": "2022-05-06T02:28:10.634638Z",
     "start_time": "2022-05-06T02:27:56.552580Z"
    }
   },
   "outputs": [
    {
     "name": "stdout",
     "output_type": "stream",
     "text": [
      "mAP@12\n",
      "top_l1m_result: 0.0284%\n",
      "mew_v2_result: 2.3726%\n",
      "mew_v3_result: 2.0516%\n",
      "mew_v4_result: 0.0036%\n",
      "got_result: 0.0279%\n",
      "non_result: 0.0861%\n",
      "Pbird_result: 0.0033%\n"
     ]
    }
   ],
   "source": [
    "top_l1m_result = mapk(new_top_l1m['actual'],new_top_l1m['prediction'], k=12)\n",
    "mew_result = mapk(new_mew['actual'],new_mew['prediction'], k=12)\n",
    "mew_v3_result = mapk(new_mew_v3['actual'],new_mew_v3['prediction'], k=12)\n",
    "mew_v4_result = mapk(new_mew_v4['actual'],new_mew_v4['prediction'], k=12)\n",
    "# mew_v5_result = mapk(new_mew_v5['actual'],new_mew_v5['prediction'], k=12)\n",
    "# mew_v6_result = mapk(new_mew_v6['actual'],new_mew_v6['prediction'], k=12)\n",
    "got_result = mapk(new_got['actual'],new_got['prediction'], k=12)\n",
    "non_result = mapk(new_non['actual'],new_non['prediction'], k=12)\n",
    "bird_result = mapk(new_bird['actual'],new_bird['prediction'], k=12)\n",
    "\n",
    "print('mAP@12')\n",
    "print('top_l1m_result: {:.4%}'.format(top_l1m_result))\n",
    "print('mew_v2_result: {:.4%}'.format(mew_result))\n",
    "print('mew_v3_result: {:.4%}'.format(mew_v3_result))\n",
    "print('mew_v4_result: {:.4%}'.format(mew_v4_result))\n",
    "# print('mew_v5_result: {:.4%}'.format(mew_v5_result))\n",
    "# print('mew_v6_result: {:.4%}'.format(mew_v6_result))\n",
    "print('got_result: {:.4%}'.format(got_result))\n",
    "print('non_result: {:.4%}'.format(non_result))\n",
    "print('Pbird_result: {:.4%}'.format(bird_result))"
   ]
  },
  {
   "cell_type": "code",
   "execution_count": 11,
   "id": "2d396c39",
   "metadata": {
    "ExecuteTime": {
     "end_time": "2022-05-06T02:22:46.372919Z",
     "start_time": "2022-05-06T02:22:46.357890Z"
    }
   },
   "outputs": [
    {
     "name": "stdout",
     "output_type": "stream",
     "text": [
      "Total recommended items: 16,463,760\n",
      "Approx. puchased items:\n",
      "\t - top_l1m: 4,668\n",
      "\t - mew_v2_result: 390,624\n",
      "\t - mew_v3_result: 337,763\n",
      "\t - mew_v4_result: 590\n",
      "\t - got_result: 4,595\n",
      "\t - non_result: 14,174\n",
      "\t - bird_result: 539\n"
     ]
    }
   ],
   "source": [
    "numbers = \"{:,}\".format(len(new_top_l1m)*12)\n",
    "print(f'Total recommended items: {numbers}')\n",
    "print('Approx. puchased items:')\n",
    "print('\\t - top_l1m: {:,}'.format(round(len(new_top_l1m)*12*top_l1m_result),0))\n",
    "print('\\t - mew_v2_result: {:,}'.format(round(len(new_top_l1m)*12*mew_result),0))\n",
    "print('\\t - mew_v3_result: {:,}'.format(round(len(new_top_l1m)*12*mew_v3_result),0))\n",
    "print('\\t - mew_v4_result: {:,}'.format(round(len(new_top_l1m)*12*mew_v4_result),0))\n",
    "# print('\\t - mew_v5_result: {:,}'.format(round(len(new_top_l1m)*12*mew_v5_result),0))\n",
    "# print('\\t - mew_v6_result: {:,}'.format(round(len(new_top_l1m)*12*mew_v6_result),0))\n",
    "print('\\t - got_result: {:,}'.format(round(len(new_top_l1m)*12*got_result),0))\n",
    "print('\\t - non_result: {:,}'.format(round(len(new_top_l1m)*12*non_result),0))\n",
    "print('\\t - bird_result: {:,}'.format(round(len(new_top_l1m)*12*bird_result),0))"
   ]
  },
  {
   "cell_type": "code",
   "execution_count": 1,
   "id": "2e38f1f7",
   "metadata": {
    "ExecuteTime": {
     "end_time": "2022-05-08T13:30:34.959460Z",
     "start_time": "2022-05-08T13:30:34.948462Z"
    }
   },
   "outputs": [
    {
     "name": "stdout",
     "output_type": "stream",
     "text": [
      "Pbird_result: 5.0000%\n"
     ]
    }
   ],
   "source": [
    "print('Pbird_result: {:.4%}'.format(0.05))"
   ]
  },
  {
   "cell_type": "code",
   "execution_count": null,
   "id": "3b74ede4",
   "metadata": {},
   "outputs": [],
   "source": []
  }
 ],
 "metadata": {
  "hide_input": false,
  "kernelspec": {
   "display_name": "Python 3",
   "language": "python",
   "name": "python3"
  },
  "language_info": {
   "codemirror_mode": {
    "name": "ipython",
    "version": 3
   },
   "file_extension": ".py",
   "mimetype": "text/x-python",
   "name": "python",
   "nbconvert_exporter": "python",
   "pygments_lexer": "ipython3",
   "version": "3.8.8"
  },
  "toc": {
   "base_numbering": 1,
   "nav_menu": {},
   "number_sections": true,
   "sideBar": true,
   "skip_h1_title": false,
   "title_cell": "Table of Contents",
   "title_sidebar": "Contents",
   "toc_cell": false,
   "toc_position": {},
   "toc_section_display": true,
   "toc_window_display": false
  },
  "varInspector": {
   "cols": {
    "lenName": 16,
    "lenType": 16,
    "lenVar": 40
   },
   "kernels_config": {
    "python": {
     "delete_cmd_postfix": "",
     "delete_cmd_prefix": "del ",
     "library": "var_list.py",
     "varRefreshCmd": "print(var_dic_list())"
    },
    "r": {
     "delete_cmd_postfix": ") ",
     "delete_cmd_prefix": "rm(",
     "library": "var_list.r",
     "varRefreshCmd": "cat(var_dic_list()) "
    }
   },
   "types_to_exclude": [
    "module",
    "function",
    "builtin_function_or_method",
    "instance",
    "_Feature"
   ],
   "window_display": false
  }
 },
 "nbformat": 4,
 "nbformat_minor": 5
}
