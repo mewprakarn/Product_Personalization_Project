{
 "cells": [
  {
   "cell_type": "code",
   "execution_count": 29,
   "id": "e81c6a32",
   "metadata": {
    "ExecuteTime": {
     "end_time": "2022-05-05T12:33:52.516997Z",
     "start_time": "2022-05-05T12:33:52.499044Z"
    }
   },
   "outputs": [],
   "source": [
    "import os \n",
    "import shutil\n",
    "import pickle\n",
    "import datetime\n",
    "import numpy as np\n",
    "import pandas as pd\n",
    "from datetime import date, timedelta\n",
    "\n",
    "import matplotlib.pyplot as plt\n",
    "pd.set_option('display.float_format', lambda x: '%.4f' % x)"
   ]
  },
  {
   "cell_type": "markdown",
   "id": "04f33c40",
   "metadata": {},
   "source": [
    "## Load Data"
   ]
  },
  {
   "cell_type": "markdown",
   "id": "fe0c03b4",
   "metadata": {},
   "source": [
    "### Mapping Index"
   ]
  },
  {
   "cell_type": "code",
   "execution_count": 30,
   "id": "a46b3cc3",
   "metadata": {
    "ExecuteTime": {
     "end_time": "2022-05-05T12:33:52.843795Z",
     "start_time": "2022-05-05T12:33:52.517995Z"
    }
   },
   "outputs": [],
   "source": [
    "path = '../data/processed'\n",
    "infile = open(os.path.join(path,'index_to_cusId.pkl'),'rb')\n",
    "index_to_id_dict = pickle.load(infile)\n",
    "infile.close()"
   ]
  },
  {
   "cell_type": "markdown",
   "id": "565f1f09",
   "metadata": {},
   "source": [
    "### Transaction"
   ]
  },
  {
   "cell_type": "code",
   "execution_count": 31,
   "id": "fbfc3b41",
   "metadata": {
    "ExecuteTime": {
     "end_time": "2022-05-05T12:33:57.555070Z",
     "start_time": "2022-05-05T12:33:52.845790Z"
    }
   },
   "outputs": [
    {
     "data": {
      "text/html": [
       "<div>\n",
       "<style scoped>\n",
       "    .dataframe tbody tr th:only-of-type {\n",
       "        vertical-align: middle;\n",
       "    }\n",
       "\n",
       "    .dataframe tbody tr th {\n",
       "        vertical-align: top;\n",
       "    }\n",
       "\n",
       "    .dataframe thead th {\n",
       "        text-align: right;\n",
       "    }\n",
       "</style>\n",
       "<table border=\"1\" class=\"dataframe\">\n",
       "  <thead>\n",
       "    <tr style=\"text-align: right;\">\n",
       "      <th></th>\n",
       "      <th>t_dat</th>\n",
       "      <th>customer_id</th>\n",
       "      <th>article_id</th>\n",
       "      <th>price</th>\n",
       "      <th>sales_channel_id</th>\n",
       "    </tr>\n",
       "  </thead>\n",
       "  <tbody>\n",
       "    <tr>\n",
       "      <th>0</th>\n",
       "      <td>2018-09-20</td>\n",
       "      <td>000058a12d5b43e67d225668fa1f8d618c13dc232df0ca...</td>\n",
       "      <td>0663713001</td>\n",
       "      <td>0.0508</td>\n",
       "      <td>2</td>\n",
       "    </tr>\n",
       "    <tr>\n",
       "      <th>1</th>\n",
       "      <td>2018-09-20</td>\n",
       "      <td>000058a12d5b43e67d225668fa1f8d618c13dc232df0ca...</td>\n",
       "      <td>0541518023</td>\n",
       "      <td>0.0305</td>\n",
       "      <td>2</td>\n",
       "    </tr>\n",
       "    <tr>\n",
       "      <th>2</th>\n",
       "      <td>2018-09-20</td>\n",
       "      <td>00007d2de826758b65a93dd24ce629ed66842531df6699...</td>\n",
       "      <td>0505221004</td>\n",
       "      <td>0.0152</td>\n",
       "      <td>2</td>\n",
       "    </tr>\n",
       "    <tr>\n",
       "      <th>3</th>\n",
       "      <td>2018-09-20</td>\n",
       "      <td>00007d2de826758b65a93dd24ce629ed66842531df6699...</td>\n",
       "      <td>0685687003</td>\n",
       "      <td>0.0169</td>\n",
       "      <td>2</td>\n",
       "    </tr>\n",
       "    <tr>\n",
       "      <th>4</th>\n",
       "      <td>2018-09-20</td>\n",
       "      <td>00007d2de826758b65a93dd24ce629ed66842531df6699...</td>\n",
       "      <td>0685687004</td>\n",
       "      <td>0.0169</td>\n",
       "      <td>2</td>\n",
       "    </tr>\n",
       "  </tbody>\n",
       "</table>\n",
       "</div>"
      ],
      "text/plain": [
       "       t_dat                                        customer_id  article_id  \\\n",
       "0 2018-09-20  000058a12d5b43e67d225668fa1f8d618c13dc232df0ca...  0663713001   \n",
       "1 2018-09-20  000058a12d5b43e67d225668fa1f8d618c13dc232df0ca...  0541518023   \n",
       "2 2018-09-20  00007d2de826758b65a93dd24ce629ed66842531df6699...  0505221004   \n",
       "3 2018-09-20  00007d2de826758b65a93dd24ce629ed66842531df6699...  0685687003   \n",
       "4 2018-09-20  00007d2de826758b65a93dd24ce629ed66842531df6699...  0685687004   \n",
       "\n",
       "   price  sales_channel_id  \n",
       "0 0.0508                 2  \n",
       "1 0.0305                 2  \n",
       "2 0.0152                 2  \n",
       "3 0.0169                 2  \n",
       "4 0.0169                 2  "
      ]
     },
     "execution_count": 31,
     "metadata": {},
     "output_type": "execute_result"
    }
   ],
   "source": [
    "path = '../data/processed'\n",
    "trans = pd.read_pickle(os.path.join(path,'transactions.pkl'))\n",
    "trans[\"customer_id\"] = trans[\"customer_id\"].map(index_to_id_dict)\n",
    "trans.head()"
   ]
  },
  {
   "cell_type": "code",
   "execution_count": 32,
   "id": "389d304e",
   "metadata": {
    "ExecuteTime": {
     "end_time": "2022-05-05T12:33:58.350395Z",
     "start_time": "2022-05-05T12:33:57.556017Z"
    }
   },
   "outputs": [
    {
     "data": {
      "text/html": [
       "<div>\n",
       "<style scoped>\n",
       "    .dataframe tbody tr th:only-of-type {\n",
       "        vertical-align: middle;\n",
       "    }\n",
       "\n",
       "    .dataframe tbody tr th {\n",
       "        vertical-align: top;\n",
       "    }\n",
       "\n",
       "    .dataframe thead th {\n",
       "        text-align: right;\n",
       "    }\n",
       "</style>\n",
       "<table border=\"1\" class=\"dataframe\">\n",
       "  <thead>\n",
       "    <tr style=\"text-align: right;\">\n",
       "      <th></th>\n",
       "      <th>customer_id</th>\n",
       "      <th>FN</th>\n",
       "      <th>Active</th>\n",
       "      <th>club_member_status</th>\n",
       "      <th>fashion_news_frequency</th>\n",
       "      <th>age</th>\n",
       "      <th>postal_code</th>\n",
       "    </tr>\n",
       "  </thead>\n",
       "  <tbody>\n",
       "    <tr>\n",
       "      <th>0</th>\n",
       "      <td>00000dbacae5abe5e23885899a1fa44253a17956c6d1c3...</td>\n",
       "      <td>0.0000</td>\n",
       "      <td>0.0000</td>\n",
       "      <td>ACTIVE</td>\n",
       "      <td>NONE</td>\n",
       "      <td>49.0000</td>\n",
       "      <td>52043ee2162cf5aa7ee79974281641c6f11a68d276429a...</td>\n",
       "    </tr>\n",
       "    <tr>\n",
       "      <th>1</th>\n",
       "      <td>0000423b00ade91418cceaf3b26c6af3dd342b51fd051e...</td>\n",
       "      <td>0.0000</td>\n",
       "      <td>0.0000</td>\n",
       "      <td>ACTIVE</td>\n",
       "      <td>NONE</td>\n",
       "      <td>25.0000</td>\n",
       "      <td>2973abc54daa8a5f8ccfe9362140c63247c5eee03f1d93...</td>\n",
       "    </tr>\n",
       "  </tbody>\n",
       "</table>\n",
       "</div>"
      ],
      "text/plain": [
       "                                         customer_id     FN  Active  \\\n",
       "0  00000dbacae5abe5e23885899a1fa44253a17956c6d1c3... 0.0000  0.0000   \n",
       "1  0000423b00ade91418cceaf3b26c6af3dd342b51fd051e... 0.0000  0.0000   \n",
       "\n",
       "  club_member_status fashion_news_frequency     age  \\\n",
       "0             ACTIVE                   NONE 49.0000   \n",
       "1             ACTIVE                   NONE 25.0000   \n",
       "\n",
       "                                         postal_code  \n",
       "0  52043ee2162cf5aa7ee79974281641c6f11a68d276429a...  \n",
       "1  2973abc54daa8a5f8ccfe9362140c63247c5eee03f1d93...  "
      ]
     },
     "execution_count": 32,
     "metadata": {},
     "output_type": "execute_result"
    }
   ],
   "source": [
    "# customers\n",
    "path = '../data/processed'\n",
    "customers = pd.read_pickle(os.path.join(path,'customers.pkl'))\n",
    "customers[\"customer_id\"] = customers[\"customer_id\"].map(index_to_id_dict)\n",
    "customers.head(2)"
   ]
  },
  {
   "cell_type": "markdown",
   "id": "91eab759",
   "metadata": {},
   "source": [
    "## Top L1M"
   ]
  },
  {
   "cell_type": "code",
   "execution_count": 33,
   "id": "2a367fb3",
   "metadata": {
    "ExecuteTime": {
     "end_time": "2022-05-05T12:34:00.662973Z",
     "start_time": "2022-05-05T12:33:58.351393Z"
    }
   },
   "outputs": [
    {
     "name": "stdout",
     "output_type": "stream",
     "text": [
      "Min date:  2020-08-17 00:00:00\n",
      "Max date:  2020-09-15 00:00:00\n",
      "Total Customers: 246099\n"
     ]
    },
    {
     "name": "stderr",
     "output_type": "stream",
     "text": [
      "<ipython-input-33-a12033eec785>:20: SettingWithCopyWarning: \n",
      "A value is trying to be set on a copy of a slice from a DataFrame.\n",
      "Try using .loc[row_indexer,col_indexer] = value instead\n",
      "\n",
      "See the caveats in the documentation: https://pandas.pydata.org/pandas-docs/stable/user_guide/indexing.html#returning-a-view-versus-a-copy\n",
      "  final_df['prediction'] = top_l1m_list\n"
     ]
    },
    {
     "data": {
      "text/html": [
       "<div>\n",
       "<style scoped>\n",
       "    .dataframe tbody tr th:only-of-type {\n",
       "        vertical-align: middle;\n",
       "    }\n",
       "\n",
       "    .dataframe tbody tr th {\n",
       "        vertical-align: top;\n",
       "    }\n",
       "\n",
       "    .dataframe thead th {\n",
       "        text-align: right;\n",
       "    }\n",
       "</style>\n",
       "<table border=\"1\" class=\"dataframe\">\n",
       "  <thead>\n",
       "    <tr style=\"text-align: right;\">\n",
       "      <th></th>\n",
       "      <th>customer_id</th>\n",
       "      <th>prediction</th>\n",
       "    </tr>\n",
       "  </thead>\n",
       "  <tbody>\n",
       "    <tr>\n",
       "      <th>0</th>\n",
       "      <td>00000dbacae5abe5e23885899a1fa44253a17956c6d1c3...</td>\n",
       "      <td>0751471001 0918292001 0915526001 0706016001 09...</td>\n",
       "    </tr>\n",
       "    <tr>\n",
       "      <th>1</th>\n",
       "      <td>0000423b00ade91418cceaf3b26c6af3dd342b51fd051e...</td>\n",
       "      <td>0751471001 0918292001 0915526001 0706016001 09...</td>\n",
       "    </tr>\n",
       "    <tr>\n",
       "      <th>2</th>\n",
       "      <td>000058a12d5b43e67d225668fa1f8d618c13dc232df0ca...</td>\n",
       "      <td>0751471001 0918292001 0915526001 0706016001 09...</td>\n",
       "    </tr>\n",
       "    <tr>\n",
       "      <th>3</th>\n",
       "      <td>00005ca1c9ed5f5146b52ac8639a40ca9d57aeff4d1bd2...</td>\n",
       "      <td>0751471001 0918292001 0915526001 0706016001 09...</td>\n",
       "    </tr>\n",
       "    <tr>\n",
       "      <th>4</th>\n",
       "      <td>00006413d8573cd20ed7128e53b7b13819fe5cfc2d801f...</td>\n",
       "      <td>0751471001 0918292001 0915526001 0706016001 09...</td>\n",
       "    </tr>\n",
       "  </tbody>\n",
       "</table>\n",
       "</div>"
      ],
      "text/plain": [
       "                                         customer_id  \\\n",
       "0  00000dbacae5abe5e23885899a1fa44253a17956c6d1c3...   \n",
       "1  0000423b00ade91418cceaf3b26c6af3dd342b51fd051e...   \n",
       "2  000058a12d5b43e67d225668fa1f8d618c13dc232df0ca...   \n",
       "3  00005ca1c9ed5f5146b52ac8639a40ca9d57aeff4d1bd2...   \n",
       "4  00006413d8573cd20ed7128e53b7b13819fe5cfc2d801f...   \n",
       "\n",
       "                                          prediction  \n",
       "0  0751471001 0918292001 0915526001 0706016001 09...  \n",
       "1  0751471001 0918292001 0915526001 0706016001 09...  \n",
       "2  0751471001 0918292001 0915526001 0706016001 09...  \n",
       "3  0751471001 0918292001 0915526001 0706016001 09...  \n",
       "4  0751471001 0918292001 0915526001 0706016001 09...  "
      ]
     },
     "execution_count": 33,
     "metadata": {},
     "output_type": "execute_result"
    }
   ],
   "source": [
    "# start_dt =  datetime.datetime(2020,9,15)\n",
    "end_dt =  datetime.datetime(2020,9,15)\n",
    "start_dt = end_dt - timedelta(30)\n",
    "\n",
    "\n",
    "\n",
    "temp_tran = trans[(trans.t_dat > start_dt) & (trans.t_dat <= end_dt)]\n",
    "print('Min date: ', temp_tran.t_dat.min())\n",
    "print('Max date: ', temp_tran.t_dat.max())\n",
    "print(f'Total Customers: {temp_tran.customer_id.nunique()}')\n",
    "\n",
    "top_l1m = pd.DataFrame(temp_tran.groupby(['article_id']).agg({'customer_id':'nunique'})\\\n",
    "                        .rename(columns={'customer_id':'total_customers'})\\\n",
    "                        .sort_values(by=['total_customers'],ascending=False)\\\n",
    "                        .reset_index()\n",
    "                      )\n",
    "top_l1m_list = list(top_l1m.iloc[:12]['article_id'])\n",
    "top_l1m_list = ' '.join(top_l1m_list)\n",
    "final_df = customers[[\"customer_id\"]]\n",
    "final_df['prediction'] = top_l1m_list\n",
    "\n",
    "final_df.head()"
   ]
  },
  {
   "cell_type": "code",
   "execution_count": 34,
   "id": "148027d0",
   "metadata": {
    "ExecuteTime": {
     "end_time": "2022-05-05T12:34:05.833455Z",
     "start_time": "2022-05-05T12:34:00.663969Z"
    }
   },
   "outputs": [],
   "source": [
    "final_df.to_csv(os.path.join(path,'top_l1m.csv'),index=False)"
   ]
  },
  {
   "cell_type": "markdown",
   "id": "4b5ca232",
   "metadata": {},
   "source": [
    "## Top L6Y"
   ]
  },
  {
   "cell_type": "code",
   "execution_count": 35,
   "id": "9c460f96",
   "metadata": {
    "ExecuteTime": {
     "end_time": "2022-05-05T12:34:14.412392Z",
     "start_time": "2022-05-05T12:34:05.834365Z"
    }
   },
   "outputs": [
    {
     "name": "stdout",
     "output_type": "stream",
     "text": [
      "Min date:  2020-03-20 00:00:00\n",
      "Max date:  2020-09-15 00:00:00\n",
      "Total Customers: 738206\n"
     ]
    },
    {
     "name": "stderr",
     "output_type": "stream",
     "text": [
      "<ipython-input-35-4904e2c9dc73>:20: SettingWithCopyWarning: \n",
      "A value is trying to be set on a copy of a slice from a DataFrame.\n",
      "Try using .loc[row_indexer,col_indexer] = value instead\n",
      "\n",
      "See the caveats in the documentation: https://pandas.pydata.org/pandas-docs/stable/user_guide/indexing.html#returning-a-view-versus-a-copy\n",
      "  final_df['prediction'] = top_l6m_list\n"
     ]
    },
    {
     "data": {
      "text/html": [
       "<div>\n",
       "<style scoped>\n",
       "    .dataframe tbody tr th:only-of-type {\n",
       "        vertical-align: middle;\n",
       "    }\n",
       "\n",
       "    .dataframe tbody tr th {\n",
       "        vertical-align: top;\n",
       "    }\n",
       "\n",
       "    .dataframe thead th {\n",
       "        text-align: right;\n",
       "    }\n",
       "</style>\n",
       "<table border=\"1\" class=\"dataframe\">\n",
       "  <thead>\n",
       "    <tr style=\"text-align: right;\">\n",
       "      <th></th>\n",
       "      <th>customer_id</th>\n",
       "      <th>prediction</th>\n",
       "    </tr>\n",
       "  </thead>\n",
       "  <tbody>\n",
       "    <tr>\n",
       "      <th>0</th>\n",
       "      <td>00000dbacae5abe5e23885899a1fa44253a17956c6d1c3...</td>\n",
       "      <td>0610776002 0706016001 0759871002 0372860002 06...</td>\n",
       "    </tr>\n",
       "    <tr>\n",
       "      <th>1</th>\n",
       "      <td>0000423b00ade91418cceaf3b26c6af3dd342b51fd051e...</td>\n",
       "      <td>0610776002 0706016001 0759871002 0372860002 06...</td>\n",
       "    </tr>\n",
       "    <tr>\n",
       "      <th>2</th>\n",
       "      <td>000058a12d5b43e67d225668fa1f8d618c13dc232df0ca...</td>\n",
       "      <td>0610776002 0706016001 0759871002 0372860002 06...</td>\n",
       "    </tr>\n",
       "    <tr>\n",
       "      <th>3</th>\n",
       "      <td>00005ca1c9ed5f5146b52ac8639a40ca9d57aeff4d1bd2...</td>\n",
       "      <td>0610776002 0706016001 0759871002 0372860002 06...</td>\n",
       "    </tr>\n",
       "    <tr>\n",
       "      <th>4</th>\n",
       "      <td>00006413d8573cd20ed7128e53b7b13819fe5cfc2d801f...</td>\n",
       "      <td>0610776002 0706016001 0759871002 0372860002 06...</td>\n",
       "    </tr>\n",
       "  </tbody>\n",
       "</table>\n",
       "</div>"
      ],
      "text/plain": [
       "                                         customer_id  \\\n",
       "0  00000dbacae5abe5e23885899a1fa44253a17956c6d1c3...   \n",
       "1  0000423b00ade91418cceaf3b26c6af3dd342b51fd051e...   \n",
       "2  000058a12d5b43e67d225668fa1f8d618c13dc232df0ca...   \n",
       "3  00005ca1c9ed5f5146b52ac8639a40ca9d57aeff4d1bd2...   \n",
       "4  00006413d8573cd20ed7128e53b7b13819fe5cfc2d801f...   \n",
       "\n",
       "                                          prediction  \n",
       "0  0610776002 0706016001 0759871002 0372860002 06...  \n",
       "1  0610776002 0706016001 0759871002 0372860002 06...  \n",
       "2  0610776002 0706016001 0759871002 0372860002 06...  \n",
       "3  0610776002 0706016001 0759871002 0372860002 06...  \n",
       "4  0610776002 0706016001 0759871002 0372860002 06...  "
      ]
     },
     "execution_count": 35,
     "metadata": {},
     "output_type": "execute_result"
    }
   ],
   "source": [
    "# start_dt =  datetime.datetime(2020,9,15)\n",
    "end_dt =  datetime.datetime(2020,9,15)\n",
    "start_dt = end_dt - timedelta(180)\n",
    "\n",
    "\n",
    "\n",
    "temp_tran = trans[(trans.t_dat > start_dt) & (trans.t_dat <= end_dt)]\n",
    "print('Min date: ', temp_tran.t_dat.min())\n",
    "print('Max date: ', temp_tran.t_dat.max())\n",
    "print(f'Total Customers: {temp_tran.customer_id.nunique()}')\n",
    "\n",
    "top_l6m = pd.DataFrame(temp_tran.groupby(['article_id']).agg({'customer_id':'nunique'})\\\n",
    "                        .rename(columns={'customer_id':'total_customers'})\\\n",
    "                        .sort_values(by=['total_customers'],ascending=False)\\\n",
    "                        .reset_index()\n",
    "                      )\n",
    "top_l6m_list = list(top_l6m.iloc[:12]['article_id'])\n",
    "top_l6m_list = ' '.join(top_l6m_list)\n",
    "final_df = customers[[\"customer_id\"]]\n",
    "final_df['prediction'] = top_l6m_list\n",
    "\n",
    "final_df.head()"
   ]
  },
  {
   "cell_type": "code",
   "execution_count": 36,
   "id": "6bd98a12",
   "metadata": {
    "ExecuteTime": {
     "end_time": "2022-05-05T12:34:19.531943Z",
     "start_time": "2022-05-05T12:34:14.414304Z"
    }
   },
   "outputs": [],
   "source": [
    "final_df.to_csv(os.path.join(path,'top_l6m.csv'),index=False)"
   ]
  }
 ],
 "metadata": {
  "kernelspec": {
   "display_name": "Python 3",
   "language": "python",
   "name": "python3"
  },
  "language_info": {
   "codemirror_mode": {
    "name": "ipython",
    "version": 3
   },
   "file_extension": ".py",
   "mimetype": "text/x-python",
   "name": "python",
   "nbconvert_exporter": "python",
   "pygments_lexer": "ipython3",
   "version": "3.8.8"
  },
  "toc": {
   "base_numbering": 1,
   "nav_menu": {},
   "number_sections": true,
   "sideBar": true,
   "skip_h1_title": false,
   "title_cell": "Table of Contents",
   "title_sidebar": "Contents",
   "toc_cell": false,
   "toc_position": {},
   "toc_section_display": true,
   "toc_window_display": false
  },
  "varInspector": {
   "cols": {
    "lenName": 16,
    "lenType": 16,
    "lenVar": 40
   },
   "kernels_config": {
    "python": {
     "delete_cmd_postfix": "",
     "delete_cmd_prefix": "del ",
     "library": "var_list.py",
     "varRefreshCmd": "print(var_dic_list())"
    },
    "r": {
     "delete_cmd_postfix": ") ",
     "delete_cmd_prefix": "rm(",
     "library": "var_list.r",
     "varRefreshCmd": "cat(var_dic_list()) "
    }
   },
   "types_to_exclude": [
    "module",
    "function",
    "builtin_function_or_method",
    "instance",
    "_Feature"
   ],
   "window_display": false
  }
 },
 "nbformat": 4,
 "nbformat_minor": 5
}
