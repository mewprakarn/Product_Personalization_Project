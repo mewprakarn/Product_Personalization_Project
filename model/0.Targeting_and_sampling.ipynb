{
 "cells": [
  {
   "cell_type": "code",
   "execution_count": 1,
   "id": "dfcd59a7",
   "metadata": {
    "ExecuteTime": {
     "end_time": "2022-04-03T09:05:41.486506Z",
     "start_time": "2022-04-03T09:05:40.824928Z"
    }
   },
   "outputs": [],
   "source": [
    "import os \n",
    "import numpy as np\n",
    "import pandas as pd\n",
    "from datetime import date, timedelta\n",
    "\n",
    "\n",
    "import matplotlib.pyplot as plt\n",
    "pd.set_option('display.float_format', lambda x: '%.4f' % x)"
   ]
  },
  {
   "cell_type": "markdown",
   "id": "e2699129",
   "metadata": {},
   "source": [
    "## Load Data"
   ]
  },
  {
   "cell_type": "code",
   "execution_count": 2,
   "id": "71f53ea3",
   "metadata": {
    "ExecuteTime": {
     "end_time": "2022-04-03T09:05:41.794866Z",
     "start_time": "2022-04-03T09:05:41.487626Z"
    }
   },
   "outputs": [
    {
     "data": {
      "text/html": [
       "<div>\n",
       "<style scoped>\n",
       "    .dataframe tbody tr th:only-of-type {\n",
       "        vertical-align: middle;\n",
       "    }\n",
       "\n",
       "    .dataframe tbody tr th {\n",
       "        vertical-align: top;\n",
       "    }\n",
       "\n",
       "    .dataframe thead th {\n",
       "        text-align: right;\n",
       "    }\n",
       "</style>\n",
       "<table border=\"1\" class=\"dataframe\">\n",
       "  <thead>\n",
       "    <tr style=\"text-align: right;\">\n",
       "      <th></th>\n",
       "      <th>t_dat</th>\n",
       "      <th>customer_id</th>\n",
       "      <th>article_id</th>\n",
       "      <th>price</th>\n",
       "      <th>sales_channel_id</th>\n",
       "    </tr>\n",
       "  </thead>\n",
       "  <tbody>\n",
       "    <tr>\n",
       "      <th>0</th>\n",
       "      <td>2018-09-20</td>\n",
       "      <td>2</td>\n",
       "      <td>663713001</td>\n",
       "      <td>0.0508</td>\n",
       "      <td>2</td>\n",
       "    </tr>\n",
       "    <tr>\n",
       "      <th>1</th>\n",
       "      <td>2018-09-20</td>\n",
       "      <td>2</td>\n",
       "      <td>541518023</td>\n",
       "      <td>0.0305</td>\n",
       "      <td>2</td>\n",
       "    </tr>\n",
       "    <tr>\n",
       "      <th>2</th>\n",
       "      <td>2018-09-20</td>\n",
       "      <td>7</td>\n",
       "      <td>505221004</td>\n",
       "      <td>0.0152</td>\n",
       "      <td>2</td>\n",
       "    </tr>\n",
       "    <tr>\n",
       "      <th>3</th>\n",
       "      <td>2018-09-20</td>\n",
       "      <td>7</td>\n",
       "      <td>685687003</td>\n",
       "      <td>0.0169</td>\n",
       "      <td>2</td>\n",
       "    </tr>\n",
       "    <tr>\n",
       "      <th>4</th>\n",
       "      <td>2018-09-20</td>\n",
       "      <td>7</td>\n",
       "      <td>685687004</td>\n",
       "      <td>0.0169</td>\n",
       "      <td>2</td>\n",
       "    </tr>\n",
       "  </tbody>\n",
       "</table>\n",
       "</div>"
      ],
      "text/plain": [
       "       t_dat  customer_id  article_id  price  sales_channel_id\n",
       "0 2018-09-20            2   663713001 0.0508                 2\n",
       "1 2018-09-20            2   541518023 0.0305                 2\n",
       "2 2018-09-20            7   505221004 0.0152                 2\n",
       "3 2018-09-20            7   685687003 0.0169                 2\n",
       "4 2018-09-20            7   685687004 0.0169                 2"
      ]
     },
     "execution_count": 2,
     "metadata": {},
     "output_type": "execute_result"
    }
   ],
   "source": [
    "path = '../data/processed'\n",
    "df = pd.read_pickle(os.path.join(path,'transactions.pkl'))\n",
    "df.head()"
   ]
  },
  {
   "cell_type": "markdown",
   "id": "c2fa43e0",
   "metadata": {},
   "source": [
    "## Target Matrix\n",
    "- cus_id\n",
    "- week_start\n",
    "- week_end\n",
    "- purchased_product_list\n",
    "- total_price"
   ]
  },
  {
   "cell_type": "code",
   "execution_count": 3,
   "id": "f6a10650",
   "metadata": {
    "ExecuteTime": {
     "end_time": "2022-04-03T09:05:41.899510Z",
     "start_time": "2022-04-03T09:05:41.795826Z"
    }
   },
   "outputs": [
    {
     "name": "stdout",
     "output_type": "stream",
     "text": [
      "First transaction:  2018-09-20 00:00:00\n",
      "Last transaction:  2020-09-22 00:00:00\n"
     ]
    }
   ],
   "source": [
    "print('First transaction: ', df.t_dat.min())\n",
    "print('Last transaction: ',df.t_dat.max())"
   ]
  },
  {
   "cell_type": "code",
   "execution_count": 4,
   "id": "d69afc3f",
   "metadata": {
    "ExecuteTime": {
     "end_time": "2022-04-03T09:05:56.603926Z",
     "start_time": "2022-04-03T09:05:41.901050Z"
    }
   },
   "outputs": [
    {
     "data": {
      "text/html": [
       "<div>\n",
       "<style scoped>\n",
       "    .dataframe tbody tr th:only-of-type {\n",
       "        vertical-align: middle;\n",
       "    }\n",
       "\n",
       "    .dataframe tbody tr th {\n",
       "        vertical-align: top;\n",
       "    }\n",
       "\n",
       "    .dataframe thead th {\n",
       "        text-align: right;\n",
       "    }\n",
       "</style>\n",
       "<table border=\"1\" class=\"dataframe\">\n",
       "  <thead>\n",
       "    <tr style=\"text-align: right;\">\n",
       "      <th></th>\n",
       "      <th>t_dat</th>\n",
       "      <th>customer_id</th>\n",
       "      <th>article_id</th>\n",
       "      <th>price</th>\n",
       "      <th>sales_channel_id</th>\n",
       "      <th>week</th>\n",
       "      <th>year</th>\n",
       "      <th>week_start</th>\n",
       "      <th>week_end</th>\n",
       "    </tr>\n",
       "  </thead>\n",
       "  <tbody>\n",
       "    <tr>\n",
       "      <th>0</th>\n",
       "      <td>2018-09-20</td>\n",
       "      <td>2</td>\n",
       "      <td>663713001</td>\n",
       "      <td>0.0508</td>\n",
       "      <td>2</td>\n",
       "      <td>38</td>\n",
       "      <td>2018</td>\n",
       "      <td>2018-09-17</td>\n",
       "      <td>2018-09-23</td>\n",
       "    </tr>\n",
       "    <tr>\n",
       "      <th>1</th>\n",
       "      <td>2018-09-20</td>\n",
       "      <td>2</td>\n",
       "      <td>541518023</td>\n",
       "      <td>0.0305</td>\n",
       "      <td>2</td>\n",
       "      <td>38</td>\n",
       "      <td>2018</td>\n",
       "      <td>2018-09-17</td>\n",
       "      <td>2018-09-23</td>\n",
       "    </tr>\n",
       "    <tr>\n",
       "      <th>2</th>\n",
       "      <td>2018-09-20</td>\n",
       "      <td>7</td>\n",
       "      <td>505221004</td>\n",
       "      <td>0.0152</td>\n",
       "      <td>2</td>\n",
       "      <td>38</td>\n",
       "      <td>2018</td>\n",
       "      <td>2018-09-17</td>\n",
       "      <td>2018-09-23</td>\n",
       "    </tr>\n",
       "    <tr>\n",
       "      <th>3</th>\n",
       "      <td>2018-09-20</td>\n",
       "      <td>7</td>\n",
       "      <td>685687003</td>\n",
       "      <td>0.0169</td>\n",
       "      <td>2</td>\n",
       "      <td>38</td>\n",
       "      <td>2018</td>\n",
       "      <td>2018-09-17</td>\n",
       "      <td>2018-09-23</td>\n",
       "    </tr>\n",
       "    <tr>\n",
       "      <th>4</th>\n",
       "      <td>2018-09-20</td>\n",
       "      <td>7</td>\n",
       "      <td>685687004</td>\n",
       "      <td>0.0169</td>\n",
       "      <td>2</td>\n",
       "      <td>38</td>\n",
       "      <td>2018</td>\n",
       "      <td>2018-09-17</td>\n",
       "      <td>2018-09-23</td>\n",
       "    </tr>\n",
       "  </tbody>\n",
       "</table>\n",
       "</div>"
      ],
      "text/plain": [
       "       t_dat  customer_id  article_id  price  sales_channel_id  week  year  \\\n",
       "0 2018-09-20            2   663713001 0.0508                 2    38  2018   \n",
       "1 2018-09-20            2   541518023 0.0305                 2    38  2018   \n",
       "2 2018-09-20            7   505221004 0.0152                 2    38  2018   \n",
       "3 2018-09-20            7   685687003 0.0169                 2    38  2018   \n",
       "4 2018-09-20            7   685687004 0.0169                 2    38  2018   \n",
       "\n",
       "  week_start   week_end  \n",
       "0 2018-09-17 2018-09-23  \n",
       "1 2018-09-17 2018-09-23  \n",
       "2 2018-09-17 2018-09-23  \n",
       "3 2018-09-17 2018-09-23  \n",
       "4 2018-09-17 2018-09-23  "
      ]
     },
     "execution_count": 4,
     "metadata": {},
     "output_type": "execute_result"
    }
   ],
   "source": [
    "df['week'] = df['t_dat'].dt.isocalendar().week \n",
    "df['year'] = df['t_dat'].dt.year\n",
    "df['week_start'] = df['t_dat'].dt.to_period('W').apply(lambda r: r.start_time)\n",
    "df['week_end'] = df['t_dat'].dt.to_period('W').apply(lambda r: r.end_time).dt.normalize()\n",
    "df.head()"
   ]
  },
  {
   "cell_type": "markdown",
   "id": "24d44f52",
   "metadata": {},
   "source": [
    "### purchased_product_list"
   ]
  },
  {
   "cell_type": "code",
   "execution_count": 5,
   "id": "314cca50",
   "metadata": {
    "ExecuteTime": {
     "end_time": "2022-04-03T09:08:14.618171Z",
     "start_time": "2022-04-03T09:05:56.606023Z"
    }
   },
   "outputs": [
    {
     "data": {
      "text/html": [
       "<div>\n",
       "<style scoped>\n",
       "    .dataframe tbody tr th:only-of-type {\n",
       "        vertical-align: middle;\n",
       "    }\n",
       "\n",
       "    .dataframe tbody tr th {\n",
       "        vertical-align: top;\n",
       "    }\n",
       "\n",
       "    .dataframe thead th {\n",
       "        text-align: right;\n",
       "    }\n",
       "</style>\n",
       "<table border=\"1\" class=\"dataframe\">\n",
       "  <thead>\n",
       "    <tr style=\"text-align: right;\">\n",
       "      <th></th>\n",
       "      <th>customer_id</th>\n",
       "      <th>week</th>\n",
       "      <th>year</th>\n",
       "      <th>weekly_purchased_products</th>\n",
       "    </tr>\n",
       "  </thead>\n",
       "  <tbody>\n",
       "    <tr>\n",
       "      <th>0</th>\n",
       "      <td>0</td>\n",
       "      <td>12</td>\n",
       "      <td>2020</td>\n",
       "      <td>[795440001, 841260003, 887593002, 859416011, 8...</td>\n",
       "    </tr>\n",
       "    <tr>\n",
       "      <th>1</th>\n",
       "      <td>0</td>\n",
       "      <td>18</td>\n",
       "      <td>2019</td>\n",
       "      <td>[697138006]</td>\n",
       "    </tr>\n",
       "    <tr>\n",
       "      <th>2</th>\n",
       "      <td>0</td>\n",
       "      <td>21</td>\n",
       "      <td>2019</td>\n",
       "      <td>[568601006]</td>\n",
       "    </tr>\n",
       "    <tr>\n",
       "      <th>3</th>\n",
       "      <td>0</td>\n",
       "      <td>30</td>\n",
       "      <td>2019</td>\n",
       "      <td>[607642008, 745232001]</td>\n",
       "    </tr>\n",
       "    <tr>\n",
       "      <th>4</th>\n",
       "      <td>0</td>\n",
       "      <td>36</td>\n",
       "      <td>2020</td>\n",
       "      <td>[568601043]</td>\n",
       "    </tr>\n",
       "  </tbody>\n",
       "</table>\n",
       "</div>"
      ],
      "text/plain": [
       "   customer_id  week  year                          weekly_purchased_products\n",
       "0            0    12  2020  [795440001, 841260003, 887593002, 859416011, 8...\n",
       "1            0    18  2019                                        [697138006]\n",
       "2            0    21  2019                                        [568601006]\n",
       "3            0    30  2019                             [607642008, 745232001]\n",
       "4            0    36  2020                                        [568601043]"
      ]
     },
     "execution_count": 5,
     "metadata": {},
     "output_type": "execute_result"
    }
   ],
   "source": [
    "weekly_purchased = pd.DataFrame(df.groupby(['customer_id','week','year'])['article_id'].apply(lambda x: list(set(x))))\\\n",
    "                        .reset_index()\\\n",
    "                        .rename(columns={'article_id':'weekly_purchased_products'})\n",
    "# weekly_purchased['weekly_purchased_products'] = weekly_purchased['weekly_purchased_products'].apply(lambda x: list(set(x)))\n",
    "weekly_purchased.head()"
   ]
  },
  {
   "cell_type": "markdown",
   "id": "793fe322",
   "metadata": {},
   "source": [
    "### total_price"
   ]
  },
  {
   "cell_type": "code",
   "execution_count": 6,
   "id": "d9ea3d96",
   "metadata": {
    "ExecuteTime": {
     "end_time": "2022-04-03T09:08:21.760265Z",
     "start_time": "2022-04-03T09:08:14.619272Z"
    }
   },
   "outputs": [
    {
     "data": {
      "text/html": [
       "<div>\n",
       "<style scoped>\n",
       "    .dataframe tbody tr th:only-of-type {\n",
       "        vertical-align: middle;\n",
       "    }\n",
       "\n",
       "    .dataframe tbody tr th {\n",
       "        vertical-align: top;\n",
       "    }\n",
       "\n",
       "    .dataframe thead th {\n",
       "        text-align: right;\n",
       "    }\n",
       "</style>\n",
       "<table border=\"1\" class=\"dataframe\">\n",
       "  <thead>\n",
       "    <tr style=\"text-align: right;\">\n",
       "      <th></th>\n",
       "      <th>customer_id</th>\n",
       "      <th>week</th>\n",
       "      <th>year</th>\n",
       "      <th>total_articles</th>\n",
       "      <th>total_amount</th>\n",
       "    </tr>\n",
       "  </thead>\n",
       "  <tbody>\n",
       "    <tr>\n",
       "      <th>0</th>\n",
       "      <td>0</td>\n",
       "      <td>12</td>\n",
       "      <td>2020</td>\n",
       "      <td>5</td>\n",
       "      <td>0.0936</td>\n",
       "    </tr>\n",
       "    <tr>\n",
       "      <th>1</th>\n",
       "      <td>0</td>\n",
       "      <td>18</td>\n",
       "      <td>2019</td>\n",
       "      <td>1</td>\n",
       "      <td>0.0102</td>\n",
       "    </tr>\n",
       "    <tr>\n",
       "      <th>2</th>\n",
       "      <td>0</td>\n",
       "      <td>21</td>\n",
       "      <td>2019</td>\n",
       "      <td>2</td>\n",
       "      <td>0.1017</td>\n",
       "    </tr>\n",
       "    <tr>\n",
       "      <th>3</th>\n",
       "      <td>0</td>\n",
       "      <td>30</td>\n",
       "      <td>2019</td>\n",
       "      <td>2</td>\n",
       "      <td>0.0339</td>\n",
       "    </tr>\n",
       "    <tr>\n",
       "      <th>4</th>\n",
       "      <td>0</td>\n",
       "      <td>36</td>\n",
       "      <td>2020</td>\n",
       "      <td>1</td>\n",
       "      <td>0.0508</td>\n",
       "    </tr>\n",
       "  </tbody>\n",
       "</table>\n",
       "</div>"
      ],
      "text/plain": [
       "   customer_id  week  year  total_articles  total_amount\n",
       "0            0    12  2020               5        0.0936\n",
       "1            0    18  2019               1        0.0102\n",
       "2            0    21  2019               2        0.1017\n",
       "3            0    30  2019               2        0.0339\n",
       "4            0    36  2020               1        0.0508"
      ]
     },
     "execution_count": 6,
     "metadata": {},
     "output_type": "execute_result"
    }
   ],
   "source": [
    "total_price = df.groupby(['customer_id','week','year'])\\\n",
    "                .agg({'article_id':'count','price':sum})\\\n",
    "                .reset_index()\\\n",
    "                .rename(columns={'article_id':'total_articles','price':'total_amount'})\n",
    "total_price.head()"
   ]
  },
  {
   "cell_type": "markdown",
   "id": "a67dea47",
   "metadata": {},
   "source": [
    "### Final DataFrame"
   ]
  },
  {
   "cell_type": "code",
   "execution_count": 7,
   "id": "3337dd12",
   "metadata": {
    "ExecuteTime": {
     "end_time": "2022-04-03T09:08:25.417465Z",
     "start_time": "2022-04-03T09:08:21.761799Z"
    }
   },
   "outputs": [
    {
     "data": {
      "text/html": [
       "<div>\n",
       "<style scoped>\n",
       "    .dataframe tbody tr th:only-of-type {\n",
       "        vertical-align: middle;\n",
       "    }\n",
       "\n",
       "    .dataframe tbody tr th {\n",
       "        vertical-align: top;\n",
       "    }\n",
       "\n",
       "    .dataframe thead th {\n",
       "        text-align: right;\n",
       "    }\n",
       "</style>\n",
       "<table border=\"1\" class=\"dataframe\">\n",
       "  <thead>\n",
       "    <tr style=\"text-align: right;\">\n",
       "      <th></th>\n",
       "      <th>customer_id</th>\n",
       "      <th>week</th>\n",
       "      <th>year</th>\n",
       "      <th>total_articles</th>\n",
       "      <th>total_amount</th>\n",
       "      <th>weekly_purchased_products</th>\n",
       "    </tr>\n",
       "  </thead>\n",
       "  <tbody>\n",
       "    <tr>\n",
       "      <th>0</th>\n",
       "      <td>0</td>\n",
       "      <td>12</td>\n",
       "      <td>2020</td>\n",
       "      <td>5</td>\n",
       "      <td>0.0936</td>\n",
       "      <td>[795440001, 841260003, 887593002, 859416011, 8...</td>\n",
       "    </tr>\n",
       "    <tr>\n",
       "      <th>1</th>\n",
       "      <td>0</td>\n",
       "      <td>18</td>\n",
       "      <td>2019</td>\n",
       "      <td>1</td>\n",
       "      <td>0.0102</td>\n",
       "      <td>[697138006]</td>\n",
       "    </tr>\n",
       "    <tr>\n",
       "      <th>2</th>\n",
       "      <td>0</td>\n",
       "      <td>21</td>\n",
       "      <td>2019</td>\n",
       "      <td>2</td>\n",
       "      <td>0.1017</td>\n",
       "      <td>[568601006]</td>\n",
       "    </tr>\n",
       "    <tr>\n",
       "      <th>3</th>\n",
       "      <td>0</td>\n",
       "      <td>30</td>\n",
       "      <td>2019</td>\n",
       "      <td>2</td>\n",
       "      <td>0.0339</td>\n",
       "      <td>[607642008, 745232001]</td>\n",
       "    </tr>\n",
       "    <tr>\n",
       "      <th>4</th>\n",
       "      <td>0</td>\n",
       "      <td>36</td>\n",
       "      <td>2020</td>\n",
       "      <td>1</td>\n",
       "      <td>0.0508</td>\n",
       "      <td>[568601043]</td>\n",
       "    </tr>\n",
       "  </tbody>\n",
       "</table>\n",
       "</div>"
      ],
      "text/plain": [
       "   customer_id  week  year  total_articles  total_amount  \\\n",
       "0            0    12  2020               5        0.0936   \n",
       "1            0    18  2019               1        0.0102   \n",
       "2            0    21  2019               2        0.1017   \n",
       "3            0    30  2019               2        0.0339   \n",
       "4            0    36  2020               1        0.0508   \n",
       "\n",
       "                           weekly_purchased_products  \n",
       "0  [795440001, 841260003, 887593002, 859416011, 8...  \n",
       "1                                        [697138006]  \n",
       "2                                        [568601006]  \n",
       "3                             [607642008, 745232001]  \n",
       "4                                        [568601043]  "
      ]
     },
     "execution_count": 7,
     "metadata": {},
     "output_type": "execute_result"
    }
   ],
   "source": [
    "final_df = total_price.merge(weekly_purchased,on=['customer_id','week','year'],how='left')\n",
    "final_df.head()"
   ]
  },
  {
   "cell_type": "code",
   "execution_count": 8,
   "id": "5b751969",
   "metadata": {
    "ExecuteTime": {
     "end_time": "2022-04-03T09:08:25.425583Z",
     "start_time": "2022-04-03T09:08:25.418431Z"
    }
   },
   "outputs": [
    {
     "name": "stdout",
     "output_type": "stream",
     "text": [
      "<class 'pandas.core.frame.DataFrame'>\n",
      "Int64Index: 8090355 entries, 0 to 8090354\n",
      "Data columns (total 6 columns):\n",
      " #   Column                     Dtype  \n",
      "---  ------                     -----  \n",
      " 0   customer_id                int64  \n",
      " 1   week                       UInt32 \n",
      " 2   year                       int64  \n",
      " 3   total_articles             int64  \n",
      " 4   total_amount               float32\n",
      " 5   weekly_purchased_products  object \n",
      "dtypes: UInt32(1), float32(1), int64(3), object(1)\n",
      "memory usage: 378.1+ MB\n"
     ]
    }
   ],
   "source": [
    "final_df.info()"
   ]
  },
  {
   "cell_type": "code",
   "execution_count": 9,
   "id": "d44e1e38",
   "metadata": {
    "ExecuteTime": {
     "end_time": "2022-04-03T09:08:28.922559Z",
     "start_time": "2022-04-03T09:08:25.426618Z"
    }
   },
   "outputs": [],
   "source": [
    "final_df.to_pickle(os.path.join(path,'weekly_target.pkl'))"
   ]
  },
  {
   "cell_type": "markdown",
   "id": "c47ee22a",
   "metadata": {},
   "source": [
    "## Sampling Data\n",
    "- Exclude cold-start customers and one-transaction customers\n",
    "- Exclude customers with outlier transaction\n"
   ]
  },
  {
   "cell_type": "code",
   "execution_count": 10,
   "id": "85679d1c",
   "metadata": {
    "ExecuteTime": {
     "end_time": "2022-04-03T09:08:29.747158Z",
     "start_time": "2022-04-03T09:08:28.925408Z"
    },
    "scrolled": true
   },
   "outputs": [
    {
     "data": {
      "text/html": [
       "<div>\n",
       "<style scoped>\n",
       "    .dataframe tbody tr th:only-of-type {\n",
       "        vertical-align: middle;\n",
       "    }\n",
       "\n",
       "    .dataframe tbody tr th {\n",
       "        vertical-align: top;\n",
       "    }\n",
       "\n",
       "    .dataframe thead th {\n",
       "        text-align: right;\n",
       "    }\n",
       "</style>\n",
       "<table border=\"1\" class=\"dataframe\">\n",
       "  <thead>\n",
       "    <tr style=\"text-align: right;\">\n",
       "      <th></th>\n",
       "      <th>customer_id</th>\n",
       "      <th>FN</th>\n",
       "      <th>Active</th>\n",
       "      <th>club_member_status</th>\n",
       "      <th>fashion_news_frequency</th>\n",
       "      <th>age</th>\n",
       "      <th>postal_code</th>\n",
       "    </tr>\n",
       "  </thead>\n",
       "  <tbody>\n",
       "    <tr>\n",
       "      <th>0</th>\n",
       "      <td>0</td>\n",
       "      <td>0.0000</td>\n",
       "      <td>0.0000</td>\n",
       "      <td>ACTIVE</td>\n",
       "      <td>NONE</td>\n",
       "      <td>49.0000</td>\n",
       "      <td>52043ee2162cf5aa7ee79974281641c6f11a68d276429a...</td>\n",
       "    </tr>\n",
       "    <tr>\n",
       "      <th>1</th>\n",
       "      <td>1</td>\n",
       "      <td>0.0000</td>\n",
       "      <td>0.0000</td>\n",
       "      <td>ACTIVE</td>\n",
       "      <td>NONE</td>\n",
       "      <td>25.0000</td>\n",
       "      <td>2973abc54daa8a5f8ccfe9362140c63247c5eee03f1d93...</td>\n",
       "    </tr>\n",
       "    <tr>\n",
       "      <th>2</th>\n",
       "      <td>2</td>\n",
       "      <td>0.0000</td>\n",
       "      <td>0.0000</td>\n",
       "      <td>ACTIVE</td>\n",
       "      <td>NONE</td>\n",
       "      <td>24.0000</td>\n",
       "      <td>64f17e6a330a85798e4998f62d0930d14db8db1c054af6...</td>\n",
       "    </tr>\n",
       "    <tr>\n",
       "      <th>3</th>\n",
       "      <td>3</td>\n",
       "      <td>0.0000</td>\n",
       "      <td>0.0000</td>\n",
       "      <td>ACTIVE</td>\n",
       "      <td>NONE</td>\n",
       "      <td>54.0000</td>\n",
       "      <td>5d36574f52495e81f019b680c843c443bd343d5ca5b1c2...</td>\n",
       "    </tr>\n",
       "    <tr>\n",
       "      <th>4</th>\n",
       "      <td>4</td>\n",
       "      <td>1.0000</td>\n",
       "      <td>1.0000</td>\n",
       "      <td>ACTIVE</td>\n",
       "      <td>Regularly</td>\n",
       "      <td>52.0000</td>\n",
       "      <td>25fa5ddee9aac01b35208d01736e57942317d756b32ddd...</td>\n",
       "    </tr>\n",
       "  </tbody>\n",
       "</table>\n",
       "</div>"
      ],
      "text/plain": [
       "   customer_id     FN  Active club_member_status fashion_news_frequency  \\\n",
       "0            0 0.0000  0.0000             ACTIVE                   NONE   \n",
       "1            1 0.0000  0.0000             ACTIVE                   NONE   \n",
       "2            2 0.0000  0.0000             ACTIVE                   NONE   \n",
       "3            3 0.0000  0.0000             ACTIVE                   NONE   \n",
       "4            4 1.0000  1.0000             ACTIVE              Regularly   \n",
       "\n",
       "      age                                        postal_code  \n",
       "0 49.0000  52043ee2162cf5aa7ee79974281641c6f11a68d276429a...  \n",
       "1 25.0000  2973abc54daa8a5f8ccfe9362140c63247c5eee03f1d93...  \n",
       "2 24.0000  64f17e6a330a85798e4998f62d0930d14db8db1c054af6...  \n",
       "3 54.0000  5d36574f52495e81f019b680c843c443bd343d5ca5b1c2...  \n",
       "4 52.0000  25fa5ddee9aac01b35208d01736e57942317d756b32ddd...  "
      ]
     },
     "execution_count": 10,
     "metadata": {},
     "output_type": "execute_result"
    }
   ],
   "source": [
    "path = '../data/processed'\n",
    "trans = pd.read_pickle(os.path.join(path,'transactions.pkl'))\n",
    "customers = pd.read_pickle(os.path.join(path,'customers.pkl'))\n",
    "customers.head()"
   ]
  },
  {
   "cell_type": "code",
   "execution_count": 11,
   "id": "0546e9ac",
   "metadata": {
    "ExecuteTime": {
     "end_time": "2022-04-03T09:08:33.071047Z",
     "start_time": "2022-04-03T09:08:29.748817Z"
    }
   },
   "outputs": [
    {
     "data": {
      "text/html": [
       "<div>\n",
       "<style scoped>\n",
       "    .dataframe tbody tr th:only-of-type {\n",
       "        vertical-align: middle;\n",
       "    }\n",
       "\n",
       "    .dataframe tbody tr th {\n",
       "        vertical-align: top;\n",
       "    }\n",
       "\n",
       "    .dataframe thead th {\n",
       "        text-align: right;\n",
       "    }\n",
       "</style>\n",
       "<table border=\"1\" class=\"dataframe\">\n",
       "  <thead>\n",
       "    <tr style=\"text-align: right;\">\n",
       "      <th></th>\n",
       "      <th>customer_id</th>\n",
       "      <th>t_dat</th>\n",
       "      <th>article_id</th>\n",
       "    </tr>\n",
       "  </thead>\n",
       "  <tbody>\n",
       "    <tr>\n",
       "      <th>count</th>\n",
       "      <td>1362281.0000</td>\n",
       "      <td>1362281.0000</td>\n",
       "      <td>1362281.0000</td>\n",
       "    </tr>\n",
       "    <tr>\n",
       "      <th>mean</th>\n",
       "      <td>685950.8047</td>\n",
       "      <td>6.6654</td>\n",
       "      <td>23.3346</td>\n",
       "    </tr>\n",
       "    <tr>\n",
       "      <th>std</th>\n",
       "      <td>396054.1843</td>\n",
       "      <td>9.7070</td>\n",
       "      <td>39.2423</td>\n",
       "    </tr>\n",
       "    <tr>\n",
       "      <th>min</th>\n",
       "      <td>0.0000</td>\n",
       "      <td>1.0000</td>\n",
       "      <td>1.0000</td>\n",
       "    </tr>\n",
       "    <tr>\n",
       "      <th>10%</th>\n",
       "      <td>137164.0000</td>\n",
       "      <td>1.0000</td>\n",
       "      <td>2.0000</td>\n",
       "    </tr>\n",
       "    <tr>\n",
       "      <th>25%</th>\n",
       "      <td>342966.0000</td>\n",
       "      <td>1.0000</td>\n",
       "      <td>3.0000</td>\n",
       "    </tr>\n",
       "    <tr>\n",
       "      <th>50%</th>\n",
       "      <td>685902.0000</td>\n",
       "      <td>3.0000</td>\n",
       "      <td>9.0000</td>\n",
       "    </tr>\n",
       "    <tr>\n",
       "      <th>75%</th>\n",
       "      <td>1028907.0000</td>\n",
       "      <td>8.0000</td>\n",
       "      <td>27.0000</td>\n",
       "    </tr>\n",
       "    <tr>\n",
       "      <th>90%</th>\n",
       "      <td>1234778.0000</td>\n",
       "      <td>17.0000</td>\n",
       "      <td>60.0000</td>\n",
       "    </tr>\n",
       "    <tr>\n",
       "      <th>99%</th>\n",
       "      <td>1358255.2000</td>\n",
       "      <td>45.0000</td>\n",
       "      <td>187.0000</td>\n",
       "    </tr>\n",
       "    <tr>\n",
       "      <th>max</th>\n",
       "      <td>1371979.0000</td>\n",
       "      <td>427.0000</td>\n",
       "      <td>1895.0000</td>\n",
       "    </tr>\n",
       "  </tbody>\n",
       "</table>\n",
       "</div>"
      ],
      "text/plain": [
       "       customer_id        t_dat   article_id\n",
       "count 1362281.0000 1362281.0000 1362281.0000\n",
       "mean   685950.8047       6.6654      23.3346\n",
       "std    396054.1843       9.7070      39.2423\n",
       "min         0.0000       1.0000       1.0000\n",
       "10%    137164.0000       1.0000       2.0000\n",
       "25%    342966.0000       1.0000       3.0000\n",
       "50%    685902.0000       3.0000       9.0000\n",
       "75%   1028907.0000       8.0000      27.0000\n",
       "90%   1234778.0000      17.0000      60.0000\n",
       "99%   1358255.2000      45.0000     187.0000\n",
       "max   1371979.0000     427.0000    1895.0000"
      ]
     },
     "execution_count": 11,
     "metadata": {},
     "output_type": "execute_result"
    }
   ],
   "source": [
    "temp = trans.groupby('customer_id').agg({'t_dat':'nunique','article_id':'count'}).reset_index()\n",
    "temp.describe(percentiles=[0.1,0.25,0.5,0.75,0.9,0.99])"
   ]
  },
  {
   "cell_type": "code",
   "execution_count": 12,
   "id": "275510b1",
   "metadata": {
    "ExecuteTime": {
     "end_time": "2022-04-03T09:08:33.092627Z",
     "start_time": "2022-04-03T09:08:33.072080Z"
    }
   },
   "outputs": [
    {
     "name": "stdout",
     "output_type": "stream",
     "text": [
      "Total customers:  1362281\n",
      "Total excluded customers:  462910\n",
      "Exclusion ratio: 33.98%\n",
      "Remained customers: 899371\n"
     ]
    }
   ],
   "source": [
    "exclude_list = temp['customer_id'][(temp.t_dat<=1)|(temp.article_id>180)]\n",
    "print('Total customers: ',len(temp))\n",
    "print('Total excluded customers: ',len(exclude_list))\n",
    "print('Exclusion ratio: {:.2%}'.format(len(exclude_list)/len(temp)))\n",
    "\n",
    "print('Remained customers: {}'.format(len(temp)-len(exclude_list)))"
   ]
  },
  {
   "cell_type": "markdown",
   "id": "3d47f855",
   "metadata": {
    "ExecuteTime": {
     "end_time": "2022-04-03T08:40:45.028591Z",
     "start_time": "2022-04-03T08:40:44.915672Z"
    }
   },
   "source": [
    "### Random Sampling"
   ]
  },
  {
   "cell_type": "code",
   "execution_count": 13,
   "id": "58a55656",
   "metadata": {
    "ExecuteTime": {
     "end_time": "2022-04-03T09:08:33.228394Z",
     "start_time": "2022-04-03T09:08:33.093671Z"
    }
   },
   "outputs": [
    {
     "data": {
      "text/html": [
       "<div>\n",
       "<style scoped>\n",
       "    .dataframe tbody tr th:only-of-type {\n",
       "        vertical-align: middle;\n",
       "    }\n",
       "\n",
       "    .dataframe tbody tr th {\n",
       "        vertical-align: top;\n",
       "    }\n",
       "\n",
       "    .dataframe thead th {\n",
       "        text-align: right;\n",
       "    }\n",
       "</style>\n",
       "<table border=\"1\" class=\"dataframe\">\n",
       "  <thead>\n",
       "    <tr style=\"text-align: right;\">\n",
       "      <th></th>\n",
       "      <th>customer_id</th>\n",
       "      <th>t_dat</th>\n",
       "      <th>article_id</th>\n",
       "    </tr>\n",
       "  </thead>\n",
       "  <tbody>\n",
       "    <tr>\n",
       "      <th>count</th>\n",
       "      <td>100000.0000</td>\n",
       "      <td>100000.0000</td>\n",
       "      <td>100000.0000</td>\n",
       "    </tr>\n",
       "    <tr>\n",
       "      <th>mean</th>\n",
       "      <td>686645.6166</td>\n",
       "      <td>8.8366</td>\n",
       "      <td>29.4255</td>\n",
       "    </tr>\n",
       "    <tr>\n",
       "      <th>std</th>\n",
       "      <td>396667.9976</td>\n",
       "      <td>8.8812</td>\n",
       "      <td>31.2517</td>\n",
       "    </tr>\n",
       "    <tr>\n",
       "      <th>min</th>\n",
       "      <td>0.0000</td>\n",
       "      <td>2.0000</td>\n",
       "      <td>2.0000</td>\n",
       "    </tr>\n",
       "    <tr>\n",
       "      <th>25%</th>\n",
       "      <td>341597.5000</td>\n",
       "      <td>3.0000</td>\n",
       "      <td>8.0000</td>\n",
       "    </tr>\n",
       "    <tr>\n",
       "      <th>50%</th>\n",
       "      <td>686247.0000</td>\n",
       "      <td>6.0000</td>\n",
       "      <td>18.0000</td>\n",
       "    </tr>\n",
       "    <tr>\n",
       "      <th>75%</th>\n",
       "      <td>1030989.5000</td>\n",
       "      <td>11.0000</td>\n",
       "      <td>39.0000</td>\n",
       "    </tr>\n",
       "    <tr>\n",
       "      <th>max</th>\n",
       "      <td>1371970.0000</td>\n",
       "      <td>108.0000</td>\n",
       "      <td>180.0000</td>\n",
       "    </tr>\n",
       "  </tbody>\n",
       "</table>\n",
       "</div>"
      ],
      "text/plain": [
       "       customer_id       t_dat  article_id\n",
       "count  100000.0000 100000.0000 100000.0000\n",
       "mean   686645.6166      8.8366     29.4255\n",
       "std    396667.9976      8.8812     31.2517\n",
       "min         0.0000      2.0000      2.0000\n",
       "25%    341597.5000      3.0000      8.0000\n",
       "50%    686247.0000      6.0000     18.0000\n",
       "75%   1030989.5000     11.0000     39.0000\n",
       "max   1371970.0000    108.0000    180.0000"
      ]
     },
     "execution_count": 13,
     "metadata": {},
     "output_type": "execute_result"
    }
   ],
   "source": [
    "from random import sample\n",
    "random_list = temp['customer_id'][-temp.customer_id.isin(exclude_list)].sample(100000)\n",
    "# random_list = sample(eligible_list,100000)\n",
    "temp[temp.customer_id.isin(random_list)].describe()"
   ]
  },
  {
   "cell_type": "code",
   "execution_count": 14,
   "id": "962dd9ce",
   "metadata": {
    "ExecuteTime": {
     "end_time": "2022-04-03T09:08:35.342301Z",
     "start_time": "2022-04-03T09:08:33.229352Z"
    }
   },
   "outputs": [
    {
     "name": "stdout",
     "output_type": "stream",
     "text": [
      "First t_dat:  2018-09-20 00:00:00\n",
      "Last t_dat:  2020-09-22 00:00:00\n",
      "Total transactions:  2942549\n",
      "Total target customers: 7208 (7.21%)\n"
     ]
    }
   ],
   "source": [
    "print('First t_dat: ', trans[trans.customer_id.isin(random_list)]['t_dat'].min())\n",
    "print('Last t_dat: ', trans[trans.customer_id.isin(random_list)]['t_dat'].max())\n",
    "print('Total transactions: ', len(trans[trans.customer_id.isin(random_list)]))\n",
    "target_cus = trans['customer_id'][(trans.customer_id.isin(random_list))&(trans.t_dat >= '2020-09-15')].unique()\n",
    "print('Total target customers: {} ({:.2%})'.format(len(target_cus),len(target_cus)/len(random_list)))"
   ]
  },
  {
   "cell_type": "markdown",
   "id": "e5543dd7",
   "metadata": {},
   "source": [
    "### Save Sampling"
   ]
  },
  {
   "cell_type": "code",
   "execution_count": 15,
   "id": "8997306f",
   "metadata": {
    "ExecuteTime": {
     "end_time": "2022-04-03T09:08:35.357619Z",
     "start_time": "2022-04-03T09:08:35.343245Z"
    }
   },
   "outputs": [],
   "source": [
    "output = pd.DataFrame(target_cus,columns=['customer_id'])\n",
    "path = '../data'\n",
    "output.to_csv(os.path.join(path,'random_customer.csv'),index=False)"
   ]
  }
 ],
 "metadata": {
  "hide_input": false,
  "kernelspec": {
   "display_name": "Python 3",
   "language": "python",
   "name": "python3"
  },
  "language_info": {
   "codemirror_mode": {
    "name": "ipython",
    "version": 3
   },
   "file_extension": ".py",
   "mimetype": "text/x-python",
   "name": "python",
   "nbconvert_exporter": "python",
   "pygments_lexer": "ipython3",
   "version": "3.8.8"
  },
  "toc": {
   "base_numbering": 1,
   "nav_menu": {},
   "number_sections": true,
   "sideBar": true,
   "skip_h1_title": false,
   "title_cell": "Table of Contents",
   "title_sidebar": "Contents",
   "toc_cell": false,
   "toc_position": {
    "height": "calc(100% - 180px)",
    "left": "10px",
    "top": "150px",
    "width": "332.589px"
   },
   "toc_section_display": true,
   "toc_window_display": true
  },
  "varInspector": {
   "cols": {
    "lenName": 16,
    "lenType": 16,
    "lenVar": 40
   },
   "kernels_config": {
    "python": {
     "delete_cmd_postfix": "",
     "delete_cmd_prefix": "del ",
     "library": "var_list.py",
     "varRefreshCmd": "print(var_dic_list())"
    },
    "r": {
     "delete_cmd_postfix": ") ",
     "delete_cmd_prefix": "rm(",
     "library": "var_list.r",
     "varRefreshCmd": "cat(var_dic_list()) "
    }
   },
   "types_to_exclude": [
    "module",
    "function",
    "builtin_function_or_method",
    "instance",
    "_Feature"
   ],
   "window_display": false
  }
 },
 "nbformat": 4,
 "nbformat_minor": 5
}
