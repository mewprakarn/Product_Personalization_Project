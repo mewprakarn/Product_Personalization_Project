{
 "cells": [
  {
   "cell_type": "code",
   "execution_count": 1,
   "id": "76a96eef",
   "metadata": {
    "ExecuteTime": {
     "end_time": "2022-04-24T13:22:39.420727Z",
     "start_time": "2022-04-24T13:22:38.741894Z"
    }
   },
   "outputs": [],
   "source": [
    "import os \n",
    "import pickle\n",
    "import numpy as np\n",
    "import pandas as pd\n",
    "from datetime import date, timedelta\n",
    "\n",
    "import matplotlib.pyplot as plt\n",
    "pd.set_option('display.float_format', lambda x: '%.4f' % x)\n",
    "pd.set_option('display.max_columns', None)"
   ]
  },
  {
   "cell_type": "markdown",
   "id": "a769a8b6",
   "metadata": {},
   "source": [
    "## Load Data"
   ]
  },
  {
   "cell_type": "code",
   "execution_count": 2,
   "id": "370a326d",
   "metadata": {
    "ExecuteTime": {
     "end_time": "2022-04-24T13:22:42.310581Z",
     "start_time": "2022-04-24T13:22:39.436704Z"
    }
   },
   "outputs": [
    {
     "data": {
      "text/html": [
       "<div>\n",
       "<style scoped>\n",
       "    .dataframe tbody tr th:only-of-type {\n",
       "        vertical-align: middle;\n",
       "    }\n",
       "\n",
       "    .dataframe tbody tr th {\n",
       "        vertical-align: top;\n",
       "    }\n",
       "\n",
       "    .dataframe thead th {\n",
       "        text-align: right;\n",
       "    }\n",
       "</style>\n",
       "<table border=\"1\" class=\"dataframe\">\n",
       "  <thead>\n",
       "    <tr style=\"text-align: right;\">\n",
       "      <th></th>\n",
       "      <th>t_dat</th>\n",
       "      <th>customer_id</th>\n",
       "      <th>article_id</th>\n",
       "      <th>price</th>\n",
       "      <th>sales_channel_id</th>\n",
       "    </tr>\n",
       "  </thead>\n",
       "  <tbody>\n",
       "    <tr>\n",
       "      <th>0</th>\n",
       "      <td>2018-09-20</td>\n",
       "      <td>2</td>\n",
       "      <td>0663713001</td>\n",
       "      <td>0.0508</td>\n",
       "      <td>2</td>\n",
       "    </tr>\n",
       "    <tr>\n",
       "      <th>1</th>\n",
       "      <td>2018-09-20</td>\n",
       "      <td>2</td>\n",
       "      <td>0541518023</td>\n",
       "      <td>0.0305</td>\n",
       "      <td>2</td>\n",
       "    </tr>\n",
       "    <tr>\n",
       "      <th>2</th>\n",
       "      <td>2018-09-20</td>\n",
       "      <td>7</td>\n",
       "      <td>0505221004</td>\n",
       "      <td>0.0152</td>\n",
       "      <td>2</td>\n",
       "    </tr>\n",
       "    <tr>\n",
       "      <th>3</th>\n",
       "      <td>2018-09-20</td>\n",
       "      <td>7</td>\n",
       "      <td>0685687003</td>\n",
       "      <td>0.0169</td>\n",
       "      <td>2</td>\n",
       "    </tr>\n",
       "    <tr>\n",
       "      <th>4</th>\n",
       "      <td>2018-09-20</td>\n",
       "      <td>7</td>\n",
       "      <td>0685687004</td>\n",
       "      <td>0.0169</td>\n",
       "      <td>2</td>\n",
       "    </tr>\n",
       "  </tbody>\n",
       "</table>\n",
       "</div>"
      ],
      "text/plain": [
       "       t_dat  customer_id  article_id  price  sales_channel_id\n",
       "0 2018-09-20            2  0663713001 0.0508                 2\n",
       "1 2018-09-20            2  0541518023 0.0305                 2\n",
       "2 2018-09-20            7  0505221004 0.0152                 2\n",
       "3 2018-09-20            7  0685687003 0.0169                 2\n",
       "4 2018-09-20            7  0685687004 0.0169                 2"
      ]
     },
     "execution_count": 2,
     "metadata": {},
     "output_type": "execute_result"
    }
   ],
   "source": [
    "path = '../data/processed'\n",
    "\n",
    "# customers\n",
    "customers = pd.read_pickle(os.path.join(path,'customers.pkl'))\n",
    "\n",
    "\n",
    "# articles description\n",
    "articles = pd.read_pickle(os.path.join(path,'articles.pkl'))\n",
    "\n",
    "# transaction\n",
    "df = pd.read_pickle(os.path.join(path,'transactions.pkl'))\n",
    "\n",
    "# random_list = pd.read_csv('../data/random_customer.csv')\n",
    "# df = df[df.customer_id.isin(random_list.customer_id)].reset_index(drop=True)  # Select random cus\n",
    "\n",
    "# print('First t_dat: ', df[df.customer_id.isin(random_list.customer_id)]['t_dat'].min())\n",
    "# print('Last t_dat: ', df[df.customer_id.isin(random_list.customer_id)]['t_dat'].max())\n",
    "# print('Total Transactions: ', len(df))\n",
    "df.head()"
   ]
  },
  {
   "cell_type": "markdown",
   "id": "bc1c068d",
   "metadata": {},
   "source": [
    "## Procedure\n",
    "- find similar users or items\n",
    "- predict the ratings of the items that are not yet rated by a user\n",
    "\n",
    "<b>Answers to these questions:</b>\n",
    "- How do you determine which users or items are similar to one another?\n",
    "- Given that you know which users are similar, how do you determine the rating that a user would give to an item based on the ratings of similar users?\n",
    "- How do you measure the accuracy of the ratings you calculate?\n",
    "\n",
    "<br><b>Keep in mind!!</b>\n",
    "- The similarity is not calculated using factors like the age of users, genre of the movie, or any other data about users or items. \n",
    "- It is <u>calculated only on the basis of the rating</u> (explicit or implicit) a user gives to an item. \n",
    "- For example, two users can be considered similar if they give the same ratings to ten movies despite there being a big difference in their age."
   ]
  },
  {
   "cell_type": "markdown",
   "id": "3d6785cf",
   "metadata": {},
   "source": [
    "## Data Transfromation"
   ]
  },
  {
   "cell_type": "code",
   "execution_count": 3,
   "id": "631382eb",
   "metadata": {
    "ExecuteTime": {
     "end_time": "2022-04-24T13:23:08.672017Z",
     "start_time": "2022-04-24T13:22:45.486766Z"
    }
   },
   "outputs": [
    {
     "name": "stdout",
     "output_type": "stream",
     "text": [
      "27079047\n"
     ]
    },
    {
     "data": {
      "text/html": [
       "<div>\n",
       "<style scoped>\n",
       "    .dataframe tbody tr th:only-of-type {\n",
       "        vertical-align: middle;\n",
       "    }\n",
       "\n",
       "    .dataframe tbody tr th {\n",
       "        vertical-align: top;\n",
       "    }\n",
       "\n",
       "    .dataframe thead th {\n",
       "        text-align: right;\n",
       "    }\n",
       "</style>\n",
       "<table border=\"1\" class=\"dataframe\">\n",
       "  <thead>\n",
       "    <tr style=\"text-align: right;\">\n",
       "      <th></th>\n",
       "      <th>customer_id</th>\n",
       "      <th>article_id</th>\n",
       "      <th>quantity</th>\n",
       "    </tr>\n",
       "  </thead>\n",
       "  <tbody>\n",
       "    <tr>\n",
       "      <th>0</th>\n",
       "      <td>0</td>\n",
       "      <td>0176209023</td>\n",
       "      <td>1</td>\n",
       "    </tr>\n",
       "    <tr>\n",
       "      <th>1</th>\n",
       "      <td>0</td>\n",
       "      <td>0568601006</td>\n",
       "      <td>2</td>\n",
       "    </tr>\n",
       "    <tr>\n",
       "      <th>2</th>\n",
       "      <td>0</td>\n",
       "      <td>0568601043</td>\n",
       "      <td>1</td>\n",
       "    </tr>\n",
       "    <tr>\n",
       "      <th>3</th>\n",
       "      <td>0</td>\n",
       "      <td>0607642008</td>\n",
       "      <td>1</td>\n",
       "    </tr>\n",
       "    <tr>\n",
       "      <th>4</th>\n",
       "      <td>0</td>\n",
       "      <td>0625548001</td>\n",
       "      <td>1</td>\n",
       "    </tr>\n",
       "  </tbody>\n",
       "</table>\n",
       "</div>"
      ],
      "text/plain": [
       "   customer_id  article_id  quantity\n",
       "0            0  0176209023         1\n",
       "1            0  0568601006         2\n",
       "2            0  0568601043         1\n",
       "3            0  0607642008         1\n",
       "4            0  0625548001         1"
      ]
     },
     "execution_count": 3,
     "metadata": {},
     "output_type": "execute_result"
    }
   ],
   "source": [
    "temp = df[df.t_dat<'2020-09-15']\\\n",
    "            .groupby(['customer_id','article_id'])\\\n",
    "            .agg({'article_id':'count'})\\\n",
    "            .rename(columns={'article_id':'quantity'})\\\n",
    "            .reset_index()\n",
    "\n",
    "temp['quantity'] = temp['quantity'].clip(0,5)\n",
    "temp['quantity'] = temp['quantity'].astype('int8')\n",
    "print(len(temp))\n",
    "temp.describe(percentiles=[0.1,0.5,0.99])\n",
    "temp.head()"
   ]
  },
  {
   "cell_type": "code",
   "execution_count": null,
   "id": "0ae8478c",
   "metadata": {
    "ExecuteTime": {
     "start_time": "2022-04-24T09:55:35.703Z"
    }
   },
   "outputs": [],
   "source": [
    "# Pivot\n",
    "temp = temp.pivot_table(index='customer_id', columns='article_id', values='quantity',aggfunc=np.sum)\n",
    "# print('Matrix Sparsity: ', np.sum(colla_df.count())/(colla_df.shape[0]*colla_df.shape[1]))\n",
    "temp.head()"
   ]
  },
  {
   "cell_type": "markdown",
   "id": "73ee1f79",
   "metadata": {},
   "source": [
    "## Matrix Factorization"
   ]
  },
  {
   "attachments": {
    "image.png": {
     "image/png": "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"
    }
   },
   "cell_type": "markdown",
   "id": "fe9845fd",
   "metadata": {},
   "source": [
    "![image.png](attachment:image.png)"
   ]
  },
  {
   "cell_type": "code",
   "execution_count": null,
   "id": "5b1533a6",
   "metadata": {
    "ExecuteTime": {
     "start_time": "2022-04-24T09:55:36.504Z"
    }
   },
   "outputs": [],
   "source": [
    "import implicit\n",
    "from scipy.sparse import csr_matrix, coo_matrix\n",
    "from implicit.evaluation import mean_average_precision_at_k"
   ]
  },
  {
   "cell_type": "code",
   "execution_count": null,
   "id": "9992f39f",
   "metadata": {
    "ExecuteTime": {
     "start_time": "2022-04-24T09:55:44.728Z"
    }
   },
   "outputs": [],
   "source": [
    "from scipy.sparse import csr_matrix, coo_matrix\n",
    "\n",
    "df = df[df['t_dat'] >'2020-09-20']\n",
    "\n",
    "ALL_USERS = customers['customer_id'].unique().tolist()\n",
    "ALL_ITEMS = articles['article_id'].unique().tolist()\n",
    "\n",
    "user_ids = dict(list(enumerate(ALL_USERS)))\n",
    "item_ids = dict(list(enumerate(ALL_ITEMS)))\n",
    "\n",
    "user_map = {u: uidx for uidx, u in user_ids.items()}\n",
    "item_map = {i: iidx for iidx, i in item_ids.items()}\n",
    "\n",
    "df['user_id'] = df['customer_id'].map(user_map)\n",
    "df['item_id'] = df['article_id'].map(item_map)\n",
    "\n",
    "\n",
    "row = df['user_id'].values\n",
    "col = df['item_id'].values\n",
    "data = np.ones(df.shape[0])\n",
    "coo_train = coo_matrix((data, (row, col)), shape=(len(ALL_USERS), len(ALL_ITEMS)))\n",
    "coo_train"
   ]
  },
  {
   "cell_type": "code",
   "execution_count": null,
   "id": "f24c0a44",
   "metadata": {
    "ExecuteTime": {
     "start_time": "2022-04-24T09:55:46.776Z"
    }
   },
   "outputs": [],
   "source": [
    "# Save COO Matrix\n",
    "import scipy\n",
    "scipy.sparse.save_npz('coo_train.npz', coo_train)\n",
    "sparse_matrix = scipy.sparse.load_npz('coo_train.npz')\n",
    "sparse_matrix"
   ]
  },
  {
   "cell_type": "code",
   "execution_count": null,
   "id": "be41bb65",
   "metadata": {
    "ExecuteTime": {
     "start_time": "2022-04-24T09:55:50.537Z"
    }
   },
   "outputs": [],
   "source": [
    "test = pd.DataFrame.sparse.from_spmatrix(sparse_matrix)\n",
    "test.head()"
   ]
  },
  {
   "cell_type": "code",
   "execution_count": 29,
   "id": "4d1bb0f0",
   "metadata": {
    "ExecuteTime": {
     "end_time": "2022-04-24T09:52:49.762934Z",
     "start_time": "2022-04-24T09:52:44.220433Z"
    }
   },
   "outputs": [
    {
     "name": "stderr",
     "output_type": "stream",
     "text": [
      "C:\\Users\\praka\\Anaconda3\\lib\\site-packages\\implicit\\utils.py:31: UserWarning: Intel MKL BLAS detected. Its highly recommend to set the environment variable 'export MKL_NUM_THREADS=1' to disable its internal multithreading\n",
      "  warnings.warn(\n"
     ]
    },
    {
     "data": {
      "application/vnd.jupyter.widget-view+json": {
       "model_id": "76fcb18a5b424dc1be1bd93fbdf68c97",
       "version_major": 2,
       "version_minor": 0
      },
      "text/plain": [
       "  0%|          | 0/2 [00:00<?, ?it/s]"
      ]
     },
     "metadata": {},
     "output_type": "display_data"
    }
   ],
   "source": [
    "model = implicit.als.AlternatingLeastSquares(factors=10, iterations=2)\n",
    "model.fit(coo_train)"
   ]
  },
  {
   "cell_type": "code",
   "execution_count": 30,
   "id": "846cbe10",
   "metadata": {
    "ExecuteTime": {
     "end_time": "2022-04-24T09:52:53.200844Z",
     "start_time": "2022-04-24T09:52:53.185875Z"
    }
   },
   "outputs": [],
   "source": [
    "def to_user_item_coo(df):\n",
    "    \"\"\" Turn a dataframe with transactions into a COO sparse items x users matrix\"\"\"\n",
    "    row = df['user_id'].values\n",
    "    col = df['item_id'].values\n",
    "    data = np.ones(df.shape[0])\n",
    "    coo = coo_matrix((data, (row, col)), shape=(len(ALL_USERS), len(ALL_ITEMS)))\n",
    "    return coo\n",
    "\n",
    "\n",
    "def split_data(df, validation_days=7):\n",
    "    \"\"\" Split a pandas dataframe into training and validation data, using <<validation_days>>\n",
    "    \"\"\"\n",
    "    validation_cut = df['t_dat'].max() - pd.Timedelta(validation_days)\n",
    "\n",
    "    df_train = df[df['t_dat'] < validation_cut]\n",
    "    df_val = df[df['t_dat'] >= validation_cut]\n",
    "    return df_train, df_val\n",
    "\n",
    "def get_val_matrices(df, validation_days=7):\n",
    "    \"\"\" Split into training and validation and create various matrices\n",
    "        \n",
    "        Returns a dictionary with the following keys:\n",
    "            coo_train: training data in COO sparse format and as (users x items)\n",
    "            csr_train: training data in CSR sparse format and as (users x items)\n",
    "            csr_val:  validation data in CSR sparse format and as (users x items)\n",
    "    \n",
    "    \"\"\"\n",
    "    df_train, df_val = split_data(df, validation_days=validation_days)\n",
    "    coo_train = to_user_item_coo(df_train)\n",
    "    coo_val = to_user_item_coo(df_val)\n",
    "\n",
    "    csr_train = coo_train.tocsr()\n",
    "    csr_val = coo_val.tocsr()\n",
    "    \n",
    "    return {'coo_train': coo_train,\n",
    "            'csr_train': csr_train,\n",
    "            'csr_val': csr_val\n",
    "          }\n",
    "\n",
    "\n",
    "def validate(matrices, factors=200, iterations=20, regularization=0.01, show_progress=True):\n",
    "    \"\"\" Train an ALS model with <<factors>> (embeddings dimension) \n",
    "    for <<iterations>> over matrices and validate with MAP@12\n",
    "    \"\"\"\n",
    "    coo_train, csr_train, csr_val = matrices['coo_train'], matrices['csr_train'], matrices['csr_val']\n",
    "    \n",
    "    model = implicit.als.AlternatingLeastSquares(factors=factors, \n",
    "                                                 iterations=iterations, \n",
    "                                                 regularization=regularization, \n",
    "                                                 random_state=42)\n",
    "    model.fit(coo_train, show_progress=show_progress)\n",
    "    \n",
    "    # The MAPK by implicit doesn't allow to calculate allowing repeated items, which is the case.\n",
    "    # TODO: change MAP@12 to a library that allows repeated items in prediction\n",
    "    map12 = mean_average_precision_at_k(model, csr_train, csr_val, K=12, show_progress=show_progress, num_threads=4)\n",
    "    print(f\"Factors: {factors:>3} - Iterations: {iterations:>2} - Regularization: {regularization:4.3f} ==> MAP@12: {map12:6.5f}\")\n",
    "    return map12"
   ]
  },
  {
   "cell_type": "code",
   "execution_count": 31,
   "id": "a14611ea",
   "metadata": {
    "ExecuteTime": {
     "end_time": "2022-04-24T09:53:00.014827Z",
     "start_time": "2022-04-24T09:52:56.562472Z"
    }
   },
   "outputs": [],
   "source": [
    "matrices = get_val_matrices(df)"
   ]
  },
  {
   "cell_type": "markdown",
<<<<<<< HEAD
   "id": "e275710a",
   "metadata": {},
   "source": [
    "### Baseline Model"
   ]
  },
  {
   "cell_type": "code",
   "execution_count": 12,
   "id": "7a2a0348",
   "metadata": {
    "ExecuteTime": {
     "end_time": "2022-05-02T02:42:51.473658Z",
     "start_time": "2022-05-02T02:42:00.927504Z"
    }
   },
   "outputs": [
    {
     "name": "stdout",
     "output_type": "stream",
     "text": [
      "Factors: 100 - Iterations: 15 - Regularization: 0.010 ==> MAP@12: 0.00365\n"
     ]
    },
    {
     "data": {
      "text/plain": [
       "0.003650960821067129"
      ]
     },
     "execution_count": 12,
     "metadata": {},
     "output_type": "execute_result"
    }
   ],
   "source": [
    "baseline_model = validate(matrices, 100, 15, 0.01, show_progress=False)\n",
    "baseline_model"
   ]
  },
  {
   "cell_type": "markdown",
=======
>>>>>>> parent of f176014 (Update Web templaates)
   "id": "34f61d41",
   "metadata": {},
   "source": [
    "## Hyperparameter Tuning"
   ]
  },
  {
   "cell_type": "code",
   "execution_count": null,
   "id": "58fbf3fe",
   "metadata": {
    "ExecuteTime": {
     "start_time": "2022-04-24T09:52:17.928Z"
    }
   },
   "outputs": [
    {
     "name": "stdout",
     "output_type": "stream",
     "text": [
      "Factors:  40 - Iterations:  3 - Regularization: 0.010 ==> MAP@12: 0.00298\n",
      "Best MAP@12 found. Updating: {'factors': 40, 'iterations': 3, 'regularization': 0.01}\n",
      "Factors:  40 - Iterations: 12 - Regularization: 0.010 ==> MAP@12: 0.00368\n",
      "Best MAP@12 found. Updating: {'factors': 40, 'iterations': 12, 'regularization': 0.01}\n",
      "Factors:  40 - Iterations: 14 - Regularization: 0.010 ==> MAP@12: 0.00371\n",
      "Best MAP@12 found. Updating: {'factors': 40, 'iterations': 14, 'regularization': 0.01}\n",
      "Factors:  40 - Iterations: 15 - Regularization: 0.010 ==> MAP@12: 0.00373\n",
      "Best MAP@12 found. Updating: {'factors': 40, 'iterations': 15, 'regularization': 0.01}\n",
      "Factors:  40 - Iterations: 20 - Regularization: 0.010 ==> MAP@12: 0.00365\n",
      "Factors:  50 - Iterations:  3 - Regularization: 0.010 ==> MAP@12: 0.00314\n",
      "Factors:  50 - Iterations: 12 - Regularization: 0.010 ==> MAP@12: 0.00370\n",
      "Factors:  50 - Iterations: 14 - Regularization: 0.010 ==> MAP@12: 0.00370\n",
      "Factors:  50 - Iterations: 15 - Regularization: 0.010 ==> MAP@12: 0.00370\n",
      "Factors:  50 - Iterations: 20 - Regularization: 0.010 ==> MAP@12: 0.00364\n",
      "Factors:  60 - Iterations:  3 - Regularization: 0.010 ==> MAP@12: 0.00274\n",
      "Factors:  60 - Iterations: 12 - Regularization: 0.010 ==> MAP@12: 0.00376\n",
      "Best MAP@12 found. Updating: {'factors': 60, 'iterations': 12, 'regularization': 0.01}\n",
      "Factors:  60 - Iterations: 14 - Regularization: 0.010 ==> MAP@12: 0.00375\n",
      "Factors:  60 - Iterations: 15 - Regularization: 0.010 ==> MAP@12: 0.00377\n",
      "Best MAP@12 found. Updating: {'factors': 60, 'iterations': 15, 'regularization': 0.01}\n",
      "Factors:  60 - Iterations: 20 - Regularization: 0.010 ==> MAP@12: 0.00376\n",
      "Factors: 100 - Iterations:  3 - Regularization: 0.010 ==> MAP@12: 0.00336\n",
      "Factors: 100 - Iterations: 12 - Regularization: 0.010 ==> MAP@12: 0.00366\n",
      "Factors: 100 - Iterations: 14 - Regularization: 0.010 ==> MAP@12: 0.00365\n",
      "Factors: 100 - Iterations: 15 - Regularization: 0.010 ==> MAP@12: 0.00365\n",
      "Factors: 100 - Iterations: 20 - Regularization: 0.010 ==> MAP@12: 0.00368\n"
     ]
    }
   ],
   "source": [
    "best_map12 = 0\n",
    "for factors in [40, 50, 60, 100, 200, 500, 1000]:\n",
    "    for iterations in [3, 12, 14, 15, 20]:\n",
    "        for regularization in [0.01]:\n",
    "            map12 = validate(matrices, factors, iterations, regularization, show_progress=False)\n",
    "            if map12 > best_map12:\n",
    "                best_map12 = map12\n",
    "                best_params = {'factors': factors, 'iterations': iterations, 'regularization': regularization}\n",
    "                print(f\"Best MAP@12 found. Updating: {best_params}\")"
   ]
  },
  {
   "cell_type": "markdown",
   "id": "93520249",
   "metadata": {},
   "source": [
    "## Training"
   ]
  },
  {
   "cell_type": "code",
<<<<<<< HEAD
   "execution_count": 13,
   "id": "37a37c14",
   "metadata": {
    "ExecuteTime": {
     "end_time": "2022-05-02T02:43:00.103713Z",
     "start_time": "2022-05-02T02:43:00.086759Z"
    }
   },
   "outputs": [],
   "source": [
    "# best_params\n",
    "best_params = {'factors': 200, 'iterations': 15, 'regularization': 0.01}"
   ]
  },
  {
   "cell_type": "code",
   "execution_count": 36,
=======
   "execution_count": null,
>>>>>>> parent of f176014 (Update Web templaates)
   "id": "fcbb7a7d",
   "metadata": {
    "ExecuteTime": {
     "end_time": "2022-04-10T12:41:14.837360Z",
     "start_time": "2022-04-10T12:41:14.725572Z"
    }
   },
   "outputs": [],
   "source": [
    "coo_train = to_user_item_coo(df)\n",
    "csr_train = coo_train.tocsr()"
   ]
  },
  {
   "cell_type": "code",
   "execution_count": null,
   "id": "94c04b48",
   "metadata": {
    "ExecuteTime": {
     "end_time": "2022-04-10T12:41:16.973455Z",
     "start_time": "2022-04-10T12:41:16.963482Z"
    }
   },
   "outputs": [],
   "source": [
    "def train(coo_train, factors=200, iterations=15, regularization=0.01, show_progress=True):\n",
    "    model = implicit.als.AlternatingLeastSquares(factors=factors, \n",
    "                                                 iterations=iterations, \n",
    "                                                 regularization=regularization, \n",
    "                                                 random_state=42)\n",
    "    model.fit(coo_train, show_progress=show_progress)\n",
    "    return model"
   ]
  },
  {
   "cell_type": "code",
   "execution_count": null,
   "id": "02f9f174",
   "metadata": {
    "ExecuteTime": {
     "end_time": "2022-04-10T12:41:18.779302Z",
     "start_time": "2022-04-10T12:41:18.764316Z"
    }
   },
   "outputs": [],
   "source": [
    "best_params"
   ]
  },
  {
   "cell_type": "code",
<<<<<<< HEAD
   "execution_count": 38,
   "id": "d12ee1fd",
=======
   "execution_count": null,
   "id": "fcc38fd6",
>>>>>>> parent of f176014 (Update Web templaates)
   "metadata": {
    "ExecuteTime": {
     "end_time": "2022-04-10T12:42:18.104278Z",
     "start_time": "2022-04-10T12:41:22.714608Z"
    }
   },
   "outputs": [],
   "source": [
    "model = train(coo_train, **best_params)"
   ]
  },
  {
   "cell_type": "markdown",
   "id": "442a0c25",
   "metadata": {},
   "source": [
    "## Submission"
   ]
  },
  {
   "cell_type": "code",
   "execution_count": null,
   "id": "1d17477f",
   "metadata": {
    "ExecuteTime": {
     "end_time": "2022-04-10T12:42:19.949398Z",
     "start_time": "2022-04-10T12:42:19.934438Z"
    }
   },
   "outputs": [],
   "source": [
    "def submit(model, csr_train, submission_name=\"submissions.csv\"):\n",
    "    preds = []\n",
    "    batch_size = 2000\n",
    "    to_generate = np.arange(len(ALL_USERS))\n",
    "    for startidx in range(0, len(to_generate), batch_size):\n",
    "        batch = to_generate[startidx : startidx + batch_size]\n",
    "        ids, scores = model.recommend(batch, csr_train[batch], N=12, filter_already_liked_items=False)\n",
    "        for i, userid in enumerate(batch):\n",
    "            customer_id = user_ids[userid]\n",
    "            user_items = ids[i]\n",
    "            article_ids = [item_ids[item_id] for item_id in user_items]\n",
    "            preds.append((customer_id, ' '.join(article_ids)))\n",
    "\n",
    "    df_preds = pd.DataFrame(preds, columns=['customer_id', 'prediction'])\n",
    "    df_preds.to_csv(submission_name, index=False)\n",
    "    \n",
    "    display(df_preds.head())\n",
    "    print(df_preds.shape)\n",
    "    \n",
    "    return df_preds"
   ]
  },
  {
   "cell_type": "code",
   "execution_count": 40,
   "id": "17261a39",
   "metadata": {
    "ExecuteTime": {
<<<<<<< HEAD
     "end_time": "2022-05-02T03:27:11.549654Z",
     "start_time": "2022-05-02T03:22:21.147152Z"
=======
     "end_time": "2022-04-10T14:03:16.580190Z",
     "start_time": "2022-04-10T13:54:51.015099Z"
>>>>>>> parent of f176014 (Update Web templaates)
    }
   },
   "outputs": [
    {
     "data": {
      "text/html": [
       "<div>\n",
       "<style scoped>\n",
       "    .dataframe tbody tr th:only-of-type {\n",
       "        vertical-align: middle;\n",
       "    }\n",
       "\n",
       "    .dataframe tbody tr th {\n",
       "        vertical-align: top;\n",
       "    }\n",
       "\n",
       "    .dataframe thead th {\n",
       "        text-align: right;\n",
       "    }\n",
       "</style>\n",
       "<table border=\"1\" class=\"dataframe\">\n",
       "  <thead>\n",
       "    <tr style=\"text-align: right;\">\n",
       "      <th></th>\n",
       "      <th>customer_id</th>\n",
       "      <th>prediction</th>\n",
       "    </tr>\n",
       "  </thead>\n",
       "  <tbody>\n",
       "    <tr>\n",
       "      <th>0</th>\n",
       "      <td>0</td>\n",
       "      <td>0568601006 0795440001 0795440003 0671852003 05...</td>\n",
       "    </tr>\n",
       "    <tr>\n",
       "      <th>1</th>\n",
       "      <td>1</td>\n",
       "      <td>0351484002 0759871002 0673677002 0599580055 07...</td>\n",
       "    </tr>\n",
       "    <tr>\n",
       "      <th>2</th>\n",
       "      <td>2</td>\n",
       "      <td>0351484002 0723529001 0609719001 0458543001 08...</td>\n",
       "    </tr>\n",
       "    <tr>\n",
       "      <th>3</th>\n",
       "      <td>3</td>\n",
       "      <td>0730683001 0564786001 0678687001 0708021001 07...</td>\n",
       "    </tr>\n",
       "    <tr>\n",
       "      <th>4</th>\n",
       "      <td>4</td>\n",
       "      <td>0590928013 0712924003 0698286003 0692721005 07...</td>\n",
       "    </tr>\n",
       "  </tbody>\n",
       "</table>\n",
       "</div>"
      ],
      "text/plain": [
       "   customer_id                                         prediction\n",
       "0            0  0568601006 0795440001 0795440003 0671852003 05...\n",
       "1            1  0351484002 0759871002 0673677002 0599580055 07...\n",
       "2            2  0351484002 0723529001 0609719001 0458543001 08...\n",
       "3            3  0730683001 0564786001 0678687001 0708021001 07...\n",
       "4            4  0590928013 0712924003 0698286003 0692721005 07..."
      ]
     },
     "metadata": {},
     "output_type": "display_data"
    },
    {
     "name": "stdout",
     "output_type": "stream",
     "text": [
      "(1371980, 2)\n"
     ]
    }
   ],
   "source": [
    "df_preds = submit(model, csr_train)\n"
   ]
  },
  {
   "cell_type": "code",
   "execution_count": 41,
   "id": "027765a6",
   "metadata": {
    "ExecuteTime": {
<<<<<<< HEAD
     "end_time": "2022-05-02T03:27:14.940445Z",
     "start_time": "2022-05-02T03:27:14.192789Z"
=======
     "end_time": "2022-04-10T14:03:20.448007Z",
     "start_time": "2022-04-10T14:03:19.698879Z"
>>>>>>> parent of f176014 (Update Web templaates)
    }
   },
   "outputs": [
    {
     "data": {
      "text/html": [
       "<div>\n",
       "<style scoped>\n",
       "    .dataframe tbody tr th:only-of-type {\n",
       "        vertical-align: middle;\n",
       "    }\n",
       "\n",
       "    .dataframe tbody tr th {\n",
       "        vertical-align: top;\n",
       "    }\n",
       "\n",
       "    .dataframe thead th {\n",
       "        text-align: right;\n",
       "    }\n",
       "</style>\n",
       "<table border=\"1\" class=\"dataframe\">\n",
       "  <thead>\n",
       "    <tr style=\"text-align: right;\">\n",
       "      <th></th>\n",
       "      <th>customer_id</th>\n",
       "      <th>prediction</th>\n",
       "    </tr>\n",
       "  </thead>\n",
       "  <tbody>\n",
       "    <tr>\n",
       "      <th>0</th>\n",
       "      <td>00000dbacae5abe5e23885899a1fa44253a17956c6d1c3...</td>\n",
       "      <td>0568601006 0795440001 0795440003 0671852003 05...</td>\n",
       "    </tr>\n",
       "    <tr>\n",
       "      <th>1</th>\n",
       "      <td>0000423b00ade91418cceaf3b26c6af3dd342b51fd051e...</td>\n",
       "      <td>0351484002 0759871002 0673677002 0599580055 07...</td>\n",
       "    </tr>\n",
       "    <tr>\n",
       "      <th>2</th>\n",
       "      <td>000058a12d5b43e67d225668fa1f8d618c13dc232df0ca...</td>\n",
       "      <td>0351484002 0723529001 0609719001 0458543001 08...</td>\n",
       "    </tr>\n",
       "    <tr>\n",
       "      <th>3</th>\n",
       "      <td>00005ca1c9ed5f5146b52ac8639a40ca9d57aeff4d1bd2...</td>\n",
       "      <td>0730683001 0564786001 0678687001 0708021001 07...</td>\n",
       "    </tr>\n",
       "    <tr>\n",
       "      <th>4</th>\n",
       "      <td>00006413d8573cd20ed7128e53b7b13819fe5cfc2d801f...</td>\n",
       "      <td>0590928013 0712924003 0698286003 0692721005 07...</td>\n",
       "    </tr>\n",
       "  </tbody>\n",
       "</table>\n",
       "</div>"
      ],
      "text/plain": [
       "                                         customer_id  \\\n",
       "0  00000dbacae5abe5e23885899a1fa44253a17956c6d1c3...   \n",
       "1  0000423b00ade91418cceaf3b26c6af3dd342b51fd051e...   \n",
       "2  000058a12d5b43e67d225668fa1f8d618c13dc232df0ca...   \n",
       "3  00005ca1c9ed5f5146b52ac8639a40ca9d57aeff4d1bd2...   \n",
       "4  00006413d8573cd20ed7128e53b7b13819fe5cfc2d801f...   \n",
       "\n",
       "                                          prediction  \n",
       "0  0568601006 0795440001 0795440003 0671852003 05...  \n",
       "1  0351484002 0759871002 0673677002 0599580055 07...  \n",
       "2  0351484002 0723529001 0609719001 0458543001 08...  \n",
       "3  0730683001 0564786001 0678687001 0708021001 07...  \n",
       "4  0590928013 0712924003 0698286003 0692721005 07...  "
      ]
     },
     "execution_count": 41,
     "metadata": {},
     "output_type": "execute_result"
    }
   ],
   "source": [
    "import pickle\n",
    "# mapping index\n",
    "path = '../data/processed'\n",
    "\n",
    "infile = open(os.path.join(path,'index_to_cusId.pkl'),'rb')\n",
    "index_to_id_dict = pickle.load(infile)\n",
    "infile.close()\n",
    "df_preds[\"customer_id\"] = df_preds[\"customer_id\"].map(index_to_id_dict)\n",
    "df_preds.head()"
   ]
  },
  {
   "cell_type": "code",
   "execution_count": 42,
   "id": "bf9983c0",
   "metadata": {
    "ExecuteTime": {
<<<<<<< HEAD
     "end_time": "2022-05-02T03:27:24.348520Z",
     "start_time": "2022-05-02T03:27:18.770491Z"
=======
     "end_time": "2022-04-10T14:03:29.048985Z",
     "start_time": "2022-04-10T14:03:23.788750Z"
>>>>>>> parent of f176014 (Update Web templaates)
    }
   },
   "outputs": [],
   "source": [
    "df_preds.to_csv('submissions.csv',index=False)"
   ]
  },
  {
   "cell_type": "code",
   "execution_count": null,
   "id": "a2a45bbc",
   "metadata": {},
   "outputs": [],
   "source": []
  }
 ],
 "metadata": {
  "hide_input": false,
  "kernelspec": {
   "display_name": "Python 3",
   "language": "python",
   "name": "python3"
  },
  "language_info": {
   "codemirror_mode": {
    "name": "ipython",
    "version": 3
   },
   "file_extension": ".py",
   "mimetype": "text/x-python",
   "name": "python",
   "nbconvert_exporter": "python",
   "pygments_lexer": "ipython3",
   "version": "3.8.8"
  },
  "toc": {
   "base_numbering": 1,
   "nav_menu": {},
   "number_sections": true,
   "sideBar": true,
   "skip_h1_title": false,
   "title_cell": "Table of Contents",
   "title_sidebar": "Contents",
   "toc_cell": false,
   "toc_position": {},
   "toc_section_display": true,
   "toc_window_display": false
  },
  "varInspector": {
   "cols": {
    "lenName": 16,
    "lenType": 16,
    "lenVar": 40
   },
   "kernels_config": {
    "python": {
     "delete_cmd_postfix": "",
     "delete_cmd_prefix": "del ",
     "library": "var_list.py",
     "varRefreshCmd": "print(var_dic_list())"
    },
    "r": {
     "delete_cmd_postfix": ") ",
     "delete_cmd_prefix": "rm(",
     "library": "var_list.r",
     "varRefreshCmd": "cat(var_dic_list()) "
    }
   },
   "types_to_exclude": [
    "module",
    "function",
    "builtin_function_or_method",
    "instance",
    "_Feature"
   ],
   "window_display": false
  }
 },
 "nbformat": 4,
 "nbformat_minor": 5
}
