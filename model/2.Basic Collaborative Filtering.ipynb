{
 "cells": [
  {
   "cell_type": "code",
   "execution_count": 1,
   "id": "76a96eef",
   "metadata": {
    "ExecuteTime": {
     "end_time": "2022-04-03T09:13:50.236417Z",
     "start_time": "2022-04-03T09:13:49.473829Z"
    }
   },
   "outputs": [],
   "source": [
    "import os \n",
    "import numpy as np\n",
    "import pandas as pd\n",
    "from datetime import date, timedelta\n",
    "\n",
    "import matplotlib.pyplot as plt\n",
    "pd.set_option('display.float_format', lambda x: '%.4f' % x)"
   ]
  },
  {
   "cell_type": "markdown",
   "id": "a769a8b6",
   "metadata": {},
   "source": [
    "## Load Data"
   ]
  },
  {
   "cell_type": "code",
   "execution_count": null,
   "id": "370a326d",
   "metadata": {
    "ExecuteTime": {
     "end_time": "2022-04-03T09:04:56.673691Z",
     "start_time": "2022-04-03T09:04:56.360690Z"
    }
   },
   "outputs": [],
   "source": [
    "path = '../data/processed'\n",
    "df = pd.read_pickle(os.path.join(path,'transactions.pkl'))\n",
    "random_list = pd.read_csv('../data/random_customer.csv')\n",
    "df.head()"
   ]
  },
  {
   "cell_type": "code",
   "execution_count": null,
   "id": "7936d2a9",
   "metadata": {
    "ExecuteTime": {
     "end_time": "2022-04-03T09:05:01.625963Z",
     "start_time": "2022-04-03T09:05:01.612790Z"
    }
   },
   "outputs": [],
   "source": [
    "random_list"
   ]
  },
  {
   "cell_type": "markdown",
   "id": "bc1c068d",
   "metadata": {},
   "source": [
    "## Procedure\n",
    "- find similar users or items\n",
    "- predict the ratings of the items that are not yet rated by a user\n",
    "\n",
    "<b>Answers to these questions:</b>\n",
    "- How do you determine which users or items are similar to one another?\n",
    "- Given that you know which users are similar, how do you determine the rating that a user would give to an item based on the ratings of similar users?\n",
    "- How do you measure the accuracy of the ratings you calculate?\n",
    "\n",
    "<br><b>Keep in mind!!</b>\n",
    "- The similarity is not calculated using factors like the age of users, genre of the movie, or any other data about users or items. \n",
    "- It is <u>calculated only on the basis of the rating</u> (explicit or implicit) a user gives to an item. \n",
    "- For example, two users can be considered similar if they give the same ratings to ten movies despite there being a big difference in their age."
   ]
  },
  {
   "cell_type": "markdown",
   "id": "3d6785cf",
   "metadata": {},
   "source": [
    "## Data Transfromation"
   ]
  },
  {
   "cell_type": "code",
   "execution_count": null,
   "id": "631382eb",
   "metadata": {
    "ExecuteTime": {
     "end_time": "2022-03-31T02:36:59.085159Z",
     "start_time": "2022-03-31T02:36:50.114624Z"
    }
   },
   "outputs": [],
   "source": [
    "temp = df[df.t_dat<'2020-01-01']\n",
    "temp = df.drop_duplicates(subset=['customer_id','article_id'])\n",
    "temp.head()"
   ]
  },
  {
   "cell_type": "code",
   "execution_count": null,
   "id": "3fbe5b8b",
   "metadata": {
    "ExecuteTime": {
     "end_time": "2022-03-31T02:39:42.591924Z",
     "start_time": "2022-03-31T02:39:42.569978Z"
    }
   },
   "outputs": [],
   "source": [
    "import cudf"
   ]
  },
  {
   "cell_type": "code",
   "execution_count": 2,
   "id": "26c5e769",
   "metadata": {
    "ExecuteTime": {
     "end_time": "2022-04-03T09:14:08.745092Z",
     "start_time": "2022-04-03T09:13:50.989845Z"
    }
   },
   "outputs": [
    {
     "name": "stdout",
     "output_type": "stream",
     "text": [
      "Dataset ml-100k could not be found. Do you want to download it? [Y/n] Y\n",
      "Trying to download dataset from http://files.grouplens.org/datasets/movielens/ml-100k.zip...\n",
      "Done! Dataset ml-100k has been saved to /Users/mew/.surprise_data/ml-100k\n"
     ]
    }
   ],
   "source": [
    "# load_data.py\n",
    "\n",
    "import pandas as pd\n",
    "from surprise import Dataset\n",
    "from surprise import Reader\n",
    "\n",
    "# This is the same data that was plotted for similarity earlier\n",
    "# with one new user \"E\" who has rated only movie 1\n",
    "ratings_dict = {\n",
    "    \"item\": [1, 2, 1, 2, 1, 2, 1, 2, 1],\n",
    "    \"user\": ['A', 'A', 'B', 'B', 'C', 'C', 'D', 'D', 'E'],\n",
    "    \"rating\": [1, 2, 2, 4, 2.5, 4, 4.5, 5, 3],\n",
    "}\n",
    "\n",
    "df = pd.DataFrame(ratings_dict)\n",
    "reader = Reader(rating_scale=(1, 5))\n",
    "\n",
    "# Loads Pandas dataframe\n",
    "data = Dataset.load_from_df(df[[\"user\", \"item\", \"rating\"]], reader)\n",
    "# Loads the builtin Movielens-100k data\n",
    "movielens = Dataset.load_builtin('ml-100k')"
   ]
  },
  {
   "cell_type": "code",
   "execution_count": 3,
   "id": "86336333",
   "metadata": {
    "ExecuteTime": {
     "end_time": "2022-04-03T09:14:24.107381Z",
     "start_time": "2022-04-03T09:14:24.091622Z"
    }
   },
   "outputs": [
    {
     "data": {
      "text/plain": [
       "<surprise.dataset.DatasetAutoFolds at 0x7fd9a336d940>"
      ]
     },
     "execution_count": 3,
     "metadata": {},
     "output_type": "execute_result"
    }
   ],
   "source": []
  },
  {
   "cell_type": "code",
   "execution_count": null,
   "id": "0ae8478c",
   "metadata": {},
   "outputs": [],
   "source": []
  }
 ],
 "metadata": {
  "hide_input": false,
  "kernelspec": {
   "display_name": "Python 3 (ipykernel)",
   "language": "python",
   "name": "python3"
  },
  "language_info": {
   "codemirror_mode": {
    "name": "ipython",
    "version": 3
   },
   "file_extension": ".py",
   "mimetype": "text/x-python",
   "name": "python",
   "nbconvert_exporter": "python",
   "pygments_lexer": "ipython3",
   "version": "3.8.2"
  },
  "toc": {
   "base_numbering": 1,
   "nav_menu": {},
   "number_sections": true,
   "sideBar": true,
   "skip_h1_title": false,
   "title_cell": "Table of Contents",
   "title_sidebar": "Contents",
   "toc_cell": false,
   "toc_position": {},
   "toc_section_display": true,
   "toc_window_display": false
  },
  "varInspector": {
   "cols": {
    "lenName": 16,
    "lenType": 16,
    "lenVar": 40
   },
   "kernels_config": {
    "python": {
     "delete_cmd_postfix": "",
     "delete_cmd_prefix": "del ",
     "library": "var_list.py",
     "varRefreshCmd": "print(var_dic_list())"
    },
    "r": {
     "delete_cmd_postfix": ") ",
     "delete_cmd_prefix": "rm(",
     "library": "var_list.r",
     "varRefreshCmd": "cat(var_dic_list()) "
    }
   },
   "types_to_exclude": [
    "module",
    "function",
    "builtin_function_or_method",
    "instance",
    "_Feature"
   ],
   "window_display": false
  }
 },
 "nbformat": 4,
 "nbformat_minor": 5
}
