{
 "cells": [
  {
   "cell_type": "code",
   "execution_count": 1,
   "id": "7deea368",
   "metadata": {
    "ExecuteTime": {
     "end_time": "2022-05-08T15:28:41.813376Z",
     "start_time": "2022-05-08T15:28:41.524150Z"
    }
   },
   "outputs": [],
   "source": [
    "import os,shutil,pickle\n",
    "import pandas as pd\n",
    "import datetime\n",
    "from datetime import timedelta\n",
    "import names"
   ]
  },
  {
   "cell_type": "markdown",
   "id": "433e93cc",
   "metadata": {},
   "source": [
    "## Load Data"
   ]
  },
  {
   "cell_type": "code",
   "execution_count": 52,
   "id": "960cd5b8",
   "metadata": {
    "ExecuteTime": {
     "end_time": "2022-05-05T08:12:16.003860Z",
     "start_time": "2022-05-05T08:12:15.967956Z"
    }
   },
   "outputs": [
    {
     "data": {
      "text/html": [
       "<div>\n",
       "<style scoped>\n",
       "    .dataframe tbody tr th:only-of-type {\n",
       "        vertical-align: middle;\n",
       "    }\n",
       "\n",
       "    .dataframe tbody tr th {\n",
       "        vertical-align: top;\n",
       "    }\n",
       "\n",
       "    .dataframe thead th {\n",
       "        text-align: right;\n",
       "    }\n",
       "</style>\n",
       "<table border=\"1\" class=\"dataframe\">\n",
       "  <thead>\n",
       "    <tr style=\"text-align: right;\">\n",
       "      <th></th>\n",
       "      <th>customer_id</th>\n",
       "      <th>prediction</th>\n",
       "      <th>recent_purchase</th>\n",
       "    </tr>\n",
       "  </thead>\n",
       "  <tbody>\n",
       "    <tr>\n",
       "      <th>0</th>\n",
       "      <td>01343722529be320bc0955acc1b7c40322e5f801c6b8e0...</td>\n",
       "      <td>0706016001 0692930001 0448509014 0689109001 08...</td>\n",
       "      <td>0765739001 0708246001 0801384004 0738731002 07...</td>\n",
       "    </tr>\n",
       "    <tr>\n",
       "      <th>1</th>\n",
       "      <td>0a31e048711796ab3ec0179034fd9d7282101e42c89684...</td>\n",
       "      <td>0810419002 0529012011 0717695002 0811907006 08...</td>\n",
       "      <td>0516859008 0529008003 0703366002 0682238007 05...</td>\n",
       "    </tr>\n",
       "    <tr>\n",
       "      <th>2</th>\n",
       "      <td>0c86d1502d0f9c23157fb89bd97e45587372777b318a83...</td>\n",
       "      <td>0833499006 0757482002 0737224003 0547367021 05...</td>\n",
       "      <td>0637515004 0716548003 0547367006 0723469007 05...</td>\n",
       "    </tr>\n",
       "    <tr>\n",
       "      <th>3</th>\n",
       "      <td>0ebd7f3073819f86ba5f2ad025db2b51ae36ad7039d453...</td>\n",
       "      <td>0710278004 0750330002 0573937001 0751551001 06...</td>\n",
       "      <td>0842314001 0873884005 0746330004 0929042001 08...</td>\n",
       "    </tr>\n",
       "    <tr>\n",
       "      <th>4</th>\n",
       "      <td>10f245b02120d5c89b574db89b290983238a0a4e98a935...</td>\n",
       "      <td>0599580055 0599580042 0559630026 0776237020 05...</td>\n",
       "      <td>0761624001 0907696002 0776237010 0802485004 07...</td>\n",
       "    </tr>\n",
       "  </tbody>\n",
       "</table>\n",
       "</div>"
      ],
      "text/plain": [
       "                                         customer_id  \\\n",
       "0  01343722529be320bc0955acc1b7c40322e5f801c6b8e0...   \n",
       "1  0a31e048711796ab3ec0179034fd9d7282101e42c89684...   \n",
       "2  0c86d1502d0f9c23157fb89bd97e45587372777b318a83...   \n",
       "3  0ebd7f3073819f86ba5f2ad025db2b51ae36ad7039d453...   \n",
       "4  10f245b02120d5c89b574db89b290983238a0a4e98a935...   \n",
       "\n",
       "                                          prediction  \\\n",
       "0  0706016001 0692930001 0448509014 0689109001 08...   \n",
       "1  0810419002 0529012011 0717695002 0811907006 08...   \n",
       "2  0833499006 0757482002 0737224003 0547367021 05...   \n",
       "3  0710278004 0750330002 0573937001 0751551001 06...   \n",
       "4  0599580055 0599580042 0559630026 0776237020 05...   \n",
       "\n",
       "                                     recent_purchase  \n",
       "0  0765739001 0708246001 0801384004 0738731002 07...  \n",
       "1  0516859008 0529008003 0703366002 0682238007 05...  \n",
       "2  0637515004 0716548003 0547367006 0723469007 05...  \n",
       "3  0842314001 0873884005 0746330004 0929042001 08...  \n",
       "4  0761624001 0907696002 0776237010 0802485004 07...  "
      ]
     },
     "execution_count": 52,
     "metadata": {},
     "output_type": "execute_result"
    }
   ],
   "source": [
    "path = '../static/model'\n",
    "\n",
    "re_1 = pd.read_csv(os.path.join(path,'submission50_mew_v2.csv'),dtype=str).drop(columns=['Unnamed: 0'])\n",
    "cus_list = re_1['customer_id'].unique()\n",
    "\n",
    "\n",
    "\n",
    "re_2 = pd.read_csv(os.path.join(path,'submission50_eye.csv'),dtype=str).drop(columns=['Unnamed: 0','recent_purchase'])\n",
    "# re_2['recent_purchase'] = re_2['recent_purchase'].apply(lambda x: '0'+x)\n",
    "re_2['prediction'] = re_2['prediction'].apply(lambda x: ' '.join(['0'+i for i in x.split()]))\n",
    "re_2 = re_2.merge(re_1[['customer_id','recent_purchase']],on='customer_id',how='left')\n",
    "\n",
    "re_3 = pd.read_csv(os.path.join(path,'submission50_got.csv'),dtype=str).drop(columns=['Unnamed: 0','recent_purchase'])\n",
    "# re_3['recent_purchase'] = re_3['recent_purchase'].apply(lambda x: ' '.join(['0'+i for i in x.split()]))\n",
    "re_3['prediction'] = re_3['prediction'].apply(lambda x: ' '.join(['0'+i for i in x.split()]))\n",
    "re_3 = re_3.merge(re_1[['customer_id','recent_purchase']],on='customer_id',how='left')\n",
    "\n",
    "\n",
    "\n",
    "re_4 = pd.read_csv(os.path.join(path,'submission50_non.csv'),dtype=str)\n",
    "\n",
    "re_5 = pd.read_csv(os.path.join(path,'submission50_bird.csv'),dtype=str).rename(columns={'last_article':'recent_purchase','recomends':'prediction'})\n",
    "re_5 = re_5[['customer_id','prediction','recent_purchase']][re_5.customer_id.isin(cus_list)]\n",
    "re_5['recent_purchase'] = re_5['recent_purchase'].apply(lambda x: '0'+x)\n",
    "re_5['prediction'] = re_5['prediction'].apply(lambda x: ' '.join(['0'+i for i in x.split()]))\n",
    "\n",
    "re_3.head()"
   ]
  },
  {
   "cell_type": "markdown",
   "id": "a73423d2",
   "metadata": {},
   "source": [
    "## 7-Days Target"
   ]
  },
  {
   "cell_type": "code",
   "execution_count": 53,
   "id": "0a9e4c4a",
   "metadata": {
    "ExecuteTime": {
     "end_time": "2022-05-05T08:12:21.327144Z",
     "start_time": "2022-05-05T08:12:21.080449Z"
    }
   },
   "outputs": [],
   "source": [
    "# mapping index\n",
    "path = '../data/processed'\n",
    "infile = open(os.path.join(path,'index_to_cusId.pkl'),'rb')\n",
    "index_to_id_dict = pickle.load(infile)\n",
    "infile.close()"
   ]
  },
  {
   "cell_type": "code",
   "execution_count": 54,
   "id": "6cf64698",
   "metadata": {
    "ExecuteTime": {
     "end_time": "2022-05-05T08:12:26.785438Z",
     "start_time": "2022-05-05T08:12:22.399279Z"
    }
   },
   "outputs": [
    {
     "data": {
      "text/html": [
       "<div>\n",
       "<style scoped>\n",
       "    .dataframe tbody tr th:only-of-type {\n",
       "        vertical-align: middle;\n",
       "    }\n",
       "\n",
       "    .dataframe tbody tr th {\n",
       "        vertical-align: top;\n",
       "    }\n",
       "\n",
       "    .dataframe thead th {\n",
       "        text-align: right;\n",
       "    }\n",
       "</style>\n",
       "<table border=\"1\" class=\"dataframe\">\n",
       "  <thead>\n",
       "    <tr style=\"text-align: right;\">\n",
       "      <th></th>\n",
       "      <th>t_dat</th>\n",
       "      <th>customer_id</th>\n",
       "      <th>article_id</th>\n",
       "      <th>price</th>\n",
       "      <th>sales_channel_id</th>\n",
       "    </tr>\n",
       "  </thead>\n",
       "  <tbody>\n",
       "    <tr>\n",
       "      <th>0</th>\n",
       "      <td>2018-09-20</td>\n",
       "      <td>000058a12d5b43e67d225668fa1f8d618c13dc232df0ca...</td>\n",
       "      <td>0663713001</td>\n",
       "      <td>0.050831</td>\n",
       "      <td>2</td>\n",
       "    </tr>\n",
       "    <tr>\n",
       "      <th>1</th>\n",
       "      <td>2018-09-20</td>\n",
       "      <td>000058a12d5b43e67d225668fa1f8d618c13dc232df0ca...</td>\n",
       "      <td>0541518023</td>\n",
       "      <td>0.030492</td>\n",
       "      <td>2</td>\n",
       "    </tr>\n",
       "    <tr>\n",
       "      <th>2</th>\n",
       "      <td>2018-09-20</td>\n",
       "      <td>00007d2de826758b65a93dd24ce629ed66842531df6699...</td>\n",
       "      <td>0505221004</td>\n",
       "      <td>0.015237</td>\n",
       "      <td>2</td>\n",
       "    </tr>\n",
       "    <tr>\n",
       "      <th>3</th>\n",
       "      <td>2018-09-20</td>\n",
       "      <td>00007d2de826758b65a93dd24ce629ed66842531df6699...</td>\n",
       "      <td>0685687003</td>\n",
       "      <td>0.016932</td>\n",
       "      <td>2</td>\n",
       "    </tr>\n",
       "    <tr>\n",
       "      <th>4</th>\n",
       "      <td>2018-09-20</td>\n",
       "      <td>00007d2de826758b65a93dd24ce629ed66842531df6699...</td>\n",
       "      <td>0685687004</td>\n",
       "      <td>0.016932</td>\n",
       "      <td>2</td>\n",
       "    </tr>\n",
       "  </tbody>\n",
       "</table>\n",
       "</div>"
      ],
      "text/plain": [
       "       t_dat                                        customer_id  article_id  \\\n",
       "0 2018-09-20  000058a12d5b43e67d225668fa1f8d618c13dc232df0ca...  0663713001   \n",
       "1 2018-09-20  000058a12d5b43e67d225668fa1f8d618c13dc232df0ca...  0541518023   \n",
       "2 2018-09-20  00007d2de826758b65a93dd24ce629ed66842531df6699...  0505221004   \n",
       "3 2018-09-20  00007d2de826758b65a93dd24ce629ed66842531df6699...  0685687003   \n",
       "4 2018-09-20  00007d2de826758b65a93dd24ce629ed66842531df6699...  0685687004   \n",
       "\n",
       "      price  sales_channel_id  \n",
       "0  0.050831                 2  \n",
       "1  0.030492                 2  \n",
       "2  0.015237                 2  \n",
       "3  0.016932                 2  \n",
       "4  0.016932                 2  "
      ]
     },
     "execution_count": 54,
     "metadata": {},
     "output_type": "execute_result"
    }
   ],
   "source": [
    "path = '../data/processed'\n",
    "trans = pd.read_pickle(os.path.join(path,'transactions.pkl'))\n",
    "trans[\"customer_id\"] = trans[\"customer_id\"].map(index_to_id_dict)\n",
    "trans.head()"
   ]
  },
  {
   "cell_type": "code",
   "execution_count": 55,
   "id": "acb99575",
   "metadata": {
    "ExecuteTime": {
     "end_time": "2022-05-05T08:12:30.254293Z",
     "start_time": "2022-05-05T08:12:27.848263Z"
    }
   },
   "outputs": [
    {
     "name": "stdout",
     "output_type": "stream",
     "text": [
      "Min date:  2020-09-16 00:00:00\n",
      "Max date:  2020-09-22 00:00:00\n",
      "Total Customers: 50\n"
     ]
    },
    {
     "data": {
      "text/html": [
       "<div>\n",
       "<style scoped>\n",
       "    .dataframe tbody tr th:only-of-type {\n",
       "        vertical-align: middle;\n",
       "    }\n",
       "\n",
       "    .dataframe tbody tr th {\n",
       "        vertical-align: top;\n",
       "    }\n",
       "\n",
       "    .dataframe thead th {\n",
       "        text-align: right;\n",
       "    }\n",
       "</style>\n",
       "<table border=\"1\" class=\"dataframe\">\n",
       "  <thead>\n",
       "    <tr style=\"text-align: right;\">\n",
       "      <th></th>\n",
       "      <th>customer_id</th>\n",
       "      <th>actual</th>\n",
       "    </tr>\n",
       "  </thead>\n",
       "  <tbody>\n",
       "    <tr>\n",
       "      <th>338</th>\n",
       "      <td>01343722529be320bc0955acc1b7c40322e5f801c6b8e0...</td>\n",
       "      <td>[0928210002, 0874754002, 0714790020, 092238100...</td>\n",
       "    </tr>\n",
       "    <tr>\n",
       "      <th>2758</th>\n",
       "      <td>0a31e048711796ab3ec0179034fd9d7282101e42c89684...</td>\n",
       "      <td>[0730570029, 0759814020, 0794575002, 078290100...</td>\n",
       "    </tr>\n",
       "    <tr>\n",
       "      <th>3364</th>\n",
       "      <td>0c86d1502d0f9c23157fb89bd97e45587372777b318a83...</td>\n",
       "      <td>[0877268005, 0685813001, 0685813042, 092313400...</td>\n",
       "    </tr>\n",
       "    <tr>\n",
       "      <th>3970</th>\n",
       "      <td>0ebd7f3073819f86ba5f2ad025db2b51ae36ad7039d453...</td>\n",
       "      <td>[0790368006, 0894320001, 0919273004, 087388400...</td>\n",
       "    </tr>\n",
       "    <tr>\n",
       "      <th>4567</th>\n",
       "      <td>10f245b02120d5c89b574db89b290983238a0a4e98a935...</td>\n",
       "      <td>[0852174001, 0757303021, 0863284001, 085258400...</td>\n",
       "    </tr>\n",
       "  </tbody>\n",
       "</table>\n",
       "</div>"
      ],
      "text/plain": [
       "                                            customer_id  \\\n",
       "338   01343722529be320bc0955acc1b7c40322e5f801c6b8e0...   \n",
       "2758  0a31e048711796ab3ec0179034fd9d7282101e42c89684...   \n",
       "3364  0c86d1502d0f9c23157fb89bd97e45587372777b318a83...   \n",
       "3970  0ebd7f3073819f86ba5f2ad025db2b51ae36ad7039d453...   \n",
       "4567  10f245b02120d5c89b574db89b290983238a0a4e98a935...   \n",
       "\n",
       "                                                 actual  \n",
       "338   [0928210002, 0874754002, 0714790020, 092238100...  \n",
       "2758  [0730570029, 0759814020, 0794575002, 078290100...  \n",
       "3364  [0877268005, 0685813001, 0685813042, 092313400...  \n",
       "3970  [0790368006, 0894320001, 0919273004, 087388400...  \n",
       "4567  [0852174001, 0757303021, 0863284001, 085258400...  "
      ]
     },
     "execution_count": 55,
     "metadata": {},
     "output_type": "execute_result"
    }
   ],
   "source": [
    "start_dt =  datetime.datetime(2020,9,15)\n",
    "end_dt = start_dt + timedelta(7)\n",
    "\n",
    "trans = trans[(trans.t_dat > start_dt) & (trans.t_dat <= end_dt)]\n",
    "print('Min date: ', trans.t_dat.min())\n",
    "print('Max date: ', trans.t_dat.max())\n",
    "\n",
    "target = pd.DataFrame(trans.groupby(['customer_id'])['article_id'].apply(lambda x: list(set(x))))\\\n",
    "                        .reset_index()\\\n",
    "                        .rename(columns={'article_id':'actual'})\n",
    "# weekly_purchased['weekly_purchased_products'] = weekly_purchased['weekly_purchased_products'].apply(lambda x: list(set(x)))\n",
    "target = target[target.customer_id.isin(cus_list)]\n",
    "print(f'Total Customers: {target.customer_id.nunique()}')\n",
    "target.head()"
   ]
  },
  {
   "cell_type": "markdown",
   "id": "914c04d6",
   "metadata": {},
   "source": [
    "## Random name"
   ]
  },
  {
   "cell_type": "code",
   "execution_count": 56,
   "id": "bf03f8c5",
   "metadata": {
    "ExecuteTime": {
     "end_time": "2022-05-05T08:12:31.586452Z",
     "start_time": "2022-05-05T08:12:31.273666Z"
    }
   },
   "outputs": [
    {
     "data": {
      "text/html": [
       "<div>\n",
       "<style scoped>\n",
       "    .dataframe tbody tr th:only-of-type {\n",
       "        vertical-align: middle;\n",
       "    }\n",
       "\n",
       "    .dataframe tbody tr th {\n",
       "        vertical-align: top;\n",
       "    }\n",
       "\n",
       "    .dataframe thead th {\n",
       "        text-align: right;\n",
       "    }\n",
       "</style>\n",
       "<table border=\"1\" class=\"dataframe\">\n",
       "  <thead>\n",
       "    <tr style=\"text-align: right;\">\n",
       "      <th></th>\n",
       "      <th>customer_id</th>\n",
       "      <th>name</th>\n",
       "    </tr>\n",
       "  </thead>\n",
       "  <tbody>\n",
       "    <tr>\n",
       "      <th>0</th>\n",
       "      <td>01343722529be320bc0955acc1b7c40322e5f801c6b8e0...</td>\n",
       "      <td>Lisa Holderby</td>\n",
       "    </tr>\n",
       "    <tr>\n",
       "      <th>1</th>\n",
       "      <td>0a31e048711796ab3ec0179034fd9d7282101e42c89684...</td>\n",
       "      <td>Wilfred Parks</td>\n",
       "    </tr>\n",
       "    <tr>\n",
       "      <th>2</th>\n",
       "      <td>0c86d1502d0f9c23157fb89bd97e45587372777b318a83...</td>\n",
       "      <td>Leonard Murphy</td>\n",
       "    </tr>\n",
       "    <tr>\n",
       "      <th>3</th>\n",
       "      <td>0ebd7f3073819f86ba5f2ad025db2b51ae36ad7039d453...</td>\n",
       "      <td>Janet Boggioni</td>\n",
       "    </tr>\n",
       "    <tr>\n",
       "      <th>4</th>\n",
       "      <td>10f245b02120d5c89b574db89b290983238a0a4e98a935...</td>\n",
       "      <td>Diane Alvarado</td>\n",
       "    </tr>\n",
       "  </tbody>\n",
       "</table>\n",
       "</div>"
      ],
      "text/plain": [
       "                                         customer_id            name\n",
       "0  01343722529be320bc0955acc1b7c40322e5f801c6b8e0...   Lisa Holderby\n",
       "1  0a31e048711796ab3ec0179034fd9d7282101e42c89684...   Wilfred Parks\n",
       "2  0c86d1502d0f9c23157fb89bd97e45587372777b318a83...  Leonard Murphy\n",
       "3  0ebd7f3073819f86ba5f2ad025db2b51ae36ad7039d453...  Janet Boggioni\n",
       "4  10f245b02120d5c89b574db89b290983238a0a4e98a935...  Diane Alvarado"
      ]
     },
     "execution_count": 56,
     "metadata": {},
     "output_type": "execute_result"
    }
   ],
   "source": [
    "# random name\n",
    "\n",
    "cus_name = {}\n",
    "for i in cus_list:\n",
    "    cus_name[i] = names.get_full_name()\n",
    "cus_name = pd.DataFrame.from_dict(cus_name,orient='index',columns=['name']).reset_index(drop=False).rename(columns={'index':'customer_id'})\n",
    "\n",
    "cus_name.head()"
   ]
  },
  {
   "cell_type": "markdown",
   "id": "aee5280b",
   "metadata": {},
   "source": [
    "## Consolidate data"
   ]
  },
  {
   "cell_type": "code",
   "execution_count": 57,
   "id": "00c990e7",
   "metadata": {
    "ExecuteTime": {
     "end_time": "2022-05-05T08:12:32.605273Z",
     "start_time": "2022-05-05T08:12:32.590779Z"
    }
   },
   "outputs": [],
   "source": [
    "target['actual'] = target['actual'].apply(lambda x: ' '.join(x))"
   ]
  },
  {
   "cell_type": "code",
   "execution_count": 58,
   "id": "d272ce21",
   "metadata": {
    "ExecuteTime": {
     "end_time": "2022-05-05T08:12:33.656570Z",
     "start_time": "2022-05-05T08:12:33.626515Z"
    }
   },
   "outputs": [
    {
     "name": "stdout",
     "output_type": "stream",
     "text": [
      "50\n",
      "50\n",
      "49\n",
      "50\n",
      "50\n"
     ]
    },
    {
     "data": {
      "text/html": [
       "<div>\n",
       "<style scoped>\n",
       "    .dataframe tbody tr th:only-of-type {\n",
       "        vertical-align: middle;\n",
       "    }\n",
       "\n",
       "    .dataframe tbody tr th {\n",
       "        vertical-align: top;\n",
       "    }\n",
       "\n",
       "    .dataframe thead th {\n",
       "        text-align: right;\n",
       "    }\n",
       "</style>\n",
       "<table border=\"1\" class=\"dataframe\">\n",
       "  <thead>\n",
       "    <tr style=\"text-align: right;\">\n",
       "      <th></th>\n",
       "      <th>customer_id</th>\n",
       "      <th>prediction</th>\n",
       "      <th>recent_purchase</th>\n",
       "      <th>model</th>\n",
       "      <th>actual</th>\n",
       "      <th>name</th>\n",
       "    </tr>\n",
       "  </thead>\n",
       "  <tbody>\n",
       "    <tr>\n",
       "      <th>0</th>\n",
       "      <td>01343722529be320bc0955acc1b7c40322e5f801c6b8e0...</td>\n",
       "      <td>0894668003 0714790028 0874754002 0714790020 07...</td>\n",
       "      <td>0765739001 0708246001 0801384004 0738731002 07...</td>\n",
       "      <td>ALS Model</td>\n",
       "      <td>0928210002 0874754002 0714790020 0922381001 08...</td>\n",
       "      <td>Lisa Holderby</td>\n",
       "    </tr>\n",
       "    <tr>\n",
       "      <th>1</th>\n",
       "      <td>0a31e048711796ab3ec0179034fd9d7282101e42c89684...</td>\n",
       "      <td>0794575002 0682550002 0621381016 0621381012 07...</td>\n",
       "      <td>0516859008 0529008003 0703366002 0682238007 05...</td>\n",
       "      <td>ALS Model</td>\n",
       "      <td>0730570029 0759814020 0794575002 0782901006 08...</td>\n",
       "      <td>Wilfred Parks</td>\n",
       "    </tr>\n",
       "    <tr>\n",
       "      <th>2</th>\n",
       "      <td>0c86d1502d0f9c23157fb89bd97e45587372777b318a83...</td>\n",
       "      <td>0685813001 0685813042 0685813003 0685813040 06...</td>\n",
       "      <td>0637515004 0716548003 0547367006 0723469007 05...</td>\n",
       "      <td>ALS Model</td>\n",
       "      <td>0877268005 0685813001 0685813042 0923134007 06...</td>\n",
       "      <td>Leonard Murphy</td>\n",
       "    </tr>\n",
       "    <tr>\n",
       "      <th>3</th>\n",
       "      <td>0ebd7f3073819f86ba5f2ad025db2b51ae36ad7039d453...</td>\n",
       "      <td>0919273002 0901330002 0790368006 0919273004 09...</td>\n",
       "      <td>0842314001 0873884005 0746330004 0929042001 08...</td>\n",
       "      <td>ALS Model</td>\n",
       "      <td>0790368006 0894320001 0919273004 0873884005 09...</td>\n",
       "      <td>Janet Boggioni</td>\n",
       "    </tr>\n",
       "    <tr>\n",
       "      <th>4</th>\n",
       "      <td>10f245b02120d5c89b574db89b290983238a0a4e98a935...</td>\n",
       "      <td>0740519002 0730683052 0852174001 0804992017 08...</td>\n",
       "      <td>0761624001 0907696002 0776237010 0802485004 07...</td>\n",
       "      <td>ALS Model</td>\n",
       "      <td>0852174001 0757303021 0863284001 0852584002 07...</td>\n",
       "      <td>Diane Alvarado</td>\n",
       "    </tr>\n",
       "    <tr>\n",
       "      <th>...</th>\n",
       "      <td>...</td>\n",
       "      <td>...</td>\n",
       "      <td>...</td>\n",
       "      <td>...</td>\n",
       "      <td>...</td>\n",
       "      <td>...</td>\n",
       "    </tr>\n",
       "    <tr>\n",
       "      <th>244</th>\n",
       "      <td>ec2f388a3b3e632bbe818173306713898cf2e12fd58c4a...</td>\n",
       "      <td>0516789002 0612064008 0618387003 0633535003 06...</td>\n",
       "      <td>0816166002</td>\n",
       "      <td>Item-Item Similarity Model</td>\n",
       "      <td>0855080011 0855080009 0855080002 0921697003 08...</td>\n",
       "      <td>William Allen</td>\n",
       "    </tr>\n",
       "    <tr>\n",
       "      <th>245</th>\n",
       "      <td>f160f1a3bb3a7e2a7558c3ae98c3531dd920a43654732e...</td>\n",
       "      <td>0740564002 0740943002 0772794003 0857812007 08...</td>\n",
       "      <td>0740943002</td>\n",
       "      <td>Item-Item Similarity Model</td>\n",
       "      <td>0905889002 0870328002 0870328001 0884319003 08...</td>\n",
       "      <td>Walter Avila</td>\n",
       "    </tr>\n",
       "    <tr>\n",
       "      <th>246</th>\n",
       "      <td>fa06f8154a9fb9de61d24362e924a7c1dfaa51e6bc6189...</td>\n",
       "      <td>0544054013 0560030021 0621735015 0634013005 06...</td>\n",
       "      <td>0795836005</td>\n",
       "      <td>Item-Item Similarity Model</td>\n",
       "      <td>0562245104 0883079006 0929165002 0794575002 09...</td>\n",
       "      <td>Henry Tacadina</td>\n",
       "    </tr>\n",
       "    <tr>\n",
       "      <th>247</th>\n",
       "      <td>fced61dd06e3e0d5628802f239afb1c023b7055719e8ab...</td>\n",
       "      <td>0188183001 0205225001 0351484002 0377289002 04...</td>\n",
       "      <td>0600886001</td>\n",
       "      <td>Item-Item Similarity Model</td>\n",
       "      <td>0854193004 0812668002 0852374004 0837278001 08...</td>\n",
       "      <td>Charles Peterson</td>\n",
       "    </tr>\n",
       "    <tr>\n",
       "      <th>248</th>\n",
       "      <td>fd2cd02e61c364e08a8a7542acc0213cff348df5e6fcb5...</td>\n",
       "      <td>0515235001 0515262001 0515265003 0568863005 05...</td>\n",
       "      <td>0579541001</td>\n",
       "      <td>Item-Item Similarity Model</td>\n",
       "      <td>0894780001 0898684001 0897221001 0904414005 08...</td>\n",
       "      <td>Helen Johnson</td>\n",
       "    </tr>\n",
       "  </tbody>\n",
       "</table>\n",
       "<p>249 rows × 6 columns</p>\n",
       "</div>"
      ],
      "text/plain": [
       "                                           customer_id  \\\n",
       "0    01343722529be320bc0955acc1b7c40322e5f801c6b8e0...   \n",
       "1    0a31e048711796ab3ec0179034fd9d7282101e42c89684...   \n",
       "2    0c86d1502d0f9c23157fb89bd97e45587372777b318a83...   \n",
       "3    0ebd7f3073819f86ba5f2ad025db2b51ae36ad7039d453...   \n",
       "4    10f245b02120d5c89b574db89b290983238a0a4e98a935...   \n",
       "..                                                 ...   \n",
       "244  ec2f388a3b3e632bbe818173306713898cf2e12fd58c4a...   \n",
       "245  f160f1a3bb3a7e2a7558c3ae98c3531dd920a43654732e...   \n",
       "246  fa06f8154a9fb9de61d24362e924a7c1dfaa51e6bc6189...   \n",
       "247  fced61dd06e3e0d5628802f239afb1c023b7055719e8ab...   \n",
       "248  fd2cd02e61c364e08a8a7542acc0213cff348df5e6fcb5...   \n",
       "\n",
       "                                            prediction  \\\n",
       "0    0894668003 0714790028 0874754002 0714790020 07...   \n",
       "1    0794575002 0682550002 0621381016 0621381012 07...   \n",
       "2    0685813001 0685813042 0685813003 0685813040 06...   \n",
       "3    0919273002 0901330002 0790368006 0919273004 09...   \n",
       "4    0740519002 0730683052 0852174001 0804992017 08...   \n",
       "..                                                 ...   \n",
       "244  0516789002 0612064008 0618387003 0633535003 06...   \n",
       "245  0740564002 0740943002 0772794003 0857812007 08...   \n",
       "246  0544054013 0560030021 0621735015 0634013005 06...   \n",
       "247  0188183001 0205225001 0351484002 0377289002 04...   \n",
       "248  0515235001 0515262001 0515265003 0568863005 05...   \n",
       "\n",
       "                                       recent_purchase  \\\n",
       "0    0765739001 0708246001 0801384004 0738731002 07...   \n",
       "1    0516859008 0529008003 0703366002 0682238007 05...   \n",
       "2    0637515004 0716548003 0547367006 0723469007 05...   \n",
       "3    0842314001 0873884005 0746330004 0929042001 08...   \n",
       "4    0761624001 0907696002 0776237010 0802485004 07...   \n",
       "..                                                 ...   \n",
       "244                                         0816166002   \n",
       "245                                         0740943002   \n",
       "246                                         0795836005   \n",
       "247                                         0600886001   \n",
       "248                                         0579541001   \n",
       "\n",
       "                          model  \\\n",
       "0                     ALS Model   \n",
       "1                     ALS Model   \n",
       "2                     ALS Model   \n",
       "3                     ALS Model   \n",
       "4                     ALS Model   \n",
       "..                          ...   \n",
       "244  Item-Item Similarity Model   \n",
       "245  Item-Item Similarity Model   \n",
       "246  Item-Item Similarity Model   \n",
       "247  Item-Item Similarity Model   \n",
       "248  Item-Item Similarity Model   \n",
       "\n",
       "                                                actual              name  \n",
       "0    0928210002 0874754002 0714790020 0922381001 08...     Lisa Holderby  \n",
       "1    0730570029 0759814020 0794575002 0782901006 08...     Wilfred Parks  \n",
       "2    0877268005 0685813001 0685813042 0923134007 06...    Leonard Murphy  \n",
       "3    0790368006 0894320001 0919273004 0873884005 09...    Janet Boggioni  \n",
       "4    0852174001 0757303021 0863284001 0852584002 07...    Diane Alvarado  \n",
       "..                                                 ...               ...  \n",
       "244  0855080011 0855080009 0855080002 0921697003 08...     William Allen  \n",
       "245  0905889002 0870328002 0870328001 0884319003 08...      Walter Avila  \n",
       "246  0562245104 0883079006 0929165002 0794575002 09...    Henry Tacadina  \n",
       "247  0854193004 0812668002 0852374004 0837278001 08...  Charles Peterson  \n",
       "248  0894780001 0898684001 0897221001 0904414005 08...     Helen Johnson  \n",
       "\n",
       "[249 rows x 6 columns]"
      ]
     },
     "execution_count": 58,
     "metadata": {},
     "output_type": "execute_result"
    }
   ],
   "source": [
    "re_1['model'] = 'ALS Model'\n",
    "re_2['model'] = 'User-User Similarity Model'\n",
    "re_3['model'] = 'Ranking Factorization Model'\n",
    "re_4['model'] = 'Image Similarity Model'\n",
    "re_5['model'] = 'Item-Item Similarity Model'\n",
    "\n",
    "\n",
    "\n",
    "\n",
    "\n",
    "frames = [re_1, re_2, re_3,re_4,re_5]\n",
    "for i in frames:\n",
    "    print(len(i))\n",
    "result = pd.concat(frames)\n",
    "\n",
    "\n",
    "result = result.merge(target,on='customer_id',how='left')\n",
    "result = result.merge(cus_name,on='customer_id',how='left')\n",
    "# result['actual'] = result['actual'].fillna('')\n",
    "result"
   ]
  },
  {
   "cell_type": "markdown",
   "id": "5bfbfb43",
   "metadata": {},
   "source": [
    "## Get Image Files"
   ]
  },
  {
   "cell_type": "code",
   "execution_count": 59,
   "id": "ff7481c3",
   "metadata": {
    "ExecuteTime": {
     "end_time": "2022-05-05T08:12:34.710139Z",
     "start_time": "2022-05-05T08:12:34.695149Z"
    }
   },
   "outputs": [
    {
     "name": "stdout",
     "output_type": "stream",
     "text": [
      "Total unique_articles:  2531\n"
     ]
    }
   ],
   "source": [
    "unique_articles = []\n",
    "for i in result.prediction:\n",
    "    unique_articles = unique_articles + i.split()\n",
    "    \n",
    "for i in result.recent_purchase:\n",
    "    if len(i) > 10:\n",
    "        temp = i.split()\n",
    "    else:\n",
    "        temp = [i]\n",
    "    unique_articles = unique_articles + temp \n",
    "    \n",
    "for i in target.actual:\n",
    "    if len(i) > 10:\n",
    "        temp = i.split()\n",
    "    else:\n",
    "        temp = [i]\n",
    "    unique_articles = unique_articles + temp\n",
    "\n",
    "unique_articles = list(set(unique_articles))\n",
    "print('Total unique_articles: ', len(unique_articles))\n",
    "# unique_articles"
   ]
  },
  {
   "cell_type": "code",
   "execution_count": 60,
   "id": "8465034d",
   "metadata": {
    "ExecuteTime": {
     "end_time": "2022-05-05T08:13:19.571460Z",
     "start_time": "2022-05-05T08:12:35.755264Z"
    }
   },
   "outputs": [
    {
     "name": "stdout",
     "output_type": "stream",
     "text": [
      "Missing articles: 0513701002\n",
      "Missing articles: 0626263002\n",
      "Missing articles: 0863646002\n",
      "Missing articles: 0610776002\n",
      "Missing articles: 0179208001\n",
      "Missing articles: 0446224011\n",
      "Missing articles: 0218354021\n",
      "Missing articles: 0610776001\n",
      "Missing articles: 0216961011\n",
      "Done. Resize Image\n"
     ]
    }
   ],
   "source": [
    "from tqdm import tqdm\n",
    "from PIL import Image\n",
    "\n",
    "save_path = '../static/model/images'\n",
    "raw_path = '../data/raw/images'\n",
    "\n",
    "width = 1166\n",
    "hieght = 1750\n",
    "reduce = 0.2\n",
    "\n",
    "# Clear all file in the directory\n",
    "for f in os.listdir(save_path):\n",
    "    os.remove(os.path.join(save_path, f))\n",
    "\n",
    "# Copy using picture\n",
    "for i in unique_articles:\n",
    "    src = os.path.join(raw_path,i[:3],i+'.jpg')\n",
    "    dst = os.path.join(save_path,i+'.jpg')\n",
    "    if os.path.exists(src):\n",
    "        shutil.copyfile(src, dst)\n",
    "    else:\n",
    "        print(f'Missing articles: {i}')\n",
    "\n",
    "# Resize Image\n",
    "multiple_images = os.listdir(save_path)\n",
    "\n",
    "# Looping over all of the images:\n",
    "for image in multiple_images:\n",
    "    img = Image.open(os.path.join(save_path, image))\n",
    "    img.thumbnail(size=(width*reduce,hieght*reduce))\n",
    "#     print(img)\n",
    "    # We would run the command below to save the images:\n",
    "    img.save(os.path.join(save_path, image), optimize=True)\n",
    "print('Done. Resize Image')"
   ]
  },
  {
   "cell_type": "markdown",
   "id": "adc43eab",
   "metadata": {},
   "source": [
    "## Get articles"
   ]
  },
  {
   "cell_type": "code",
   "execution_count": 61,
   "id": "caa662d8",
   "metadata": {
    "ExecuteTime": {
     "end_time": "2022-05-05T08:13:20.711059Z",
     "start_time": "2022-05-05T08:13:20.602337Z"
    }
   },
   "outputs": [
    {
     "data": {
      "text/html": [
       "<div>\n",
       "<style scoped>\n",
       "    .dataframe tbody tr th:only-of-type {\n",
       "        vertical-align: middle;\n",
       "    }\n",
       "\n",
       "    .dataframe tbody tr th {\n",
       "        vertical-align: top;\n",
       "    }\n",
       "\n",
       "    .dataframe thead th {\n",
       "        text-align: right;\n",
       "    }\n",
       "</style>\n",
       "<table border=\"1\" class=\"dataframe\">\n",
       "  <thead>\n",
       "    <tr style=\"text-align: right;\">\n",
       "      <th></th>\n",
       "      <th>article_id</th>\n",
       "      <th>product_code</th>\n",
       "      <th>prod_name</th>\n",
       "      <th>product_type_no</th>\n",
       "      <th>product_type_name</th>\n",
       "      <th>product_group_name</th>\n",
       "      <th>graphical_appearance_no</th>\n",
       "      <th>graphical_appearance_name</th>\n",
       "      <th>colour_group_code</th>\n",
       "      <th>colour_group_name</th>\n",
       "      <th>...</th>\n",
       "      <th>department_name</th>\n",
       "      <th>index_code</th>\n",
       "      <th>index_name</th>\n",
       "      <th>index_group_no</th>\n",
       "      <th>index_group_name</th>\n",
       "      <th>section_no</th>\n",
       "      <th>section_name</th>\n",
       "      <th>garment_group_no</th>\n",
       "      <th>garment_group_name</th>\n",
       "      <th>detail_desc</th>\n",
       "    </tr>\n",
       "  </thead>\n",
       "  <tbody>\n",
       "    <tr>\n",
       "      <th>0</th>\n",
       "      <td>0108775015</td>\n",
       "      <td>108775</td>\n",
       "      <td>Strap top</td>\n",
       "      <td>253</td>\n",
       "      <td>Vest top</td>\n",
       "      <td>Garment Upper body</td>\n",
       "      <td>1010016</td>\n",
       "      <td>Solid</td>\n",
       "      <td>9</td>\n",
       "      <td>Black</td>\n",
       "      <td>...</td>\n",
       "      <td>Jersey Basic</td>\n",
       "      <td>A</td>\n",
       "      <td>Ladieswear</td>\n",
       "      <td>1</td>\n",
       "      <td>Ladieswear</td>\n",
       "      <td>16</td>\n",
       "      <td>Womens Everyday Basics</td>\n",
       "      <td>1002</td>\n",
       "      <td>Jersey Basic</td>\n",
       "      <td>Jersey top with narrow shoulder straps.</td>\n",
       "    </tr>\n",
       "    <tr>\n",
       "      <th>1</th>\n",
       "      <td>0108775044</td>\n",
       "      <td>108775</td>\n",
       "      <td>Strap top</td>\n",
       "      <td>253</td>\n",
       "      <td>Vest top</td>\n",
       "      <td>Garment Upper body</td>\n",
       "      <td>1010016</td>\n",
       "      <td>Solid</td>\n",
       "      <td>10</td>\n",
       "      <td>White</td>\n",
       "      <td>...</td>\n",
       "      <td>Jersey Basic</td>\n",
       "      <td>A</td>\n",
       "      <td>Ladieswear</td>\n",
       "      <td>1</td>\n",
       "      <td>Ladieswear</td>\n",
       "      <td>16</td>\n",
       "      <td>Womens Everyday Basics</td>\n",
       "      <td>1002</td>\n",
       "      <td>Jersey Basic</td>\n",
       "      <td>Jersey top with narrow shoulder straps.</td>\n",
       "    </tr>\n",
       "  </tbody>\n",
       "</table>\n",
       "<p>2 rows × 25 columns</p>\n",
       "</div>"
      ],
      "text/plain": [
       "   article_id  product_code  prod_name  product_type_no product_type_name  \\\n",
       "0  0108775015        108775  Strap top              253          Vest top   \n",
       "1  0108775044        108775  Strap top              253          Vest top   \n",
       "\n",
       "   product_group_name  graphical_appearance_no graphical_appearance_name  \\\n",
       "0  Garment Upper body                  1010016                     Solid   \n",
       "1  Garment Upper body                  1010016                     Solid   \n",
       "\n",
       "   colour_group_code colour_group_name  ...  department_name index_code  \\\n",
       "0                  9             Black  ...     Jersey Basic          A   \n",
       "1                 10             White  ...     Jersey Basic          A   \n",
       "\n",
       "   index_name index_group_no  index_group_name section_no  \\\n",
       "0  Ladieswear              1        Ladieswear         16   \n",
       "1  Ladieswear              1        Ladieswear         16   \n",
       "\n",
       "             section_name garment_group_no  garment_group_name  \\\n",
       "0  Womens Everyday Basics             1002        Jersey Basic   \n",
       "1  Womens Everyday Basics             1002        Jersey Basic   \n",
       "\n",
       "                               detail_desc  \n",
       "0  Jersey top with narrow shoulder straps.  \n",
       "1  Jersey top with narrow shoulder straps.  \n",
       "\n",
       "[2 rows x 25 columns]"
      ]
     },
     "execution_count": 61,
     "metadata": {},
     "output_type": "execute_result"
    }
   ],
   "source": [
    "# articles description\n",
    "articles = pd.read_pickle(os.path.join(path,'articles.pkl'))\n",
    "articles.head(2)"
   ]
  },
  {
   "cell_type": "code",
   "execution_count": 62,
   "id": "5ae53a69",
   "metadata": {
    "ExecuteTime": {
     "end_time": "2022-05-05T08:13:21.791146Z",
     "start_time": "2022-05-05T08:13:21.746268Z"
    }
   },
   "outputs": [
    {
     "name": "stdout",
     "output_type": "stream",
     "text": [
      "Total Selected Articles:  2531\n"
     ]
    },
    {
     "data": {
      "text/html": [
       "<div>\n",
       "<style scoped>\n",
       "    .dataframe tbody tr th:only-of-type {\n",
       "        vertical-align: middle;\n",
       "    }\n",
       "\n",
       "    .dataframe tbody tr th {\n",
       "        vertical-align: top;\n",
       "    }\n",
       "\n",
       "    .dataframe thead th {\n",
       "        text-align: right;\n",
       "    }\n",
       "</style>\n",
       "<table border=\"1\" class=\"dataframe\">\n",
       "  <thead>\n",
       "    <tr style=\"text-align: right;\">\n",
       "      <th></th>\n",
       "      <th>article_id</th>\n",
       "      <th>product_code</th>\n",
       "      <th>prod_name</th>\n",
       "      <th>product_type_no</th>\n",
       "      <th>product_type_name</th>\n",
       "      <th>product_group_name</th>\n",
       "      <th>graphical_appearance_no</th>\n",
       "      <th>graphical_appearance_name</th>\n",
       "      <th>colour_group_code</th>\n",
       "      <th>colour_group_name</th>\n",
       "      <th>...</th>\n",
       "      <th>department_name</th>\n",
       "      <th>index_code</th>\n",
       "      <th>index_name</th>\n",
       "      <th>index_group_no</th>\n",
       "      <th>index_group_name</th>\n",
       "      <th>section_no</th>\n",
       "      <th>section_name</th>\n",
       "      <th>garment_group_no</th>\n",
       "      <th>garment_group_name</th>\n",
       "      <th>detail_desc</th>\n",
       "    </tr>\n",
       "  </thead>\n",
       "  <tbody>\n",
       "    <tr>\n",
       "      <th>0</th>\n",
       "      <td>0108775015</td>\n",
       "      <td>108775</td>\n",
       "      <td>Strap top</td>\n",
       "      <td>253</td>\n",
       "      <td>Vest top</td>\n",
       "      <td>Garment Upper body</td>\n",
       "      <td>1010016</td>\n",
       "      <td>Solid</td>\n",
       "      <td>9</td>\n",
       "      <td>Black</td>\n",
       "      <td>...</td>\n",
       "      <td>Jersey Basic</td>\n",
       "      <td>A</td>\n",
       "      <td>Ladieswear</td>\n",
       "      <td>1</td>\n",
       "      <td>Ladieswear</td>\n",
       "      <td>16</td>\n",
       "      <td>Womens Everyday Basics</td>\n",
       "      <td>1002</td>\n",
       "      <td>Jersey Basic</td>\n",
       "      <td>Jersey top with narrow shoulder straps.</td>\n",
       "    </tr>\n",
       "    <tr>\n",
       "      <th>1</th>\n",
       "      <td>0108775044</td>\n",
       "      <td>108775</td>\n",
       "      <td>Strap top</td>\n",
       "      <td>253</td>\n",
       "      <td>Vest top</td>\n",
       "      <td>Garment Upper body</td>\n",
       "      <td>1010016</td>\n",
       "      <td>Solid</td>\n",
       "      <td>10</td>\n",
       "      <td>White</td>\n",
       "      <td>...</td>\n",
       "      <td>Jersey Basic</td>\n",
       "      <td>A</td>\n",
       "      <td>Ladieswear</td>\n",
       "      <td>1</td>\n",
       "      <td>Ladieswear</td>\n",
       "      <td>16</td>\n",
       "      <td>Womens Everyday Basics</td>\n",
       "      <td>1002</td>\n",
       "      <td>Jersey Basic</td>\n",
       "      <td>Jersey top with narrow shoulder straps.</td>\n",
       "    </tr>\n",
       "    <tr>\n",
       "      <th>2</th>\n",
       "      <td>0110065001</td>\n",
       "      <td>110065</td>\n",
       "      <td>OP T-shirt (Idro)</td>\n",
       "      <td>306</td>\n",
       "      <td>Bra</td>\n",
       "      <td>Underwear</td>\n",
       "      <td>1010016</td>\n",
       "      <td>Solid</td>\n",
       "      <td>9</td>\n",
       "      <td>Black</td>\n",
       "      <td>...</td>\n",
       "      <td>Clean Lingerie</td>\n",
       "      <td>B</td>\n",
       "      <td>Lingeries/Tights</td>\n",
       "      <td>1</td>\n",
       "      <td>Ladieswear</td>\n",
       "      <td>61</td>\n",
       "      <td>Womens Lingerie</td>\n",
       "      <td>1017</td>\n",
       "      <td>Under-, Nightwear</td>\n",
       "      <td>Microfibre T-shirt bra with underwired, moulde...</td>\n",
       "    </tr>\n",
       "    <tr>\n",
       "      <th>3</th>\n",
       "      <td>0111586001</td>\n",
       "      <td>111586</td>\n",
       "      <td>Shape Up 30 den 1p Tights</td>\n",
       "      <td>273</td>\n",
       "      <td>Leggings/Tights</td>\n",
       "      <td>Garment Lower body</td>\n",
       "      <td>1010016</td>\n",
       "      <td>Solid</td>\n",
       "      <td>9</td>\n",
       "      <td>Black</td>\n",
       "      <td>...</td>\n",
       "      <td>Tights basic</td>\n",
       "      <td>B</td>\n",
       "      <td>Lingeries/Tights</td>\n",
       "      <td>1</td>\n",
       "      <td>Ladieswear</td>\n",
       "      <td>62</td>\n",
       "      <td>Womens Nightwear, Socks &amp; Tigh</td>\n",
       "      <td>1021</td>\n",
       "      <td>Socks and Tights</td>\n",
       "      <td>Tights with built-in support to lift the botto...</td>\n",
       "    </tr>\n",
       "    <tr>\n",
       "      <th>4</th>\n",
       "      <td>0111593001</td>\n",
       "      <td>111593</td>\n",
       "      <td>Support 40 den 1p Tights</td>\n",
       "      <td>304</td>\n",
       "      <td>Underwear Tights</td>\n",
       "      <td>Socks &amp; Tights</td>\n",
       "      <td>1010016</td>\n",
       "      <td>Solid</td>\n",
       "      <td>9</td>\n",
       "      <td>Black</td>\n",
       "      <td>...</td>\n",
       "      <td>Tights basic</td>\n",
       "      <td>B</td>\n",
       "      <td>Lingeries/Tights</td>\n",
       "      <td>1</td>\n",
       "      <td>Ladieswear</td>\n",
       "      <td>62</td>\n",
       "      <td>Womens Nightwear, Socks &amp; Tigh</td>\n",
       "      <td>1021</td>\n",
       "      <td>Socks and Tights</td>\n",
       "      <td>Semi shiny tights that shape the tummy, thighs...</td>\n",
       "    </tr>\n",
       "  </tbody>\n",
       "</table>\n",
       "<p>5 rows × 25 columns</p>\n",
       "</div>"
      ],
      "text/plain": [
       "   article_id  product_code                  prod_name  product_type_no  \\\n",
       "0  0108775015        108775                  Strap top              253   \n",
       "1  0108775044        108775                  Strap top              253   \n",
       "2  0110065001        110065          OP T-shirt (Idro)              306   \n",
       "3  0111586001        111586  Shape Up 30 den 1p Tights              273   \n",
       "4  0111593001        111593   Support 40 den 1p Tights              304   \n",
       "\n",
       "  product_type_name  product_group_name  graphical_appearance_no  \\\n",
       "0          Vest top  Garment Upper body                  1010016   \n",
       "1          Vest top  Garment Upper body                  1010016   \n",
       "2               Bra           Underwear                  1010016   \n",
       "3   Leggings/Tights  Garment Lower body                  1010016   \n",
       "4  Underwear Tights      Socks & Tights                  1010016   \n",
       "\n",
       "  graphical_appearance_name  colour_group_code colour_group_name  ...  \\\n",
       "0                     Solid                  9             Black  ...   \n",
       "1                     Solid                 10             White  ...   \n",
       "2                     Solid                  9             Black  ...   \n",
       "3                     Solid                  9             Black  ...   \n",
       "4                     Solid                  9             Black  ...   \n",
       "\n",
       "   department_name index_code        index_name index_group_no  \\\n",
       "0     Jersey Basic          A        Ladieswear              1   \n",
       "1     Jersey Basic          A        Ladieswear              1   \n",
       "2   Clean Lingerie          B  Lingeries/Tights              1   \n",
       "3     Tights basic          B  Lingeries/Tights              1   \n",
       "4     Tights basic          B  Lingeries/Tights              1   \n",
       "\n",
       "   index_group_name section_no                    section_name  \\\n",
       "0        Ladieswear         16          Womens Everyday Basics   \n",
       "1        Ladieswear         16          Womens Everyday Basics   \n",
       "2        Ladieswear         61                 Womens Lingerie   \n",
       "3        Ladieswear         62  Womens Nightwear, Socks & Tigh   \n",
       "4        Ladieswear         62  Womens Nightwear, Socks & Tigh   \n",
       "\n",
       "  garment_group_no  garment_group_name  \\\n",
       "0             1002        Jersey Basic   \n",
       "1             1002        Jersey Basic   \n",
       "2             1017   Under-, Nightwear   \n",
       "3             1021    Socks and Tights   \n",
       "4             1021    Socks and Tights   \n",
       "\n",
       "                                         detail_desc  \n",
       "0            Jersey top with narrow shoulder straps.  \n",
       "1            Jersey top with narrow shoulder straps.  \n",
       "2  Microfibre T-shirt bra with underwired, moulde...  \n",
       "3  Tights with built-in support to lift the botto...  \n",
       "4  Semi shiny tights that shape the tummy, thighs...  \n",
       "\n",
       "[5 rows x 25 columns]"
      ]
     },
     "execution_count": 62,
     "metadata": {},
     "output_type": "execute_result"
    }
   ],
   "source": [
    "select_articles = articles[articles.article_id.isin(unique_articles)].reset_index(drop=True)\n",
    "print('Total Selected Articles: ',len(select_articles))\n",
    "select_articles.head()"
   ]
  },
  {
   "cell_type": "markdown",
   "id": "473f23d4",
   "metadata": {},
   "source": [
    "## Save file"
   ]
  },
  {
   "cell_type": "code",
   "execution_count": 63,
   "id": "04cfbc95",
   "metadata": {
    "ExecuteTime": {
     "end_time": "2022-05-05T08:13:22.913887Z",
     "start_time": "2022-05-05T08:13:22.868993Z"
    }
   },
   "outputs": [],
   "source": [
    "final_save_path = '../static/model'\n",
    "\n",
    "result.to_csv(os.path.join(final_save_path,'prediction.csv'))\n",
    "select_articles.to_csv(os.path.join(final_save_path,'articles_v2.csv'))\n",
    "# recent_purchase.to_csv(os.path.join(final_save_path,'recent_purchase.csv'))\n",
    "cus_name.to_csv(os.path.join(final_save_path,'customers_v2.csv'))"
   ]
  },
  {
   "cell_type": "code",
   "execution_count": 64,
   "id": "dd2e6cc8",
   "metadata": {
    "ExecuteTime": {
     "end_time": "2022-05-05T08:13:23.977421Z",
     "start_time": "2022-05-05T08:13:23.962264Z"
    }
   },
   "outputs": [
    {
     "data": {
      "text/plain": [
       "['Image Similarity',\n",
       " 'ALS Model',\n",
       " 'Ranking Factorization',\n",
       " 'User-User Similarity',\n",
       " 'Item-Item Similarity']"
      ]
     },
     "execution_count": 64,
     "metadata": {},
     "output_type": "execute_result"
    }
   ],
   "source": [
    "mylist=['ALS Model','Ranking Factorization','User-User Similarity','Item-Item Similarity','Image Similarity']\n",
    "targetvalue= 'Image Similarity'\n",
    "mylist.insert(0, mylist.pop(mylist.index(targetvalue)))\n",
    "mylist"
   ]
  },
  {
   "cell_type": "code",
   "execution_count": 65,
   "id": "ebcf7d59",
   "metadata": {
    "ExecuteTime": {
     "end_time": "2022-05-05T08:13:25.039053Z",
     "start_time": "2022-05-05T08:13:25.024598Z"
    }
   },
   "outputs": [
    {
     "name": "stdout",
     "output_type": "stream",
     "text": [
      "ALS Model Model\n",
      "Ranking Factorization Model\n",
      "User-User Similarity Model\n",
      "Item-Item Similarity Model\n",
      "Image Similarity Model\n"
     ]
    }
   ],
   "source": [
    "mylist=['ALS Model','Ranking Factorization','User-User Similarity','Item-Item Similarity','Image Similarity']\n",
    "for i in mylist:\n",
    "    print(i + ' Model')"
   ]
  },
  {
   "cell_type": "code",
   "execution_count": 2,
   "id": "b79ccf1b",
   "metadata": {
    "ExecuteTime": {
     "end_time": "2022-05-08T15:28:55.900761Z",
     "start_time": "2022-05-08T15:28:55.884804Z"
    }
   },
   "outputs": [],
   "source": [
    "final_save_path = '../static/model'"
   ]
  },
  {
   "cell_type": "code",
   "execution_count": 13,
   "id": "f053f377",
   "metadata": {
    "ExecuteTime": {
     "end_time": "2022-05-08T15:34:18.112838Z",
     "start_time": "2022-05-08T15:34:18.099874Z"
    }
   },
   "outputs": [],
   "source": [
    "model_list = {\n",
    "    'ALS Model':'ALS Model',\n",
    "    'Ranking Factorization Model':'User-User (One-hot) Model',\n",
    "    'User-User Similarity Model':'User-User (Count) Model',\n",
    "    'Item-Item Similarity Model':'Item-Item Similarity Model',\n",
    "    'Image Similarity Model':'Image Similarity Model'\n",
    "}\n",
    "temp = pd.read_csv(os.path.join(final_save_path,'prediction.csv'))\n",
    "temp['model'] = temp['model'].map(model_list)\n",
    "temp.to_csv(os.path.join(final_save_path,'prediction_v2.csv'))"
   ]
  },
  {
   "cell_type": "code",
   "execution_count": 14,
   "id": "6bce5e59",
   "metadata": {
    "ExecuteTime": {
     "end_time": "2022-05-08T15:34:19.048128Z",
     "start_time": "2022-05-08T15:34:19.043142Z"
    }
   },
   "outputs": [
    {
     "data": {
      "text/plain": [
       "array(['ALS Model', 'User-User (Count) Model',\n",
       "       'User-User (One-hot) Model', 'Image Similarity Model',\n",
       "       'Item-Item Similarity Model'], dtype=object)"
      ]
     },
     "execution_count": 14,
     "metadata": {},
     "output_type": "execute_result"
    }
   ],
   "source": [
    "temp['model'].unique()"
   ]
  },
  {
   "cell_type": "code",
   "execution_count": null,
   "id": "431a7d48",
   "metadata": {},
   "outputs": [],
   "source": []
  }
 ],
 "metadata": {
  "kernelspec": {
   "display_name": "Python 3",
   "language": "python",
   "name": "python3"
  },
  "language_info": {
   "codemirror_mode": {
    "name": "ipython",
    "version": 3
   },
   "file_extension": ".py",
   "mimetype": "text/x-python",
   "name": "python",
   "nbconvert_exporter": "python",
   "pygments_lexer": "ipython3",
   "version": "3.8.8"
  },
  "toc": {
   "base_numbering": 1,
   "nav_menu": {},
   "number_sections": true,
   "sideBar": true,
   "skip_h1_title": false,
   "title_cell": "Table of Contents",
   "title_sidebar": "Contents",
   "toc_cell": false,
   "toc_position": {},
   "toc_section_display": true,
   "toc_window_display": false
  },
  "varInspector": {
   "cols": {
    "lenName": 16,
    "lenType": 16,
    "lenVar": 40
   },
   "kernels_config": {
    "python": {
     "delete_cmd_postfix": "",
     "delete_cmd_prefix": "del ",
     "library": "var_list.py",
     "varRefreshCmd": "print(var_dic_list())"
    },
    "r": {
     "delete_cmd_postfix": ") ",
     "delete_cmd_prefix": "rm(",
     "library": "var_list.r",
     "varRefreshCmd": "cat(var_dic_list()) "
    }
   },
   "types_to_exclude": [
    "module",
    "function",
    "builtin_function_or_method",
    "instance",
    "_Feature"
   ],
   "window_display": false
  }
 },
 "nbformat": 4,
 "nbformat_minor": 5
}
