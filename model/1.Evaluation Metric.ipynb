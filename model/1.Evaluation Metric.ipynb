{
 "cells": [
  {
   "cell_type": "code",
   "execution_count": 1,
   "id": "18640b8c",
   "metadata": {
    "ExecuteTime": {
     "end_time": "2022-04-16T09:25:42.890044Z",
     "start_time": "2022-04-16T09:25:42.067721Z"
    }
   },
   "outputs": [],
   "source": [
    "import os \n",
    "import numpy as np\n",
    "import pandas as pd\n",
    "from datetime import date, timedelta\n",
    "\n",
    "import matplotlib.pyplot as plt\n",
    "pd.set_option('display.float_format', lambda x: '%.4f' % x)"
   ]
  },
  {
   "cell_type": "markdown",
   "id": "4203e3ca",
   "metadata": {},
   "source": [
    "## MAP@12 Function"
   ]
  },
  {
   "cell_type": "code",
   "execution_count": 2,
   "id": "7fe1cb95",
   "metadata": {
    "ExecuteTime": {
     "end_time": "2022-04-16T03:38:58.467707Z",
     "start_time": "2022-04-16T03:38:58.463360Z"
    }
   },
   "outputs": [],
   "source": [
    "# https://www.kaggle.com/c/h-and-m-personalized-fashion-recommendations/discussion/306007\n",
    "# https://github.com/benhamner/Metrics/blob/master/Python/ml_metrics/average_precision.py\n",
    "\n",
    "def apk(actual, predicted, k=10):\n",
    "    \"\"\"\n",
    "    Computes the average precision at k.\n",
    "    This function computes the average prescision at k between two lists of\n",
    "    items.\n",
    "    Parameters\n",
    "    ----------\n",
    "    actual : list\n",
    "             A list of elements that are to be predicted (order doesn't matter)\n",
    "    predicted : list\n",
    "                A list of predicted elements (order does matter)\n",
    "    k : int, optional\n",
    "        The maximum number of predicted elements\n",
    "    Returns\n",
    "    -------\n",
    "    score : double\n",
    "            The average precision at k over the input lists\n",
    "    \"\"\"\n",
    "    if len(predicted)>k:\n",
    "        predicted = predicted[:k]\n",
    "\n",
    "    score = 0.0\n",
    "    num_hits = 0.0\n",
    "\n",
    "    for i,p in enumerate(predicted):\n",
    "#         print('items 1: ')\n",
    "        if p in actual and p not in predicted[:i]:\n",
    "            num_hits += 1.0\n",
    "            score += num_hits / (i+1.0)\n",
    "#             print('num_hits: ',num_hits)\n",
    "#             print('score: ',score)\n",
    "#             print('final score:', score / min(len(actual), k))\n",
    "#             print('='*50)\n",
    "    # remove this case in advance\n",
    "    # if not actual:\n",
    "    #     return 0.0\n",
    "\n",
    "    return score / min(len(actual), k)\n",
    "\n",
    "\n",
    "def mapk(actual, predicted, k=10):\n",
    "    \"\"\"\n",
    "    Computes the mean average precision at k.\n",
    "    This function computes the mean average prescision at k between two lists\n",
    "    of lists of items.\n",
    "    Parameters\n",
    "    ----------\n",
    "    actual : list\n",
    "             A list of lists of elements that are to be predicted \n",
    "             (order doesn't matter in the lists)\n",
    "    predicted : list\n",
    "                A list of lists of predicted elements\n",
    "                (order matters in the lists)\n",
    "    k : int, optional\n",
    "        The maximum number of predicted elements\n",
    "    Returns\n",
    "    -------\n",
    "    score : double\n",
    "            The mean average precision at k over the input lists\n",
    "    \"\"\"\n",
    "    return np.mean([apk(a,p,k) for a,p in zip(actual, predicted)]) "
   ]
  },
  {
   "cell_type": "markdown",
   "id": "8e1044ad",
   "metadata": {},
   "source": [
    "## Load Data"
   ]
  },
  {
   "cell_type": "code",
   "execution_count": 3,
   "id": "9c5ec024",
   "metadata": {
    "ExecuteTime": {
     "end_time": "2022-04-16T03:39:05.334062Z",
     "start_time": "2022-04-16T03:38:58.711296Z"
    }
   },
   "outputs": [
    {
     "data": {
      "text/html": [
       "<div>\n",
       "<style scoped>\n",
       "    .dataframe tbody tr th:only-of-type {\n",
       "        vertical-align: middle;\n",
       "    }\n",
       "\n",
       "    .dataframe tbody tr th {\n",
       "        vertical-align: top;\n",
       "    }\n",
       "\n",
       "    .dataframe thead th {\n",
       "        text-align: right;\n",
       "    }\n",
       "</style>\n",
       "<table border=\"1\" class=\"dataframe\">\n",
       "  <thead>\n",
       "    <tr style=\"text-align: right;\">\n",
       "      <th></th>\n",
       "      <th>customer_id</th>\n",
       "      <th>week</th>\n",
       "      <th>year</th>\n",
       "      <th>total_articles</th>\n",
       "      <th>total_amount</th>\n",
       "      <th>weekly_purchased_products</th>\n",
       "    </tr>\n",
       "  </thead>\n",
       "  <tbody>\n",
       "    <tr>\n",
       "      <th>0</th>\n",
       "      <td>0</td>\n",
       "      <td>12</td>\n",
       "      <td>2020</td>\n",
       "      <td>5</td>\n",
       "      <td>0.0936</td>\n",
       "      <td>[795440001, 841260003, 887593002, 859416011, 8...</td>\n",
       "    </tr>\n",
       "    <tr>\n",
       "      <th>1</th>\n",
       "      <td>0</td>\n",
       "      <td>18</td>\n",
       "      <td>2019</td>\n",
       "      <td>1</td>\n",
       "      <td>0.0102</td>\n",
       "      <td>[697138006]</td>\n",
       "    </tr>\n",
       "    <tr>\n",
       "      <th>2</th>\n",
       "      <td>0</td>\n",
       "      <td>21</td>\n",
       "      <td>2019</td>\n",
       "      <td>2</td>\n",
       "      <td>0.1017</td>\n",
       "      <td>[568601006]</td>\n",
       "    </tr>\n",
       "    <tr>\n",
       "      <th>3</th>\n",
       "      <td>0</td>\n",
       "      <td>30</td>\n",
       "      <td>2019</td>\n",
       "      <td>2</td>\n",
       "      <td>0.0339</td>\n",
       "      <td>[607642008, 745232001]</td>\n",
       "    </tr>\n",
       "    <tr>\n",
       "      <th>4</th>\n",
       "      <td>0</td>\n",
       "      <td>36</td>\n",
       "      <td>2020</td>\n",
       "      <td>1</td>\n",
       "      <td>0.0508</td>\n",
       "      <td>[568601043]</td>\n",
       "    </tr>\n",
       "  </tbody>\n",
       "</table>\n",
       "</div>"
      ],
      "text/plain": [
       "   customer_id  week  year  total_articles  total_amount  \\\n",
       "0            0    12  2020               5        0.0936   \n",
       "1            0    18  2019               1        0.0102   \n",
       "2            0    21  2019               2        0.1017   \n",
       "3            0    30  2019               2        0.0339   \n",
       "4            0    36  2020               1        0.0508   \n",
       "\n",
       "                           weekly_purchased_products  \n",
       "0  [795440001, 841260003, 887593002, 859416011, 8...  \n",
       "1                                        [697138006]  \n",
       "2                                        [568601006]  \n",
       "3                             [607642008, 745232001]  \n",
       "4                                        [568601043]  "
      ]
     },
     "execution_count": 3,
     "metadata": {},
     "output_type": "execute_result"
    }
   ],
   "source": [
    "path = '../data/processed'\n",
    "target = pd.read_pickle(os.path.join(path,'weekly_target.pkl'))\n",
    "target.head()"
   ]
  },
  {
   "cell_type": "code",
   "execution_count": 5,
   "id": "306748fd",
   "metadata": {
    "ExecuteTime": {
     "end_time": "2022-04-16T03:39:15.723376Z",
     "start_time": "2022-04-16T03:39:05.421883Z"
    }
   },
   "outputs": [
    {
     "data": {
      "text/html": [
       "<div>\n",
       "<style scoped>\n",
       "    .dataframe tbody tr th:only-of-type {\n",
       "        vertical-align: middle;\n",
       "    }\n",
       "\n",
       "    .dataframe tbody tr th {\n",
       "        vertical-align: top;\n",
       "    }\n",
       "\n",
       "    .dataframe thead th {\n",
       "        text-align: right;\n",
       "    }\n",
       "</style>\n",
       "<table border=\"1\" class=\"dataframe\">\n",
       "  <thead>\n",
       "    <tr style=\"text-align: right;\">\n",
       "      <th></th>\n",
       "      <th>t_dat</th>\n",
       "      <th>customer_id</th>\n",
       "      <th>article_id</th>\n",
       "      <th>price</th>\n",
       "      <th>sales_channel_id</th>\n",
       "      <th>week</th>\n",
       "      <th>year</th>\n",
       "      <th>month</th>\n",
       "    </tr>\n",
       "  </thead>\n",
       "  <tbody>\n",
       "    <tr>\n",
       "      <th>0</th>\n",
       "      <td>2018-09-20</td>\n",
       "      <td>2</td>\n",
       "      <td>663713001</td>\n",
       "      <td>0.0508</td>\n",
       "      <td>2</td>\n",
       "      <td>38</td>\n",
       "      <td>2018</td>\n",
       "      <td>9</td>\n",
       "    </tr>\n",
       "    <tr>\n",
       "      <th>1</th>\n",
       "      <td>2018-09-20</td>\n",
       "      <td>2</td>\n",
       "      <td>541518023</td>\n",
       "      <td>0.0305</td>\n",
       "      <td>2</td>\n",
       "      <td>38</td>\n",
       "      <td>2018</td>\n",
       "      <td>9</td>\n",
       "    </tr>\n",
       "    <tr>\n",
       "      <th>2</th>\n",
       "      <td>2018-09-20</td>\n",
       "      <td>7</td>\n",
       "      <td>505221004</td>\n",
       "      <td>0.0152</td>\n",
       "      <td>2</td>\n",
       "      <td>38</td>\n",
       "      <td>2018</td>\n",
       "      <td>9</td>\n",
       "    </tr>\n",
       "    <tr>\n",
       "      <th>3</th>\n",
       "      <td>2018-09-20</td>\n",
       "      <td>7</td>\n",
       "      <td>685687003</td>\n",
       "      <td>0.0169</td>\n",
       "      <td>2</td>\n",
       "      <td>38</td>\n",
       "      <td>2018</td>\n",
       "      <td>9</td>\n",
       "    </tr>\n",
       "    <tr>\n",
       "      <th>4</th>\n",
       "      <td>2018-09-20</td>\n",
       "      <td>7</td>\n",
       "      <td>685687004</td>\n",
       "      <td>0.0169</td>\n",
       "      <td>2</td>\n",
       "      <td>38</td>\n",
       "      <td>2018</td>\n",
       "      <td>9</td>\n",
       "    </tr>\n",
       "  </tbody>\n",
       "</table>\n",
       "</div>"
      ],
      "text/plain": [
       "       t_dat  customer_id  article_id  price  sales_channel_id  week  year  \\\n",
       "0 2018-09-20            2   663713001 0.0508                 2    38  2018   \n",
       "1 2018-09-20            2   541518023 0.0305                 2    38  2018   \n",
       "2 2018-09-20            7   505221004 0.0152                 2    38  2018   \n",
       "3 2018-09-20            7   685687003 0.0169                 2    38  2018   \n",
       "4 2018-09-20            7   685687004 0.0169                 2    38  2018   \n",
       "\n",
       "   month  \n",
       "0      9  \n",
       "1      9  \n",
       "2      9  \n",
       "3      9  \n",
       "4      9  "
      ]
     },
     "execution_count": 5,
     "metadata": {},
     "output_type": "execute_result"
    }
   ],
   "source": [
    "trans = pd.read_pickle(os.path.join(path,'transactions.pkl'))\n",
    "trans['week'] = trans['t_dat'].dt.isocalendar().week \n",
    "trans['year'] = trans['t_dat'].dt.year\n",
    "trans['month'] = trans['t_dat'].dt.month\n",
    "trans.head()"
   ]
  },
  {
   "cell_type": "code",
   "execution_count": 6,
   "id": "15a0ec51",
   "metadata": {
    "ExecuteTime": {
     "end_time": "2022-04-16T03:39:15.942043Z",
     "start_time": "2022-04-16T03:39:15.732874Z"
    }
   },
   "outputs": [
    {
     "data": {
      "text/html": [
       "<div>\n",
       "<style scoped>\n",
       "    .dataframe tbody tr th:only-of-type {\n",
       "        vertical-align: middle;\n",
       "    }\n",
       "\n",
       "    .dataframe tbody tr th {\n",
       "        vertical-align: top;\n",
       "    }\n",
       "\n",
       "    .dataframe thead th {\n",
       "        text-align: right;\n",
       "    }\n",
       "</style>\n",
       "<table border=\"1\" class=\"dataframe\">\n",
       "  <thead>\n",
       "    <tr style=\"text-align: right;\">\n",
       "      <th></th>\n",
       "      <th>customer_id</th>\n",
       "      <th>FN</th>\n",
       "      <th>Active</th>\n",
       "      <th>club_member_status</th>\n",
       "      <th>fashion_news_frequency</th>\n",
       "      <th>age</th>\n",
       "      <th>postal_code</th>\n",
       "    </tr>\n",
       "  </thead>\n",
       "  <tbody>\n",
       "    <tr>\n",
       "      <th>0</th>\n",
       "      <td>0</td>\n",
       "      <td>0.0000</td>\n",
       "      <td>0.0000</td>\n",
       "      <td>ACTIVE</td>\n",
       "      <td>NONE</td>\n",
       "      <td>49.0000</td>\n",
       "      <td>52043ee2162cf5aa7ee79974281641c6f11a68d276429a...</td>\n",
       "    </tr>\n",
       "    <tr>\n",
       "      <th>1</th>\n",
       "      <td>1</td>\n",
       "      <td>0.0000</td>\n",
       "      <td>0.0000</td>\n",
       "      <td>ACTIVE</td>\n",
       "      <td>NONE</td>\n",
       "      <td>25.0000</td>\n",
       "      <td>2973abc54daa8a5f8ccfe9362140c63247c5eee03f1d93...</td>\n",
       "    </tr>\n",
       "    <tr>\n",
       "      <th>2</th>\n",
       "      <td>2</td>\n",
       "      <td>0.0000</td>\n",
       "      <td>0.0000</td>\n",
       "      <td>ACTIVE</td>\n",
       "      <td>NONE</td>\n",
       "      <td>24.0000</td>\n",
       "      <td>64f17e6a330a85798e4998f62d0930d14db8db1c054af6...</td>\n",
       "    </tr>\n",
       "    <tr>\n",
       "      <th>3</th>\n",
       "      <td>3</td>\n",
       "      <td>0.0000</td>\n",
       "      <td>0.0000</td>\n",
       "      <td>ACTIVE</td>\n",
       "      <td>NONE</td>\n",
       "      <td>54.0000</td>\n",
       "      <td>5d36574f52495e81f019b680c843c443bd343d5ca5b1c2...</td>\n",
       "    </tr>\n",
       "    <tr>\n",
       "      <th>4</th>\n",
       "      <td>4</td>\n",
       "      <td>1.0000</td>\n",
       "      <td>1.0000</td>\n",
       "      <td>ACTIVE</td>\n",
       "      <td>Regularly</td>\n",
       "      <td>52.0000</td>\n",
       "      <td>25fa5ddee9aac01b35208d01736e57942317d756b32ddd...</td>\n",
       "    </tr>\n",
       "  </tbody>\n",
       "</table>\n",
       "</div>"
      ],
      "text/plain": [
       "   customer_id     FN  Active club_member_status fashion_news_frequency  \\\n",
       "0            0 0.0000  0.0000             ACTIVE                   NONE   \n",
       "1            1 0.0000  0.0000             ACTIVE                   NONE   \n",
       "2            2 0.0000  0.0000             ACTIVE                   NONE   \n",
       "3            3 0.0000  0.0000             ACTIVE                   NONE   \n",
       "4            4 1.0000  1.0000             ACTIVE              Regularly   \n",
       "\n",
       "      age                                        postal_code  \n",
       "0 49.0000  52043ee2162cf5aa7ee79974281641c6f11a68d276429a...  \n",
       "1 25.0000  2973abc54daa8a5f8ccfe9362140c63247c5eee03f1d93...  \n",
       "2 24.0000  64f17e6a330a85798e4998f62d0930d14db8db1c054af6...  \n",
       "3 54.0000  5d36574f52495e81f019b680c843c443bd343d5ca5b1c2...  \n",
       "4 52.0000  25fa5ddee9aac01b35208d01736e57942317d756b32ddd...  "
      ]
     },
     "execution_count": 6,
     "metadata": {},
     "output_type": "execute_result"
    }
   ],
   "source": [
    "customers = pd.read_pickle(os.path.join(path,'customers.pkl'))\n",
    "customers.head()"
   ]
  },
  {
   "cell_type": "markdown",
   "id": "192120bb",
   "metadata": {},
   "source": [
    "### 2020 Target"
   ]
  },
  {
   "cell_type": "code",
   "execution_count": 7,
   "id": "133957a8",
   "metadata": {
    "ExecuteTime": {
     "end_time": "2022-04-16T03:40:59.469403Z",
     "start_time": "2022-04-16T03:39:15.955034Z"
    }
   },
   "outputs": [
    {
     "data": {
      "text/html": [
       "<div>\n",
       "<style scoped>\n",
       "    .dataframe tbody tr th:only-of-type {\n",
       "        vertical-align: middle;\n",
       "    }\n",
       "\n",
       "    .dataframe tbody tr th {\n",
       "        vertical-align: top;\n",
       "    }\n",
       "\n",
       "    .dataframe thead th {\n",
       "        text-align: right;\n",
       "    }\n",
       "</style>\n",
       "<table border=\"1\" class=\"dataframe\">\n",
       "  <thead>\n",
       "    <tr style=\"text-align: right;\">\n",
       "      <th></th>\n",
       "      <th>customer_id</th>\n",
       "      <th>year</th>\n",
       "      <th>month</th>\n",
       "      <th>monthly_purchased_products</th>\n",
       "    </tr>\n",
       "  </thead>\n",
       "  <tbody>\n",
       "    <tr>\n",
       "      <th>0</th>\n",
       "      <td>0</td>\n",
       "      <td>2018</td>\n",
       "      <td>12</td>\n",
       "      <td>[625548001, 627759010, 176209023]</td>\n",
       "    </tr>\n",
       "    <tr>\n",
       "      <th>1</th>\n",
       "      <td>0</td>\n",
       "      <td>2019</td>\n",
       "      <td>5</td>\n",
       "      <td>[568601006, 697138006]</td>\n",
       "    </tr>\n",
       "    <tr>\n",
       "      <th>2</th>\n",
       "      <td>0</td>\n",
       "      <td>2019</td>\n",
       "      <td>7</td>\n",
       "      <td>[607642008, 745232001]</td>\n",
       "    </tr>\n",
       "    <tr>\n",
       "      <th>3</th>\n",
       "      <td>0</td>\n",
       "      <td>2019</td>\n",
       "      <td>9</td>\n",
       "      <td>[797065001, 656719005]</td>\n",
       "    </tr>\n",
       "    <tr>\n",
       "      <th>4</th>\n",
       "      <td>0</td>\n",
       "      <td>2019</td>\n",
       "      <td>11</td>\n",
       "      <td>[785710001, 812683013, 694736004, 785186005]</td>\n",
       "    </tr>\n",
       "  </tbody>\n",
       "</table>\n",
       "</div>"
      ],
      "text/plain": [
       "   customer_id  year  month                    monthly_purchased_products\n",
       "0            0  2018     12             [625548001, 627759010, 176209023]\n",
       "1            0  2019      5                        [568601006, 697138006]\n",
       "2            0  2019      7                        [607642008, 745232001]\n",
       "3            0  2019      9                        [797065001, 656719005]\n",
       "4            0  2019     11  [785710001, 812683013, 694736004, 785186005]"
      ]
     },
     "execution_count": 7,
     "metadata": {},
     "output_type": "execute_result"
    }
   ],
   "source": [
    "monthly_purchased = pd.DataFrame(trans.groupby(['customer_id','year','month'])['article_id'].apply(lambda x: list(set(x))))\\\n",
    "                        .reset_index()\\\n",
    "                        .rename(columns={'article_id':'monthly_purchased_products'})\n",
    "\n",
    "monthly_purchased.head()"
   ]
  },
  {
   "cell_type": "markdown",
   "id": "5056d897",
   "metadata": {},
   "source": [
    "## Test Evaluation function"
   ]
  },
  {
   "cell_type": "markdown",
   "id": "c1aec00c",
   "metadata": {},
   "source": [
    "### Mock-up prediction (Top 12 Products)"
   ]
  },
  {
   "cell_type": "code",
   "execution_count": 8,
   "id": "dc26e1e0",
   "metadata": {
    "ExecuteTime": {
     "end_time": "2022-04-16T03:41:12.740321Z",
     "start_time": "2022-04-16T03:40:59.485079Z"
    }
   },
   "outputs": [
    {
     "data": {
      "text/html": [
       "<div>\n",
       "<style scoped>\n",
       "    .dataframe tbody tr th:only-of-type {\n",
       "        vertical-align: middle;\n",
       "    }\n",
       "\n",
       "    .dataframe tbody tr th {\n",
       "        vertical-align: top;\n",
       "    }\n",
       "\n",
       "    .dataframe thead th {\n",
       "        text-align: right;\n",
       "    }\n",
       "</style>\n",
       "<table border=\"1\" class=\"dataframe\">\n",
       "  <thead>\n",
       "    <tr style=\"text-align: right;\">\n",
       "      <th></th>\n",
       "      <th>customer_id</th>\n",
       "    </tr>\n",
       "    <tr>\n",
       "      <th>article_id</th>\n",
       "      <th></th>\n",
       "    </tr>\n",
       "  </thead>\n",
       "  <tbody>\n",
       "    <tr>\n",
       "      <th>706016001</th>\n",
       "      <td>32251</td>\n",
       "    </tr>\n",
       "    <tr>\n",
       "      <th>372860001</th>\n",
       "      <td>25559</td>\n",
       "    </tr>\n",
       "    <tr>\n",
       "      <th>706016002</th>\n",
       "      <td>25485</td>\n",
       "    </tr>\n",
       "    <tr>\n",
       "      <th>610776002</th>\n",
       "      <td>22571</td>\n",
       "    </tr>\n",
       "    <tr>\n",
       "      <th>759871002</th>\n",
       "      <td>21613</td>\n",
       "    </tr>\n",
       "    <tr>\n",
       "      <th>372860002</th>\n",
       "      <td>20038</td>\n",
       "    </tr>\n",
       "    <tr>\n",
       "      <th>464297007</th>\n",
       "      <td>18554</td>\n",
       "    </tr>\n",
       "    <tr>\n",
       "      <th>720125001</th>\n",
       "      <td>17611</td>\n",
       "    </tr>\n",
       "    <tr>\n",
       "      <th>673396002</th>\n",
       "      <td>17147</td>\n",
       "    </tr>\n",
       "    <tr>\n",
       "      <th>610776001</th>\n",
       "      <td>16854</td>\n",
       "    </tr>\n",
       "    <tr>\n",
       "      <th>673677002</th>\n",
       "      <td>16694</td>\n",
       "    </tr>\n",
       "    <tr>\n",
       "      <th>706016003</th>\n",
       "      <td>16235</td>\n",
       "    </tr>\n",
       "  </tbody>\n",
       "</table>\n",
       "</div>"
      ],
      "text/plain": [
       "            customer_id\n",
       "article_id             \n",
       "706016001         32251\n",
       "372860001         25559\n",
       "706016002         25485\n",
       "610776002         22571\n",
       "759871002         21613\n",
       "372860002         20038\n",
       "464297007         18554\n",
       "720125001         17611\n",
       "673396002         17147\n",
       "610776001         16854\n",
       "673677002         16694\n",
       "706016003         16235"
      ]
     },
     "execution_count": 8,
     "metadata": {},
     "output_type": "execute_result"
    }
   ],
   "source": [
    "# top_product = trans[trans.year == 2019].groupby(['article_id']).agg({'customer_id':'nunique'}).sort_values(by='customer_id',ascending=False)\n",
    "top_product = trans[trans.year <= 2020].groupby(['article_id']).agg({'customer_id':'nunique'}).sort_values(by='customer_id',ascending=False)\n",
    "top_product.head(12)"
   ]
  },
  {
   "cell_type": "code",
   "execution_count": 19,
   "id": "6ca7ac63",
   "metadata": {
    "ExecuteTime": {
     "end_time": "2022-04-16T03:43:09.898114Z",
     "start_time": "2022-04-16T03:43:09.891260Z"
    }
   },
   "outputs": [
    {
     "data": {
      "text/plain": [
       "'706016001 372860001 706016002 610776002 759871002 372860002 464297007 720125001 673396002 610776001 673677002 706016003'"
      ]
     },
     "execution_count": 19,
     "metadata": {},
     "output_type": "execute_result"
    }
   ],
   "source": [
    "top_product_list = ' '.join(list(top_product.index[:12].astype(str)))\n",
    "top_product_list"
   ]
  },
  {
   "cell_type": "markdown",
   "id": "f32902a7",
   "metadata": {},
   "source": [
    "### Assign Basic Prediction"
   ]
  },
  {
   "cell_type": "code",
   "execution_count": 33,
   "id": "b6fee208",
   "metadata": {
    "ExecuteTime": {
     "end_time": "2022-04-16T03:47:44.333866Z",
     "start_time": "2022-04-16T03:47:36.765512Z"
    }
   },
   "outputs": [
    {
     "data": {
      "text/html": [
       "<div>\n",
       "<style scoped>\n",
       "    .dataframe tbody tr th:only-of-type {\n",
       "        vertical-align: middle;\n",
       "    }\n",
       "\n",
       "    .dataframe tbody tr th {\n",
       "        vertical-align: top;\n",
       "    }\n",
       "\n",
       "    .dataframe thead th {\n",
       "        text-align: right;\n",
       "    }\n",
       "</style>\n",
       "<table border=\"1\" class=\"dataframe\">\n",
       "  <thead>\n",
       "    <tr style=\"text-align: right;\">\n",
       "      <th></th>\n",
       "      <th>customer_id</th>\n",
       "      <th>pred</th>\n",
       "    </tr>\n",
       "  </thead>\n",
       "  <tbody>\n",
       "    <tr>\n",
       "      <th>0</th>\n",
       "      <td>0</td>\n",
       "      <td>[706016001, 372860001, 706016002, 610776002, 7...</td>\n",
       "    </tr>\n",
       "    <tr>\n",
       "      <th>1</th>\n",
       "      <td>1</td>\n",
       "      <td>[706016001, 372860001, 706016002, 610776002, 7...</td>\n",
       "    </tr>\n",
       "    <tr>\n",
       "      <th>2</th>\n",
       "      <td>2</td>\n",
       "      <td>[706016001, 372860001, 706016002, 610776002, 7...</td>\n",
       "    </tr>\n",
       "    <tr>\n",
       "      <th>3</th>\n",
       "      <td>3</td>\n",
       "      <td>[706016001, 372860001, 706016002, 610776002, 7...</td>\n",
       "    </tr>\n",
       "    <tr>\n",
       "      <th>4</th>\n",
       "      <td>4</td>\n",
       "      <td>[706016001, 372860001, 706016002, 610776002, 7...</td>\n",
       "    </tr>\n",
       "  </tbody>\n",
       "</table>\n",
       "</div>"
      ],
      "text/plain": [
       "   customer_id                                               pred\n",
       "0            0  [706016001, 372860001, 706016002, 610776002, 7...\n",
       "1            1  [706016001, 372860001, 706016002, 610776002, 7...\n",
       "2            2  [706016001, 372860001, 706016002, 610776002, 7...\n",
       "3            3  [706016001, 372860001, 706016002, 610776002, 7...\n",
       "4            4  [706016001, 372860001, 706016002, 610776002, 7..."
      ]
     },
     "execution_count": 33,
     "metadata": {},
     "output_type": "execute_result"
    }
   ],
   "source": [
    "test_data = customers[['customer_id']].drop_duplicates(subset=['customer_id'])\n",
    "test_data['pred'] = top_product_list\n",
    "test_data['pred'] = test_data['pred'].apply(lambda x: [int(i) for i in x.split()])\n",
    "test_data.sort_values(by='customer_id',inplace=True)\n",
    "test_data.reset_index(drop=True,inplace=True)\n",
    "test_data.head()"
   ]
  },
  {
   "cell_type": "markdown",
   "id": "6d9b1fe8",
   "metadata": {},
   "source": [
    "### Test MAP@12"
   ]
  },
  {
   "cell_type": "code",
   "execution_count": 37,
   "id": "0f9bd9a6",
   "metadata": {
    "ExecuteTime": {
     "end_time": "2022-04-16T03:48:22.583527Z",
     "start_time": "2022-04-16T03:48:13.854978Z"
    }
   },
   "outputs": [
    {
     "name": "stdout",
     "output_type": "stream",
     "text": [
      "MAP@12 for month 1:  0.005573113619576095\n",
      "MAP@12 for month 2:  0.00476986883278556\n",
      "MAP@12 for month 3:  0.006395688307666284\n",
      "MAP@12 for month 4:  0.0056609607595126095\n",
      "MAP@12 for month 5:  0.004290574074507777\n",
      "MAP@12 for month 6:  0.0025392513674413275\n",
      "MAP@12 for month 7:  0.004108774161796482\n",
      "MAP@12 for month 8:  0.0036810661722133406\n",
      "MAP@12 for month 9:  0.0037347697962448385\n"
     ]
    }
   ],
   "source": [
    "for i in range(1,10):\n",
    "    actual_test = monthly_purchased[(monthly_purchased.year==2020)&(monthly_purchased.month==i)].sort_values(by='customer_id').reset_index(drop=True)\n",
    "    actual = actual_test['monthly_purchased_products']\n",
    "    predicted = test_data['pred']\n",
    "    error, list_map = mapk(actual, predicted, k=12)\n",
    "    print(f'MAP@12 for month {i}: ',error)"
   ]
  },
  {
   "cell_type": "code",
   "execution_count": 23,
   "id": "3367a1c5",
   "metadata": {
    "ExecuteTime": {
     "end_time": "2022-04-16T03:44:45.736128Z",
     "start_time": "2022-04-16T03:44:45.081359Z"
    }
   },
   "outputs": [
    {
     "ename": "NameError",
     "evalue": "name 'sample_submit' is not defined",
     "output_type": "error",
     "traceback": [
      "\u001b[0;31m---------------------------------------------------------------------------\u001b[0m",
      "\u001b[0;31mNameError\u001b[0m                                 Traceback (most recent call last)",
      "\u001b[0;32m/var/folders/bj/1rr06xf927943j8tky7mgd_c0000gn/T/ipykernel_3170/2547347052.py\u001b[0m in \u001b[0;36m<module>\u001b[0;34m\u001b[0m\n\u001b[1;32m      1\u001b[0m \u001b[0mactual\u001b[0m \u001b[0;34m=\u001b[0m \u001b[0mtarget\u001b[0m\u001b[0;34m[\u001b[0m\u001b[0;34m(\u001b[0m\u001b[0mtarget\u001b[0m\u001b[0;34m.\u001b[0m\u001b[0mweek\u001b[0m\u001b[0;34m==\u001b[0m\u001b[0;36m38\u001b[0m\u001b[0;34m)\u001b[0m\u001b[0;34m&\u001b[0m\u001b[0;34m(\u001b[0m\u001b[0mtarget\u001b[0m\u001b[0;34m.\u001b[0m\u001b[0myear\u001b[0m\u001b[0;34m==\u001b[0m\u001b[0;36m2020\u001b[0m\u001b[0;34m)\u001b[0m\u001b[0;34m]\u001b[0m\u001b[0;34m[\u001b[0m\u001b[0;34m'weekly_purchased_products'\u001b[0m\u001b[0;34m]\u001b[0m\u001b[0;34m.\u001b[0m\u001b[0mreset_index\u001b[0m\u001b[0;34m(\u001b[0m\u001b[0mdrop\u001b[0m\u001b[0;34m=\u001b[0m\u001b[0;32mTrue\u001b[0m\u001b[0;34m)\u001b[0m\u001b[0;34m\u001b[0m\u001b[0;34m\u001b[0m\u001b[0m\n\u001b[0;32m----> 2\u001b[0;31m \u001b[0mpredicted\u001b[0m \u001b[0;34m=\u001b[0m \u001b[0msample_submit\u001b[0m\u001b[0;34m[\u001b[0m\u001b[0;34m'prediction'\u001b[0m\u001b[0;34m]\u001b[0m\u001b[0;34m\u001b[0m\u001b[0;34m\u001b[0m\u001b[0m\n\u001b[0m\u001b[1;32m      3\u001b[0m \u001b[0mmapk\u001b[0m\u001b[0;34m(\u001b[0m\u001b[0mactual\u001b[0m\u001b[0;34m,\u001b[0m \u001b[0mpredicted\u001b[0m\u001b[0;34m,\u001b[0m \u001b[0mk\u001b[0m\u001b[0;34m=\u001b[0m\u001b[0;36m12\u001b[0m\u001b[0;34m)\u001b[0m\u001b[0;34m\u001b[0m\u001b[0;34m\u001b[0m\u001b[0m\n",
      "\u001b[0;31mNameError\u001b[0m: name 'sample_submit' is not defined"
     ]
    }
   ],
   "source": [
    "actual = target[(target.week==38)&(target.year==2020)]['weekly_purchased_products'].reset_index(drop=True)\n",
    "predicted = sample_submit['prediction']\n",
    "mapk(actual, predicted, k=12)"
   ]
  },
  {
   "cell_type": "code",
   "execution_count": 24,
   "id": "a5031886",
   "metadata": {
    "ExecuteTime": {
     "end_time": "2022-04-16T03:44:46.817972Z",
     "start_time": "2022-04-16T03:44:46.805118Z"
    },
    "scrolled": true
   },
   "outputs": [
    {
     "name": "stdout",
     "output_type": "stream",
     "text": [
      "['0706016001', '0656719005', '0673677002']\n",
      "['706016001', '372860001', '706016002', '610776002', '759871002', '372860002', '464297007', '720125001', '673396002', '610776001', '673677002', '706016003']\n"
     ]
    },
    {
     "data": {
      "text/plain": [
       "0.0"
      ]
     },
     "execution_count": 24,
     "metadata": {},
     "output_type": "execute_result"
    }
   ],
   "source": [
    "actual = ['0706016001', '0656719005','0673677002']\n",
    "predicted = top_product_list.split()\n",
    "print(actual)\n",
    "print(predicted)\n",
    "apk(actual,predicted,k=12)"
   ]
  },
  {
   "cell_type": "markdown",
   "id": "ff8cb4e4",
   "metadata": {},
   "source": [
    "## Sample Submission"
   ]
  },
  {
   "cell_type": "code",
   "execution_count": 22,
   "id": "ebe3d5a8",
   "metadata": {
    "ExecuteTime": {
     "end_time": "2022-04-10T14:30:12.564978Z",
     "start_time": "2022-04-10T14:30:12.204318Z"
    }
   },
   "outputs": [],
   "source": [
    "import pickle\n",
    "# mapping index\n",
    "path = '../data/processed'\n",
    "\n",
    "infile = open(os.path.join(path,'index_to_cusId.pkl'),'rb')\n",
    "index_to_id_dict = pickle.load(infile)\n",
    "infile.close()\n"
   ]
  },
  {
   "cell_type": "code",
   "execution_count": 23,
   "id": "238c949f",
   "metadata": {
    "ExecuteTime": {
     "end_time": "2022-04-10T14:30:14.762517Z",
     "start_time": "2022-04-10T14:30:13.517035Z"
    }
   },
   "outputs": [
    {
     "data": {
      "text/html": [
       "<div>\n",
       "<style scoped>\n",
       "    .dataframe tbody tr th:only-of-type {\n",
       "        vertical-align: middle;\n",
       "    }\n",
       "\n",
       "    .dataframe tbody tr th {\n",
       "        vertical-align: top;\n",
       "    }\n",
       "\n",
       "    .dataframe thead th {\n",
       "        text-align: right;\n",
       "    }\n",
       "</style>\n",
       "<table border=\"1\" class=\"dataframe\">\n",
       "  <thead>\n",
       "    <tr style=\"text-align: right;\">\n",
       "      <th></th>\n",
       "      <th>customer_id</th>\n",
       "      <th>prediction</th>\n",
       "    </tr>\n",
       "  </thead>\n",
       "  <tbody>\n",
       "    <tr>\n",
       "      <th>0</th>\n",
       "      <td>00000dbacae5abe5e23885899a1fa44253a17956c6d1c3...</td>\n",
       "      <td>0706016001 0372860001 0706016002 0610776002 07...</td>\n",
       "    </tr>\n",
       "    <tr>\n",
       "      <th>1</th>\n",
       "      <td>0000423b00ade91418cceaf3b26c6af3dd342b51fd051e...</td>\n",
       "      <td>0706016001 0372860001 0706016002 0610776002 07...</td>\n",
       "    </tr>\n",
       "    <tr>\n",
       "      <th>2</th>\n",
       "      <td>000058a12d5b43e67d225668fa1f8d618c13dc232df0ca...</td>\n",
       "      <td>0706016001 0372860001 0706016002 0610776002 07...</td>\n",
       "    </tr>\n",
       "    <tr>\n",
       "      <th>3</th>\n",
       "      <td>00005ca1c9ed5f5146b52ac8639a40ca9d57aeff4d1bd2...</td>\n",
       "      <td>0706016001 0372860001 0706016002 0610776002 07...</td>\n",
       "    </tr>\n",
       "    <tr>\n",
       "      <th>4</th>\n",
       "      <td>00006413d8573cd20ed7128e53b7b13819fe5cfc2d801f...</td>\n",
       "      <td>0706016001 0372860001 0706016002 0610776002 07...</td>\n",
       "    </tr>\n",
       "    <tr>\n",
       "      <th>...</th>\n",
       "      <td>...</td>\n",
       "      <td>...</td>\n",
       "    </tr>\n",
       "    <tr>\n",
       "      <th>1371975</th>\n",
       "      <td>ffffbbf78b6eaac697a8a5dfbfd2bfa8113ee5b403e474...</td>\n",
       "      <td>0706016001 0372860001 0706016002 0610776002 07...</td>\n",
       "    </tr>\n",
       "    <tr>\n",
       "      <th>1371976</th>\n",
       "      <td>ffffcd5046a6143d29a04fb8c424ce494a76e5cdf4fab5...</td>\n",
       "      <td>0706016001 0372860001 0706016002 0610776002 07...</td>\n",
       "    </tr>\n",
       "    <tr>\n",
       "      <th>1371977</th>\n",
       "      <td>ffffcf35913a0bee60e8741cb2b4e78b8a98ee5ff2e6a1...</td>\n",
       "      <td>0706016001 0372860001 0706016002 0610776002 07...</td>\n",
       "    </tr>\n",
       "    <tr>\n",
       "      <th>1371978</th>\n",
       "      <td>ffffd7744cebcf3aca44ae7049d2a94b87074c3d4ffe38...</td>\n",
       "      <td>0706016001 0372860001 0706016002 0610776002 07...</td>\n",
       "    </tr>\n",
       "    <tr>\n",
       "      <th>1371979</th>\n",
       "      <td>ffffd9ac14e89946416d80e791d064701994755c3ab686...</td>\n",
       "      <td>0706016001 0372860001 0706016002 0610776002 07...</td>\n",
       "    </tr>\n",
       "  </tbody>\n",
       "</table>\n",
       "<p>1371980 rows × 2 columns</p>\n",
       "</div>"
      ],
      "text/plain": [
       "                                               customer_id  \\\n",
       "0        00000dbacae5abe5e23885899a1fa44253a17956c6d1c3...   \n",
       "1        0000423b00ade91418cceaf3b26c6af3dd342b51fd051e...   \n",
       "2        000058a12d5b43e67d225668fa1f8d618c13dc232df0ca...   \n",
       "3        00005ca1c9ed5f5146b52ac8639a40ca9d57aeff4d1bd2...   \n",
       "4        00006413d8573cd20ed7128e53b7b13819fe5cfc2d801f...   \n",
       "...                                                    ...   \n",
       "1371975  ffffbbf78b6eaac697a8a5dfbfd2bfa8113ee5b403e474...   \n",
       "1371976  ffffcd5046a6143d29a04fb8c424ce494a76e5cdf4fab5...   \n",
       "1371977  ffffcf35913a0bee60e8741cb2b4e78b8a98ee5ff2e6a1...   \n",
       "1371978  ffffd7744cebcf3aca44ae7049d2a94b87074c3d4ffe38...   \n",
       "1371979  ffffd9ac14e89946416d80e791d064701994755c3ab686...   \n",
       "\n",
       "                                                prediction  \n",
       "0        0706016001 0372860001 0706016002 0610776002 07...  \n",
       "1        0706016001 0372860001 0706016002 0610776002 07...  \n",
       "2        0706016001 0372860001 0706016002 0610776002 07...  \n",
       "3        0706016001 0372860001 0706016002 0610776002 07...  \n",
       "4        0706016001 0372860001 0706016002 0610776002 07...  \n",
       "...                                                    ...  \n",
       "1371975  0706016001 0372860001 0706016002 0610776002 07...  \n",
       "1371976  0706016001 0372860001 0706016002 0610776002 07...  \n",
       "1371977  0706016001 0372860001 0706016002 0610776002 07...  \n",
       "1371978  0706016001 0372860001 0706016002 0610776002 07...  \n",
       "1371979  0706016001 0372860001 0706016002 0610776002 07...  \n",
       "\n",
       "[1371980 rows x 2 columns]"
      ]
     },
     "execution_count": 23,
     "metadata": {},
     "output_type": "execute_result"
    }
   ],
   "source": [
    "sample_submit = test_data.copy()\n",
    "sample_submit['prediction'] = sample_submit['pred'].apply(lambda x: ' '.join(x))\n",
    "\n",
    "sample_submit[\"customer_id\"] = sample_submit[\"customer_id\"].map(index_to_id_dict)\n",
    "sample_submit.drop(columns=['pred'],inplace=True)\n",
    "sample_submit"
   ]
  },
  {
   "cell_type": "code",
   "execution_count": null,
   "id": "10fb1e57",
   "metadata": {},
   "outputs": [],
   "source": []
  },
  {
   "cell_type": "code",
   "execution_count": 148,
   "id": "50102bba",
   "metadata": {
    "ExecuteTime": {
     "end_time": "2022-03-30T08:29:31.298738Z",
     "start_time": "2022-03-30T08:29:26.041537Z"
    }
   },
   "outputs": [],
   "source": [
    "sample_submit.to_csv('submission.csv',index=False)"
   ]
  },
  {
   "cell_type": "code",
   "execution_count": null,
   "id": "351a0c92",
   "metadata": {},
   "outputs": [],
   "source": [
    "top_product.drop_"
   ]
  }
 ],
 "metadata": {
  "hide_input": false,
  "kernelspec": {
   "display_name": "Python 3 (ipykernel)",
   "language": "python",
   "name": "python3"
  },
  "language_info": {
   "codemirror_mode": {
    "name": "ipython",
    "version": 3
   },
   "file_extension": ".py",
   "mimetype": "text/x-python",
   "name": "python",
   "nbconvert_exporter": "python",
   "pygments_lexer": "ipython3",
   "version": "3.8.2"
  },
  "toc": {
   "base_numbering": 1,
   "nav_menu": {},
   "number_sections": true,
   "sideBar": true,
   "skip_h1_title": false,
   "title_cell": "Table of Contents",
   "title_sidebar": "Contents",
   "toc_cell": false,
   "toc_position": {},
   "toc_section_display": true,
   "toc_window_display": false
  },
  "varInspector": {
   "cols": {
    "lenName": 16,
    "lenType": 16,
    "lenVar": 40
   },
   "kernels_config": {
    "python": {
     "delete_cmd_postfix": "",
     "delete_cmd_prefix": "del ",
     "library": "var_list.py",
     "varRefreshCmd": "print(var_dic_list())"
    },
    "r": {
     "delete_cmd_postfix": ") ",
     "delete_cmd_prefix": "rm(",
     "library": "var_list.r",
     "varRefreshCmd": "cat(var_dic_list()) "
    }
   },
   "types_to_exclude": [
    "module",
    "function",
    "builtin_function_or_method",
    "instance",
    "_Feature"
   ],
   "window_display": false
  }
 },
 "nbformat": 4,
 "nbformat_minor": 5
}
