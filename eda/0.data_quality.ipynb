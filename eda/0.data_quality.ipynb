{
 "cells": [
  {
   "cell_type": "code",
   "execution_count": 1,
   "id": "70a876ac",
   "metadata": {
    "ExecuteTime": {
     "end_time": "2022-04-16T09:22:08.089619Z",
     "start_time": "2022-04-16T09:22:07.351625Z"
    }
   },
   "outputs": [
    {
     "data": {
      "text/plain": [
       "20"
      ]
     },
     "execution_count": 1,
     "metadata": {},
     "output_type": "execute_result"
    }
   ],
   "source": [
    "import os\n",
    "import pandas as pd\n",
    "import matplotlib.pyplot as plt\n",
    "pd.get_option(\"display.max_columns\")"
   ]
  },
  {
   "cell_type": "markdown",
   "id": "8d403f82",
   "metadata": {},
   "source": [
    "## Load Data"
   ]
  },
  {
   "cell_type": "code",
   "execution_count": 2,
   "id": "1acfb181",
   "metadata": {
    "ExecuteTime": {
     "end_time": "2022-04-16T09:22:45.829654Z",
     "start_time": "2022-04-16T09:22:08.096147Z"
    },
    "scrolled": true
   },
   "outputs": [
    {
     "data": {
      "text/html": [
       "<div>\n",
       "<style scoped>\n",
       "    .dataframe tbody tr th:only-of-type {\n",
       "        vertical-align: middle;\n",
       "    }\n",
       "\n",
       "    .dataframe tbody tr th {\n",
       "        vertical-align: top;\n",
       "    }\n",
       "\n",
       "    .dataframe thead th {\n",
       "        text-align: right;\n",
       "    }\n",
       "</style>\n",
       "<table border=\"1\" class=\"dataframe\">\n",
       "  <thead>\n",
       "    <tr style=\"text-align: right;\">\n",
       "      <th></th>\n",
       "      <th>article_id</th>\n",
       "      <th>product_code</th>\n",
       "      <th>prod_name</th>\n",
       "      <th>product_type_no</th>\n",
       "      <th>product_type_name</th>\n",
       "      <th>product_group_name</th>\n",
       "      <th>graphical_appearance_no</th>\n",
       "      <th>graphical_appearance_name</th>\n",
       "      <th>colour_group_code</th>\n",
       "      <th>colour_group_name</th>\n",
       "      <th>...</th>\n",
       "      <th>department_name</th>\n",
       "      <th>index_code</th>\n",
       "      <th>index_name</th>\n",
       "      <th>index_group_no</th>\n",
       "      <th>index_group_name</th>\n",
       "      <th>section_no</th>\n",
       "      <th>section_name</th>\n",
       "      <th>garment_group_no</th>\n",
       "      <th>garment_group_name</th>\n",
       "      <th>detail_desc</th>\n",
       "    </tr>\n",
       "  </thead>\n",
       "  <tbody>\n",
       "    <tr>\n",
       "      <th>0</th>\n",
       "      <td>0108775015</td>\n",
       "      <td>108775</td>\n",
       "      <td>Strap top</td>\n",
       "      <td>253</td>\n",
       "      <td>Vest top</td>\n",
       "      <td>Garment Upper body</td>\n",
       "      <td>1010016</td>\n",
       "      <td>Solid</td>\n",
       "      <td>9</td>\n",
       "      <td>Black</td>\n",
       "      <td>...</td>\n",
       "      <td>Jersey Basic</td>\n",
       "      <td>A</td>\n",
       "      <td>Ladieswear</td>\n",
       "      <td>1</td>\n",
       "      <td>Ladieswear</td>\n",
       "      <td>16</td>\n",
       "      <td>Womens Everyday Basics</td>\n",
       "      <td>1002</td>\n",
       "      <td>Jersey Basic</td>\n",
       "      <td>Jersey top with narrow shoulder straps.</td>\n",
       "    </tr>\n",
       "    <tr>\n",
       "      <th>1</th>\n",
       "      <td>0108775044</td>\n",
       "      <td>108775</td>\n",
       "      <td>Strap top</td>\n",
       "      <td>253</td>\n",
       "      <td>Vest top</td>\n",
       "      <td>Garment Upper body</td>\n",
       "      <td>1010016</td>\n",
       "      <td>Solid</td>\n",
       "      <td>10</td>\n",
       "      <td>White</td>\n",
       "      <td>...</td>\n",
       "      <td>Jersey Basic</td>\n",
       "      <td>A</td>\n",
       "      <td>Ladieswear</td>\n",
       "      <td>1</td>\n",
       "      <td>Ladieswear</td>\n",
       "      <td>16</td>\n",
       "      <td>Womens Everyday Basics</td>\n",
       "      <td>1002</td>\n",
       "      <td>Jersey Basic</td>\n",
       "      <td>Jersey top with narrow shoulder straps.</td>\n",
       "    </tr>\n",
       "    <tr>\n",
       "      <th>2</th>\n",
       "      <td>0108775051</td>\n",
       "      <td>108775</td>\n",
       "      <td>Strap top (1)</td>\n",
       "      <td>253</td>\n",
       "      <td>Vest top</td>\n",
       "      <td>Garment Upper body</td>\n",
       "      <td>1010017</td>\n",
       "      <td>Stripe</td>\n",
       "      <td>11</td>\n",
       "      <td>Off White</td>\n",
       "      <td>...</td>\n",
       "      <td>Jersey Basic</td>\n",
       "      <td>A</td>\n",
       "      <td>Ladieswear</td>\n",
       "      <td>1</td>\n",
       "      <td>Ladieswear</td>\n",
       "      <td>16</td>\n",
       "      <td>Womens Everyday Basics</td>\n",
       "      <td>1002</td>\n",
       "      <td>Jersey Basic</td>\n",
       "      <td>Jersey top with narrow shoulder straps.</td>\n",
       "    </tr>\n",
       "    <tr>\n",
       "      <th>3</th>\n",
       "      <td>0110065001</td>\n",
       "      <td>110065</td>\n",
       "      <td>OP T-shirt (Idro)</td>\n",
       "      <td>306</td>\n",
       "      <td>Bra</td>\n",
       "      <td>Underwear</td>\n",
       "      <td>1010016</td>\n",
       "      <td>Solid</td>\n",
       "      <td>9</td>\n",
       "      <td>Black</td>\n",
       "      <td>...</td>\n",
       "      <td>Clean Lingerie</td>\n",
       "      <td>B</td>\n",
       "      <td>Lingeries/Tights</td>\n",
       "      <td>1</td>\n",
       "      <td>Ladieswear</td>\n",
       "      <td>61</td>\n",
       "      <td>Womens Lingerie</td>\n",
       "      <td>1017</td>\n",
       "      <td>Under-, Nightwear</td>\n",
       "      <td>Microfibre T-shirt bra with underwired, moulde...</td>\n",
       "    </tr>\n",
       "    <tr>\n",
       "      <th>4</th>\n",
       "      <td>0110065002</td>\n",
       "      <td>110065</td>\n",
       "      <td>OP T-shirt (Idro)</td>\n",
       "      <td>306</td>\n",
       "      <td>Bra</td>\n",
       "      <td>Underwear</td>\n",
       "      <td>1010016</td>\n",
       "      <td>Solid</td>\n",
       "      <td>10</td>\n",
       "      <td>White</td>\n",
       "      <td>...</td>\n",
       "      <td>Clean Lingerie</td>\n",
       "      <td>B</td>\n",
       "      <td>Lingeries/Tights</td>\n",
       "      <td>1</td>\n",
       "      <td>Ladieswear</td>\n",
       "      <td>61</td>\n",
       "      <td>Womens Lingerie</td>\n",
       "      <td>1017</td>\n",
       "      <td>Under-, Nightwear</td>\n",
       "      <td>Microfibre T-shirt bra with underwired, moulde...</td>\n",
       "    </tr>\n",
       "  </tbody>\n",
       "</table>\n",
       "<p>5 rows × 25 columns</p>\n",
       "</div>"
      ],
      "text/plain": [
       "   article_id  product_code          prod_name  product_type_no  \\\n",
       "0  0108775015        108775          Strap top              253   \n",
       "1  0108775044        108775          Strap top              253   \n",
       "2  0108775051        108775      Strap top (1)              253   \n",
       "3  0110065001        110065  OP T-shirt (Idro)              306   \n",
       "4  0110065002        110065  OP T-shirt (Idro)              306   \n",
       "\n",
       "  product_type_name  product_group_name  graphical_appearance_no  \\\n",
       "0          Vest top  Garment Upper body                  1010016   \n",
       "1          Vest top  Garment Upper body                  1010016   \n",
       "2          Vest top  Garment Upper body                  1010017   \n",
       "3               Bra           Underwear                  1010016   \n",
       "4               Bra           Underwear                  1010016   \n",
       "\n",
       "  graphical_appearance_name  colour_group_code colour_group_name  ...  \\\n",
       "0                     Solid                  9             Black  ...   \n",
       "1                     Solid                 10             White  ...   \n",
       "2                    Stripe                 11         Off White  ...   \n",
       "3                     Solid                  9             Black  ...   \n",
       "4                     Solid                 10             White  ...   \n",
       "\n",
       "   department_name index_code        index_name index_group_no  \\\n",
       "0     Jersey Basic          A        Ladieswear              1   \n",
       "1     Jersey Basic          A        Ladieswear              1   \n",
       "2     Jersey Basic          A        Ladieswear              1   \n",
       "3   Clean Lingerie          B  Lingeries/Tights              1   \n",
       "4   Clean Lingerie          B  Lingeries/Tights              1   \n",
       "\n",
       "   index_group_name section_no            section_name garment_group_no  \\\n",
       "0        Ladieswear         16  Womens Everyday Basics             1002   \n",
       "1        Ladieswear         16  Womens Everyday Basics             1002   \n",
       "2        Ladieswear         16  Womens Everyday Basics             1002   \n",
       "3        Ladieswear         61         Womens Lingerie             1017   \n",
       "4        Ladieswear         61         Womens Lingerie             1017   \n",
       "\n",
       "   garment_group_name                                        detail_desc  \n",
       "0        Jersey Basic            Jersey top with narrow shoulder straps.  \n",
       "1        Jersey Basic            Jersey top with narrow shoulder straps.  \n",
       "2        Jersey Basic            Jersey top with narrow shoulder straps.  \n",
       "3   Under-, Nightwear  Microfibre T-shirt bra with underwired, moulde...  \n",
       "4   Under-, Nightwear  Microfibre T-shirt bra with underwired, moulde...  \n",
       "\n",
       "[5 rows x 25 columns]"
      ]
     },
     "execution_count": 2,
     "metadata": {},
     "output_type": "execute_result"
    }
   ],
   "source": [
    "path = '../data/raw'\n",
    "articles = pd.read_csv(os.path.join(path,'articles.csv'),dtype={'article_id':str})\n",
    "customers = pd.read_csv(os.path.join(path,'customers.csv'))\n",
    "transactions = pd.read_csv(os.path.join(path,'transactions_train.csv'),dtype={'article_id':str})\n",
    "articles.head()"
   ]
  },
  {
   "cell_type": "markdown",
   "id": "03be5678",
   "metadata": {},
   "source": [
    "### Reduce Memory Usage"
   ]
  },
  {
   "cell_type": "markdown",
   "id": "158f2459",
   "metadata": {},
   "source": [
    "The customer_id is a length 64 string which uses 64 bytes.<br> The code will coverts the column to int64 which only takes 8 bytes! Also the mapping is 1:1 "
   ]
  },
  {
   "cell_type": "code",
   "execution_count": 4,
   "id": "89ae95f8",
   "metadata": {
    "ExecuteTime": {
     "end_time": "2022-04-16T09:22:54.396642Z",
     "start_time": "2022-04-16T09:22:46.106142Z"
    }
   },
   "outputs": [
    {
     "data": {
      "text/html": [
       "<div>\n",
       "<style scoped>\n",
       "    .dataframe tbody tr th:only-of-type {\n",
       "        vertical-align: middle;\n",
       "    }\n",
       "\n",
       "    .dataframe tbody tr th {\n",
       "        vertical-align: top;\n",
       "    }\n",
       "\n",
       "    .dataframe thead th {\n",
       "        text-align: right;\n",
       "    }\n",
       "</style>\n",
       "<table border=\"1\" class=\"dataframe\">\n",
       "  <thead>\n",
       "    <tr style=\"text-align: right;\">\n",
       "      <th></th>\n",
       "      <th>customer_id</th>\n",
       "      <th>FN</th>\n",
       "      <th>Active</th>\n",
       "      <th>club_member_status</th>\n",
       "      <th>fashion_news_frequency</th>\n",
       "      <th>age</th>\n",
       "      <th>postal_code</th>\n",
       "    </tr>\n",
       "  </thead>\n",
       "  <tbody>\n",
       "    <tr>\n",
       "      <th>0</th>\n",
       "      <td>0</td>\n",
       "      <td>NaN</td>\n",
       "      <td>NaN</td>\n",
       "      <td>ACTIVE</td>\n",
       "      <td>NONE</td>\n",
       "      <td>49.0</td>\n",
       "      <td>52043ee2162cf5aa7ee79974281641c6f11a68d276429a...</td>\n",
       "    </tr>\n",
       "    <tr>\n",
       "      <th>1</th>\n",
       "      <td>1</td>\n",
       "      <td>NaN</td>\n",
       "      <td>NaN</td>\n",
       "      <td>ACTIVE</td>\n",
       "      <td>NONE</td>\n",
       "      <td>25.0</td>\n",
       "      <td>2973abc54daa8a5f8ccfe9362140c63247c5eee03f1d93...</td>\n",
       "    </tr>\n",
       "    <tr>\n",
       "      <th>2</th>\n",
       "      <td>2</td>\n",
       "      <td>NaN</td>\n",
       "      <td>NaN</td>\n",
       "      <td>ACTIVE</td>\n",
       "      <td>NONE</td>\n",
       "      <td>24.0</td>\n",
       "      <td>64f17e6a330a85798e4998f62d0930d14db8db1c054af6...</td>\n",
       "    </tr>\n",
       "    <tr>\n",
       "      <th>3</th>\n",
       "      <td>3</td>\n",
       "      <td>NaN</td>\n",
       "      <td>NaN</td>\n",
       "      <td>ACTIVE</td>\n",
       "      <td>NONE</td>\n",
       "      <td>54.0</td>\n",
       "      <td>5d36574f52495e81f019b680c843c443bd343d5ca5b1c2...</td>\n",
       "    </tr>\n",
       "    <tr>\n",
       "      <th>4</th>\n",
       "      <td>4</td>\n",
       "      <td>1.0</td>\n",
       "      <td>1.0</td>\n",
       "      <td>ACTIVE</td>\n",
       "      <td>Regularly</td>\n",
       "      <td>52.0</td>\n",
       "      <td>25fa5ddee9aac01b35208d01736e57942317d756b32ddd...</td>\n",
       "    </tr>\n",
       "  </tbody>\n",
       "</table>\n",
       "</div>"
      ],
      "text/plain": [
       "   customer_id   FN  Active club_member_status fashion_news_frequency   age  \\\n",
       "0            0  NaN     NaN             ACTIVE                   NONE  49.0   \n",
       "1            1  NaN     NaN             ACTIVE                   NONE  25.0   \n",
       "2            2  NaN     NaN             ACTIVE                   NONE  24.0   \n",
       "3            3  NaN     NaN             ACTIVE                   NONE  54.0   \n",
       "4            4  1.0     1.0             ACTIVE              Regularly  52.0   \n",
       "\n",
       "                                         postal_code  \n",
       "0  52043ee2162cf5aa7ee79974281641c6f11a68d276429a...  \n",
       "1  2973abc54daa8a5f8ccfe9362140c63247c5eee03f1d93...  \n",
       "2  64f17e6a330a85798e4998f62d0930d14db8db1c054af6...  \n",
       "3  5d36574f52495e81f019b680c843c443bd343d5ca5b1c2...  \n",
       "4  25fa5ddee9aac01b35208d01736e57942317d756b32ddd...  "
      ]
     },
     "execution_count": 4,
     "metadata": {},
     "output_type": "execute_result"
    }
   ],
   "source": [
    "id_to_index_dict = dict(zip(customers[\"customer_id\"], customers.index))\n",
    "index_to_id_dict = dict(zip(customers.index, customers[\"customer_id\"]))\n",
    "\n",
    "# for memory efficiency\n",
    "customers[\"customer_id\"] = customers[\"customer_id\"].map(id_to_index_dict)\n",
    "transactions[\"customer_id\"] = transactions[\"customer_id\"].map(id_to_index_dict)\n",
    "customers.head()"
   ]
  },
  {
   "cell_type": "code",
   "execution_count": 5,
   "id": "4dae8b66",
   "metadata": {
    "ExecuteTime": {
     "end_time": "2022-04-16T09:22:58.741758Z",
     "start_time": "2022-04-16T09:22:55.687234Z"
    }
   },
   "outputs": [
    {
     "name": "stdout",
     "output_type": "stream",
     "text": [
      "<class 'pandas.core.frame.DataFrame'>\n",
      "RangeIndex: 31788324 entries, 0 to 31788323\n",
      "Data columns (total 5 columns):\n",
      " #   Column            Dtype         \n",
      "---  ------            -----         \n",
      " 0   t_dat             datetime64[ns]\n",
      " 1   customer_id       int64         \n",
      " 2   article_id        object        \n",
      " 3   price             float32       \n",
      " 4   sales_channel_id  int8          \n",
      "dtypes: datetime64[ns](1), float32(1), int64(1), int8(1), object(1)\n",
      "memory usage: 879.2+ MB\n"
     ]
    }
   ],
   "source": [
    "### Convert other columns\n",
    "transactions['price'] = transactions['price'].astype('float32')\n",
    "transactions['sales_channel_id'] = transactions['sales_channel_id'].astype('int8')\n",
    "transactions['t_dat'] = pd.to_datetime(transactions['t_dat'],format = '%Y-%m-%d')\n",
    "transactions.info()"
   ]
  },
  {
   "cell_type": "markdown",
   "id": "e2b45630",
   "metadata": {},
   "source": [
    "## Data Quality "
   ]
  },
  {
   "cell_type": "markdown",
   "id": "2131d7e4",
   "metadata": {},
   "source": [
    "To-Do (Data Quality)\n",
    "- Define Column's Definition\n",
    "- Check Null Columns\n",
    "- Identify Categorical variables and its quality\n",
    "- Plot Histogram for numericle variables (Check Normality)\n",
    "- Find Outlier"
   ]
  },
  {
   "cell_type": "markdown",
   "id": "8f0ebde5",
   "metadata": {},
   "source": [
    "### Check Missing values"
   ]
  },
  {
   "cell_type": "markdown",
   "id": "7a9110f0",
   "metadata": {},
   "source": [
    "#### Articles"
   ]
  },
  {
   "cell_type": "code",
   "execution_count": null,
   "id": "8acd50e6",
   "metadata": {
    "ExecuteTime": {
     "end_time": "2022-04-16T09:20:21.415241Z",
     "start_time": "2022-04-16T09:20:21.114581Z"
    }
   },
   "outputs": [],
   "source": [
    "articles.info()\n",
    "\n",
    "# Check Missing Value in Each Column\n",
    "count_null = pd.DataFrame(articles.isnull().sum(),columns=['null_items'])\n",
    "count_null['null_ratio'] = count_null['null_items']/len(articles)\n",
    "count_null[count_null.null_items > 0].T"
   ]
  },
  {
   "cell_type": "markdown",
   "id": "8adc4b8a",
   "metadata": {},
   "source": [
    "#### Customers"
   ]
  },
  {
   "cell_type": "code",
   "execution_count": 6,
   "id": "aa6a65e9",
   "metadata": {
    "ExecuteTime": {
     "end_time": "2022-04-16T09:23:00.814113Z",
     "start_time": "2022-04-16T09:23:00.028123Z"
    }
   },
   "outputs": [
    {
     "name": "stdout",
     "output_type": "stream",
     "text": [
      "<class 'pandas.core.frame.DataFrame'>\n",
      "RangeIndex: 1371980 entries, 0 to 1371979\n",
      "Data columns (total 7 columns):\n",
      " #   Column                  Non-Null Count    Dtype  \n",
      "---  ------                  --------------    -----  \n",
      " 0   customer_id             1371980 non-null  int64  \n",
      " 1   FN                      476930 non-null   float64\n",
      " 2   Active                  464404 non-null   float64\n",
      " 3   club_member_status      1365918 non-null  object \n",
      " 4   fashion_news_frequency  1355971 non-null  object \n",
      " 5   age                     1356119 non-null  float64\n",
      " 6   postal_code             1371980 non-null  object \n",
      "dtypes: float64(3), int64(1), object(3)\n",
      "memory usage: 73.3+ MB\n"
     ]
    },
    {
     "data": {
      "text/html": [
       "<div>\n",
       "<style scoped>\n",
       "    .dataframe tbody tr th:only-of-type {\n",
       "        vertical-align: middle;\n",
       "    }\n",
       "\n",
       "    .dataframe tbody tr th {\n",
       "        vertical-align: top;\n",
       "    }\n",
       "\n",
       "    .dataframe thead th {\n",
       "        text-align: right;\n",
       "    }\n",
       "</style>\n",
       "<table border=\"1\" class=\"dataframe\">\n",
       "  <thead>\n",
       "    <tr style=\"text-align: right;\">\n",
       "      <th></th>\n",
       "      <th>null_items</th>\n",
       "      <th>null_ratio</th>\n",
       "    </tr>\n",
       "  </thead>\n",
       "  <tbody>\n",
       "    <tr>\n",
       "      <th>FN</th>\n",
       "      <td>895050</td>\n",
       "      <td>0.652378</td>\n",
       "    </tr>\n",
       "    <tr>\n",
       "      <th>Active</th>\n",
       "      <td>907576</td>\n",
       "      <td>0.661508</td>\n",
       "    </tr>\n",
       "    <tr>\n",
       "      <th>club_member_status</th>\n",
       "      <td>6062</td>\n",
       "      <td>0.004418</td>\n",
       "    </tr>\n",
       "    <tr>\n",
       "      <th>fashion_news_frequency</th>\n",
       "      <td>16009</td>\n",
       "      <td>0.011669</td>\n",
       "    </tr>\n",
       "    <tr>\n",
       "      <th>age</th>\n",
       "      <td>15861</td>\n",
       "      <td>0.011561</td>\n",
       "    </tr>\n",
       "  </tbody>\n",
       "</table>\n",
       "</div>"
      ],
      "text/plain": [
       "                        null_items  null_ratio\n",
       "FN                          895050    0.652378\n",
       "Active                      907576    0.661508\n",
       "club_member_status            6062    0.004418\n",
       "fashion_news_frequency       16009    0.011669\n",
       "age                          15861    0.011561"
      ]
     },
     "execution_count": 6,
     "metadata": {},
     "output_type": "execute_result"
    }
   ],
   "source": [
    "customers.info()\n",
    "\n",
    "# Check Missing Value in Each Column\n",
    "count_null = pd.DataFrame(customers.isnull().sum(),columns=['null_items'])\n",
    "count_null['null_ratio'] = count_null['null_items']/len(customers)\n",
    "count_null[count_null.null_items > 0]"
   ]
  },
  {
   "cell_type": "markdown",
   "id": "26bcc801",
   "metadata": {},
   "source": [
    "#### Transactions"
   ]
  },
  {
   "cell_type": "code",
   "execution_count": 7,
   "id": "db39a5b8",
   "metadata": {
    "ExecuteTime": {
     "end_time": "2022-04-16T09:23:05.275028Z",
     "start_time": "2022-04-16T09:23:02.116505Z"
    }
   },
   "outputs": [
    {
     "name": "stdout",
     "output_type": "stream",
     "text": [
      "<class 'pandas.core.frame.DataFrame'>\n",
      "RangeIndex: 31788324 entries, 0 to 31788323\n",
      "Data columns (total 5 columns):\n",
      " #   Column            Dtype         \n",
      "---  ------            -----         \n",
      " 0   t_dat             datetime64[ns]\n",
      " 1   customer_id       int64         \n",
      " 2   article_id        object        \n",
      " 3   price             float32       \n",
      " 4   sales_channel_id  int8          \n",
      "dtypes: datetime64[ns](1), float32(1), int64(1), int8(1), object(1)\n",
      "memory usage: 879.2+ MB\n"
     ]
    },
    {
     "data": {
      "text/html": [
       "<div>\n",
       "<style scoped>\n",
       "    .dataframe tbody tr th:only-of-type {\n",
       "        vertical-align: middle;\n",
       "    }\n",
       "\n",
       "    .dataframe tbody tr th {\n",
       "        vertical-align: top;\n",
       "    }\n",
       "\n",
       "    .dataframe thead th {\n",
       "        text-align: right;\n",
       "    }\n",
       "</style>\n",
       "<table border=\"1\" class=\"dataframe\">\n",
       "  <thead>\n",
       "    <tr style=\"text-align: right;\">\n",
       "      <th></th>\n",
       "    </tr>\n",
       "  </thead>\n",
       "  <tbody>\n",
       "    <tr>\n",
       "      <th>null_items</th>\n",
       "    </tr>\n",
       "    <tr>\n",
       "      <th>null_ratio</th>\n",
       "    </tr>\n",
       "  </tbody>\n",
       "</table>\n",
       "</div>"
      ],
      "text/plain": [
       "Empty DataFrame\n",
       "Columns: []\n",
       "Index: [null_items, null_ratio]"
      ]
     },
     "execution_count": 7,
     "metadata": {},
     "output_type": "execute_result"
    }
   ],
   "source": [
    "transactions.info()\n",
    "\n",
    "# Check Missing Value in Each Column\n",
    "count_null = pd.DataFrame(transactions.isnull().sum(),columns=['null_items'])\n",
    "count_null['null_ratio'] = count_null['null_items']/len(transactions)\n",
    "count_null[count_null.null_items > 0].T"
   ]
  },
  {
   "cell_type": "markdown",
   "id": "bf73cf96",
   "metadata": {},
   "source": [
    "### Explore Missing Values"
   ]
  },
  {
   "cell_type": "markdown",
   "id": "78405fcb",
   "metadata": {},
   "source": [
    "Only \"customer.csv\" has missing value problems in the following columns:\n",
    "- [FN]\n",
    "- [Active]\n",
    "- [club_member_status]\n",
    "- [fashion_news_frequency]\n",
    "- [age]"
   ]
  },
  {
   "cell_type": "code",
   "execution_count": null,
   "id": "977bc7b6",
   "metadata": {
    "ExecuteTime": {
     "end_time": "2022-04-16T09:20:26.095880Z",
     "start_time": "2022-04-16T09:20:25.277760Z"
    }
   },
   "outputs": [],
   "source": [
    "print('row percentage of missing value is {} %'.format(len(customers[customers.isnull().any(axis=1)])*100/customers.shape[0]))\n",
    "\n",
    "# Check Missing Value in Each Column\n",
    "count_null = pd.DataFrame(customers.isnull().sum(),columns=['null_items'])\n",
    "count_null['null_ratio'] = count_null['null_items']/len(customers)\n",
    "count_null[count_null.null_items > 0].T"
   ]
  },
  {
   "cell_type": "markdown",
   "id": "1b208fb0",
   "metadata": {},
   "source": [
    "#### FN"
   ]
  },
  {
   "cell_type": "code",
   "execution_count": null,
   "id": "6f886cac",
   "metadata": {
    "ExecuteTime": {
     "end_time": "2022-04-16T09:20:26.131679Z",
     "start_time": "2022-04-16T09:20:26.099359Z"
    }
   },
   "outputs": [],
   "source": [
    "pd.DataFrame(customers[['FN']].value_counts(dropna=False))"
   ]
  },
  {
   "cell_type": "markdown",
   "id": "5fd55639",
   "metadata": {},
   "source": [
    "#### Active"
   ]
  },
  {
   "cell_type": "code",
   "execution_count": null,
   "id": "170a4d9a",
   "metadata": {
    "ExecuteTime": {
     "end_time": "2022-04-16T09:20:26.161612Z",
     "start_time": "2022-04-16T09:20:26.132623Z"
    }
   },
   "outputs": [],
   "source": [
    "pd.DataFrame(customers[['Active']].value_counts(dropna=False))"
   ]
  },
  {
   "cell_type": "markdown",
   "id": "05cd7d34",
   "metadata": {},
   "source": [
    "#### club_member_status"
   ]
  },
  {
   "cell_type": "code",
   "execution_count": null,
   "id": "71006c43",
   "metadata": {
    "ExecuteTime": {
     "end_time": "2022-04-16T09:20:26.273114Z",
     "start_time": "2022-04-16T09:20:26.162647Z"
    }
   },
   "outputs": [],
   "source": [
    "pd.DataFrame(customers[['club_member_status']].value_counts(dropna=False))"
   ]
  },
  {
   "cell_type": "markdown",
   "id": "57e99cea",
   "metadata": {},
   "source": [
    "#### fashion_news_frequency"
   ]
  },
  {
   "cell_type": "code",
   "execution_count": null,
   "id": "3b81b0c5",
   "metadata": {
    "ExecuteTime": {
     "end_time": "2022-04-16T09:20:26.386208Z",
     "start_time": "2022-04-16T09:20:26.274163Z"
    }
   },
   "outputs": [],
   "source": [
    "pd.DataFrame(customers[['fashion_news_frequency']].value_counts(dropna=False))"
   ]
  },
  {
   "cell_type": "code",
   "execution_count": null,
   "id": "6a93ee7b",
   "metadata": {
    "ExecuteTime": {
     "end_time": "2022-04-16T09:20:26.528896Z",
     "start_time": "2022-04-16T09:20:26.387248Z"
    }
   },
   "outputs": [],
   "source": [
    "pd.DataFrame(customers[['Active','club_member_status']].value_counts(dropna=False))"
   ]
  },
  {
   "cell_type": "markdown",
   "id": "aa29d4f0",
   "metadata": {},
   "source": [
    "#### age"
   ]
  },
  {
   "cell_type": "code",
   "execution_count": null,
   "id": "bdced0ef",
   "metadata": {
    "ExecuteTime": {
     "end_time": "2022-04-16T09:20:26.670784Z",
     "start_time": "2022-04-16T09:20:26.529914Z"
    }
   },
   "outputs": [],
   "source": [
    "customers['age'].hist()"
   ]
  },
  {
   "cell_type": "code",
   "execution_count": null,
   "id": "f8d0fbc0",
   "metadata": {
    "ExecuteTime": {
     "end_time": "2022-04-16T09:20:26.722053Z",
     "start_time": "2022-04-16T09:20:26.671752Z"
    }
   },
   "outputs": [],
   "source": [
    "customers[['age']].describe().astype(str).T"
   ]
  },
  {
   "cell_type": "code",
   "execution_count": null,
   "id": "5e130730",
   "metadata": {
    "ExecuteTime": {
     "end_time": "2022-04-16T09:20:26.975849Z",
     "start_time": "2022-04-16T09:20:26.723008Z"
    }
   },
   "outputs": [],
   "source": [
    "temp = customers.copy()\n",
    "temp['age_bin'] = pd.cut(temp['age'],bins=[min(temp['age']),35,60,80,max(temp['age'])])\n",
    "\n",
    "pd.DataFrame(temp['age_bin'].value_counts(dropna=False)).reset_index()"
   ]
  },
  {
   "cell_type": "markdown",
   "id": "ac7439fc",
   "metadata": {},
   "source": [
    "#### Cremer's V Test"
   ]
  },
  {
   "cell_type": "code",
   "execution_count": null,
   "id": "9b45013e",
   "metadata": {
    "ExecuteTime": {
     "end_time": "2022-04-16T09:20:27.365665Z",
     "start_time": "2022-04-16T09:20:26.976791Z"
    }
   },
   "outputs": [],
   "source": [
    "for i in [ i for i in customers.columns if customers[i].isnull().any()]:\n",
    "    temp[i+'_m'] = np.where(temp[i].isnull(),True,False)\n",
    "    \n",
    "# Convert boolean to categary for Cremer's V Calculation    \n",
    "temp = temp.apply(lambda x: x.astype(\"category\") if x.dtype == \"bool\" else x)\n",
    "\n",
    "temp.head()"
   ]
  },
  {
   "cell_type": "code",
   "execution_count": null,
   "id": "b13dc70e",
   "metadata": {
    "ExecuteTime": {
     "end_time": "2022-04-16T09:20:27.664990Z",
     "start_time": "2022-04-16T09:20:27.366595Z"
    }
   },
   "outputs": [],
   "source": [
    "temp[['FN','Active']]  = temp[['FN','Active']].fillna(0)\n",
    "temp[['FN','Active','club_member_status','fashion_news_frequency']] = temp[['FN','Active','club_member_status','fashion_news_frequency']].astype('category')"
   ]
  },
  {
   "cell_type": "code",
   "execution_count": null,
   "id": "a45a12ce",
   "metadata": {
    "ExecuteTime": {
     "end_time": "2022-04-16T09:20:27.756168Z",
     "start_time": "2022-04-16T09:20:27.666091Z"
    }
   },
   "outputs": [],
   "source": [
    "import association_metrics as am\n",
    "# Initialize a Cramer V object\n",
    "cramersv = am.CramersV(temp)"
   ]
  },
  {
   "cell_type": "code",
   "execution_count": null,
   "id": "cd3d6ebb",
   "metadata": {
    "ExecuteTime": {
     "end_time": "2022-04-16T09:20:27.758870Z",
     "start_time": "2022-04-16T09:20:27.758863Z"
    }
   },
   "outputs": [],
   "source": [
    "cramersv.fit()[['FN_m','Active_m','club_member_status_m','fashion_news_frequency_m','age_m']][:5]\n"
   ]
  },
  {
   "cell_type": "code",
   "execution_count": null,
   "id": "19b164b8",
   "metadata": {
    "ExecuteTime": {
     "end_time": "2022-04-16T09:20:27.759544Z",
     "start_time": "2022-04-16T09:20:27.759536Z"
    }
   },
   "outputs": [],
   "source": [
    "customers.fillna(0).groupby(['FN','Active','fashion_news_frequency']).count()"
   ]
  },
  {
   "cell_type": "code",
   "execution_count": null,
   "id": "e23ab10c",
   "metadata": {
    "ExecuteTime": {
     "end_time": "2022-04-16T09:20:27.760497Z",
     "start_time": "2022-04-16T09:20:27.760489Z"
    }
   },
   "outputs": [],
   "source": [
    "temp.groupby(['FN_m','fashion_news_frequency']).count()"
   ]
  },
  {
   "cell_type": "code",
   "execution_count": null,
   "id": "0b302223",
   "metadata": {
    "ExecuteTime": {
     "end_time": "2022-04-16T09:20:27.761187Z",
     "start_time": "2022-04-16T09:20:27.761180Z"
    }
   },
   "outputs": [],
   "source": [
    "temp.groupby(['Active_m','fashion_news_frequency']).count()"
   ]
  },
  {
   "cell_type": "code",
   "execution_count": null,
   "id": "3edf05c4",
   "metadata": {
    "ExecuteTime": {
     "end_time": "2022-04-16T09:20:27.762364Z",
     "start_time": "2022-04-16T09:20:27.762357Z"
    }
   },
   "outputs": [],
   "source": [
    "temp.groupby(['age_m','club_member_status']).count()"
   ]
  },
  {
   "cell_type": "markdown",
   "id": "99aa6ae0",
   "metadata": {},
   "source": [
    "### Detect Outlier"
   ]
  },
  {
   "cell_type": "code",
   "execution_count": null,
   "id": "e90c08c1",
   "metadata": {
    "ExecuteTime": {
     "end_time": "2022-04-16T09:20:27.763272Z",
     "start_time": "2022-04-16T09:20:27.763264Z"
    }
   },
   "outputs": [],
   "source": [
    "fig, (ax0, ax1) = plt.subplots(nrows=1, ncols=2, figsize=(8, 4))\n",
    "\n",
    "ax0.boxplot(transactions['price'],labels=['Price'])\n",
    "ax1.hist(transactions['price'][transactions['price']<=0.3],bins=30)\n",
    "\n",
    "plt.show()\n",
    "pd.DataFrame(transactions['price'].describe()).astype(float).T"
   ]
  },
  {
   "cell_type": "code",
   "execution_count": null,
   "id": "b647a3da",
   "metadata": {
    "ExecuteTime": {
     "end_time": "2022-04-16T09:20:27.763970Z",
     "start_time": "2022-04-16T09:20:27.763963Z"
    }
   },
   "outputs": [],
   "source": [
    "fig, (ax0, ax1) = plt.subplots(nrows=1, ncols=2, figsize=(8, 4))\n",
    "\n",
    "ax0.boxplot(customers['age'],labels=['age'])\n",
    "ax1.hist(customers['age'],bins=30)\n",
    "\n",
    "plt.show()\n",
    "pd.DataFrame(customers['age'].describe(percentiles=[0.1,0.25,0.5,0.75,0.9])).T"
   ]
  },
  {
   "cell_type": "markdown",
   "id": "873321fc",
   "metadata": {},
   "source": [
    "### Merge Problem"
   ]
  },
  {
   "cell_type": "markdown",
   "id": "14197d49",
   "metadata": {},
   "source": [
    "#### Unsold articles"
   ]
  },
  {
   "cell_type": "code",
   "execution_count": null,
   "id": "17c8ca7d",
   "metadata": {
    "ExecuteTime": {
     "end_time": "2022-04-16T09:20:27.764827Z",
     "start_time": "2022-04-16T09:20:27.764818Z"
    }
   },
   "outputs": [],
   "source": [
    "temp = transactions.merge(articles,on='article_id',how='outer',indicator=True)\n",
    "print('Total unsold articles: ',len(temp[temp._merge == 'right_only']))\n",
    "temp[temp._merge == 'right_only'].head(2)"
   ]
  },
  {
   "cell_type": "markdown",
   "id": "dba75276",
   "metadata": {},
   "source": [
    "#### Cold Start customers (Zero transaction)"
   ]
  },
  {
   "cell_type": "code",
   "execution_count": null,
   "id": "33e38b92",
   "metadata": {
    "ExecuteTime": {
     "end_time": "2022-04-16T09:20:27.765398Z",
     "start_time": "2022-04-16T09:20:27.765391Z"
    }
   },
   "outputs": [],
   "source": [
    "zero_tran_cus = customers.merge(transactions,on='customer_id',how='outer',indicator=True)\n",
    "print('Total zero-transaction customers: ',len(zero_tran_cus[zero_tran_cus._merge == 'left_only']))\n",
    "zero_tran_cus = zero_tran_cus[zero_tran_cus._merge == 'left_only']\n",
    "zero_tran_cus.head()"
   ]
  },
  {
   "cell_type": "markdown",
   "id": "d7a51778",
   "metadata": {},
   "source": [
    "<b>Note: </b>I suggest that we should remove these clients from our modelling process because we don't have their detail much."
   ]
  },
  {
   "cell_type": "markdown",
   "id": "f5709898",
   "metadata": {},
   "source": [
    "## Data Transformation\n",
    "Only customer.csv that should be fixed due to its missing data."
   ]
  },
  {
   "cell_type": "markdown",
   "id": "c65217b1",
   "metadata": {},
   "source": [
    "#### Remove zero-transaction customers.\n"
   ]
  },
  {
   "cell_type": "code",
   "execution_count": null,
   "id": "9f93909e",
   "metadata": {
    "ExecuteTime": {
     "end_time": "2022-04-16T09:20:27.765930Z",
     "start_time": "2022-04-16T09:20:27.765923Z"
    }
   },
   "outputs": [],
   "source": [
    "# print('Total Records (Before): ',len(customers))\n",
    "# customers = customers[~customers['customer_id'].isin(zero_tran_cus['customer_id'])].reset_index(drop=True)\n",
    "# print('Total Records (After): ',len(customers))\n"
   ]
  },
  {
   "cell_type": "markdown",
   "id": "7fae9563",
   "metadata": {},
   "source": [
    "#### Impute null values for each column."
   ]
  },
  {
   "cell_type": "code",
   "execution_count": 8,
   "id": "eea9c9a2",
   "metadata": {
    "ExecuteTime": {
     "end_time": "2022-04-16T09:23:07.154945Z",
     "start_time": "2022-04-16T09:23:06.550748Z"
    }
   },
   "outputs": [
    {
     "data": {
      "text/html": [
       "<div>\n",
       "<style scoped>\n",
       "    .dataframe tbody tr th:only-of-type {\n",
       "        vertical-align: middle;\n",
       "    }\n",
       "\n",
       "    .dataframe tbody tr th {\n",
       "        vertical-align: top;\n",
       "    }\n",
       "\n",
       "    .dataframe thead th {\n",
       "        text-align: right;\n",
       "    }\n",
       "</style>\n",
       "<table border=\"1\" class=\"dataframe\">\n",
       "  <thead>\n",
       "    <tr style=\"text-align: right;\">\n",
       "      <th></th>\n",
       "      <th>customer_id</th>\n",
       "      <th>FN</th>\n",
       "      <th>Active</th>\n",
       "      <th>club_member_status</th>\n",
       "      <th>fashion_news_frequency</th>\n",
       "      <th>age</th>\n",
       "      <th>postal_code</th>\n",
       "    </tr>\n",
       "  </thead>\n",
       "  <tbody>\n",
       "    <tr>\n",
       "      <th>0</th>\n",
       "      <td>0</td>\n",
       "      <td>0.0</td>\n",
       "      <td>0.0</td>\n",
       "      <td>ACTIVE</td>\n",
       "      <td>NONE</td>\n",
       "      <td>49.0</td>\n",
       "      <td>52043ee2162cf5aa7ee79974281641c6f11a68d276429a...</td>\n",
       "    </tr>\n",
       "    <tr>\n",
       "      <th>1</th>\n",
       "      <td>1</td>\n",
       "      <td>0.0</td>\n",
       "      <td>0.0</td>\n",
       "      <td>ACTIVE</td>\n",
       "      <td>NONE</td>\n",
       "      <td>25.0</td>\n",
       "      <td>2973abc54daa8a5f8ccfe9362140c63247c5eee03f1d93...</td>\n",
       "    </tr>\n",
       "    <tr>\n",
       "      <th>2</th>\n",
       "      <td>2</td>\n",
       "      <td>0.0</td>\n",
       "      <td>0.0</td>\n",
       "      <td>ACTIVE</td>\n",
       "      <td>NONE</td>\n",
       "      <td>24.0</td>\n",
       "      <td>64f17e6a330a85798e4998f62d0930d14db8db1c054af6...</td>\n",
       "    </tr>\n",
       "    <tr>\n",
       "      <th>3</th>\n",
       "      <td>3</td>\n",
       "      <td>0.0</td>\n",
       "      <td>0.0</td>\n",
       "      <td>ACTIVE</td>\n",
       "      <td>NONE</td>\n",
       "      <td>54.0</td>\n",
       "      <td>5d36574f52495e81f019b680c843c443bd343d5ca5b1c2...</td>\n",
       "    </tr>\n",
       "    <tr>\n",
       "      <th>4</th>\n",
       "      <td>4</td>\n",
       "      <td>1.0</td>\n",
       "      <td>1.0</td>\n",
       "      <td>ACTIVE</td>\n",
       "      <td>Regularly</td>\n",
       "      <td>52.0</td>\n",
       "      <td>25fa5ddee9aac01b35208d01736e57942317d756b32ddd...</td>\n",
       "    </tr>\n",
       "  </tbody>\n",
       "</table>\n",
       "</div>"
      ],
      "text/plain": [
       "   customer_id   FN  Active club_member_status fashion_news_frequency   age  \\\n",
       "0            0  0.0     0.0             ACTIVE                   NONE  49.0   \n",
       "1            1  0.0     0.0             ACTIVE                   NONE  25.0   \n",
       "2            2  0.0     0.0             ACTIVE                   NONE  24.0   \n",
       "3            3  0.0     0.0             ACTIVE                   NONE  54.0   \n",
       "4            4  1.0     1.0             ACTIVE              Regularly  52.0   \n",
       "\n",
       "                                         postal_code  \n",
       "0  52043ee2162cf5aa7ee79974281641c6f11a68d276429a...  \n",
       "1  2973abc54daa8a5f8ccfe9362140c63247c5eee03f1d93...  \n",
       "2  64f17e6a330a85798e4998f62d0930d14db8db1c054af6...  \n",
       "3  5d36574f52495e81f019b680c843c443bd343d5ca5b1c2...  \n",
       "4  25fa5ddee9aac01b35208d01736e57942317d756b32ddd...  "
      ]
     },
     "execution_count": 8,
     "metadata": {},
     "output_type": "execute_result"
    }
   ],
   "source": [
    "customers[['FN','Active']] = customers[['FN','Active']].fillna(0.0)\n",
    "customers[['age']] = customers[['age']].fillna(customers.age.median())\n",
    "customers[['club_member_status']] = customers[['club_member_status']].fillna('OTHER')\n",
    "customers[['fashion_news_frequency']] = customers[['fashion_news_frequency']].fillna('NONE')\n",
    "customers['fashion_news_frequency'] = customers['fashion_news_frequency'].apply(lambda x: 'NONE' if x == 'None' else x)\n",
    "customers.head()"
   ]
  },
  {
   "cell_type": "markdown",
   "id": "e9b14786",
   "metadata": {},
   "source": [
    "#### Join table"
   ]
  },
  {
   "cell_type": "code",
   "execution_count": 9,
   "id": "ae285ecf",
   "metadata": {
    "ExecuteTime": {
     "end_time": "2022-04-16T09:23:36.771820Z",
     "start_time": "2022-04-16T09:23:08.461316Z"
    }
   },
   "outputs": [
    {
     "data": {
      "text/html": [
       "<div>\n",
       "<style scoped>\n",
       "    .dataframe tbody tr th:only-of-type {\n",
       "        vertical-align: middle;\n",
       "    }\n",
       "\n",
       "    .dataframe tbody tr th {\n",
       "        vertical-align: top;\n",
       "    }\n",
       "\n",
       "    .dataframe thead th {\n",
       "        text-align: right;\n",
       "    }\n",
       "</style>\n",
       "<table border=\"1\" class=\"dataframe\">\n",
       "  <thead>\n",
       "    <tr style=\"text-align: right;\">\n",
       "      <th></th>\n",
       "      <th>t_dat</th>\n",
       "      <th>customer_id</th>\n",
       "      <th>article_id</th>\n",
       "      <th>price</th>\n",
       "      <th>sales_channel_id</th>\n",
       "      <th>FN</th>\n",
       "      <th>Active</th>\n",
       "      <th>club_member_status</th>\n",
       "      <th>fashion_news_frequency</th>\n",
       "      <th>age</th>\n",
       "      <th>...</th>\n",
       "      <th>department_name</th>\n",
       "      <th>index_code</th>\n",
       "      <th>index_name</th>\n",
       "      <th>index_group_no</th>\n",
       "      <th>index_group_name</th>\n",
       "      <th>section_no</th>\n",
       "      <th>section_name</th>\n",
       "      <th>garment_group_no</th>\n",
       "      <th>garment_group_name</th>\n",
       "      <th>detail_desc</th>\n",
       "    </tr>\n",
       "  </thead>\n",
       "  <tbody>\n",
       "    <tr>\n",
       "      <th>0</th>\n",
       "      <td>2018-09-20</td>\n",
       "      <td>2</td>\n",
       "      <td>0663713001</td>\n",
       "      <td>0.050831</td>\n",
       "      <td>2</td>\n",
       "      <td>0.0</td>\n",
       "      <td>0.0</td>\n",
       "      <td>ACTIVE</td>\n",
       "      <td>NONE</td>\n",
       "      <td>24.0</td>\n",
       "      <td>...</td>\n",
       "      <td>Expressive Lingerie</td>\n",
       "      <td>B</td>\n",
       "      <td>Lingeries/Tights</td>\n",
       "      <td>1</td>\n",
       "      <td>Ladieswear</td>\n",
       "      <td>61</td>\n",
       "      <td>Womens Lingerie</td>\n",
       "      <td>1017</td>\n",
       "      <td>Under-, Nightwear</td>\n",
       "      <td>Lace push-up body with underwired, moulded, pa...</td>\n",
       "    </tr>\n",
       "    <tr>\n",
       "      <th>1</th>\n",
       "      <td>2018-09-20</td>\n",
       "      <td>2</td>\n",
       "      <td>0541518023</td>\n",
       "      <td>0.030492</td>\n",
       "      <td>2</td>\n",
       "      <td>0.0</td>\n",
       "      <td>0.0</td>\n",
       "      <td>ACTIVE</td>\n",
       "      <td>NONE</td>\n",
       "      <td>24.0</td>\n",
       "      <td>...</td>\n",
       "      <td>Casual Lingerie</td>\n",
       "      <td>B</td>\n",
       "      <td>Lingeries/Tights</td>\n",
       "      <td>1</td>\n",
       "      <td>Ladieswear</td>\n",
       "      <td>61</td>\n",
       "      <td>Womens Lingerie</td>\n",
       "      <td>1017</td>\n",
       "      <td>Under-, Nightwear</td>\n",
       "      <td>Lace push-up bras with underwired, moulded, pa...</td>\n",
       "    </tr>\n",
       "    <tr>\n",
       "      <th>2</th>\n",
       "      <td>2018-09-20</td>\n",
       "      <td>7</td>\n",
       "      <td>0505221004</td>\n",
       "      <td>0.015237</td>\n",
       "      <td>2</td>\n",
       "      <td>1.0</td>\n",
       "      <td>1.0</td>\n",
       "      <td>ACTIVE</td>\n",
       "      <td>Regularly</td>\n",
       "      <td>32.0</td>\n",
       "      <td>...</td>\n",
       "      <td>Tops Knitwear DS</td>\n",
       "      <td>D</td>\n",
       "      <td>Divided</td>\n",
       "      <td>2</td>\n",
       "      <td>Divided</td>\n",
       "      <td>58</td>\n",
       "      <td>Divided Selected</td>\n",
       "      <td>1003</td>\n",
       "      <td>Knitwear</td>\n",
       "      <td>Jumper in rib-knit cotton with hard-worn detai...</td>\n",
       "    </tr>\n",
       "    <tr>\n",
       "      <th>3</th>\n",
       "      <td>2018-09-20</td>\n",
       "      <td>7</td>\n",
       "      <td>0685687003</td>\n",
       "      <td>0.016932</td>\n",
       "      <td>2</td>\n",
       "      <td>1.0</td>\n",
       "      <td>1.0</td>\n",
       "      <td>ACTIVE</td>\n",
       "      <td>Regularly</td>\n",
       "      <td>32.0</td>\n",
       "      <td>...</td>\n",
       "      <td>Campaigns</td>\n",
       "      <td>A</td>\n",
       "      <td>Ladieswear</td>\n",
       "      <td>1</td>\n",
       "      <td>Ladieswear</td>\n",
       "      <td>15</td>\n",
       "      <td>Womens Everyday Collection</td>\n",
       "      <td>1023</td>\n",
       "      <td>Special Offers</td>\n",
       "      <td>V-neck knitted jumper with long sleeves and ri...</td>\n",
       "    </tr>\n",
       "    <tr>\n",
       "      <th>4</th>\n",
       "      <td>2018-09-20</td>\n",
       "      <td>7</td>\n",
       "      <td>0685687004</td>\n",
       "      <td>0.016932</td>\n",
       "      <td>2</td>\n",
       "      <td>1.0</td>\n",
       "      <td>1.0</td>\n",
       "      <td>ACTIVE</td>\n",
       "      <td>Regularly</td>\n",
       "      <td>32.0</td>\n",
       "      <td>...</td>\n",
       "      <td>Campaigns</td>\n",
       "      <td>A</td>\n",
       "      <td>Ladieswear</td>\n",
       "      <td>1</td>\n",
       "      <td>Ladieswear</td>\n",
       "      <td>15</td>\n",
       "      <td>Womens Everyday Collection</td>\n",
       "      <td>1023</td>\n",
       "      <td>Special Offers</td>\n",
       "      <td>V-neck knitted jumper with long sleeves and ri...</td>\n",
       "    </tr>\n",
       "  </tbody>\n",
       "</table>\n",
       "<p>5 rows × 34 columns</p>\n",
       "</div>"
      ],
      "text/plain": [
       "       t_dat  customer_id  article_id     price  sales_channel_id   FN  \\\n",
       "0 2018-09-20            2  0663713001  0.050831                 2  0.0   \n",
       "1 2018-09-20            2  0541518023  0.030492                 2  0.0   \n",
       "2 2018-09-20            7  0505221004  0.015237                 2  1.0   \n",
       "3 2018-09-20            7  0685687003  0.016932                 2  1.0   \n",
       "4 2018-09-20            7  0685687004  0.016932                 2  1.0   \n",
       "\n",
       "   Active club_member_status fashion_news_frequency   age  ...  \\\n",
       "0     0.0             ACTIVE                   NONE  24.0  ...   \n",
       "1     0.0             ACTIVE                   NONE  24.0  ...   \n",
       "2     1.0             ACTIVE              Regularly  32.0  ...   \n",
       "3     1.0             ACTIVE              Regularly  32.0  ...   \n",
       "4     1.0             ACTIVE              Regularly  32.0  ...   \n",
       "\n",
       "       department_name index_code        index_name index_group_no  \\\n",
       "0  Expressive Lingerie          B  Lingeries/Tights              1   \n",
       "1      Casual Lingerie          B  Lingeries/Tights              1   \n",
       "2     Tops Knitwear DS          D           Divided              2   \n",
       "3            Campaigns          A        Ladieswear              1   \n",
       "4            Campaigns          A        Ladieswear              1   \n",
       "\n",
       "  index_group_name  section_no                section_name  garment_group_no  \\\n",
       "0       Ladieswear          61             Womens Lingerie              1017   \n",
       "1       Ladieswear          61             Womens Lingerie              1017   \n",
       "2          Divided          58            Divided Selected              1003   \n",
       "3       Ladieswear          15  Womens Everyday Collection              1023   \n",
       "4       Ladieswear          15  Womens Everyday Collection              1023   \n",
       "\n",
       "  garment_group_name                                        detail_desc  \n",
       "0  Under-, Nightwear  Lace push-up body with underwired, moulded, pa...  \n",
       "1  Under-, Nightwear  Lace push-up bras with underwired, moulded, pa...  \n",
       "2           Knitwear  Jumper in rib-knit cotton with hard-worn detai...  \n",
       "3     Special Offers  V-neck knitted jumper with long sleeves and ri...  \n",
       "4     Special Offers  V-neck knitted jumper with long sleeves and ri...  \n",
       "\n",
       "[5 rows x 34 columns]"
      ]
     },
     "execution_count": 9,
     "metadata": {},
     "output_type": "execute_result"
    }
   ],
   "source": [
    "temp = transactions.merge(customers,how='left',on='customer_id')\n",
    "temp.drop(columns=['postal_code'],inplace=True)\n",
    "temp = temp.merge(articles,how='left',on='article_id')\n",
    "# for i in temp.select_dtypes(include=['float64']).columns:\n",
    "#     temp[i] = temp[i].astype('float32')\n",
    "temp.head()"
   ]
  },
  {
   "cell_type": "markdown",
   "id": "4a59f9c9",
   "metadata": {
    "ExecuteTime": {
     "end_time": "2022-03-17T13:20:50.124324Z",
     "start_time": "2022-03-17T13:20:50.100410Z"
    }
   },
   "source": [
    "## Save processed data"
   ]
  },
  {
   "cell_type": "code",
   "execution_count": 10,
   "id": "52565c2b",
   "metadata": {
    "ExecuteTime": {
     "end_time": "2022-04-16T09:24:45.538005Z",
     "start_time": "2022-04-16T09:24:07.786033Z"
    }
   },
   "outputs": [],
   "source": [
    "import pickle\n",
    "# mapping index\n",
    "path = '../data/processed'\n",
    "\n",
    "# Save index for customer_id\n",
    "with open(os.path.join(path,'cusId_to_index.pkl'), 'wb') as f:\n",
    "    pickle.dump(id_to_index_dict, f)\n",
    "    \n",
    "with open(os.path.join(path,'index_to_cusId.pkl'), 'wb') as f:\n",
    "    pickle.dump(index_to_id_dict, f)    \n",
    "\n",
    "articles.to_pickle(os.path.join(path,'articles.pkl'))\n",
    "customers.to_pickle(os.path.join(path,'customers.pkl'))\n",
    "transactions.to_pickle(os.path.join(path,'transactions.pkl'))\n",
    "temp.to_pickle(os.path.join(path,'merged_data.pkl'))"
   ]
  }
 ],
 "metadata": {
  "hide_input": false,
  "kernelspec": {
   "display_name": "Python 3",
   "language": "python",
   "name": "python3"
  },
  "language_info": {
   "codemirror_mode": {
    "name": "ipython",
    "version": 3
   },
   "file_extension": ".py",
   "mimetype": "text/x-python",
   "name": "python",
   "nbconvert_exporter": "python",
   "pygments_lexer": "ipython3",
   "version": "3.8.8"
  },
  "toc": {
   "base_numbering": 1,
   "nav_menu": {},
   "number_sections": true,
   "sideBar": true,
   "skip_h1_title": false,
   "title_cell": "Table of Contents",
   "title_sidebar": "Contents",
   "toc_cell": false,
   "toc_position": {
    "height": "calc(100% - 180px)",
    "left": "10px",
    "top": "150px",
    "width": "270.499px"
   },
   "toc_section_display": true,
   "toc_window_display": false
  },
  "varInspector": {
   "cols": {
    "lenName": 16,
    "lenType": 16,
    "lenVar": 40
   },
   "kernels_config": {
    "python": {
     "delete_cmd_postfix": "",
     "delete_cmd_prefix": "del ",
     "library": "var_list.py",
     "varRefreshCmd": "print(var_dic_list())"
    },
    "r": {
     "delete_cmd_postfix": ") ",
     "delete_cmd_prefix": "rm(",
     "library": "var_list.r",
     "varRefreshCmd": "cat(var_dic_list()) "
    }
   },
   "types_to_exclude": [
    "module",
    "function",
    "builtin_function_or_method",
    "instance",
    "_Feature"
   ],
   "window_display": false
  }
 },
 "nbformat": 4,
 "nbformat_minor": 5
}
