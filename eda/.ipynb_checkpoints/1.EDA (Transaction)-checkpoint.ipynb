{
 "cells": [
  {
   "cell_type": "code",
   "execution_count": 1,
   "id": "c3de6524",
   "metadata": {
    "ExecuteTime": {
     "end_time": "2022-03-20T07:40:33.452812Z",
     "start_time": "2022-03-20T07:40:32.670876Z"
    }
   },
   "outputs": [],
   "source": [
    "import os \n",
    "import numpy as np\n",
    "import pandas as pd\n",
    "\n",
    "import matplotlib.pyplot as plt\n",
    "pd.set_option('display.float_format', lambda x: '%.4f' % x)"
   ]
  },
  {
   "cell_type": "markdown",
   "id": "b7000a2c",
   "metadata": {},
   "source": [
    "## Load Data"
   ]
  },
  {
   "cell_type": "code",
   "execution_count": 14,
   "id": "a60506f6",
   "metadata": {
    "ExecuteTime": {
     "end_time": "2022-03-20T07:47:11.177401Z",
     "start_time": "2022-03-20T07:47:10.293005Z"
    }
   },
   "outputs": [
    {
     "data": {
      "text/html": [
       "<div>\n",
       "<style scoped>\n",
       "    .dataframe tbody tr th:only-of-type {\n",
       "        vertical-align: middle;\n",
       "    }\n",
       "\n",
       "    .dataframe tbody tr th {\n",
       "        vertical-align: top;\n",
       "    }\n",
       "\n",
       "    .dataframe thead th {\n",
       "        text-align: right;\n",
       "    }\n",
       "</style>\n",
       "<table border=\"1\" class=\"dataframe\">\n",
       "  <thead>\n",
       "    <tr style=\"text-align: right;\">\n",
       "      <th></th>\n",
       "      <th>t_dat</th>\n",
       "      <th>customer_id</th>\n",
       "      <th>article_id</th>\n",
       "      <th>price</th>\n",
       "      <th>sales_channel_id</th>\n",
       "    </tr>\n",
       "  </thead>\n",
       "  <tbody>\n",
       "    <tr>\n",
       "      <th>0</th>\n",
       "      <td>2018-09-20</td>\n",
       "      <td>2</td>\n",
       "      <td>663713001</td>\n",
       "      <td>0.0508</td>\n",
       "      <td>2</td>\n",
       "    </tr>\n",
       "    <tr>\n",
       "      <th>1</th>\n",
       "      <td>2018-09-20</td>\n",
       "      <td>2</td>\n",
       "      <td>541518023</td>\n",
       "      <td>0.0305</td>\n",
       "      <td>2</td>\n",
       "    </tr>\n",
       "    <tr>\n",
       "      <th>2</th>\n",
       "      <td>2018-09-20</td>\n",
       "      <td>7</td>\n",
       "      <td>505221004</td>\n",
       "      <td>0.0152</td>\n",
       "      <td>2</td>\n",
       "    </tr>\n",
       "    <tr>\n",
       "      <th>3</th>\n",
       "      <td>2018-09-20</td>\n",
       "      <td>7</td>\n",
       "      <td>685687003</td>\n",
       "      <td>0.0169</td>\n",
       "      <td>2</td>\n",
       "    </tr>\n",
       "    <tr>\n",
       "      <th>4</th>\n",
       "      <td>2018-09-20</td>\n",
       "      <td>7</td>\n",
       "      <td>685687004</td>\n",
       "      <td>0.0169</td>\n",
       "      <td>2</td>\n",
       "    </tr>\n",
       "  </tbody>\n",
       "</table>\n",
       "</div>"
      ],
      "text/plain": [
       "       t_dat  customer_id  article_id  price  sales_channel_id\n",
       "0 2018-09-20            2   663713001 0.0508                 2\n",
       "1 2018-09-20            2   541518023 0.0305                 2\n",
       "2 2018-09-20            7   505221004 0.0152                 2\n",
       "3 2018-09-20            7   685687003 0.0169                 2\n",
       "4 2018-09-20            7   685687004 0.0169                 2"
      ]
     },
     "execution_count": 14,
     "metadata": {},
     "output_type": "execute_result"
    }
   ],
   "source": [
    "path = '../data/processed'\n",
    "df = pd.read_pickle(os.path.join(path,'transactions.pkl'))\n",
    "articles = pd.read_csv('../data/raw/articles.csv')\n",
    "df.head()"
   ]
  },
  {
   "cell_type": "markdown",
   "id": "b186ac7e",
   "metadata": {},
   "source": [
    "## To-Do List\n",
    "- Histogram of purchase per transactions\n",
    "- Repurchase Duration\n",
    "- Find recency\n",
    "- Ratio of Inactive Customers"
   ]
  },
  {
   "cell_type": "markdown",
   "id": "c724c56a",
   "metadata": {},
   "source": [
    "### Histogram of purchase per transactions"
   ]
  },
  {
   "cell_type": "code",
   "execution_count": 8,
   "id": "9e30db56",
   "metadata": {
    "ExecuteTime": {
     "end_time": "2022-03-20T07:43:55.389078Z",
     "start_time": "2022-03-20T07:43:45.851437Z"
    }
   },
   "outputs": [
    {
     "data": {
      "image/png": "[encoded data removed]",
      "text/plain": [
       "<Figure size 432x288 with 1 Axes>"
      ]
     },
     "metadata": {
      "needs_background": "light"
     },
     "output_type": "display_data"
    }
   ],
   "source": [
    "temp = df[['t_dat','customer_id','article_id','price','sales_channel_id']]\n",
    "temp = temp.groupby(['t_dat','customer_id']).agg({'article_id':'count','price':sum})\n",
    "\n",
    "plt.scatter(temp['article_id'],temp['price'])\n",
    "plt.show()"
   ]
  },
  {
   "cell_type": "code",
   "execution_count": 9,
   "id": "38b00046",
   "metadata": {
    "ExecuteTime": {
     "end_time": "2022-03-20T07:43:57.329010Z",
     "start_time": "2022-03-20T07:43:57.303565Z"
    }
   },
   "outputs": [
    {
     "data": {
      "text/html": [
       "<div>\n",
       "<style scoped>\n",
       "    .dataframe tbody tr th:only-of-type {\n",
       "        vertical-align: middle;\n",
       "    }\n",
       "\n",
       "    .dataframe tbody tr th {\n",
       "        vertical-align: top;\n",
       "    }\n",
       "\n",
       "    .dataframe thead th {\n",
       "        text-align: right;\n",
       "    }\n",
       "</style>\n",
       "<table border=\"1\" class=\"dataframe\">\n",
       "  <thead>\n",
       "    <tr style=\"text-align: right;\">\n",
       "      <th></th>\n",
       "      <th></th>\n",
       "      <th>article_id</th>\n",
       "      <th>price</th>\n",
       "    </tr>\n",
       "    <tr>\n",
       "      <th>t_dat</th>\n",
       "      <th>customer_id</th>\n",
       "      <th></th>\n",
       "      <th></th>\n",
       "    </tr>\n",
       "  </thead>\n",
       "  <tbody>\n",
       "    <tr>\n",
       "      <th>2018-10-14</th>\n",
       "      <th>1114704</th>\n",
       "      <td>570</td>\n",
       "      <td>3.8567</td>\n",
       "    </tr>\n",
       "    <tr>\n",
       "      <th>2018-10-15</th>\n",
       "      <th>195309</th>\n",
       "      <td>220</td>\n",
       "      <td>1.5238</td>\n",
       "    </tr>\n",
       "    <tr>\n",
       "      <th>2018-12-17</th>\n",
       "      <th>1044421</th>\n",
       "      <td>336</td>\n",
       "      <td>8.8435</td>\n",
       "    </tr>\n",
       "    <tr>\n",
       "      <th>2019-01-13</th>\n",
       "      <th>530195</th>\n",
       "      <td>221</td>\n",
       "      <td>2.5878</td>\n",
       "    </tr>\n",
       "  </tbody>\n",
       "</table>\n",
       "</div>"
      ],
      "text/plain": [
       "                        article_id  price\n",
       "t_dat      customer_id                   \n",
       "2018-10-14 1114704             570 3.8567\n",
       "2018-10-15 195309              220 1.5238\n",
       "2018-12-17 1044421             336 8.8435\n",
       "2019-01-13 530195              221 2.5878"
      ]
     },
     "execution_count": 9,
     "metadata": {},
     "output_type": "execute_result"
    }
   ],
   "source": [
    "temp[temp.article_id >200]"
   ]
  },
  {
   "cell_type": "code",
   "execution_count": 13,
   "id": "d3980950",
   "metadata": {
    "ExecuteTime": {
     "end_time": "2022-03-20T07:46:13.842464Z",
     "start_time": "2022-03-20T07:46:13.741261Z"
    }
   },
   "outputs": [
    {
     "data": {
      "text/html": [
       "<div>\n",
       "<style scoped>\n",
       "    .dataframe tbody tr th:only-of-type {\n",
       "        vertical-align: middle;\n",
       "    }\n",
       "\n",
       "    .dataframe tbody tr th {\n",
       "        vertical-align: top;\n",
       "    }\n",
       "\n",
       "    .dataframe thead th {\n",
       "        text-align: right;\n",
       "    }\n",
       "</style>\n",
       "<table border=\"1\" class=\"dataframe\">\n",
       "  <thead>\n",
       "    <tr style=\"text-align: right;\">\n",
       "      <th></th>\n",
       "      <th>article_id</th>\n",
       "      <th>price</th>\n",
       "    </tr>\n",
       "    <tr>\n",
       "      <th>article_id</th>\n",
       "      <th></th>\n",
       "      <th></th>\n",
       "    </tr>\n",
       "  </thead>\n",
       "  <tbody>\n",
       "    <tr>\n",
       "      <th>247072020</th>\n",
       "      <td>4</td>\n",
       "      <td>0.0542</td>\n",
       "    </tr>\n",
       "    <tr>\n",
       "      <th>523625005</th>\n",
       "      <td>3</td>\n",
       "      <td>0.0457</td>\n",
       "    </tr>\n",
       "    <tr>\n",
       "      <th>577755002</th>\n",
       "      <td>8</td>\n",
       "      <td>0.1219</td>\n",
       "    </tr>\n",
       "    <tr>\n",
       "      <th>590457006</th>\n",
       "      <td>4</td>\n",
       "      <td>0.0271</td>\n",
       "    </tr>\n",
       "    <tr>\n",
       "      <th>618841001</th>\n",
       "      <td>2</td>\n",
       "      <td>0.0203</td>\n",
       "    </tr>\n",
       "    <tr>\n",
       "      <th>618841002</th>\n",
       "      <td>8</td>\n",
       "      <td>0.0677</td>\n",
       "    </tr>\n",
       "    <tr>\n",
       "      <th>629824001</th>\n",
       "      <td>12</td>\n",
       "      <td>0.1218</td>\n",
       "    </tr>\n",
       "    <tr>\n",
       "      <th>637980001</th>\n",
       "      <td>12</td>\n",
       "      <td>0.0812</td>\n",
       "    </tr>\n",
       "    <tr>\n",
       "      <th>637980002</th>\n",
       "      <td>4</td>\n",
       "      <td>0.0271</td>\n",
       "    </tr>\n",
       "    <tr>\n",
       "      <th>642881001</th>\n",
       "      <td>16</td>\n",
       "      <td>0.1624</td>\n",
       "    </tr>\n",
       "    <tr>\n",
       "      <th>642882001</th>\n",
       "      <td>24</td>\n",
       "      <td>0.2437</td>\n",
       "    </tr>\n",
       "    <tr>\n",
       "      <th>642882002</th>\n",
       "      <td>8</td>\n",
       "      <td>0.0812</td>\n",
       "    </tr>\n",
       "    <tr>\n",
       "      <th>642882006</th>\n",
       "      <td>16</td>\n",
       "      <td>0.1624</td>\n",
       "    </tr>\n",
       "    <tr>\n",
       "      <th>642883002</th>\n",
       "      <td>4</td>\n",
       "      <td>0.0609</td>\n",
       "    </tr>\n",
       "    <tr>\n",
       "      <th>644678005</th>\n",
       "      <td>16</td>\n",
       "      <td>0.2438</td>\n",
       "    </tr>\n",
       "    <tr>\n",
       "      <th>648431001</th>\n",
       "      <td>4</td>\n",
       "      <td>0.0813</td>\n",
       "    </tr>\n",
       "    <tr>\n",
       "      <th>648944002</th>\n",
       "      <td>8</td>\n",
       "      <td>0.1219</td>\n",
       "    </tr>\n",
       "    <tr>\n",
       "      <th>649594001</th>\n",
       "      <td>4</td>\n",
       "      <td>0.0542</td>\n",
       "    </tr>\n",
       "    <tr>\n",
       "      <th>659222001</th>\n",
       "      <td>4</td>\n",
       "      <td>0.0406</td>\n",
       "    </tr>\n",
       "    <tr>\n",
       "      <th>662067001</th>\n",
       "      <td>12</td>\n",
       "      <td>0.0608</td>\n",
       "    </tr>\n",
       "    <tr>\n",
       "      <th>669250002</th>\n",
       "      <td>8</td>\n",
       "      <td>0.0677</td>\n",
       "    </tr>\n",
       "    <tr>\n",
       "      <th>673461001</th>\n",
       "      <td>4</td>\n",
       "      <td>0.0609</td>\n",
       "    </tr>\n",
       "    <tr>\n",
       "      <th>674675001</th>\n",
       "      <td>6</td>\n",
       "      <td>0.1219</td>\n",
       "    </tr>\n",
       "    <tr>\n",
       "      <th>678480001</th>\n",
       "      <td>4</td>\n",
       "      <td>0.0203</td>\n",
       "    </tr>\n",
       "    <tr>\n",
       "      <th>686919006</th>\n",
       "      <td>4</td>\n",
       "      <td>0.0203</td>\n",
       "    </tr>\n",
       "    <tr>\n",
       "      <th>694237003</th>\n",
       "      <td>4</td>\n",
       "      <td>0.0542</td>\n",
       "    </tr>\n",
       "    <tr>\n",
       "      <th>694237004</th>\n",
       "      <td>8</td>\n",
       "      <td>0.1083</td>\n",
       "    </tr>\n",
       "    <tr>\n",
       "      <th>723849001</th>\n",
       "      <td>10</td>\n",
       "      <td>0.2541</td>\n",
       "    </tr>\n",
       "  </tbody>\n",
       "</table>\n",
       "</div>"
      ],
      "text/plain": [
       "            article_id  price\n",
       "article_id                   \n",
       "247072020            4 0.0542\n",
       "523625005            3 0.0457\n",
       "577755002            8 0.1219\n",
       "590457006            4 0.0271\n",
       "618841001            2 0.0203\n",
       "618841002            8 0.0677\n",
       "629824001           12 0.1218\n",
       "637980001           12 0.0812\n",
       "637980002            4 0.0271\n",
       "642881001           16 0.1624\n",
       "642882001           24 0.2437\n",
       "642882002            8 0.0812\n",
       "642882006           16 0.1624\n",
       "642883002            4 0.0609\n",
       "644678005           16 0.2438\n",
       "648431001            4 0.0813\n",
       "648944002            8 0.1219\n",
       "649594001            4 0.0542\n",
       "659222001            4 0.0406\n",
       "662067001           12 0.0608\n",
       "669250002            8 0.0677\n",
       "673461001            4 0.0609\n",
       "674675001            6 0.1219\n",
       "678480001            4 0.0203\n",
       "686919006            4 0.0203\n",
       "694237003            4 0.0542\n",
       "694237004            8 0.1083\n",
       "723849001           10 0.2541"
      ]
     },
     "execution_count": 13,
     "metadata": {},
     "output_type": "execute_result"
    }
   ],
   "source": [
    "df[(df.t_dat=='2019-01-13')&((df.customer_id==530195))].groupby('article_id').agg({'article_id':'count','price':sum})"
   ]
  },
  {
   "cell_type": "markdown",
   "id": "164d136d",
   "metadata": {},
   "source": [
    "### Repurchase Duration"
   ]
  },
  {
   "cell_type": "code",
   "execution_count": 4,
   "id": "ac8b31bc",
   "metadata": {
    "ExecuteTime": {
     "end_time": "2022-03-20T07:43:20.605290Z",
     "start_time": "2022-03-20T07:40:59.079485Z"
    }
   },
   "outputs": [
    {
     "data": {
      "text/html": [
       "<div>\n",
       "<style scoped>\n",
       "    .dataframe tbody tr th:only-of-type {\n",
       "        vertical-align: middle;\n",
       "    }\n",
       "\n",
       "    .dataframe tbody tr th {\n",
       "        vertical-align: top;\n",
       "    }\n",
       "\n",
       "    .dataframe thead th {\n",
       "        text-align: right;\n",
       "    }\n",
       "</style>\n",
       "<table border=\"1\" class=\"dataframe\">\n",
       "  <thead>\n",
       "    <tr style=\"text-align: right;\">\n",
       "      <th></th>\n",
       "      <th>t_dat</th>\n",
       "      <th>customer_id</th>\n",
       "      <th>Repurchase_duration</th>\n",
       "    </tr>\n",
       "  </thead>\n",
       "  <tbody>\n",
       "    <tr>\n",
       "      <th>0</th>\n",
       "      <td>2018-12-27</td>\n",
       "      <td>0</td>\n",
       "      <td>NaN</td>\n",
       "    </tr>\n",
       "    <tr>\n",
       "      <th>1</th>\n",
       "      <td>2019-05-02</td>\n",
       "      <td>0</td>\n",
       "      <td>126.0000</td>\n",
       "    </tr>\n",
       "    <tr>\n",
       "      <th>2</th>\n",
       "      <td>2019-05-25</td>\n",
       "      <td>0</td>\n",
       "      <td>23.0000</td>\n",
       "    </tr>\n",
       "    <tr>\n",
       "      <th>3</th>\n",
       "      <td>2019-07-25</td>\n",
       "      <td>0</td>\n",
       "      <td>61.0000</td>\n",
       "    </tr>\n",
       "    <tr>\n",
       "      <th>4</th>\n",
       "      <td>2019-09-18</td>\n",
       "      <td>0</td>\n",
       "      <td>55.0000</td>\n",
       "    </tr>\n",
       "  </tbody>\n",
       "</table>\n",
       "</div>"
      ],
      "text/plain": [
       "       t_dat  customer_id  Repurchase_duration\n",
       "0 2018-12-27            0                  NaN\n",
       "1 2019-05-02            0             126.0000\n",
       "2 2019-05-25            0              23.0000\n",
       "3 2019-07-25            0              61.0000\n",
       "4 2019-09-18            0              55.0000"
      ]
     },
     "execution_count": 4,
     "metadata": {},
     "output_type": "execute_result"
    }
   ],
   "source": [
    "temp = df[['t_dat','customer_id']].drop_duplicates(subset=['t_dat','customer_id'])\\\n",
    "            .sort_values(by=['customer_id','t_dat'])\\\n",
    "            .reset_index(drop=True)\n",
    "temp['Repurchase_duration'] = temp.groupby('customer_id')['t_dat'].diff() / np.timedelta64(1, 'D')\n",
    "temp.head()"
   ]
  },
  {
   "cell_type": "code",
   "execution_count": 5,
   "id": "80cda24c",
   "metadata": {
    "ExecuteTime": {
     "end_time": "2022-03-20T07:43:20.937914Z",
     "start_time": "2022-03-20T07:43:20.612706Z"
    }
   },
   "outputs": [
    {
     "data": {
      "text/plain": [
       "count   7717898.0000\n",
       "mean         48.2560\n",
       "std          71.6826\n",
       "min           1.0000\n",
       "10%           2.0000\n",
       "25%           7.0000\n",
       "50%          22.0000\n",
       "75%          58.0000\n",
       "90%         124.0000\n",
       "max         731.0000\n",
       "Name: Repurchase_duration, dtype: float64"
      ]
     },
     "execution_count": 5,
     "metadata": {},
     "output_type": "execute_result"
    }
   ],
   "source": [
    "temp['Repurchase_duration'].describe(percentiles=[0.1,0.25,0.5,0.75,0.9])"
   ]
  },
  {
   "cell_type": "markdown",
   "id": "383d44ca",
   "metadata": {},
   "source": [
    "### Find recency"
   ]
  },
  {
   "cell_type": "code",
   "execution_count": null,
   "id": "e22cd26b",
   "metadata": {},
   "outputs": [],
   "source": []
  },
  {
   "cell_type": "markdown",
   "id": "7736f27d",
   "metadata": {},
   "source": [
    "### Ratio of Inactive Customers"
   ]
  },
  {
   "cell_type": "code",
   "execution_count": null,
   "id": "d56e84b6",
   "metadata": {},
   "outputs": [],
   "source": []
  }
 ],
 "metadata": {
  "hide_input": false,
  "kernelspec": {
   "display_name": "Python 3 (ipykernel)",
   "language": "python",
   "name": "python3"
  },
  "language_info": {
   "codemirror_mode": {
    "name": "ipython",
    "version": 3
   },
   "file_extension": ".py",
   "mimetype": "text/x-python",
   "name": "python",
   "nbconvert_exporter": "python",
   "pygments_lexer": "ipython3",
   "version": "3.8.2"
  },
  "toc": {
   "base_numbering": 1,
   "nav_menu": {},
   "number_sections": true,
   "sideBar": true,
   "skip_h1_title": false,
   "title_cell": "Table of Contents",
   "title_sidebar": "Contents",
   "toc_cell": false,
   "toc_position": {},
   "toc_section_display": true,
   "toc_window_display": true
  },
  "varInspector": {
   "cols": {
    "lenName": 16,
    "lenType": 16,
    "lenVar": 40
   },
   "kernels_config": {
    "python": {
     "delete_cmd_postfix": "",
     "delete_cmd_prefix": "del ",
     "library": "var_list.py",
     "varRefreshCmd": "print(var_dic_list())"
    },
    "r": {
     "delete_cmd_postfix": ") ",
     "delete_cmd_prefix": "rm(",
     "library": "var_list.r",
     "varRefreshCmd": "cat(var_dic_list()) "
    }
   },
   "types_to_exclude": [
    "module",
    "function",
    "builtin_function_or_method",
    "instance",
    "_Feature"
   ],
   "window_display": false
  }
 },
 "nbformat": 4,
 "nbformat_minor": 5
}
