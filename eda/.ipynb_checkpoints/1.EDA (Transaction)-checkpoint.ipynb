{
 "cells": [
  {
   "cell_type": "code",
   "execution_count": 1,
   "id": "c3de6524",
   "metadata": {
    "ExecuteTime": {
     "end_time": "2022-03-24T16:01:44.306305Z",
     "start_time": "2022-03-24T16:01:43.589115Z"
    }
   },
   "outputs": [],
   "source": [
    "import os \n",
    "import numpy as np\n",
    "import pandas as pd\n",
    "\n",
    "import matplotlib.pyplot as plt\n",
    "pd.set_option('display.float_format', lambda x: '%.4f' % x)"
   ]
  },
  {
   "cell_type": "markdown",
   "id": "b7000a2c",
   "metadata": {},
   "source": [
    "## Load Data"
   ]
  },
  {
   "cell_type": "code",
   "execution_count": 2,
   "id": "a60506f6",
   "metadata": {
    "ExecuteTime": {
     "end_time": "2022-03-24T16:01:45.339283Z",
     "start_time": "2022-03-24T16:01:44.307302Z"
    }
   },
   "outputs": [
    {
     "data": {
      "text/html": [
       "<div>\n",
       "<style scoped>\n",
       "    .dataframe tbody tr th:only-of-type {\n",
       "        vertical-align: middle;\n",
       "    }\n",
       "\n",
       "    .dataframe tbody tr th {\n",
       "        vertical-align: top;\n",
       "    }\n",
       "\n",
       "    .dataframe thead th {\n",
       "        text-align: right;\n",
       "    }\n",
       "</style>\n",
       "<table border=\"1\" class=\"dataframe\">\n",
       "  <thead>\n",
       "    <tr style=\"text-align: right;\">\n",
       "      <th></th>\n",
       "      <th>t_dat</th>\n",
       "      <th>customer_id</th>\n",
       "      <th>article_id</th>\n",
       "      <th>price</th>\n",
       "      <th>sales_channel_id</th>\n",
       "    </tr>\n",
       "  </thead>\n",
       "  <tbody>\n",
       "    <tr>\n",
       "      <th>0</th>\n",
       "      <td>2018-09-20</td>\n",
       "      <td>2</td>\n",
       "      <td>663713001</td>\n",
       "      <td>0.0508</td>\n",
       "      <td>2</td>\n",
       "    </tr>\n",
       "    <tr>\n",
       "      <th>1</th>\n",
       "      <td>2018-09-20</td>\n",
       "      <td>2</td>\n",
       "      <td>541518023</td>\n",
       "      <td>0.0305</td>\n",
       "      <td>2</td>\n",
       "    </tr>\n",
       "    <tr>\n",
       "      <th>2</th>\n",
       "      <td>2018-09-20</td>\n",
       "      <td>7</td>\n",
       "      <td>505221004</td>\n",
       "      <td>0.0152</td>\n",
       "      <td>2</td>\n",
       "    </tr>\n",
       "    <tr>\n",
       "      <th>3</th>\n",
       "      <td>2018-09-20</td>\n",
       "      <td>7</td>\n",
       "      <td>685687003</td>\n",
       "      <td>0.0169</td>\n",
       "      <td>2</td>\n",
       "    </tr>\n",
       "    <tr>\n",
       "      <th>4</th>\n",
       "      <td>2018-09-20</td>\n",
       "      <td>7</td>\n",
       "      <td>685687004</td>\n",
       "      <td>0.0169</td>\n",
       "      <td>2</td>\n",
       "    </tr>\n",
       "  </tbody>\n",
       "</table>\n",
       "</div>"
      ],
      "text/plain": [
       "       t_dat  customer_id  article_id  price  sales_channel_id\n",
       "0 2018-09-20            2   663713001 0.0508                 2\n",
       "1 2018-09-20            2   541518023 0.0305                 2\n",
       "2 2018-09-20            7   505221004 0.0152                 2\n",
       "3 2018-09-20            7   685687003 0.0169                 2\n",
       "4 2018-09-20            7   685687004 0.0169                 2"
      ]
     },
     "execution_count": 2,
     "metadata": {},
     "output_type": "execute_result"
    }
   ],
   "source": [
    "path = '../data/processed'\n",
    "df = pd.read_pickle(os.path.join(path,'transactions.pkl'))\n",
    "articles = pd.read_csv('../data/raw/articles.csv')\n",
    "df.head()"
   ]
  },
  {
   "cell_type": "markdown",
   "id": "b186ac7e",
   "metadata": {},
   "source": [
    "## To-Do List\n",
    "- Histogram of purchase per transactions\n",
    "- Repurchase Duration\n",
    "- Find recency\n",
    "- Ratio of Inactive Customers"
   ]
  },
  {
   "cell_type": "markdown",
   "id": "c724c56a",
   "metadata": {},
   "source": [
    "### Histogram of purchase per transactions"
   ]
  },
  {
   "cell_type": "code",
   "execution_count": 3,
   "id": "9e30db56",
   "metadata": {
    "ExecuteTime": {
     "end_time": "2022-03-24T16:01:52.750005Z",
     "start_time": "2022-03-24T16:01:45.340236Z"
    }
   },
   "outputs": [
    {
     "data": {
      "text/html": [
       "<div>\n",
       "<style scoped>\n",
       "    .dataframe tbody tr th:only-of-type {\n",
       "        vertical-align: middle;\n",
       "    }\n",
       "\n",
       "    .dataframe tbody tr th {\n",
       "        vertical-align: top;\n",
       "    }\n",
       "\n",
       "    .dataframe thead th {\n",
       "        text-align: right;\n",
       "    }\n",
       "</style>\n",
       "<table border=\"1\" class=\"dataframe\">\n",
       "  <thead>\n",
       "    <tr style=\"text-align: right;\">\n",
       "      <th></th>\n",
       "      <th></th>\n",
       "      <th></th>\n",
       "      <th>article_id</th>\n",
       "      <th>price</th>\n",
       "    </tr>\n",
       "    <tr>\n",
       "      <th>t_dat</th>\n",
       "      <th>customer_id</th>\n",
       "      <th>sales_channel_id</th>\n",
       "      <th></th>\n",
       "      <th></th>\n",
       "    </tr>\n",
       "  </thead>\n",
       "  <tbody>\n",
       "    <tr>\n",
       "      <th rowspan=\"5\" valign=\"top\">2018-09-20</th>\n",
       "      <th>2</th>\n",
       "      <th>2</th>\n",
       "      <td>2</td>\n",
       "      <td>0.0813</td>\n",
       "    </tr>\n",
       "    <tr>\n",
       "      <th>7</th>\n",
       "      <th>2</th>\n",
       "      <td>5</td>\n",
       "      <td>0.0864</td>\n",
       "    </tr>\n",
       "    <tr>\n",
       "      <th rowspan=\"2\" valign=\"top\">198</th>\n",
       "      <th>1</th>\n",
       "      <td>4</td>\n",
       "      <td>0.1448</td>\n",
       "    </tr>\n",
       "    <tr>\n",
       "      <th>2</th>\n",
       "      <td>1</td>\n",
       "      <td>0.0457</td>\n",
       "    </tr>\n",
       "    <tr>\n",
       "      <th>203</th>\n",
       "      <th>2</th>\n",
       "      <td>2</td>\n",
       "      <td>0.0428</td>\n",
       "    </tr>\n",
       "  </tbody>\n",
       "</table>\n",
       "</div>"
      ],
      "text/plain": [
       "                                         article_id  price\n",
       "t_dat      customer_id sales_channel_id                   \n",
       "2018-09-20 2           2                          2 0.0813\n",
       "           7           2                          5 0.0864\n",
       "           198         1                          4 0.1448\n",
       "                       2                          1 0.0457\n",
       "           203         2                          2 0.0428"
      ]
     },
     "execution_count": 3,
     "metadata": {},
     "output_type": "execute_result"
    }
   ],
   "source": [
    "temp = df[['t_dat','customer_id','article_id','price','sales_channel_id']]\n",
    "temp = temp.groupby(['t_dat','customer_id','sales_channel_id']).agg({'article_id':'count','price':sum})\n",
    "\n",
    "temp.head()"
   ]
  },
  {
   "cell_type": "code",
   "execution_count": 4,
   "id": "a7e4220c",
   "metadata": {
    "ExecuteTime": {
     "end_time": "2022-03-24T16:02:03.152928Z",
     "start_time": "2022-03-24T16:01:52.750976Z"
    }
   },
   "outputs": [
    {
     "data": {
      "image/png": "[encoded data removed]",
      "text/plain": [
       "<Figure size 432x288 with 1 Axes>"
      ]
     },
     "metadata": {
      "needs_background": "light"
     },
     "output_type": "display_data"
    }
   ],
   "source": [
    "plt.scatter(temp['article_id'],temp['price'])\n",
    "plt.show()"
   ]
  },
  {
   "cell_type": "code",
   "execution_count": null,
   "id": "21f512c2",
   "metadata": {
    "ExecuteTime": {
     "start_time": "2022-03-24T15:30:06.605Z"
    }
   },
   "outputs": [],
   "source": [
    "# from sklearn.neighbors import LocalOutlierFactor\n",
    "# lof = LocalOutlierFactor(n_neighbors=30, metric='euclidean')\n",
    "# cluster = lof.fit_predict(temp)\n",
    "# cluster"
   ]
  },
  {
   "cell_type": "code",
   "execution_count": 11,
   "id": "e13304b1",
   "metadata": {
    "ExecuteTime": {
     "end_time": "2022-03-24T16:11:44.578824Z",
     "start_time": "2022-03-24T16:11:27.613599Z"
    }
   },
   "outputs": [
    {
     "data": {
      "text/plain": [
       "<matplotlib.legend.Legend at 0x2472f6302e0>"
      ]
     },
     "execution_count": 11,
     "metadata": {},
     "output_type": "execute_result"
    },
    {
     "data": {
      "image/png": "[encoded data removed]",
      "text/plain": [
       "<Figure size 432x288 with 1 Axes>"
      ]
     },
     "metadata": {
      "needs_background": "light"
     },
     "output_type": "display_data"
    }
   ],
   "source": [
    "temp['cluster'] = np.where((temp['article_id']>200)|(temp['price']>5), 0, 1)\n",
    "colors = ['white','grey']\n",
    "fig = plt.figure()\n",
    "leg = {0:'outliers',1:'normal'}\n",
    "for i in range(2):\n",
    "    plt.plot(temp.loc[temp['cluster']==i, 'article_id'], temp.loc[temp['cluster']==i, 'price'], 'o', mfc=colors[i], ms=8, mec='k', label = leg[i])\n",
    "plt.xlabel('total_articles')\n",
    "plt.ylabel('price')\n",
    "plt.legend()"
   ]
  },
  {
   "cell_type": "code",
   "execution_count": null,
   "id": "2de4e281",
   "metadata": {
    "ExecuteTime": {
     "end_time": "2022-03-24T13:28:05.008652Z",
     "start_time": "2022-03-24T13:28:04.821586Z"
    }
   },
   "outputs": [],
   "source": [
    "temp.article_id.describe(percentiles=[0.1,0.25,0.5,0.75,0.99])"
   ]
  },
  {
   "cell_type": "code",
   "execution_count": null,
   "id": "85886c6c",
   "metadata": {
    "ExecuteTime": {
     "end_time": "2022-03-24T13:28:34.772718Z",
     "start_time": "2022-03-24T13:28:34.741800Z"
    }
   },
   "outputs": [],
   "source": [
    "temp[temp.article_id >200]"
   ]
  },
  {
   "cell_type": "code",
   "execution_count": null,
   "id": "dde05b91",
   "metadata": {
    "ExecuteTime": {
     "end_time": "2022-03-24T13:29:48.344485Z",
     "start_time": "2022-03-24T13:29:48.335511Z"
    }
   },
   "outputs": [],
   "source": [
    "# df[(df.customer_id==1114704)฿].drop_duplicates(subset=['t_dat','customer_id'])"
   ]
  },
  {
   "cell_type": "code",
   "execution_count": null,
   "id": "404e89f1",
   "metadata": {
    "ExecuteTime": {
     "end_time": "2022-03-24T13:29:02.648384Z",
     "start_time": "2022-03-24T13:29:02.495880Z"
    }
   },
   "outputs": [],
   "source": [
    "df[(df.t_dat=='2018-12-17')&((df.customer_id==1044421))].groupby('article_id').agg({'article_id':'count','price':[sum]})"
   ]
  },
  {
   "cell_type": "markdown",
   "id": "49e07255",
   "metadata": {
    "ExecuteTime": {
     "end_time": "2022-03-20T07:52:17.413552Z",
     "start_time": "2022-03-20T07:52:17.387302Z"
    }
   },
   "source": [
    "We may romove those transactions that have over 200 articles."
   ]
  },
  {
   "cell_type": "markdown",
   "id": "164d136d",
   "metadata": {},
   "source": [
    "### Repurchase Duration"
   ]
  },
  {
   "cell_type": "code",
   "execution_count": null,
   "id": "ac8b31bc",
   "metadata": {
    "ExecuteTime": {
     "end_time": "2022-03-24T12:49:38.230579Z",
     "start_time": "2022-03-24T12:45:38.599164Z"
    }
   },
   "outputs": [],
   "source": [
    "temp = df[['t_dat','customer_id']].drop_duplicates(subset=['t_dat','customer_id'])\\\n",
    "            .sort_values(by=['customer_id','t_dat'])\\\n",
    "            .reset_index(drop=True)\n",
    "temp['Repurchase_duration'] = temp.groupby('customer_id')['t_dat'].diff() / np.timedelta64(1, 'D')\n",
    "temp.head()"
   ]
  },
  {
   "cell_type": "code",
   "execution_count": null,
   "id": "80cda24c",
   "metadata": {
    "ExecuteTime": {
     "end_time": "2022-03-24T12:49:38.772184Z",
     "start_time": "2022-03-24T12:49:38.479241Z"
    }
   },
   "outputs": [],
   "source": [
    "temp['Repurchase_duration'].describe(percentiles=[0.1,0.25,0.5,0.75,0.9,0.99])"
   ]
  },
  {
   "cell_type": "code",
   "execution_count": null,
   "id": "f7802964",
   "metadata": {
    "ExecuteTime": {
     "end_time": "2022-03-24T13:32:24.395940Z",
     "start_time": "2022-03-24T13:32:24.366019Z"
    }
   },
   "outputs": [],
   "source": [
    "temp['Repurchase_duration'].hist()"
   ]
  },
  {
   "cell_type": "markdown",
   "id": "3a7d6d97",
   "metadata": {},
   "source": [
    "### Channel Ratio"
   ]
  },
  {
   "cell_type": "code",
   "execution_count": null,
   "id": "ff8e9451",
   "metadata": {},
   "outputs": [],
   "source": [
    "df.sales_channel_id.value_counts(normalize=True)"
   ]
  },
  {
   "cell_type": "markdown",
   "id": "383d44ca",
   "metadata": {},
   "source": [
    "### Multiple channel transaction"
   ]
  },
  {
   "cell_type": "code",
   "execution_count": null,
   "id": "e22cd26b",
   "metadata": {
    "ExecuteTime": {
     "end_time": "2022-03-24T12:50:10.664761Z",
     "start_time": "2022-03-24T12:50:10.656784Z"
    }
   },
   "outputs": [],
   "source": [
    "df.groupby(['t_dat','customer_id']).agg({'sales_channel_id':'nunique'}).sort_values(by='sales_channel_id',ascending=False)"
   ]
  },
  {
   "cell_type": "markdown",
   "id": "7736f27d",
   "metadata": {},
   "source": [
    "### Ratio of Inactive Customers"
   ]
  },
  {
   "cell_type": "code",
   "execution_count": 13,
   "id": "d56e84b6",
   "metadata": {
    "ExecuteTime": {
     "end_time": "2022-03-24T16:21:34.787633Z",
     "start_time": "2022-03-24T16:21:34.765690Z"
    }
   },
   "outputs": [
    {
     "data": {
      "text/html": [
       "<div>\n",
       "<style scoped>\n",
       "    .dataframe tbody tr th:only-of-type {\n",
       "        vertical-align: middle;\n",
       "    }\n",
       "\n",
       "    .dataframe tbody tr th {\n",
       "        vertical-align: top;\n",
       "    }\n",
       "\n",
       "    .dataframe thead th {\n",
       "        text-align: right;\n",
       "    }\n",
       "</style>\n",
       "<table border=\"1\" class=\"dataframe\">\n",
       "  <thead>\n",
       "    <tr style=\"text-align: right;\">\n",
       "      <th></th>\n",
       "      <th>article_id</th>\n",
       "      <th>product_code</th>\n",
       "      <th>prod_name</th>\n",
       "      <th>product_type_no</th>\n",
       "      <th>product_type_name</th>\n",
       "      <th>product_group_name</th>\n",
       "      <th>graphical_appearance_no</th>\n",
       "      <th>graphical_appearance_name</th>\n",
       "      <th>colour_group_code</th>\n",
       "      <th>colour_group_name</th>\n",
       "      <th>...</th>\n",
       "      <th>department_name</th>\n",
       "      <th>index_code</th>\n",
       "      <th>index_name</th>\n",
       "      <th>index_group_no</th>\n",
       "      <th>index_group_name</th>\n",
       "      <th>section_no</th>\n",
       "      <th>section_name</th>\n",
       "      <th>garment_group_no</th>\n",
       "      <th>garment_group_name</th>\n",
       "      <th>detail_desc</th>\n",
       "    </tr>\n",
       "  </thead>\n",
       "  <tbody>\n",
       "    <tr>\n",
       "      <th>0</th>\n",
       "      <td>108775015</td>\n",
       "      <td>108775</td>\n",
       "      <td>Strap top</td>\n",
       "      <td>253</td>\n",
       "      <td>Vest top</td>\n",
       "      <td>Garment Upper body</td>\n",
       "      <td>1010016</td>\n",
       "      <td>Solid</td>\n",
       "      <td>9</td>\n",
       "      <td>Black</td>\n",
       "      <td>...</td>\n",
       "      <td>Jersey Basic</td>\n",
       "      <td>A</td>\n",
       "      <td>Ladieswear</td>\n",
       "      <td>1</td>\n",
       "      <td>Ladieswear</td>\n",
       "      <td>16</td>\n",
       "      <td>Womens Everyday Basics</td>\n",
       "      <td>1002</td>\n",
       "      <td>Jersey Basic</td>\n",
       "      <td>Jersey top with narrow shoulder straps.</td>\n",
       "    </tr>\n",
       "    <tr>\n",
       "      <th>1</th>\n",
       "      <td>108775044</td>\n",
       "      <td>108775</td>\n",
       "      <td>Strap top</td>\n",
       "      <td>253</td>\n",
       "      <td>Vest top</td>\n",
       "      <td>Garment Upper body</td>\n",
       "      <td>1010016</td>\n",
       "      <td>Solid</td>\n",
       "      <td>10</td>\n",
       "      <td>White</td>\n",
       "      <td>...</td>\n",
       "      <td>Jersey Basic</td>\n",
       "      <td>A</td>\n",
       "      <td>Ladieswear</td>\n",
       "      <td>1</td>\n",
       "      <td>Ladieswear</td>\n",
       "      <td>16</td>\n",
       "      <td>Womens Everyday Basics</td>\n",
       "      <td>1002</td>\n",
       "      <td>Jersey Basic</td>\n",
       "      <td>Jersey top with narrow shoulder straps.</td>\n",
       "    </tr>\n",
       "  </tbody>\n",
       "</table>\n",
       "<p>2 rows × 25 columns</p>\n",
       "</div>"
      ],
      "text/plain": [
       "   article_id  product_code  prod_name  product_type_no product_type_name  \\\n",
       "0   108775015        108775  Strap top              253          Vest top   \n",
       "1   108775044        108775  Strap top              253          Vest top   \n",
       "\n",
       "   product_group_name  graphical_appearance_no graphical_appearance_name  \\\n",
       "0  Garment Upper body                  1010016                     Solid   \n",
       "1  Garment Upper body                  1010016                     Solid   \n",
       "\n",
       "   colour_group_code colour_group_name  ...  department_name index_code  \\\n",
       "0                  9             Black  ...     Jersey Basic          A   \n",
       "1                 10             White  ...     Jersey Basic          A   \n",
       "\n",
       "   index_name index_group_no  index_group_name section_no  \\\n",
       "0  Ladieswear              1        Ladieswear         16   \n",
       "1  Ladieswear              1        Ladieswear         16   \n",
       "\n",
       "             section_name garment_group_no  garment_group_name  \\\n",
       "0  Womens Everyday Basics             1002        Jersey Basic   \n",
       "1  Womens Everyday Basics             1002        Jersey Basic   \n",
       "\n",
       "                               detail_desc  \n",
       "0  Jersey top with narrow shoulder straps.  \n",
       "1  Jersey top with narrow shoulder straps.  \n",
       "\n",
       "[2 rows x 25 columns]"
      ]
     },
     "execution_count": 13,
     "metadata": {},
     "output_type": "execute_result"
    }
   ],
   "source": [
    "articles.head(2)"
   ]
  },
  {
   "cell_type": "code",
   "execution_count": null,
   "id": "7ea8fd29",
   "metadata": {
    "ExecuteTime": {
     "end_time": "2022-03-24T12:53:31.084432Z",
     "start_time": "2022-03-24T12:53:30.441128Z"
    }
   },
   "outputs": [],
   "source": [
    "df.groupby('sales_channel_id').agg({'t_dat':'count'})"
   ]
  },
  {
   "cell_type": "code",
   "execution_count": null,
   "id": "1fc1da50",
   "metadata": {
    "ExecuteTime": {
     "end_time": "2022-03-24T12:54:03.868130Z",
     "start_time": "2022-03-24T12:54:03.736461Z"
    },
    "scrolled": true
   },
   "outputs": [],
   "source": [
    "df.sales_channel_id.value_counts(normalize=True)"
   ]
  },
  {
   "cell_type": "code",
   "execution_count": null,
   "id": "cd8704a2",
   "metadata": {},
   "outputs": [],
   "source": []
  }
 ],
 "metadata": {
  "hide_input": false,
  "kernelspec": {
   "display_name": "Python 3",
   "language": "python",
   "name": "python3"
  },
  "language_info": {
   "codemirror_mode": {
    "name": "ipython",
    "version": 3
   },
   "file_extension": ".py",
   "mimetype": "text/x-python",
   "name": "python",
   "nbconvert_exporter": "python",
   "pygments_lexer": "ipython3",
   "version": "3.8.8"
  },
  "toc": {
   "base_numbering": 1,
   "nav_menu": {},
   "number_sections": true,
   "sideBar": true,
   "skip_h1_title": false,
   "title_cell": "Table of Contents",
   "title_sidebar": "Contents",
   "toc_cell": false,
   "toc_position": {
    "height": "calc(100% - 180px)",
    "left": "10px",
    "top": "150px",
    "width": "406.498px"
   },
   "toc_section_display": true,
   "toc_window_display": true
  },
  "varInspector": {
   "cols": {
    "lenName": 16,
    "lenType": 16,
    "lenVar": 40
   },
   "kernels_config": {
    "python": {
     "delete_cmd_postfix": "",
     "delete_cmd_prefix": "del ",
     "library": "var_list.py",
     "varRefreshCmd": "print(var_dic_list())"
    },
    "r": {
     "delete_cmd_postfix": ") ",
     "delete_cmd_prefix": "rm(",
     "library": "var_list.r",
     "varRefreshCmd": "cat(var_dic_list()) "
    }
   },
   "types_to_exclude": [
    "module",
    "function",
    "builtin_function_or_method",
    "instance",
    "_Feature"
   ],
   "window_display": false
  }
 },
 "nbformat": 4,
 "nbformat_minor": 5
}
