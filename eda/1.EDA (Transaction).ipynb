{
 "cells": [
  {
   "cell_type": "code",
   "execution_count": 1,
   "id": "c3de6524",
   "metadata": {
    "ExecuteTime": {
     "end_time": "2022-05-05T14:42:23.473611Z",
     "start_time": "2022-05-05T14:42:22.939891Z"
    }
   },
   "outputs": [],
   "source": [
    "import os \n",
    "import numpy as np\n",
    "import pandas as pd\n",
    "\n",
    "import matplotlib.pyplot as plt\n",
    "pd.set_option('display.float_format', lambda x: '%.4f' % x)"
   ]
  },
  {
   "cell_type": "markdown",
   "id": "b7000a2c",
   "metadata": {},
   "source": [
    "## Load Data"
   ]
  },
  {
   "cell_type": "code",
   "execution_count": 2,
   "id": "a60506f6",
   "metadata": {
    "ExecuteTime": {
     "end_time": "2022-05-05T14:42:25.788896Z",
     "start_time": "2022-05-05T14:42:23.478610Z"
    }
   },
   "outputs": [
    {
     "data": {
      "text/html": [
       "<div>\n",
       "<style scoped>\n",
       "    .dataframe tbody tr th:only-of-type {\n",
       "        vertical-align: middle;\n",
       "    }\n",
       "\n",
       "    .dataframe tbody tr th {\n",
       "        vertical-align: top;\n",
       "    }\n",
       "\n",
       "    .dataframe thead th {\n",
       "        text-align: right;\n",
       "    }\n",
       "</style>\n",
       "<table border=\"1\" class=\"dataframe\">\n",
       "  <thead>\n",
       "    <tr style=\"text-align: right;\">\n",
       "      <th></th>\n",
       "      <th>t_dat</th>\n",
       "      <th>customer_id</th>\n",
       "      <th>article_id</th>\n",
       "      <th>price</th>\n",
       "      <th>sales_channel_id</th>\n",
       "    </tr>\n",
       "  </thead>\n",
       "  <tbody>\n",
       "    <tr>\n",
       "      <th>0</th>\n",
       "      <td>2018-09-20</td>\n",
       "      <td>2</td>\n",
       "      <td>0663713001</td>\n",
       "      <td>0.0508</td>\n",
       "      <td>2</td>\n",
       "    </tr>\n",
       "    <tr>\n",
       "      <th>1</th>\n",
       "      <td>2018-09-20</td>\n",
       "      <td>2</td>\n",
       "      <td>0541518023</td>\n",
       "      <td>0.0305</td>\n",
       "      <td>2</td>\n",
       "    </tr>\n",
       "    <tr>\n",
       "      <th>2</th>\n",
       "      <td>2018-09-20</td>\n",
       "      <td>7</td>\n",
       "      <td>0505221004</td>\n",
       "      <td>0.0152</td>\n",
       "      <td>2</td>\n",
       "    </tr>\n",
       "    <tr>\n",
       "      <th>3</th>\n",
       "      <td>2018-09-20</td>\n",
       "      <td>7</td>\n",
       "      <td>0685687003</td>\n",
       "      <td>0.0169</td>\n",
       "      <td>2</td>\n",
       "    </tr>\n",
       "    <tr>\n",
       "      <th>4</th>\n",
       "      <td>2018-09-20</td>\n",
       "      <td>7</td>\n",
       "      <td>0685687004</td>\n",
       "      <td>0.0169</td>\n",
       "      <td>2</td>\n",
       "    </tr>\n",
       "  </tbody>\n",
       "</table>\n",
       "</div>"
      ],
      "text/plain": [
       "       t_dat  customer_id  article_id  price  sales_channel_id\n",
       "0 2018-09-20            2  0663713001 0.0508                 2\n",
       "1 2018-09-20            2  0541518023 0.0305                 2\n",
       "2 2018-09-20            7  0505221004 0.0152                 2\n",
       "3 2018-09-20            7  0685687003 0.0169                 2\n",
       "4 2018-09-20            7  0685687004 0.0169                 2"
      ]
     },
     "execution_count": 2,
     "metadata": {},
     "output_type": "execute_result"
    }
   ],
   "source": [
    "path = '../data/processed'\n",
    "df = pd.read_pickle(os.path.join(path,'transactions.pkl'))\n",
    "articles = pd.read_csv('../data/raw/articles.csv')\n",
    "df.head()"
   ]
  },
  {
   "cell_type": "markdown",
   "id": "b186ac7e",
   "metadata": {},
   "source": [
    "## To-Do List\n",
    "- Histogram of purchase per transactions\n",
    "- Repurchase Duration\n",
    "- Find recency\n",
    "- Ratio of Inactive Customers"
   ]
  },
  {
   "cell_type": "markdown",
   "id": "c724c56a",
   "metadata": {},
   "source": [
    "### Histogram of purchase per transactions"
   ]
  },
  {
   "cell_type": "code",
   "execution_count": 3,
   "id": "9e30db56",
   "metadata": {
    "ExecuteTime": {
     "end_time": "2022-05-05T14:42:34.396042Z",
     "start_time": "2022-05-05T14:42:25.790892Z"
    }
   },
   "outputs": [
    {
     "data": {
      "text/html": [
       "<div>\n",
       "<style scoped>\n",
       "    .dataframe tbody tr th:only-of-type {\n",
       "        vertical-align: middle;\n",
       "    }\n",
       "\n",
       "    .dataframe tbody tr th {\n",
       "        vertical-align: top;\n",
       "    }\n",
       "\n",
       "    .dataframe thead th {\n",
       "        text-align: right;\n",
       "    }\n",
       "</style>\n",
       "<table border=\"1\" class=\"dataframe\">\n",
       "  <thead>\n",
       "    <tr style=\"text-align: right;\">\n",
       "      <th></th>\n",
       "      <th></th>\n",
       "      <th></th>\n",
       "      <th>article_id</th>\n",
       "      <th>price</th>\n",
       "    </tr>\n",
       "    <tr>\n",
       "      <th>t_dat</th>\n",
       "      <th>customer_id</th>\n",
       "      <th>sales_channel_id</th>\n",
       "      <th></th>\n",
       "      <th></th>\n",
       "    </tr>\n",
       "  </thead>\n",
       "  <tbody>\n",
       "    <tr>\n",
       "      <th rowspan=\"5\" valign=\"top\">2018-09-20</th>\n",
       "      <th>2</th>\n",
       "      <th>2</th>\n",
       "      <td>2</td>\n",
       "      <td>0.0813</td>\n",
       "    </tr>\n",
       "    <tr>\n",
       "      <th>7</th>\n",
       "      <th>2</th>\n",
       "      <td>5</td>\n",
       "      <td>0.0864</td>\n",
       "    </tr>\n",
       "    <tr>\n",
       "      <th rowspan=\"2\" valign=\"top\">198</th>\n",
       "      <th>1</th>\n",
       "      <td>4</td>\n",
       "      <td>0.1448</td>\n",
       "    </tr>\n",
       "    <tr>\n",
       "      <th>2</th>\n",
       "      <td>1</td>\n",
       "      <td>0.0457</td>\n",
       "    </tr>\n",
       "    <tr>\n",
       "      <th>203</th>\n",
       "      <th>2</th>\n",
       "      <td>2</td>\n",
       "      <td>0.0428</td>\n",
       "    </tr>\n",
       "  </tbody>\n",
       "</table>\n",
       "</div>"
      ],
      "text/plain": [
       "                                         article_id  price\n",
       "t_dat      customer_id sales_channel_id                   \n",
       "2018-09-20 2           2                          2 0.0813\n",
       "           7           2                          5 0.0864\n",
       "           198         1                          4 0.1448\n",
       "                       2                          1 0.0457\n",
       "           203         2                          2 0.0428"
      ]
     },
     "execution_count": 3,
     "metadata": {},
     "output_type": "execute_result"
    }
   ],
   "source": [
    "temp = df[['t_dat','customer_id','article_id','price','sales_channel_id']]\n",
    "temp = temp.groupby(['t_dat','customer_id','sales_channel_id']).agg({'article_id':'count','price':sum})\n",
    "\n",
    "temp.head()"
   ]
  },
  {
   "cell_type": "code",
   "execution_count": 4,
   "id": "a7e4220c",
   "metadata": {
    "ExecuteTime": {
     "end_time": "2022-05-05T14:42:45.107482Z",
     "start_time": "2022-05-05T14:42:34.397042Z"
    }
   },
   "outputs": [
    {
     "data": {
      "image/png": "[encoded data removed]",
      "text/plain": [
       "<Figure size 432x288 with 1 Axes>"
      ]
     },
     "metadata": {
      "needs_background": "light"
     },
     "output_type": "display_data"
    }
   ],
   "source": [
    "plt.scatter(temp['article_id'],temp['price'])\n",
    "plt.show()"
   ]
  },
  {
   "cell_type": "code",
   "execution_count": 5,
   "id": "21f512c2",
   "metadata": {
    "ExecuteTime": {
     "end_time": "2022-05-05T14:42:45.122873Z",
     "start_time": "2022-05-05T14:42:45.108911Z"
    }
   },
   "outputs": [],
   "source": [
    "# from sklearn.neighbors import LocalOutlierFactor\n",
    "# lof = LocalOutlierFactor(n_neighbors=30, metric='euclidean')\n",
    "# cluster = lof.fit_predict(temp)\n",
    "# cluster"
   ]
  },
  {
   "cell_type": "code",
   "execution_count": 6,
   "id": "e13304b1",
   "metadata": {
    "ExecuteTime": {
     "end_time": "2022-05-05T14:43:02.052746Z",
     "start_time": "2022-05-05T14:42:45.123872Z"
    }
   },
   "outputs": [
    {
     "data": {
      "text/plain": [
       "<matplotlib.legend.Legend at 0x1e76262bdf0>"
      ]
     },
     "execution_count": 6,
     "metadata": {},
     "output_type": "execute_result"
    },
    {
     "data": {
      "image/png": "[encoded data removed]",
      "text/plain": [
       "<Figure size 432x288 with 1 Axes>"
      ]
     },
     "metadata": {
      "needs_background": "light"
     },
     "output_type": "display_data"
    }
   ],
   "source": [
    "temp['cluster'] = np.where((temp['article_id']>200)|(temp['price']>5), 0, 1)\n",
    "colors = ['white','grey']\n",
    "fig = plt.figure()\n",
    "leg = {0:'outliers',1:'normal'}\n",
    "for i in range(2):\n",
    "    plt.plot(temp.loc[temp['cluster']==i, 'article_id'], temp.loc[temp['cluster']==i, 'price'], 'o', mfc=colors[i], ms=8, mec='k', label = leg[i])\n",
    "plt.xlabel('total_articles')\n",
    "plt.ylabel('price')\n",
    "plt.legend()"
   ]
  },
  {
   "cell_type": "code",
   "execution_count": 7,
   "id": "2de4e281",
   "metadata": {
    "ExecuteTime": {
     "end_time": "2022-05-05T14:43:02.240515Z",
     "start_time": "2022-05-05T14:43:02.055745Z"
    }
   },
   "outputs": [
    {
     "data": {
      "text/plain": [
       "count   9174457.0000\n",
       "mean          3.4649\n",
       "std           3.5898\n",
       "min           1.0000\n",
       "10%           1.0000\n",
       "25%           1.0000\n",
       "50%           2.0000\n",
       "75%           4.0000\n",
       "99%          18.0000\n",
       "max         570.0000\n",
       "Name: article_id, dtype: float64"
      ]
     },
     "execution_count": 7,
     "metadata": {},
     "output_type": "execute_result"
    }
   ],
   "source": [
    "temp.article_id.describe(percentiles=[0.1,0.25,0.5,0.75,0.99])"
   ]
  },
  {
   "cell_type": "code",
   "execution_count": 8,
   "id": "85886c6c",
   "metadata": {
    "ExecuteTime": {
     "end_time": "2022-05-05T14:43:02.271540Z",
     "start_time": "2022-05-05T14:43:02.241490Z"
    }
   },
   "outputs": [
    {
     "data": {
      "text/html": [
       "<div>\n",
       "<style scoped>\n",
       "    .dataframe tbody tr th:only-of-type {\n",
       "        vertical-align: middle;\n",
       "    }\n",
       "\n",
       "    .dataframe tbody tr th {\n",
       "        vertical-align: top;\n",
       "    }\n",
       "\n",
       "    .dataframe thead th {\n",
       "        text-align: right;\n",
       "    }\n",
       "</style>\n",
       "<table border=\"1\" class=\"dataframe\">\n",
       "  <thead>\n",
       "    <tr style=\"text-align: right;\">\n",
       "      <th></th>\n",
       "      <th></th>\n",
       "      <th></th>\n",
       "      <th>article_id</th>\n",
       "      <th>price</th>\n",
       "      <th>cluster</th>\n",
       "    </tr>\n",
       "    <tr>\n",
       "      <th>t_dat</th>\n",
       "      <th>customer_id</th>\n",
       "      <th>sales_channel_id</th>\n",
       "      <th></th>\n",
       "      <th></th>\n",
       "      <th></th>\n",
       "    </tr>\n",
       "  </thead>\n",
       "  <tbody>\n",
       "    <tr>\n",
       "      <th>2018-10-14</th>\n",
       "      <th>1114704</th>\n",
       "      <th>1</th>\n",
       "      <td>570</td>\n",
       "      <td>3.8567</td>\n",
       "      <td>0</td>\n",
       "    </tr>\n",
       "    <tr>\n",
       "      <th>2018-10-15</th>\n",
       "      <th>195309</th>\n",
       "      <th>2</th>\n",
       "      <td>220</td>\n",
       "      <td>1.5238</td>\n",
       "      <td>0</td>\n",
       "    </tr>\n",
       "    <tr>\n",
       "      <th>2018-12-17</th>\n",
       "      <th>1044421</th>\n",
       "      <th>2</th>\n",
       "      <td>336</td>\n",
       "      <td>8.8435</td>\n",
       "      <td>0</td>\n",
       "    </tr>\n",
       "    <tr>\n",
       "      <th>2019-01-13</th>\n",
       "      <th>530195</th>\n",
       "      <th>2</th>\n",
       "      <td>221</td>\n",
       "      <td>2.5878</td>\n",
       "      <td>0</td>\n",
       "    </tr>\n",
       "  </tbody>\n",
       "</table>\n",
       "</div>"
      ],
      "text/plain": [
       "                                         article_id  price  cluster\n",
       "t_dat      customer_id sales_channel_id                            \n",
       "2018-10-14 1114704     1                        570 3.8567        0\n",
       "2018-10-15 195309      2                        220 1.5238        0\n",
       "2018-12-17 1044421     2                        336 8.8435        0\n",
       "2019-01-13 530195      2                        221 2.5878        0"
      ]
     },
     "execution_count": 8,
     "metadata": {},
     "output_type": "execute_result"
    }
   ],
   "source": [
    "temp[temp.article_id >200]"
   ]
  },
  {
   "cell_type": "code",
   "execution_count": 9,
   "id": "dde05b91",
   "metadata": {
    "ExecuteTime": {
     "end_time": "2022-05-05T14:43:02.287637Z",
     "start_time": "2022-05-05T14:43:02.273537Z"
    }
   },
   "outputs": [],
   "source": [
    "# df[(df.customer_id==1114704)฿].drop_duplicates(subset=['t_dat','customer_id'])"
   ]
  },
  {
   "cell_type": "markdown",
   "id": "49e07255",
   "metadata": {
    "ExecuteTime": {
     "end_time": "2022-03-20T07:52:17.413552Z",
     "start_time": "2022-03-20T07:52:17.387302Z"
    }
   },
   "source": [
    "We may romove those transactions that have over 200 articles."
   ]
  },
  {
   "cell_type": "markdown",
   "id": "164d136d",
   "metadata": {},
   "source": [
    "### Repurchase Duration"
   ]
  },
  {
   "cell_type": "code",
   "execution_count": 11,
   "id": "ac8b31bc",
   "metadata": {
    "ExecuteTime": {
     "end_time": "2022-05-05T14:46:56.653463Z",
     "start_time": "2022-05-05T14:43:02.491234Z"
    }
   },
   "outputs": [
    {
     "data": {
      "text/html": [
       "<div>\n",
       "<style scoped>\n",
       "    .dataframe tbody tr th:only-of-type {\n",
       "        vertical-align: middle;\n",
       "    }\n",
       "\n",
       "    .dataframe tbody tr th {\n",
       "        vertical-align: top;\n",
       "    }\n",
       "\n",
       "    .dataframe thead th {\n",
       "        text-align: right;\n",
       "    }\n",
       "</style>\n",
       "<table border=\"1\" class=\"dataframe\">\n",
       "  <thead>\n",
       "    <tr style=\"text-align: right;\">\n",
       "      <th></th>\n",
       "      <th>t_dat</th>\n",
       "      <th>customer_id</th>\n",
       "      <th>Repurchase_duration</th>\n",
       "      <th>target_period</th>\n",
       "    </tr>\n",
       "  </thead>\n",
       "  <tbody>\n",
       "    <tr>\n",
       "      <th>0</th>\n",
       "      <td>2018-12-27</td>\n",
       "      <td>0</td>\n",
       "      <td>0.0000</td>\n",
       "      <td>0</td>\n",
       "    </tr>\n",
       "    <tr>\n",
       "      <th>1</th>\n",
       "      <td>2019-05-02</td>\n",
       "      <td>0</td>\n",
       "      <td>126.0000</td>\n",
       "      <td>0</td>\n",
       "    </tr>\n",
       "    <tr>\n",
       "      <th>2</th>\n",
       "      <td>2019-05-25</td>\n",
       "      <td>0</td>\n",
       "      <td>23.0000</td>\n",
       "      <td>0</td>\n",
       "    </tr>\n",
       "    <tr>\n",
       "      <th>3</th>\n",
       "      <td>2019-07-25</td>\n",
       "      <td>0</td>\n",
       "      <td>61.0000</td>\n",
       "      <td>0</td>\n",
       "    </tr>\n",
       "    <tr>\n",
       "      <th>4</th>\n",
       "      <td>2019-09-18</td>\n",
       "      <td>0</td>\n",
       "      <td>55.0000</td>\n",
       "      <td>0</td>\n",
       "    </tr>\n",
       "  </tbody>\n",
       "</table>\n",
       "</div>"
      ],
      "text/plain": [
       "       t_dat  customer_id  Repurchase_duration  target_period\n",
       "0 2018-12-27            0               0.0000              0\n",
       "1 2019-05-02            0             126.0000              0\n",
       "2 2019-05-25            0              23.0000              0\n",
       "3 2019-07-25            0              61.0000              0\n",
       "4 2019-09-18            0              55.0000              0"
      ]
     },
     "execution_count": 11,
     "metadata": {},
     "output_type": "execute_result"
    }
   ],
   "source": [
    "temp = df[['t_dat','customer_id']].drop_duplicates(subset=['t_dat','customer_id'])\\\n",
    "            .sort_values(by=['customer_id','t_dat'])\\\n",
    "            .reset_index(drop=True)\n",
    "temp['Repurchase_duration'] = temp.groupby('customer_id')['t_dat'].diff() / np.timedelta64(1, 'D')\n",
    "temp['Repurchase_duration'] = temp['Repurchase_duration'].fillna(0)\n",
    "temp['target_period'] = np.where(temp['t_dat']>'2020-09-15',1,0)\n",
    "temp.head()"
   ]
  },
  {
   "cell_type": "code",
   "execution_count": 20,
   "id": "80cda24c",
   "metadata": {
    "ExecuteTime": {
     "end_time": "2022-05-05T14:50:24.588787Z",
     "start_time": "2022-05-05T14:50:24.557837Z"
    }
   },
   "outputs": [
    {
     "data": {
      "text/plain": [
       "count   77143.0000\n",
       "mean       59.4266\n",
       "std       100.6466\n",
       "min         0.0000\n",
       "10%         1.0000\n",
       "25%         6.0000\n",
       "50%        22.0000\n",
       "75%        65.0000\n",
       "90%       155.0000\n",
       "95%       270.0000\n",
       "max       731.0000\n",
       "Name: Repurchase_duration, dtype: float64"
      ]
     },
     "execution_count": 20,
     "metadata": {},
     "output_type": "execute_result"
    }
   ],
   "source": [
    "temp['Repurchase_duration'][temp['target_period']==1].describe(percentiles=[0.1,0.25,0.5,0.75,0.9,0.95])"
   ]
  },
  {
   "cell_type": "code",
   "execution_count": 13,
   "id": "f7802964",
   "metadata": {
    "ExecuteTime": {
     "end_time": "2022-05-05T14:46:57.750838Z",
     "start_time": "2022-05-05T14:46:56.906440Z"
    }
   },
   "outputs": [
    {
     "data": {
      "text/plain": [
       "<AxesSubplot:>"
      ]
     },
     "execution_count": 13,
     "metadata": {},
     "output_type": "execute_result"
    },
    {
     "data": {
      "image/png": "[encoded data removed]",
      "text/plain": [
       "<Figure size 432x288 with 1 Axes>"
      ]
     },
     "metadata": {
      "needs_background": "light"
     },
     "output_type": "display_data"
    }
   ],
   "source": [
    "temp['Repurchase_duration'].hist()"
   ]
  },
  {
   "cell_type": "code",
   "execution_count": 19,
   "id": "5e178dba",
   "metadata": {
    "ExecuteTime": {
     "end_time": "2022-05-05T14:49:53.520505Z",
     "start_time": "2022-05-05T14:49:53.197257Z"
    }
   },
   "outputs": [
    {
     "data": {
      "text/plain": [
       "[<matplotlib.lines.Line2D at 0x1e72e7df1f0>]"
      ]
     },
     "execution_count": 19,
     "metadata": {},
     "output_type": "execute_result"
    },
    {
     "data": {
      "image/png": "[encoded data removed]",
      "text/plain": [
       "<Figure size 432x288 with 1 Axes>"
      ]
     },
     "metadata": {
      "needs_background": "light"
     },
     "output_type": "display_data"
    }
   ],
   "source": [
    "test = temp.groupby(['Repurchase_duration']).agg({'target_period':'sum'}).reset_index().sort_values(by=['Repurchase_duration'])\n",
    "plt.plot(test.target_period)"
   ]
  },
  {
   "cell_type": "markdown",
   "id": "3a7d6d97",
   "metadata": {},
   "source": [
    "### Channel Ratio"
   ]
  },
  {
   "cell_type": "code",
   "execution_count": null,
   "id": "ff8e9451",
   "metadata": {
    "ExecuteTime": {
     "end_time": "2022-03-31T02:48:59.960051Z",
     "start_time": "2022-03-31T02:48:59.823331Z"
    }
   },
   "outputs": [],
   "source": [
    "df.sales_channel_id.value_counts(normalize=True)"
   ]
  },
  {
   "cell_type": "markdown",
   "id": "383d44ca",
   "metadata": {},
   "source": [
    "### Multiple channel transaction"
   ]
  },
  {
   "cell_type": "code",
   "execution_count": null,
   "id": "e22cd26b",
   "metadata": {
    "ExecuteTime": {
     "end_time": "2022-03-31T02:49:06.980005Z",
     "start_time": "2022-03-31T02:48:59.960961Z"
    }
   },
   "outputs": [],
   "source": [
    "df.groupby(['t_dat','customer_id']).agg({'sales_channel_id':'nunique'}).sort_values(by='sales_channel_id',ascending=False)"
   ]
  },
  {
   "cell_type": "markdown",
   "id": "7736f27d",
   "metadata": {},
   "source": [
    "### Ratio of Inactive Customers"
   ]
  },
  {
   "cell_type": "code",
   "execution_count": null,
   "id": "d56e84b6",
   "metadata": {
    "ExecuteTime": {
     "end_time": "2022-03-31T02:49:07.010133Z",
     "start_time": "2022-03-31T02:49:06.981003Z"
    }
   },
   "outputs": [],
   "source": [
    "articles.head(2)"
   ]
  },
  {
   "cell_type": "code",
   "execution_count": null,
   "id": "7ea8fd29",
   "metadata": {
    "ExecuteTime": {
     "end_time": "2022-03-31T02:49:07.597896Z",
     "start_time": "2022-03-31T02:49:07.011131Z"
    }
   },
   "outputs": [],
   "source": [
    "df.groupby('sales_channel_id').agg({'t_dat':'count'})"
   ]
  },
  {
   "cell_type": "code",
   "execution_count": null,
   "id": "1fc1da50",
   "metadata": {
    "ExecuteTime": {
     "end_time": "2022-03-31T02:49:07.722320Z",
     "start_time": "2022-03-31T02:49:07.598891Z"
    },
    "scrolled": true
   },
   "outputs": [],
   "source": [
    "df.sales_channel_id.value_counts(normalize=True)"
   ]
  },
  {
   "cell_type": "code",
   "execution_count": null,
   "id": "cd8704a2",
   "metadata": {},
   "outputs": [],
   "source": []
  }
 ],
 "metadata": {
  "hide_input": false,
  "kernelspec": {
   "display_name": "Python 3",
   "language": "python",
   "name": "python3"
  },
  "language_info": {
   "codemirror_mode": {
    "name": "ipython",
    "version": 3
   },
   "file_extension": ".py",
   "mimetype": "text/x-python",
   "name": "python",
   "nbconvert_exporter": "python",
   "pygments_lexer": "ipython3",
   "version": "3.8.8"
  },
  "toc": {
   "base_numbering": 1,
   "nav_menu": {},
   "number_sections": true,
   "sideBar": true,
   "skip_h1_title": false,
   "title_cell": "Table of Contents",
   "title_sidebar": "Contents",
   "toc_cell": false,
   "toc_position": {
    "height": "calc(100% - 180px)",
    "left": "10px",
    "top": "150px",
    "width": "406.496px"
   },
   "toc_section_display": true,
   "toc_window_display": true
  },
  "varInspector": {
   "cols": {
    "lenName": 16,
    "lenType": 16,
    "lenVar": 40
   },
   "kernels_config": {
    "python": {
     "delete_cmd_postfix": "",
     "delete_cmd_prefix": "del ",
     "library": "var_list.py",
     "varRefreshCmd": "print(var_dic_list())"
    },
    "r": {
     "delete_cmd_postfix": ") ",
     "delete_cmd_prefix": "rm(",
     "library": "var_list.r",
     "varRefreshCmd": "cat(var_dic_list()) "
    }
   },
   "types_to_exclude": [
    "module",
    "function",
    "builtin_function_or_method",
    "instance",
    "_Feature"
   ],
   "window_display": false
  }
 },
 "nbformat": 4,
 "nbformat_minor": 5
}
